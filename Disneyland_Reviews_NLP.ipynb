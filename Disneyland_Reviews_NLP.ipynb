{
 "cells": [
  {
   "cell_type": "code",
   "execution_count": 2,
   "id": "ecee9763",
   "metadata": {},
   "outputs": [],
   "source": [
    "#Importing the libraries\n",
    "import pandas as pd\n",
    "import matplotlib.pyplot as plt\n",
    "import seaborn as sns\n",
    "import six\n",
    "import sys\n",
    "sys.modules['sklearn.externals.six'] = six\n",
    "import warnings\n",
    "warnings.filterwarnings(action=\"ignore\",category=FutureWarning)"
   ]
  },
  {
   "cell_type": "code",
   "execution_count": 3,
   "id": "e810cbed",
   "metadata": {},
   "outputs": [],
   "source": [
    "pd.options.display.float_format=\"{:,.3f}\".format"
   ]
  },
  {
   "cell_type": "code",
   "execution_count": 4,
   "id": "b9495de8",
   "metadata": {},
   "outputs": [
    {
     "data": {
      "text/html": [
       "<div>\n",
       "<style scoped>\n",
       "    .dataframe tbody tr th:only-of-type {\n",
       "        vertical-align: middle;\n",
       "    }\n",
       "\n",
       "    .dataframe tbody tr th {\n",
       "        vertical-align: top;\n",
       "    }\n",
       "\n",
       "    .dataframe thead th {\n",
       "        text-align: right;\n",
       "    }\n",
       "</style>\n",
       "<table border=\"1\" class=\"dataframe\">\n",
       "  <thead>\n",
       "    <tr style=\"text-align: right;\">\n",
       "      <th></th>\n",
       "      <th>Review_ID</th>\n",
       "      <th>Rating</th>\n",
       "      <th>Year_Month</th>\n",
       "      <th>Reviewer_Location</th>\n",
       "      <th>Review_Text</th>\n",
       "      <th>Branch</th>\n",
       "    </tr>\n",
       "  </thead>\n",
       "  <tbody>\n",
       "    <tr>\n",
       "      <th>0</th>\n",
       "      <td>670772142</td>\n",
       "      <td>4</td>\n",
       "      <td>2019-4</td>\n",
       "      <td>Australia</td>\n",
       "      <td>If you've ever been to Disneyland anywhere you...</td>\n",
       "      <td>Disneyland_HongKong</td>\n",
       "    </tr>\n",
       "    <tr>\n",
       "      <th>1</th>\n",
       "      <td>670682799</td>\n",
       "      <td>4</td>\n",
       "      <td>2019-5</td>\n",
       "      <td>Philippines</td>\n",
       "      <td>Its been a while since d last time we visit HK...</td>\n",
       "      <td>Disneyland_HongKong</td>\n",
       "    </tr>\n",
       "    <tr>\n",
       "      <th>2</th>\n",
       "      <td>670623270</td>\n",
       "      <td>4</td>\n",
       "      <td>2019-4</td>\n",
       "      <td>United Arab Emirates</td>\n",
       "      <td>Thanks God it wasn   t too hot or too humid wh...</td>\n",
       "      <td>Disneyland_HongKong</td>\n",
       "    </tr>\n",
       "    <tr>\n",
       "      <th>3</th>\n",
       "      <td>670607911</td>\n",
       "      <td>4</td>\n",
       "      <td>2019-4</td>\n",
       "      <td>Australia</td>\n",
       "      <td>HK Disneyland is a great compact park. Unfortu...</td>\n",
       "      <td>Disneyland_HongKong</td>\n",
       "    </tr>\n",
       "    <tr>\n",
       "      <th>4</th>\n",
       "      <td>670607296</td>\n",
       "      <td>4</td>\n",
       "      <td>2019-4</td>\n",
       "      <td>United Kingdom</td>\n",
       "      <td>the location is not in the city, took around 1...</td>\n",
       "      <td>Disneyland_HongKong</td>\n",
       "    </tr>\n",
       "  </tbody>\n",
       "</table>\n",
       "</div>"
      ],
      "text/plain": [
       "   Review_ID  Rating Year_Month     Reviewer_Location  \\\n",
       "0  670772142       4     2019-4             Australia   \n",
       "1  670682799       4     2019-5           Philippines   \n",
       "2  670623270       4     2019-4  United Arab Emirates   \n",
       "3  670607911       4     2019-4             Australia   \n",
       "4  670607296       4     2019-4        United Kingdom   \n",
       "\n",
       "                                         Review_Text               Branch  \n",
       "0  If you've ever been to Disneyland anywhere you...  Disneyland_HongKong  \n",
       "1  Its been a while since d last time we visit HK...  Disneyland_HongKong  \n",
       "2  Thanks God it wasn   t too hot or too humid wh...  Disneyland_HongKong  \n",
       "3  HK Disneyland is a great compact park. Unfortu...  Disneyland_HongKong  \n",
       "4  the location is not in the city, took around 1...  Disneyland_HongKong  "
      ]
     },
     "execution_count": 4,
     "metadata": {},
     "output_type": "execute_result"
    }
   ],
   "source": [
    "#Loading data\n",
    "df=pd.read_csv('Disneyland_Reviews.csv',encoding='latin-1')\n",
    "df.head()"
   ]
  },
  {
   "cell_type": "code",
   "execution_count": 5,
   "id": "dac9711f",
   "metadata": {},
   "outputs": [
    {
     "data": {
      "text/html": [
       "<div>\n",
       "<style scoped>\n",
       "    .dataframe tbody tr th:only-of-type {\n",
       "        vertical-align: middle;\n",
       "    }\n",
       "\n",
       "    .dataframe tbody tr th {\n",
       "        vertical-align: top;\n",
       "    }\n",
       "\n",
       "    .dataframe thead th {\n",
       "        text-align: right;\n",
       "    }\n",
       "</style>\n",
       "<table border=\"1\" class=\"dataframe\">\n",
       "  <thead>\n",
       "    <tr style=\"text-align: right;\">\n",
       "      <th></th>\n",
       "      <th>Review_ID</th>\n",
       "      <th>Rating</th>\n",
       "      <th>Year_Month</th>\n",
       "      <th>Reviewer_Location</th>\n",
       "      <th>Review_Text</th>\n",
       "      <th>Branch</th>\n",
       "    </tr>\n",
       "  </thead>\n",
       "  <tbody>\n",
       "    <tr>\n",
       "      <th>0</th>\n",
       "      <td>670772142</td>\n",
       "      <td>4</td>\n",
       "      <td>2019-4</td>\n",
       "      <td>Australia</td>\n",
       "      <td>if you've ever been to disneyland anywhere you...</td>\n",
       "      <td>Disneyland_HongKong</td>\n",
       "    </tr>\n",
       "    <tr>\n",
       "      <th>1</th>\n",
       "      <td>670682799</td>\n",
       "      <td>4</td>\n",
       "      <td>2019-5</td>\n",
       "      <td>Philippines</td>\n",
       "      <td>its been a while since d last time we visit hk...</td>\n",
       "      <td>Disneyland_HongKong</td>\n",
       "    </tr>\n",
       "    <tr>\n",
       "      <th>2</th>\n",
       "      <td>670623270</td>\n",
       "      <td>4</td>\n",
       "      <td>2019-4</td>\n",
       "      <td>United Arab Emirates</td>\n",
       "      <td>thanks god it wasn   t too hot or too humid wh...</td>\n",
       "      <td>Disneyland_HongKong</td>\n",
       "    </tr>\n",
       "    <tr>\n",
       "      <th>3</th>\n",
       "      <td>670607911</td>\n",
       "      <td>4</td>\n",
       "      <td>2019-4</td>\n",
       "      <td>Australia</td>\n",
       "      <td>hk disneyland is a great compact park. unfortu...</td>\n",
       "      <td>Disneyland_HongKong</td>\n",
       "    </tr>\n",
       "    <tr>\n",
       "      <th>4</th>\n",
       "      <td>670607296</td>\n",
       "      <td>4</td>\n",
       "      <td>2019-4</td>\n",
       "      <td>United Kingdom</td>\n",
       "      <td>the location is not in the city, took around 1...</td>\n",
       "      <td>Disneyland_HongKong</td>\n",
       "    </tr>\n",
       "  </tbody>\n",
       "</table>\n",
       "</div>"
      ],
      "text/plain": [
       "   Review_ID  Rating Year_Month     Reviewer_Location  \\\n",
       "0  670772142       4     2019-4             Australia   \n",
       "1  670682799       4     2019-5           Philippines   \n",
       "2  670623270       4     2019-4  United Arab Emirates   \n",
       "3  670607911       4     2019-4             Australia   \n",
       "4  670607296       4     2019-4        United Kingdom   \n",
       "\n",
       "                                         Review_Text               Branch  \n",
       "0  if you've ever been to disneyland anywhere you...  Disneyland_HongKong  \n",
       "1  its been a while since d last time we visit hk...  Disneyland_HongKong  \n",
       "2  thanks god it wasn   t too hot or too humid wh...  Disneyland_HongKong  \n",
       "3  hk disneyland is a great compact park. unfortu...  Disneyland_HongKong  \n",
       "4  the location is not in the city, took around 1...  Disneyland_HongKong  "
      ]
     },
     "execution_count": 5,
     "metadata": {},
     "output_type": "execute_result"
    }
   ],
   "source": [
    "#Changing to lowe case letter the Rview_Text feature\n",
    "df['Review_Text']=df['Review_Text'].str.lower()\n",
    "df.head()"
   ]
  },
  {
   "cell_type": "code",
   "execution_count": 6,
   "id": "85bd45fe",
   "metadata": {},
   "outputs": [
    {
     "data": {
      "text/html": [
       "<div>\n",
       "<style scoped>\n",
       "    .dataframe tbody tr th:only-of-type {\n",
       "        vertical-align: middle;\n",
       "    }\n",
       "\n",
       "    .dataframe tbody tr th {\n",
       "        vertical-align: top;\n",
       "    }\n",
       "\n",
       "    .dataframe thead th {\n",
       "        text-align: right;\n",
       "    }\n",
       "</style>\n",
       "<table border=\"1\" class=\"dataframe\">\n",
       "  <thead>\n",
       "    <tr style=\"text-align: right;\">\n",
       "      <th></th>\n",
       "      <th>Rating</th>\n",
       "      <th>Review_Text</th>\n",
       "      <th>Branch</th>\n",
       "    </tr>\n",
       "  </thead>\n",
       "  <tbody>\n",
       "    <tr>\n",
       "      <th>0</th>\n",
       "      <td>4</td>\n",
       "      <td>if you've ever been to disneyland anywhere you...</td>\n",
       "      <td>Disneyland_HongKong</td>\n",
       "    </tr>\n",
       "    <tr>\n",
       "      <th>1</th>\n",
       "      <td>4</td>\n",
       "      <td>its been a while since d last time we visit hk...</td>\n",
       "      <td>Disneyland_HongKong</td>\n",
       "    </tr>\n",
       "    <tr>\n",
       "      <th>2</th>\n",
       "      <td>4</td>\n",
       "      <td>thanks god it wasn   t too hot or too humid wh...</td>\n",
       "      <td>Disneyland_HongKong</td>\n",
       "    </tr>\n",
       "    <tr>\n",
       "      <th>3</th>\n",
       "      <td>4</td>\n",
       "      <td>hk disneyland is a great compact park. unfortu...</td>\n",
       "      <td>Disneyland_HongKong</td>\n",
       "    </tr>\n",
       "    <tr>\n",
       "      <th>4</th>\n",
       "      <td>4</td>\n",
       "      <td>the location is not in the city, took around 1...</td>\n",
       "      <td>Disneyland_HongKong</td>\n",
       "    </tr>\n",
       "  </tbody>\n",
       "</table>\n",
       "</div>"
      ],
      "text/plain": [
       "   Rating                                        Review_Text  \\\n",
       "0       4  if you've ever been to disneyland anywhere you...   \n",
       "1       4  its been a while since d last time we visit hk...   \n",
       "2       4  thanks god it wasn   t too hot or too humid wh...   \n",
       "3       4  hk disneyland is a great compact park. unfortu...   \n",
       "4       4  the location is not in the city, took around 1...   \n",
       "\n",
       "                Branch  \n",
       "0  Disneyland_HongKong  \n",
       "1  Disneyland_HongKong  \n",
       "2  Disneyland_HongKong  \n",
       "3  Disneyland_HongKong  \n",
       "4  Disneyland_HongKong  "
      ]
     },
     "execution_count": 6,
     "metadata": {},
     "output_type": "execute_result"
    }
   ],
   "source": [
    "#Dropping \"Review_ID\" ,\"Reviewer_Location\" and 'Year_Month' features\n",
    "df=df.drop(columns=[\"Review_ID\", 'Reviewer_Location','Year_Month'])\n",
    "df.head()"
   ]
  },
  {
   "cell_type": "code",
   "execution_count": 7,
   "id": "5af0170e",
   "metadata": {},
   "outputs": [
    {
     "data": {
      "image/png": "[encoded data removed]",
      "text/plain": [
       "<Figure size 640x480 with 1 Axes>"
      ]
     },
     "metadata": {},
     "output_type": "display_data"
    }
   ],
   "source": [
    "#Plotting the distributions of Ratings\n",
    "import seaborn as sns\n",
    "sns.countplot(data=df,x='Rating');"
   ]
  },
  {
   "cell_type": "code",
   "execution_count": 8,
   "id": "f73685bd",
   "metadata": {},
   "outputs": [
    {
     "data": {
      "text/html": [
       "<div>\n",
       "<style scoped>\n",
       "    .dataframe tbody tr th:only-of-type {\n",
       "        vertical-align: middle;\n",
       "    }\n",
       "\n",
       "    .dataframe tbody tr th {\n",
       "        vertical-align: top;\n",
       "    }\n",
       "\n",
       "    .dataframe thead th {\n",
       "        text-align: right;\n",
       "    }\n",
       "</style>\n",
       "<table border=\"1\" class=\"dataframe\">\n",
       "  <thead>\n",
       "    <tr style=\"text-align: right;\">\n",
       "      <th></th>\n",
       "      <th>Rating</th>\n",
       "      <th>Review_Text</th>\n",
       "      <th>Branch</th>\n",
       "    </tr>\n",
       "  </thead>\n",
       "  <tbody>\n",
       "    <tr>\n",
       "      <th>0</th>\n",
       "      <td>3</td>\n",
       "      <td>if you've ever been to disneyland anywhere you...</td>\n",
       "      <td>Disneyland_HongKong</td>\n",
       "    </tr>\n",
       "    <tr>\n",
       "      <th>1</th>\n",
       "      <td>3</td>\n",
       "      <td>its been a while since d last time we visit hk...</td>\n",
       "      <td>Disneyland_HongKong</td>\n",
       "    </tr>\n",
       "    <tr>\n",
       "      <th>2</th>\n",
       "      <td>3</td>\n",
       "      <td>thanks god it wasn   t too hot or too humid wh...</td>\n",
       "      <td>Disneyland_HongKong</td>\n",
       "    </tr>\n",
       "    <tr>\n",
       "      <th>3</th>\n",
       "      <td>3</td>\n",
       "      <td>hk disneyland is a great compact park. unfortu...</td>\n",
       "      <td>Disneyland_HongKong</td>\n",
       "    </tr>\n",
       "    <tr>\n",
       "      <th>4</th>\n",
       "      <td>3</td>\n",
       "      <td>the location is not in the city, took around 1...</td>\n",
       "      <td>Disneyland_HongKong</td>\n",
       "    </tr>\n",
       "  </tbody>\n",
       "</table>\n",
       "</div>"
      ],
      "text/plain": [
       "   Rating                                        Review_Text  \\\n",
       "0       3  if you've ever been to disneyland anywhere you...   \n",
       "1       3  its been a while since d last time we visit hk...   \n",
       "2       3  thanks god it wasn   t too hot or too humid wh...   \n",
       "3       3  hk disneyland is a great compact park. unfortu...   \n",
       "4       3  the location is not in the city, took around 1...   \n",
       "\n",
       "                Branch  \n",
       "0  Disneyland_HongKong  \n",
       "1  Disneyland_HongKong  \n",
       "2  Disneyland_HongKong  \n",
       "3  Disneyland_HongKong  \n",
       "4  Disneyland_HongKong  "
      ]
     },
     "execution_count": 8,
     "metadata": {},
     "output_type": "execute_result"
    }
   ],
   "source": [
    "#Substracting 1 of the \"Rating\" feature in order to have values between 0 and 4\n",
    "df['Rating']=df['Rating']-1\n",
    "df.head()"
   ]
  },
  {
   "cell_type": "markdown",
   "id": "c2a80f0d",
   "metadata": {},
   "source": [
    "## Creating an evaluation function for our model experiments"
   ]
  },
  {
   "cell_type": "code",
   "execution_count": 9,
   "id": "4e2f5300",
   "metadata": {},
   "outputs": [],
   "source": [
    "#Function to evaluate: accuracy,precision,recall,f1-score\n",
    "from sklearn.metrics import accuracy_score,precision_recall_fscore_support\n",
    "\n",
    "def calculate_results(y_true,y_pred):\n",
    "  #Calculate model accuracy\n",
    "  model_accuracy=accuracy_score(y_true,y_pred)\n",
    "\n",
    "  #Calculate model precision,recall and f1-score using \"weighted average\"\n",
    "  model_precision,model_recall,model_f1,_=precision_recall_fscore_support(y_true,y_pred,average='weighted',zero_division=0)\n",
    "  model_results={'accuracy':model_accuracy.round(3),\n",
    "                 'precision':model_precision.round(3),\n",
    "                 \"recall\":model_recall.round(3),\n",
    "                 \"f1\":model_f1.round(3)}\n",
    "              \n",
    "  return model_results"
   ]
  },
  {
   "cell_type": "markdown",
   "id": "e73bdec2",
   "metadata": {},
   "source": [
    "## Defining train and test datasets"
   ]
  },
  {
   "cell_type": "code",
   "execution_count": 10,
   "id": "d70872db",
   "metadata": {},
   "outputs": [],
   "source": [
    "#Defining X and y\n",
    "X=df.drop(columns=[\"Rating\"])\n",
    "y=df[[\"Rating\"]]"
   ]
  },
  {
   "cell_type": "code",
   "execution_count": 11,
   "id": "e319d1de",
   "metadata": {},
   "outputs": [],
   "source": [
    "#Splitting the data in train and test\n",
    "from sklearn.model_selection import train_test_split\n",
    "X_train,X_test,y_train,y_test=train_test_split(X,y,test_size=0.3, stratify=y,random_state=42)"
   ]
  },
  {
   "cell_type": "code",
   "execution_count": 12,
   "id": "7d97adc2",
   "metadata": {},
   "outputs": [
    {
     "data": {
      "text/html": [
       "<div>\n",
       "<style scoped>\n",
       "    .dataframe tbody tr th:only-of-type {\n",
       "        vertical-align: middle;\n",
       "    }\n",
       "\n",
       "    .dataframe tbody tr th {\n",
       "        vertical-align: top;\n",
       "    }\n",
       "\n",
       "    .dataframe thead th {\n",
       "        text-align: right;\n",
       "    }\n",
       "</style>\n",
       "<table border=\"1\" class=\"dataframe\">\n",
       "  <thead>\n",
       "    <tr style=\"text-align: right;\">\n",
       "      <th></th>\n",
       "      <th>Review_Text</th>\n",
       "      <th>Branch</th>\n",
       "    </tr>\n",
       "  </thead>\n",
       "  <tbody>\n",
       "    <tr>\n",
       "      <th>4511</th>\n",
       "      <td>lots of fun attractions, short ride waits, eas...</td>\n",
       "      <td>Disneyland_HongKong</td>\n",
       "    </tr>\n",
       "    <tr>\n",
       "      <th>29098</th>\n",
       "      <td>i was very surprised that euro disney did not ...</td>\n",
       "      <td>Disneyland_Paris</td>\n",
       "    </tr>\n",
       "    <tr>\n",
       "      <th>4041</th>\n",
       "      <td>this was the second time we visited this disne...</td>\n",
       "      <td>Disneyland_HongKong</td>\n",
       "    </tr>\n",
       "    <tr>\n",
       "      <th>1364</th>\n",
       "      <td>we was very pleased with our visit. the attrac...</td>\n",
       "      <td>Disneyland_HongKong</td>\n",
       "    </tr>\n",
       "    <tr>\n",
       "      <th>23996</th>\n",
       "      <td>a bucket list experience.  not so much for the...</td>\n",
       "      <td>Disneyland_California</td>\n",
       "    </tr>\n",
       "    <tr>\n",
       "      <th>...</th>\n",
       "      <td>...</td>\n",
       "      <td>...</td>\n",
       "    </tr>\n",
       "    <tr>\n",
       "      <th>35574</th>\n",
       "      <td>the park is dated and in need of a thorough ov...</td>\n",
       "      <td>Disneyland_Paris</td>\n",
       "    </tr>\n",
       "    <tr>\n",
       "      <th>20448</th>\n",
       "      <td>we spent 5 days at the disneyland park in sept...</td>\n",
       "      <td>Disneyland_California</td>\n",
       "    </tr>\n",
       "    <tr>\n",
       "      <th>19209</th>\n",
       "      <td>loved disneyland, loved the park hopper to cal...</td>\n",
       "      <td>Disneyland_California</td>\n",
       "    </tr>\n",
       "    <tr>\n",
       "      <th>218</th>\n",
       "      <td>it was fun to go to hk disneyland. we stayed a...</td>\n",
       "      <td>Disneyland_HongKong</td>\n",
       "    </tr>\n",
       "    <tr>\n",
       "      <th>2413</th>\n",
       "      <td>took my daughter, son in law and grandsons. wo...</td>\n",
       "      <td>Disneyland_HongKong</td>\n",
       "    </tr>\n",
       "  </tbody>\n",
       "</table>\n",
       "<p>29859 rows × 2 columns</p>\n",
       "</div>"
      ],
      "text/plain": [
       "                                             Review_Text  \\\n",
       "4511   lots of fun attractions, short ride waits, eas...   \n",
       "29098  i was very surprised that euro disney did not ...   \n",
       "4041   this was the second time we visited this disne...   \n",
       "1364   we was very pleased with our visit. the attrac...   \n",
       "23996  a bucket list experience.  not so much for the...   \n",
       "...                                                  ...   \n",
       "35574  the park is dated and in need of a thorough ov...   \n",
       "20448  we spent 5 days at the disneyland park in sept...   \n",
       "19209  loved disneyland, loved the park hopper to cal...   \n",
       "218    it was fun to go to hk disneyland. we stayed a...   \n",
       "2413   took my daughter, son in law and grandsons. wo...   \n",
       "\n",
       "                      Branch  \n",
       "4511     Disneyland_HongKong  \n",
       "29098       Disneyland_Paris  \n",
       "4041     Disneyland_HongKong  \n",
       "1364     Disneyland_HongKong  \n",
       "23996  Disneyland_California  \n",
       "...                      ...  \n",
       "35574       Disneyland_Paris  \n",
       "20448  Disneyland_California  \n",
       "19209  Disneyland_California  \n",
       "218      Disneyland_HongKong  \n",
       "2413     Disneyland_HongKong  \n",
       "\n",
       "[29859 rows x 2 columns]"
      ]
     },
     "execution_count": 12,
     "metadata": {},
     "output_type": "execute_result"
    }
   ],
   "source": [
    "X_train"
   ]
  },
  {
   "cell_type": "markdown",
   "id": "74e28620",
   "metadata": {},
   "source": [
    "## Making different kind of feature labels for the experiments"
   ]
  },
  {
   "cell_type": "code",
   "execution_count": 13,
   "id": "b3a389e3",
   "metadata": {},
   "outputs": [],
   "source": [
    "#One hot encode labels\n",
    "from sklearn.preprocessing import OneHotEncoder\n",
    "one_hot_encoder=OneHotEncoder()\n",
    "train_labels_one_hot=one_hot_encoder.fit_transform(y_train.to_numpy().reshape(-1,1)).toarray()\n",
    "test_labels_one_hot=one_hot_encoder.transform(y_test.to_numpy().reshape(-1,1)).toarray()\n",
    "\n",
    "#Labels encoded\n",
    "train_labels_encoded=y_train.to_numpy().ravel()\n",
    "test_labels_encoded=y_test.to_numpy().ravel()\n",
    "\n",
    "num_classes=5"
   ]
  },
  {
   "cell_type": "code",
   "execution_count": 14,
   "id": "74c937de",
   "metadata": {},
   "outputs": [
    {
     "data": {
      "text/plain": [
       "array([3, 2, 3, ..., 4, 3, 4], dtype=int64)"
      ]
     },
     "execution_count": 14,
     "metadata": {},
     "output_type": "execute_result"
    }
   ],
   "source": [
    "train_labels_encoded"
   ]
  },
  {
   "cell_type": "markdown",
   "id": "90ab562e",
   "metadata": {},
   "source": [
    "# Starting a series of modelling experiments only with the \"Review_Text\" column as the unique feature"
   ]
  },
  {
   "cell_type": "markdown",
   "id": "b3ac8085",
   "metadata": {},
   "source": [
    "## Model 0: Testing the basic machine learning models, finding out the best and tuning it"
   ]
  },
  {
   "cell_type": "code",
   "execution_count": 15,
   "id": "4f86ac54",
   "metadata": {},
   "outputs": [],
   "source": [
    "#Importing the libraries\n",
    "from sklearn.preprocessing import StandardScaler\n",
    "from sklearn.model_selection import KFold,cross_val_score\n",
    "from sklearn.linear_model import LogisticRegression\n",
    "from sklearn.naive_bayes import MultinomialNB\n",
    "from sklearn.neighbors import KNeighborsClassifier\n",
    "from sklearn.tree import DecisionTreeClassifier\n",
    "\n",
    "#Ensemble\n",
    "from xgboost import XGBClassifier\n",
    "from catboost import CatBoostClassifier\n",
    "from lightgbm import LGBMClassifier\n",
    "from sklearn.ensemble import RandomForestClassifier,BaggingClassifier,ExtraTreesClassifier,AdaBoostClassifier"
   ]
  },
  {
   "cell_type": "code",
   "execution_count": null,
   "id": "c0177c58",
   "metadata": {},
   "outputs": [
    {
     "name": "stdout",
     "output_type": "stream",
     "text": [
      "Logistic Regression :62.41% (0.91%)\n",
      "MultinomialNB :54.27% (0.44%)\n",
      "KNN :51.15% (0.84%)\n",
      "Decision Tree :47.19% (0.79%)\n",
      "XGB Classifier :60.23% (0.95%)\n",
      "Cat Boost Classifier :56.76% (0.96%)\n",
      "LGBM Classifier :54.47% (0.76%)\n",
      "Random Forest :54.99% (0.80%)\n",
      "Bagging Class :54.28% (0.74%)\n",
      "Extra trees :54.78% (1.04%)\n",
      "Ada Boost :57.44% (0.72%)\n"
     ]
    }
   ],
   "source": [
    "from sklearn.feature_extraction.text import TfidfVectorizer\n",
    "from sklearn.naive_bayes import MultinomialNB\n",
    "from sklearn.pipeline import Pipeline\n",
    "\n",
    "#Preparing the models\n",
    "models=[]\n",
    "models.append((\"Logistic Regression\",LogisticRegression(solver=\"lbfgs\",max_iter=10000,multi_class=\"multinomial\")))\n",
    "models.append((\"MultinomialNB\",MultinomialNB()))\n",
    "models.append((\"KNN\",KNeighborsClassifier()))\n",
    "models.append((\"Decision Tree\",DecisionTreeClassifier()))\n",
    "models.append((\"XGB Classifier\",XGBClassifier(objective=\"multi:softmax\")))\n",
    "models.append((\"Cat Boost Classifier\",CatBoostClassifier(n_estimators =100,learning_rate=0.1, max_depth=3, random_state=500,verbose=0)))\n",
    "models.append((\"LGBM Classifier\",LGBMClassifier(max_depth = 3, learning_rate = 0.1, n_estimators = 10, objective='multiclass', seed=500,verbose=-100,force_row_wise=True,silent = True)))\n",
    "models.append((\"Random Forest\",RandomForestClassifier()))\n",
    "models.append((\"Bagging Class\",BaggingClassifier()))\n",
    "models.append((\"Extra trees\",ExtraTreesClassifier()))\n",
    "models.append((\"Ada Boost\",AdaBoostClassifier()))\n",
    "\n",
    "#Evaluating each model in turn\n",
    "results=[]\n",
    "names=[]\n",
    "scoring=\"accuracy\"\n",
    "\n",
    "for name, model in models:\n",
    "    kfold=KFold(n_splits=10,shuffle=True)\n",
    "    #Create a pipeline\n",
    "    model_0=Pipeline([\n",
    "    (\"tf-idf\",TfidfVectorizer()),\n",
    "    ('clf',model)\n",
    "    ])\n",
    "    cv_results=cross_val_score(model_0,X_train[['Review_Text']].values.ravel(),train_labels_encoded,cv=kfold,scoring=scoring)\n",
    "    results.append(cv_results)\n",
    "    names.append(name)\n",
    "    print(f\"{name} :{cv_results.mean()*100:,.2f}% ({cv_results.std()*100:.2f}%)\")"
   ]
  },
  {
   "cell_type": "code",
   "execution_count": 27,
   "id": "b14fc26a",
   "metadata": {},
   "outputs": [
    {
     "name": "stdout",
     "output_type": "stream",
     "text": [
      "Best : 0.623865 using the params {'logreg__C': 1.0}\n",
      "0.542617 (0.008019) with {'logreg__C': 0.001}\n",
      "0.565056 (0.006394) with {'logreg__C': 0.05357894736842105}\n",
      "0.584815 (0.004897) with {'logreg__C': 0.1061578947368421}\n",
      "0.594628 (0.005116) with {'logreg__C': 0.15873684210526315}\n",
      "0.601058 (0.005775) with {'logreg__C': 0.2113157894736842}\n",
      "0.606316 (0.006132) with {'logreg__C': 0.26389473684210524}\n",
      "0.609464 (0.005715) with {'logreg__C': 0.3164736842105263}\n",
      "0.612479 (0.006030) with {'logreg__C': 0.36905263157894735}\n",
      "0.615828 (0.006299) with {'logreg__C': 0.4216315789473684}\n",
      "0.617536 (0.006421) with {'logreg__C': 0.47421052631578947}\n",
      "0.618942 (0.007109) with {'logreg__C': 0.5267894736842105}\n",
      "0.620215 (0.007656) with {'logreg__C': 0.5793684210526315}\n",
      "0.621153 (0.007845) with {'logreg__C': 0.6319473684210526}\n",
      "0.621454 (0.007562) with {'logreg__C': 0.6845263157894736}\n",
      "0.621622 (0.008420) with {'logreg__C': 0.7371052631578947}\n",
      "0.622157 (0.008639) with {'logreg__C': 0.7896842105263158}\n",
      "0.622626 (0.007848) with {'logreg__C': 0.8422631578947368}\n",
      "0.623597 (0.007611) with {'logreg__C': 0.8948421052631579}\n",
      "0.623430 (0.007876) with {'logreg__C': 0.9474210526315789}\n",
      "0.623865 (0.007529) with {'logreg__C': 1.0}\n"
     ]
    }
   ],
   "source": [
    "#Fine Tuning the best model\n",
    "\n",
    "from sklearn.model_selection import GridSearchCV\n",
    "from sklearn.pipeline import Pipeline\n",
    "import numpy as np\n",
    "from sklearn.feature_extraction.text import TfidfVectorizer\n",
    "\n",
    "#Build the steps\n",
    "steps=[(\"tf-idf\",TfidfVectorizer()),('logreg',LogisticRegression(solver=\"lbfgs\",max_iter=10000,multi_class=\"multinomial\"))]\n",
    "\n",
    "\n",
    "pipeline=Pipeline(steps)\n",
    "\n",
    "#Create the parameter space\n",
    "parameters = {\n",
    "    'logreg__C': np.linspace(0.001,1,20)\n",
    "}\n",
    "\n",
    "\n",
    "kfold=KFold(n_splits=5,shuffle=True)\n",
    "\n",
    "grid_result=GridSearchCV(estimator=pipeline,param_grid=parameters,cv=kfold)\n",
    "\n",
    "grid_result.fit(X_train[['Review_Text']].values.ravel(),train_labels_encoded) \n",
    "\n",
    "#Summarize_results\n",
    "\n",
    "print(\"Best : %f using the params %s\" % (grid_result.best_score_ , grid_result.best_params_))\n",
    "\n",
    "means=grid_result.cv_results_[\"mean_test_score\"]\n",
    "stds=grid_result.cv_results_[\"std_test_score\"]\n",
    "params=grid_result.cv_results_[\"params\"]\n",
    "\n",
    "\n",
    "for mean,stdev,param in zip(means,stds,params):\n",
    "    \n",
    "  print(\"%f (%f) with %r\" % (mean,stdev,param))"
   ]
  },
  {
   "cell_type": "code",
   "execution_count": 29,
   "id": "727d2ecc",
   "metadata": {},
   "outputs": [
    {
     "name": "stdout",
     "output_type": "stream",
     "text": [
      "Our baseline model achieves an accuracy of:62.90%\n"
     ]
    }
   ],
   "source": [
    "#Evaluating our best classic machine learning model\n",
    "baseline_score=grid_result.score(X_test[['Review_Text']].values.ravel(),test_labels_encoded)\n",
    "print(f\"Our baseline model achieves an accuracy of:{baseline_score*100:.2f}%\")"
   ]
  },
  {
   "cell_type": "code",
   "execution_count": 30,
   "id": "af568947",
   "metadata": {},
   "outputs": [
    {
     "data": {
      "text/plain": [
       "array([4, 3, 4, 4, 2, 4, 3, 3, 4, 4], dtype=int64)"
      ]
     },
     "execution_count": 30,
     "metadata": {},
     "output_type": "execute_result"
    }
   ],
   "source": [
    "#Making predictions\n",
    "baseline_preds=grid_result.predict(X_test[['Review_Text']].values.ravel())\n",
    "baseline_preds[:10]"
   ]
  },
  {
   "cell_type": "code",
   "execution_count": 31,
   "id": "585266ab",
   "metadata": {},
   "outputs": [
    {
     "data": {
      "text/plain": [
       "{'accuracy': 0.629, 'precision': 0.594, 'recall': 0.629, 'f1': 0.601}"
      ]
     },
     "execution_count": 31,
     "metadata": {},
     "output_type": "execute_result"
    }
   ],
   "source": [
    "#Get baseline results\n",
    "baseline_results=calculate_results(test_labels_encoded,baseline_preds)\n",
    "baseline_results"
   ]
  },
  {
   "cell_type": "code",
   "execution_count": null,
   "id": "9847b2be",
   "metadata": {},
   "outputs": [],
   "source": [
    "#Saving the fine_tuned model\n",
    "from pickle import dump\n",
    "dump(grid_result,open(\"model_0.pkl\",\"wb\"))"
   ]
  },
  {
   "cell_type": "code",
   "execution_count": 16,
   "id": "ce42d1ce",
   "metadata": {},
   "outputs": [],
   "source": [
    "#Loading the model\n",
    "import pickle\n",
    "loaded_model = pickle.load(open('model_0.pkl', 'rb'))"
   ]
  },
  {
   "cell_type": "code",
   "execution_count": 17,
   "id": "07c1474c",
   "metadata": {},
   "outputs": [
    {
     "data": {
      "text/plain": [
       "{'accuracy': 0.629, 'precision': 0.594, 'recall': 0.629, 'f1': 0.601}"
      ]
     },
     "execution_count": 17,
     "metadata": {},
     "output_type": "execute_result"
    }
   ],
   "source": [
    "#Making predictions\n",
    "\n",
    "baseline_preds=loaded_model.predict(X_test[['Review_Text']].values.ravel())\n",
    "\n",
    "#Get baseline results\n",
    "\n",
    "baseline_results=calculate_results(test_labels_encoded,baseline_preds)\n",
    "\n",
    "baseline_results"
   ]
  },
  {
   "cell_type": "markdown",
   "id": "bf96defe",
   "metadata": {},
   "source": [
    "## Model 1: Dense model using Sequential API + TF-IDF"
   ]
  },
  {
   "cell_type": "code",
   "execution_count": 18,
   "id": "64faf94d",
   "metadata": {},
   "outputs": [],
   "source": [
    "import tensorflow as tf\n",
    "import numpy as np\n",
    "from keras.layers import Dense\n",
    "from keras import Sequential\n",
    "from sklearn.feature_extraction.text import TfidfVectorizer"
   ]
  },
  {
   "cell_type": "code",
   "execution_count": 19,
   "id": "c1c73cea",
   "metadata": {},
   "outputs": [
    {
     "name": "stdout",
     "output_type": "stream",
     "text": [
      "Epoch 1/10\n",
      "700/700 [==============================] - 49s 67ms/step - loss: 1.4283 - accuracy: 0.5383 - val_loss: 1.3021 - val_accuracy: 0.5480\n",
      "Epoch 2/10\n",
      "700/700 [==============================] - 47s 67ms/step - loss: 1.2545 - accuracy: 0.5408 - val_loss: 1.2209 - val_accuracy: 0.5480\n",
      "Epoch 3/10\n",
      "700/700 [==============================] - 47s 67ms/step - loss: 1.2135 - accuracy: 0.5408 - val_loss: 1.2035 - val_accuracy: 0.5480\n",
      "Epoch 4/10\n",
      "700/700 [==============================] - 46s 66ms/step - loss: 1.2043 - accuracy: 0.5408 - val_loss: 1.1996 - val_accuracy: 0.5480\n",
      "Epoch 5/10\n",
      "700/700 [==============================] - 47s 67ms/step - loss: 1.2021 - accuracy: 0.5408 - val_loss: 1.1990 - val_accuracy: 0.5480\n",
      "Epoch 6/10\n",
      "700/700 [==============================] - 48s 68ms/step - loss: 1.2016 - accuracy: 0.5408 - val_loss: 1.1987 - val_accuracy: 0.5480\n",
      "Epoch 7/10\n",
      "700/700 [==============================] - 48s 68ms/step - loss: 1.2014 - accuracy: 0.5408 - val_loss: 1.1988 - val_accuracy: 0.5480\n",
      "Epoch 8/10\n",
      "700/700 [==============================] - 47s 67ms/step - loss: 1.2014 - accuracy: 0.5408 - val_loss: 1.1987 - val_accuracy: 0.5480\n",
      "Epoch 9/10\n",
      "700/700 [==============================] - 47s 67ms/step - loss: 1.2014 - accuracy: 0.5408 - val_loss: 1.1990 - val_accuracy: 0.5480\n",
      "Epoch 10/10\n",
      "700/700 [==============================] - 47s 67ms/step - loss: 1.2014 - accuracy: 0.5408 - val_loss: 1.1987 - val_accuracy: 0.5480\n"
     ]
    },
    {
     "data": {
      "text/plain": [
       "<keras.callbacks.History at 0x2b6a1483be0>"
      ]
     },
     "execution_count": 19,
     "metadata": {},
     "output_type": "execute_result"
    }
   ],
   "source": [
    "tv=TfidfVectorizer()\n",
    "tv.fit(X_train[['Review_Text']].values.ravel())\n",
    "\n",
    "#Changing the data type to another one which uses less memory works with astype(np.uint8)\n",
    "X_train_model_1=tv.transform(X_train[['Review_Text']].values.ravel()).astype(np.uint8).toarray() \n",
    "X_test_model_1=tv.transform(X_test[['Review_Text']].values.ravel()).astype(np.uint8).toarray() \n",
    "\n",
    "model_1=Sequential()\n",
    "model_1.add(Dense(256,activation='relu'))\n",
    "model_1.add(Dense(64,activation='relu'))\n",
    "model_1.add(Dense(num_classes,activation='softmax'))\n",
    "model_1.compile(loss='categorical_crossentropy',optimizer='adam',metrics='accuracy')\n",
    "model_1.fit(X_train_model_1,train_labels_one_hot,epochs=10,validation_split=0.25)"
   ]
  },
  {
   "cell_type": "code",
   "execution_count": 20,
   "id": "08cc86e2",
   "metadata": {},
   "outputs": [
    {
     "data": {
      "text/plain": [
       "[1.2007029056549072, 0.5426271557807922]"
      ]
     },
     "execution_count": 20,
     "metadata": {},
     "output_type": "execute_result"
    }
   ],
   "source": [
    "#Evaluating our model\n",
    "model_1.evaluate(X_test_model_1,test_labels_one_hot,verbose=0)"
   ]
  },
  {
   "cell_type": "code",
   "execution_count": 21,
   "id": "6d7384a9",
   "metadata": {},
   "outputs": [
    {
     "name": "stdout",
     "output_type": "stream",
     "text": [
      "400/400 [==============================] - 13s 33ms/step\n"
     ]
    },
    {
     "data": {
      "text/plain": [
       "array([[0.03453339, 0.05019565, 0.11930927, 0.2533584 , 0.5426033 ]],\n",
       "      dtype=float32)"
      ]
     },
     "execution_count": 21,
     "metadata": {},
     "output_type": "execute_result"
    }
   ],
   "source": [
    "#Making predictions\n",
    "model_1_pred_probs=model_1.predict(X_test_model_1)\n",
    "model_1_pred_probs[:1]"
   ]
  },
  {
   "cell_type": "code",
   "execution_count": 22,
   "id": "5037c622",
   "metadata": {},
   "outputs": [
    {
     "data": {
      "text/plain": [
       "array([4, 4, 4, ..., 4, 4, 4], dtype=int64)"
      ]
     },
     "execution_count": 22,
     "metadata": {},
     "output_type": "execute_result"
    }
   ],
   "source": [
    "#Convert pred probs to classes\n",
    "model_1_preds=np.argmax(model_1_pred_probs,axis=1)\n",
    "model_1_preds"
   ]
  },
  {
   "cell_type": "code",
   "execution_count": 23,
   "id": "1aa424e8",
   "metadata": {},
   "outputs": [
    {
     "data": {
      "text/plain": [
       "{'accuracy': 0.543, 'precision': 0.294, 'recall': 0.543, 'f1': 0.382}"
      ]
     },
     "execution_count": 23,
     "metadata": {},
     "output_type": "execute_result"
    }
   ],
   "source": [
    "#Calculate model_1_results\n",
    "model_1_results=calculate_results(test_labels_encoded,\n",
    "                                  model_1_preds)\n",
    "model_1_results"
   ]
  },
  {
   "cell_type": "markdown",
   "id": "91486f05",
   "metadata": {},
   "source": [
    "## Preparing our data (the text) for deeper Sequence Models"
   ]
  },
  {
   "cell_type": "code",
   "execution_count": 24,
   "id": "df66c51d",
   "metadata": {},
   "outputs": [],
   "source": [
    "import numpy as np\n",
    "import tensorflow as tf\n",
    "from tensorflow.keras import layers"
   ]
  },
  {
   "cell_type": "code",
   "execution_count": 25,
   "id": "ecedbc87",
   "metadata": {},
   "outputs": [
    {
     "data": {
      "text/plain": [
       "129.4063431461201"
      ]
     },
     "execution_count": 25,
     "metadata": {},
     "output_type": "execute_result"
    }
   ],
   "source": [
    "#How long is each sentence on average?\n",
    "sent_lens=[len(sentence.split()) for sentence in X_train[['Review_Text']].values.ravel().tolist()]\n",
    "avg_sent_len=np.mean(sent_lens)\n",
    "avg_sent_len"
   ]
  },
  {
   "cell_type": "code",
   "execution_count": 26,
   "id": "0f273fc4",
   "metadata": {},
   "outputs": [
    {
     "data": {
      "image/png": "[encoded data removed]",
      "text/plain": [
       "<Figure size 640x480 with 1 Axes>"
      ]
     },
     "metadata": {},
     "output_type": "display_data"
    }
   ],
   "source": [
    "#What´s the distribution look like?\n",
    "import matplotlib.pyplot as plt\n",
    "plt.hist(sent_lens,bins=20);"
   ]
  },
  {
   "cell_type": "code",
   "execution_count": 27,
   "id": "164231fc",
   "metadata": {},
   "outputs": [
    {
     "data": {
      "text/plain": [
       "392"
      ]
     },
     "execution_count": 27,
     "metadata": {},
     "output_type": "execute_result"
    }
   ],
   "source": [
    "#How long of a sentence length cover 95% of examples?\n",
    "output_seq_len=int(np.percentile(sent_lens,95))\n",
    "output_seq_len"
   ]
  },
  {
   "cell_type": "code",
   "execution_count": 28,
   "id": "66078d22",
   "metadata": {},
   "outputs": [
    {
     "data": {
      "text/plain": [
       "3963"
      ]
     },
     "execution_count": 28,
     "metadata": {},
     "output_type": "execute_result"
    }
   ],
   "source": [
    "#Maximum sequence lenght in the training set\n",
    "max(sent_lens)"
   ]
  },
  {
   "cell_type": "markdown",
   "id": "792c8227",
   "metadata": {},
   "source": [
    "### Create a text vectorizer layer\n",
    "\n",
    "-Tokenization:straight mapping from token to number can be modelled but quickly gets to big).\n",
    "\n",
    "-Embedding:richer representation of relationships between tokens(can limit size + can be learned)"
   ]
  },
  {
   "cell_type": "code",
   "execution_count": 29,
   "id": "1e2aed91",
   "metadata": {},
   "outputs": [
    {
     "data": {
      "text/plain": [
       "35734"
      ]
     },
     "execution_count": 29,
     "metadata": {},
     "output_type": "execute_result"
    }
   ],
   "source": [
    "from sklearn.feature_extraction.text import CountVectorizer\n",
    "vectorizer = CountVectorizer()\n",
    "vectorizer.fit_transform(X_train[['Review_Text']].values.ravel())\n",
    "len(vectorizer.get_feature_names_out()) #vectorizer.get_feature_names_out()"
   ]
  },
  {
   "cell_type": "code",
   "execution_count": 30,
   "id": "b8c89525",
   "metadata": {},
   "outputs": [],
   "source": [
    "#Create text vectorizer\n",
    "from tensorflow.keras.layers.experimental.preprocessing import TextVectorization\n",
    "\n",
    "text_vectorizer=TextVectorization(max_tokens=len(vectorizer.get_feature_names_out()), # number of words in vocabulary\n",
    "                                  output_sequence_length=output_seq_len #desired output length of vectorized sequences \n",
    "                                  )"
   ]
  },
  {
   "cell_type": "code",
   "execution_count": 31,
   "id": "d44466e0",
   "metadata": {},
   "outputs": [],
   "source": [
    "#Adapt text vectorizer to traning sentences\n",
    "text_vectorizer.adapt(X_train[['Review_Text']].values.ravel())"
   ]
  },
  {
   "cell_type": "code",
   "execution_count": 32,
   "id": "864e66e5",
   "metadata": {},
   "outputs": [
    {
     "name": "stdout",
     "output_type": "stream",
     "text": [
      "Text:\n",
      "it would be easy to skimp on the details, but disney is the last place you will see that! every attraction is meticulously themed down to the shoe laces on the it's a small world dolls. it's usually busy, but getting a bit pricy, but still full a happiness and magic!\n",
      "\n",
      "Length of text:51\n",
      "\n",
      "Vectorized text: [[   11    54    35   331     4 11998    20     2  1277    16    24    12\n",
      "      2   215    59    13    61    70    19   139   327    12  5860   694\n",
      "    157     4     2  5635     1    20     2    47     5   131   108  3449\n",
      "     47   642   198    16   271     5   202  3071    16   110   291     5\n",
      "   1626     3   160     0     0     0     0     0     0     0     0     0\n",
      "      0     0     0     0     0     0     0     0     0     0     0     0\n",
      "      0     0     0     0     0     0     0     0     0     0     0     0\n",
      "      0     0     0     0     0     0     0     0     0     0     0     0\n",
      "      0     0     0     0     0     0     0     0     0     0     0     0\n",
      "      0     0     0     0     0     0     0     0     0     0     0     0\n",
      "      0     0     0     0     0     0     0     0     0     0     0     0\n",
      "      0     0     0     0     0     0     0     0     0     0     0     0\n",
      "      0     0     0     0     0     0     0     0     0     0     0     0\n",
      "      0     0     0     0     0     0     0     0     0     0     0     0\n",
      "      0     0     0     0     0     0     0     0     0     0     0     0\n",
      "      0     0     0     0     0     0     0     0     0     0     0     0\n",
      "      0     0     0     0     0     0     0     0     0     0     0     0\n",
      "      0     0     0     0     0     0     0     0     0     0     0     0\n",
      "      0     0     0     0     0     0     0     0     0     0     0     0\n",
      "      0     0     0     0     0     0     0     0     0     0     0     0\n",
      "      0     0     0     0     0     0     0     0     0     0     0     0\n",
      "      0     0     0     0     0     0     0     0     0     0     0     0\n",
      "      0     0     0     0     0     0     0     0     0     0     0     0\n",
      "      0     0     0     0     0     0     0     0     0     0     0     0\n",
      "      0     0     0     0     0     0     0     0     0     0     0     0\n",
      "      0     0     0     0     0     0     0     0     0     0     0     0\n",
      "      0     0     0     0     0     0     0     0     0     0     0     0\n",
      "      0     0     0     0     0     0     0     0     0     0     0     0\n",
      "      0     0     0     0     0     0     0     0     0     0     0     0\n",
      "      0     0     0     0     0     0     0     0     0     0     0     0\n",
      "      0     0     0     0     0     0     0     0     0     0     0     0\n",
      "      0     0     0     0     0     0     0     0     0     0     0     0\n",
      "      0     0     0     0     0     0     0     0]]\n"
     ]
    }
   ],
   "source": [
    "#Test our text vectorize on random sentences\n",
    "import random\n",
    "target_sentence=random.choice(X_train[['Review_Text']].values.ravel())\n",
    "print(f\"Text:\\n{target_sentence}\")\n",
    "print(f\"\\nLength of text:{len(target_sentence.split())}\")\n",
    "print(f\"\\nVectorized text: {text_vectorizer([target_sentence])}\")"
   ]
  },
  {
   "cell_type": "code",
   "execution_count": 33,
   "id": "214364e8",
   "metadata": {},
   "outputs": [
    {
     "name": "stdout",
     "output_type": "stream",
     "text": [
      "Number of words in vocab:35734\n",
      "Most common words in vocab:['', '[UNK]', 'the', 'and', 'to']\n",
      "Least common words in vocab:['overheld', 'overheats', 'overheating', 'overheads', 'overhaulwas']\n"
     ]
    }
   ],
   "source": [
    "#How many words in our training vocabulary\n",
    "df_disneyland_rating=text_vectorizer.get_vocabulary()\n",
    "print(f\"Number of words in vocab:{len(df_disneyland_rating)}\")\n",
    "print(f\"Most common words in vocab:{df_disneyland_rating[:5]}\")\n",
    "print(f\"Least common words in vocab:{df_disneyland_rating[-5:]}\")"
   ]
  },
  {
   "cell_type": "code",
   "execution_count": 34,
   "id": "994d8ca9",
   "metadata": {},
   "outputs": [
    {
     "data": {
      "text/plain": [
       "{'name': 'text_vectorization',\n",
       " 'trainable': True,\n",
       " 'batch_input_shape': (None,),\n",
       " 'dtype': 'string',\n",
       " 'max_tokens': 35734,\n",
       " 'standardize': 'lower_and_strip_punctuation',\n",
       " 'split': 'whitespace',\n",
       " 'ngrams': None,\n",
       " 'output_mode': 'int',\n",
       " 'output_sequence_length': 392,\n",
       " 'pad_to_max_tokens': False,\n",
       " 'sparse': False,\n",
       " 'ragged': False,\n",
       " 'vocabulary': None,\n",
       " 'idf_weights': None}"
      ]
     },
     "execution_count": 34,
     "metadata": {},
     "output_type": "execute_result"
    }
   ],
   "source": [
    "#Get the config of our text vectorizer\n",
    "text_vectorizer.get_config()"
   ]
  },
  {
   "cell_type": "markdown",
   "id": "34895b3d",
   "metadata": {},
   "source": [
    "### Create custom text embedding"
   ]
  },
  {
   "cell_type": "code",
   "execution_count": 35,
   "id": "2d72d031",
   "metadata": {},
   "outputs": [],
   "source": [
    "#Create token embedding layer\n",
    "token_embed=layers.Embedding(input_dim=len(df_disneyland_rating), #length of vocabulary\n",
    "                             output_dim=128, #Note:different embedding sizes result in drastically different parameters to train\n",
    "                             mask_zero=True, #use masking to handle variable sequence lengths (save space),\n",
    "                             name='token_embedding')"
   ]
  },
  {
   "cell_type": "code",
   "execution_count": 36,
   "id": "5d1f27b2",
   "metadata": {},
   "outputs": [
    {
     "name": "stdout",
     "output_type": "stream",
     "text": [
      "Sentence before vectorization:\n",
      " it would be easy to skimp on the details, but disney is the last place you will see that! every attraction is meticulously themed down to the shoe laces on the it's a small world dolls. it's usually busy, but getting a bit pricy, but still full a happiness and magic!\n",
      "\n",
      "Sentence after vectorization (before embedding):\n",
      " [[   11    54    35   331     4 11998    20     2  1277    16    24    12\n",
      "      2   215    59    13    61    70    19   139   327    12  5860   694\n",
      "    157     4     2  5635     1    20     2    47     5   131   108  3449\n",
      "     47   642   198    16   271     5   202  3071    16   110   291     5\n",
      "   1626     3   160     0     0     0     0     0     0     0     0     0\n",
      "      0     0     0     0     0     0     0     0     0     0     0     0\n",
      "      0     0     0     0     0     0     0     0     0     0     0     0\n",
      "      0     0     0     0     0     0     0     0     0     0     0     0\n",
      "      0     0     0     0     0     0     0     0     0     0     0     0\n",
      "      0     0     0     0     0     0     0     0     0     0     0     0\n",
      "      0     0     0     0     0     0     0     0     0     0     0     0\n",
      "      0     0     0     0     0     0     0     0     0     0     0     0\n",
      "      0     0     0     0     0     0     0     0     0     0     0     0\n",
      "      0     0     0     0     0     0     0     0     0     0     0     0\n",
      "      0     0     0     0     0     0     0     0     0     0     0     0\n",
      "      0     0     0     0     0     0     0     0     0     0     0     0\n",
      "      0     0     0     0     0     0     0     0     0     0     0     0\n",
      "      0     0     0     0     0     0     0     0     0     0     0     0\n",
      "      0     0     0     0     0     0     0     0     0     0     0     0\n",
      "      0     0     0     0     0     0     0     0     0     0     0     0\n",
      "      0     0     0     0     0     0     0     0     0     0     0     0\n",
      "      0     0     0     0     0     0     0     0     0     0     0     0\n",
      "      0     0     0     0     0     0     0     0     0     0     0     0\n",
      "      0     0     0     0     0     0     0     0     0     0     0     0\n",
      "      0     0     0     0     0     0     0     0     0     0     0     0\n",
      "      0     0     0     0     0     0     0     0     0     0     0     0\n",
      "      0     0     0     0     0     0     0     0     0     0     0     0\n",
      "      0     0     0     0     0     0     0     0     0     0     0     0\n",
      "      0     0     0     0     0     0     0     0     0     0     0     0\n",
      "      0     0     0     0     0     0     0     0     0     0     0     0\n",
      "      0     0     0     0     0     0     0     0     0     0     0     0\n",
      "      0     0     0     0     0     0     0     0     0     0     0     0\n",
      "      0     0     0     0     0     0     0     0]]\n",
      "\n",
      "Sentence after embedding:\n",
      " [[[-0.00290962  0.03694487  0.04432437 ... -0.03934252 -0.0443869\n",
      "    0.02122375]\n",
      "  [-0.03494487  0.03055892 -0.00331632 ...  0.03515121 -0.02218953\n",
      "    0.032084  ]\n",
      "  [-0.00641219  0.03004726  0.02275837 ...  0.03809753  0.00746641\n",
      "   -0.01498228]\n",
      "  ...\n",
      "  [-0.02390355 -0.00794567 -0.01329075 ...  0.03518132  0.03121271\n",
      "   -0.04494655]\n",
      "  [-0.02390355 -0.00794567 -0.01329075 ...  0.03518132  0.03121271\n",
      "   -0.04494655]\n",
      "  [-0.02390355 -0.00794567 -0.01329075 ...  0.03518132  0.03121271\n",
      "   -0.04494655]]]\n",
      "\n",
      "Embedded sentence shape: (1, 392, 128)\n"
     ]
    }
   ],
   "source": [
    "#Show example embedding\n",
    "print(f\"Sentence before vectorization:\\n {target_sentence}\\n\")\n",
    "vectorized_sentence=text_vectorizer([target_sentence])\n",
    "print(f\"Sentence after vectorization (before embedding):\\n {vectorized_sentence}\\n\")\n",
    "embedded_sentence=token_embed(vectorized_sentence)\n",
    "print(f\"Sentence after embedding:\\n {embedded_sentence}\\n\")\n",
    "print(f\"Embedded sentence shape: {embedded_sentence.shape}\")"
   ]
  },
  {
   "cell_type": "markdown",
   "id": "d76c968b",
   "metadata": {},
   "source": [
    "## Creating datasets (making sure our datasets loads as fast as possible)"
   ]
  },
  {
   "cell_type": "code",
   "execution_count": 37,
   "id": "aaa1a856",
   "metadata": {},
   "outputs": [
    {
     "data": {
      "text/plain": [
       "<TensorSliceDataset element_spec=(TensorSpec(shape=(), dtype=tf.string, name=None), TensorSpec(shape=(5,), dtype=tf.float64, name=None))>"
      ]
     },
     "execution_count": 37,
     "metadata": {},
     "output_type": "execute_result"
    }
   ],
   "source": [
    "#Turn our data into TensorFlow Datasets\n",
    "train_dataset=tf.data.Dataset.from_tensor_slices((X_train[['Review_Text']].values.ravel(),train_labels_one_hot))\n",
    "test_dataset=tf.data.Dataset.from_tensor_slices((X_test[['Review_Text']].values.ravel(),test_labels_one_hot))\n",
    "\n",
    "train_dataset"
   ]
  },
  {
   "cell_type": "code",
   "execution_count": 38,
   "id": "e390a888",
   "metadata": {},
   "outputs": [
    {
     "data": {
      "text/plain": [
       "<PrefetchDataset element_spec=(TensorSpec(shape=(None,), dtype=tf.string, name=None), TensorSpec(shape=(None, 5), dtype=tf.float64, name=None))>"
      ]
     },
     "execution_count": 38,
     "metadata": {},
     "output_type": "execute_result"
    }
   ],
   "source": [
    "#Take the TensorSliceDataset's and turn them into prefected datasets\n",
    "train_dataset=train_dataset.batch(32).prefetch(tf.data.AUTOTUNE)\n",
    "test_dataset=test_dataset.batch(32).prefetch(tf.data.AUTOTUNE)\n",
    "\n",
    "train_dataset"
   ]
  },
  {
   "cell_type": "markdown",
   "id": "cc073c41",
   "metadata": {},
   "source": [
    "## Model 2 : Conv1D with token embeddings"
   ]
  },
  {
   "cell_type": "code",
   "execution_count": 39,
   "id": "431b8b51",
   "metadata": {},
   "outputs": [],
   "source": [
    "#Create 1D conv model to process sequences\n",
    "inputs=layers.Input(shape=(1,),dtype=tf.string)\n",
    "text_vectors=text_vectorizer(inputs) #vectorize text inputs\n",
    "token_embeddings=token_embed(text_vectors) #create embedding\n",
    "x=layers.Conv1D(64,kernel_size=5,padding='same',activation=\"relu\")(token_embeddings)\n",
    "x=layers.GlobalAveragePooling1D()(x) #condense he outputs of our feature vector from conv layer\n",
    "outputs=layers.Dense(num_classes,activation='softmax')(x)\n",
    "model_2=tf.keras.Model(inputs,outputs)\n",
    "\n",
    "#Compile\n",
    "model_2.compile(loss='categorical_crossentropy',\n",
    "                optimizer=tf.keras.optimizers.Adam(),\n",
    "                metrics=['accuracy'])"
   ]
  },
  {
   "cell_type": "code",
   "execution_count": 40,
   "id": "9cf65419",
   "metadata": {},
   "outputs": [
    {
     "name": "stdout",
     "output_type": "stream",
     "text": [
      "Model: \"model\"\n",
      "_________________________________________________________________\n",
      " Layer (type)                Output Shape              Param #   \n",
      "=================================================================\n",
      " input_1 (InputLayer)        [(None, 1)]               0         \n",
      "                                                                 \n",
      " text_vectorization (TextVec  (None, 392)              0         \n",
      " torization)                                                     \n",
      "                                                                 \n",
      " token_embedding (Embedding)  (None, 392, 128)         4573952   \n",
      "                                                                 \n",
      " conv1d (Conv1D)             (None, 392, 64)           41024     \n",
      "                                                                 \n",
      " global_average_pooling1d (G  (None, 64)               0         \n",
      " lobalAveragePooling1D)                                          \n",
      "                                                                 \n",
      " dense_3 (Dense)             (None, 5)                 325       \n",
      "                                                                 \n",
      "=================================================================\n",
      "Total params: 4,615,301\n",
      "Trainable params: 4,615,301\n",
      "Non-trainable params: 0\n",
      "_________________________________________________________________\n"
     ]
    }
   ],
   "source": [
    "model_2.summary()"
   ]
  },
  {
   "cell_type": "code",
   "execution_count": 41,
   "id": "81d06f66",
   "metadata": {},
   "outputs": [
    {
     "name": "stdout",
     "output_type": "stream",
     "text": [
      "Epoch 1/10\n",
      "93/93 [==============================] - 9s 71ms/step - loss: 1.2516 - accuracy: 0.5363 - val_loss: 1.1790 - val_accuracy: 0.5336\n",
      "Epoch 2/10\n",
      "93/93 [==============================] - 6s 63ms/step - loss: 1.1632 - accuracy: 0.5417 - val_loss: 1.1393 - val_accuracy: 0.5453\n",
      "Epoch 3/10\n",
      "93/93 [==============================] - 6s 62ms/step - loss: 1.1182 - accuracy: 0.5380 - val_loss: 1.0715 - val_accuracy: 0.5625\n",
      "Epoch 4/10\n",
      "93/93 [==============================] - 6s 63ms/step - loss: 1.0104 - accuracy: 0.5736 - val_loss: 0.9919 - val_accuracy: 0.5695\n",
      "Epoch 5/10\n",
      "93/93 [==============================] - 6s 62ms/step - loss: 0.9842 - accuracy: 0.5776 - val_loss: 0.9654 - val_accuracy: 0.5867\n",
      "Epoch 6/10\n",
      "93/93 [==============================] - 6s 62ms/step - loss: 0.9571 - accuracy: 0.5897 - val_loss: 0.9540 - val_accuracy: 0.5977\n",
      "Epoch 7/10\n",
      "93/93 [==============================] - 6s 62ms/step - loss: 0.9375 - accuracy: 0.6015 - val_loss: 0.9403 - val_accuracy: 0.5875\n",
      "Epoch 8/10\n",
      "93/93 [==============================] - 6s 62ms/step - loss: 0.9206 - accuracy: 0.6055 - val_loss: 0.9339 - val_accuracy: 0.5883\n",
      "Epoch 9/10\n",
      "93/93 [==============================] - 6s 62ms/step - loss: 0.8883 - accuracy: 0.6186 - val_loss: 0.9262 - val_accuracy: 0.5922\n",
      "Epoch 10/10\n",
      "93/93 [==============================] - 6s 62ms/step - loss: 0.9085 - accuracy: 0.5985 - val_loss: 0.9310 - val_accuracy: 0.6023\n"
     ]
    }
   ],
   "source": [
    "#Fit the model\n",
    "history_model_2=model_2.fit(train_dataset,\n",
    "                            steps_per_epoch=int(0.1*len(train_dataset)),\n",
    "                            epochs=10,\n",
    "                            validation_data=test_dataset,\n",
    "                            validation_steps=int(0.1*len(test_dataset))) #only validate on 10% of the batches"
   ]
  },
  {
   "cell_type": "code",
   "execution_count": 42,
   "id": "e6ac188a",
   "metadata": {},
   "outputs": [
    {
     "data": {
      "text/plain": [
       "[0.9206066727638245, 0.6171758770942688]"
      ]
     },
     "execution_count": 42,
     "metadata": {},
     "output_type": "execute_result"
    }
   ],
   "source": [
    "#Evaluate on the whole validation dataset\n",
    "model_2.evaluate(test_dataset,verbose=0)"
   ]
  },
  {
   "cell_type": "code",
   "execution_count": 43,
   "id": "2a72a8cf",
   "metadata": {},
   "outputs": [
    {
     "name": "stdout",
     "output_type": "stream",
     "text": [
      "400/400 [==============================] - 6s 14ms/step\n"
     ]
    }
   ],
   "source": [
    "#Make predictions (our model predicts prediction probability for each class)\n",
    "model_2_pred_probs=model_2.predict(test_dataset)"
   ]
  },
  {
   "cell_type": "code",
   "execution_count": 44,
   "id": "e734e0fb",
   "metadata": {},
   "outputs": [
    {
     "data": {
      "text/plain": [
       "<tf.Tensor: shape=(12797,), dtype=int64, numpy=array([4, 2, 4, ..., 3, 4, 4], dtype=int64)>"
      ]
     },
     "execution_count": 44,
     "metadata": {},
     "output_type": "execute_result"
    }
   ],
   "source": [
    "#Convert pred probs to classes\n",
    "model_2_preds=tf.argmax(model_2_pred_probs,axis=1)\n",
    "model_2_preds"
   ]
  },
  {
   "cell_type": "code",
   "execution_count": 45,
   "id": "4b45155a",
   "metadata": {},
   "outputs": [
    {
     "data": {
      "text/plain": [
       "{'accuracy': 0.617, 'precision': 0.563, 'recall': 0.617, 'f1': 0.585}"
      ]
     },
     "execution_count": 45,
     "metadata": {},
     "output_type": "execute_result"
    }
   ],
   "source": [
    "#Calculate model_2_results\n",
    "model_2_results=calculate_results(test_labels_encoded,\n",
    "                                  model_2_preds)\n",
    "model_2_results"
   ]
  },
  {
   "cell_type": "markdown",
   "id": "bb855643",
   "metadata": {},
   "source": [
    "# Recurrent Neural Networks (RNN's)"
   ]
  },
  {
   "cell_type": "markdown",
   "id": "4f45d767",
   "metadata": {},
   "source": [
    "## Model 3: LSTM"
   ]
  },
  {
   "cell_type": "code",
   "execution_count": 46,
   "id": "fb3793b3",
   "metadata": {},
   "outputs": [],
   "source": [
    "#Create an LSTM model\n",
    "from tensorflow.keras import layers\n",
    "inputs=layers.Input(shape=(1,) ,dtype='string')\n",
    "x=text_vectorizer(inputs)\n",
    "x=token_embed(x)\n",
    "x=layers.LSTM(64,return_sequences=True)(x) #When you are stacking RNN cells together,you need to set return_sequences=True\n",
    "x=layers.LSTM(64)(x)\n",
    "x=layers.Dense(64,activation='relu')(x)\n",
    "outputs=layers.Dense(num_classes,activation='softmax')(x)\n",
    "model_3=tf.keras.Model(inputs,outputs,name='model_3_LSTM')"
   ]
  },
  {
   "cell_type": "code",
   "execution_count": 47,
   "id": "7d04289f",
   "metadata": {},
   "outputs": [
    {
     "name": "stdout",
     "output_type": "stream",
     "text": [
      "Model: \"model_3_LSTM\"\n",
      "_________________________________________________________________\n",
      " Layer (type)                Output Shape              Param #   \n",
      "=================================================================\n",
      " input_2 (InputLayer)        [(None, 1)]               0         \n",
      "                                                                 \n",
      " text_vectorization (TextVec  (None, 392)              0         \n",
      " torization)                                                     \n",
      "                                                                 \n",
      " token_embedding (Embedding)  (None, 392, 128)         4573952   \n",
      "                                                                 \n",
      " lstm (LSTM)                 (None, 392, 64)           49408     \n",
      "                                                                 \n",
      " lstm_1 (LSTM)               (None, 64)                33024     \n",
      "                                                                 \n",
      " dense_4 (Dense)             (None, 64)                4160      \n",
      "                                                                 \n",
      " dense_5 (Dense)             (None, 5)                 325       \n",
      "                                                                 \n",
      "=================================================================\n",
      "Total params: 4,660,869\n",
      "Trainable params: 4,660,869\n",
      "Non-trainable params: 0\n",
      "_________________________________________________________________\n"
     ]
    }
   ],
   "source": [
    "#Get a summary\n",
    "model_3.summary()"
   ]
  },
  {
   "cell_type": "code",
   "execution_count": 48,
   "id": "d6b393c9",
   "metadata": {},
   "outputs": [
    {
     "name": "stdout",
     "output_type": "stream",
     "text": [
      "Epoch 1/10\n",
      "93/93 [==============================] - 105s 938ms/step - loss: 1.0870 - accuracy: 0.5363 - val_loss: 0.9917 - val_accuracy: 0.5773\n",
      "Epoch 2/10\n",
      "93/93 [==============================] - 81s 869ms/step - loss: 0.9454 - accuracy: 0.5880 - val_loss: 0.9489 - val_accuracy: 0.5984\n",
      "Epoch 3/10\n",
      "93/93 [==============================] - 82s 880ms/step - loss: 0.9280 - accuracy: 0.5998 - val_loss: 0.9563 - val_accuracy: 0.6109\n",
      "Epoch 4/10\n",
      "93/93 [==============================] - 82s 882ms/step - loss: 0.9096 - accuracy: 0.6058 - val_loss: 0.9452 - val_accuracy: 0.5992\n",
      "Epoch 5/10\n",
      "93/93 [==============================] - 82s 879ms/step - loss: 0.8781 - accuracy: 0.6163 - val_loss: 1.0307 - val_accuracy: 0.5891\n",
      "Epoch 6/10\n",
      "93/93 [==============================] - 81s 877ms/step - loss: 0.8871 - accuracy: 0.6230 - val_loss: 0.9519 - val_accuracy: 0.6102\n",
      "Epoch 7/10\n",
      "93/93 [==============================] - 82s 883ms/step - loss: 0.8743 - accuracy: 0.6297 - val_loss: 0.9773 - val_accuracy: 0.5992\n",
      "Epoch 8/10\n",
      "93/93 [==============================] - 81s 876ms/step - loss: 0.8814 - accuracy: 0.6240 - val_loss: 0.9065 - val_accuracy: 0.6227\n",
      "Epoch 9/10\n",
      "93/93 [==============================] - 81s 877ms/step - loss: 0.8414 - accuracy: 0.6408 - val_loss: 0.9656 - val_accuracy: 0.6008\n",
      "Epoch 10/10\n",
      "93/93 [==============================] - 84s 909ms/step - loss: 0.8955 - accuracy: 0.6038 - val_loss: 0.9473 - val_accuracy: 0.5625\n"
     ]
    }
   ],
   "source": [
    "#Compile the model\n",
    "model_3.compile(loss='categorical_crossentropy',optimizer='adam',metrics='accuracy')\n",
    "\n",
    "#Fit model_3 to the data\n",
    "history_model_3=model_3.fit(train_dataset,\n",
    "                            epochs=10,\n",
    "                            steps_per_epoch=int(0.1*len(train_dataset)),\n",
    "                            validation_data=test_dataset,\n",
    "                            validation_steps=int(0.1*len(test_dataset)))"
   ]
  },
  {
   "cell_type": "code",
   "execution_count": 49,
   "id": "b438a818",
   "metadata": {},
   "outputs": [
    {
     "name": "stdout",
     "output_type": "stream",
     "text": [
      "400/400 [==============================] - 90s 225ms/step - loss: 0.9338 - accuracy: 0.5733\n"
     ]
    },
    {
     "data": {
      "text/plain": [
       "[0.9337577223777771, 0.5732593536376953]"
      ]
     },
     "execution_count": 49,
     "metadata": {},
     "output_type": "execute_result"
    }
   ],
   "source": [
    "#Evaluate on the whole test dataset\n",
    "model_3.evaluate(test_dataset)"
   ]
  },
  {
   "cell_type": "code",
   "execution_count": 50,
   "id": "5bca0d0b",
   "metadata": {},
   "outputs": [
    {
     "name": "stdout",
     "output_type": "stream",
     "text": [
      "400/400 [==============================] - 87s 204ms/step\n"
     ]
    }
   ],
   "source": [
    "#Make predictions (our model predicts prediction probability for each class)\n",
    "model_3_pred_probs=model_3.predict(test_dataset)"
   ]
  },
  {
   "cell_type": "code",
   "execution_count": 51,
   "id": "21131608",
   "metadata": {},
   "outputs": [
    {
     "data": {
      "text/plain": [
       "<tf.Tensor: shape=(12797,), dtype=int64, numpy=array([4, 2, 4, ..., 3, 4, 4], dtype=int64)>"
      ]
     },
     "execution_count": 51,
     "metadata": {},
     "output_type": "execute_result"
    }
   ],
   "source": [
    "#Convert pred probs to classes\n",
    "model_3_preds=tf.argmax(model_3_pred_probs,axis=1)\n",
    "model_3_preds"
   ]
  },
  {
   "cell_type": "code",
   "execution_count": 52,
   "id": "1b076129",
   "metadata": {},
   "outputs": [
    {
     "data": {
      "text/plain": [
       "{'accuracy': 0.573, 'precision': 0.576, 'recall': 0.573, 'f1': 0.57}"
      ]
     },
     "execution_count": 52,
     "metadata": {},
     "output_type": "execute_result"
    }
   ],
   "source": [
    "#Calculate model_3_results\n",
    "model_3_results=calculate_results(test_labels_encoded,\n",
    "                                  model_3_preds)\n",
    "model_3_results"
   ]
  },
  {
   "cell_type": "markdown",
   "id": "d742a22d",
   "metadata": {},
   "source": [
    "## Model 4 : GRU"
   ]
  },
  {
   "cell_type": "code",
   "execution_count": 53,
   "id": "1d79725e",
   "metadata": {},
   "outputs": [],
   "source": [
    "#Build an RNN using the GRU cell\n",
    "from tensorflow.keras import layers\n",
    "inputs=layers.Input(shape=(1,) , dtype=tf.string)\n",
    "x=text_vectorizer(inputs)\n",
    "x=token_embed(x)\n",
    "x=layers.GRU(128,return_sequences=True)(x)\n",
    "x=layers.GRU(64,return_sequences=True)(x)\n",
    "x=layers.Dense(32,activation='relu')(x)\n",
    "x=layers.GlobalAveragePooling1D()(x)\n",
    "outputs=layers.Dense(num_classes,activation='softmax')(x)\n",
    "model_4=tf.keras.Model(inputs,outputs,name='model_4_GRU')"
   ]
  },
  {
   "cell_type": "code",
   "execution_count": 54,
   "id": "1d323e81",
   "metadata": {},
   "outputs": [
    {
     "name": "stdout",
     "output_type": "stream",
     "text": [
      "Model: \"model_4_GRU\"\n",
      "_________________________________________________________________\n",
      " Layer (type)                Output Shape              Param #   \n",
      "=================================================================\n",
      " input_3 (InputLayer)        [(None, 1)]               0         \n",
      "                                                                 \n",
      " text_vectorization (TextVec  (None, 392)              0         \n",
      " torization)                                                     \n",
      "                                                                 \n",
      " token_embedding (Embedding)  (None, 392, 128)         4573952   \n",
      "                                                                 \n",
      " gru (GRU)                   (None, 392, 128)          99072     \n",
      "                                                                 \n",
      " gru_1 (GRU)                 (None, 392, 64)           37248     \n",
      "                                                                 \n",
      " dense_6 (Dense)             (None, 392, 32)           2080      \n",
      "                                                                 \n",
      " global_average_pooling1d_1   (None, 32)               0         \n",
      " (GlobalAveragePooling1D)                                        \n",
      "                                                                 \n",
      " dense_7 (Dense)             (None, 5)                 165       \n",
      "                                                                 \n",
      "=================================================================\n",
      "Total params: 4,712,517\n",
      "Trainable params: 4,712,517\n",
      "Non-trainable params: 0\n",
      "_________________________________________________________________\n"
     ]
    }
   ],
   "source": [
    "model_4.summary()"
   ]
  },
  {
   "cell_type": "code",
   "execution_count": 55,
   "id": "151a4347",
   "metadata": {},
   "outputs": [
    {
     "name": "stdout",
     "output_type": "stream",
     "text": [
      "Epoch 1/10\n",
      "93/93 [==============================] - 111s 1s/step - loss: 1.0017 - accuracy: 0.5729 - val_loss: 0.9690 - val_accuracy: 0.5688\n",
      "Epoch 2/10\n",
      "93/93 [==============================] - 89s 953ms/step - loss: 0.8830 - accuracy: 0.6112 - val_loss: 0.9445 - val_accuracy: 0.5836\n",
      "Epoch 3/10\n",
      "93/93 [==============================] - 89s 954ms/step - loss: 0.8442 - accuracy: 0.6408 - val_loss: 0.9333 - val_accuracy: 0.5789\n",
      "Epoch 4/10\n",
      "93/93 [==============================] - 89s 956ms/step - loss: 0.8084 - accuracy: 0.6539 - val_loss: 0.9178 - val_accuracy: 0.6148\n",
      "Epoch 5/10\n",
      "93/93 [==============================] - 89s 963ms/step - loss: 0.8216 - accuracy: 0.6562 - val_loss: 0.9159 - val_accuracy: 0.6187\n",
      "Epoch 6/10\n",
      "93/93 [==============================] - 89s 963ms/step - loss: 0.7905 - accuracy: 0.6573 - val_loss: 0.9383 - val_accuracy: 0.6289\n",
      "Epoch 7/10\n",
      "93/93 [==============================] - 89s 962ms/step - loss: 0.7876 - accuracy: 0.6653 - val_loss: 0.9015 - val_accuracy: 0.6195\n",
      "Epoch 8/10\n",
      "93/93 [==============================] - 90s 968ms/step - loss: 0.7919 - accuracy: 0.6596 - val_loss: 0.9159 - val_accuracy: 0.6062\n",
      "Epoch 9/10\n",
      "93/93 [==============================] - 89s 958ms/step - loss: 0.7529 - accuracy: 0.6687 - val_loss: 0.9157 - val_accuracy: 0.6211\n",
      "Epoch 10/10\n",
      "93/93 [==============================] - 89s 955ms/step - loss: 0.7839 - accuracy: 0.6526 - val_loss: 0.9389 - val_accuracy: 0.5945\n"
     ]
    }
   ],
   "source": [
    "#Compile the model\n",
    "model_4.compile(loss='categorical_crossentropy',optimizer='adam',metrics='accuracy')\n",
    "\n",
    "#Fit model_4 to the data\n",
    "history_model_4=model_4.fit(train_dataset,\n",
    "                            epochs=10,\n",
    "                            steps_per_epoch=int(0.1*len(train_dataset)),\n",
    "                            validation_data=test_dataset,\n",
    "                            validation_steps=int(0.1*len(test_dataset)))"
   ]
  },
  {
   "cell_type": "code",
   "execution_count": 56,
   "id": "0d044558",
   "metadata": {},
   "outputs": [
    {
     "name": "stdout",
     "output_type": "stream",
     "text": [
      "400/400 [==============================] - 92s 229ms/step - loss: 0.9117 - accuracy: 0.6065\n"
     ]
    },
    {
     "data": {
      "text/plain": [
       "[0.9117035269737244, 0.6065484285354614]"
      ]
     },
     "execution_count": 56,
     "metadata": {},
     "output_type": "execute_result"
    }
   ],
   "source": [
    "#Evaluate on the whole test dataset\n",
    "model_4.evaluate(test_dataset)"
   ]
  },
  {
   "cell_type": "code",
   "execution_count": 57,
   "id": "13cf9bf5",
   "metadata": {},
   "outputs": [
    {
     "name": "stdout",
     "output_type": "stream",
     "text": [
      "400/400 [==============================] - 96s 224ms/step\n"
     ]
    }
   ],
   "source": [
    "#Make predictions (our model predicts prediction probability for each class)\n",
    "model_4_pred_probs=model_4.predict(test_dataset)"
   ]
  },
  {
   "cell_type": "code",
   "execution_count": 58,
   "id": "c0eb478a",
   "metadata": {},
   "outputs": [
    {
     "data": {
      "text/plain": [
       "<tf.Tensor: shape=(12797,), dtype=int64, numpy=array([4, 2, 4, ..., 3, 4, 4], dtype=int64)>"
      ]
     },
     "execution_count": 58,
     "metadata": {},
     "output_type": "execute_result"
    }
   ],
   "source": [
    "#Convert pred probs to classes\n",
    "model_4_preds=tf.argmax(model_4_pred_probs,axis=1)\n",
    "model_4_preds"
   ]
  },
  {
   "cell_type": "code",
   "execution_count": 59,
   "id": "af992ce6",
   "metadata": {},
   "outputs": [
    {
     "data": {
      "text/plain": [
       "{'accuracy': 0.607, 'precision': 0.61, 'recall': 0.607, 'f1': 0.597}"
      ]
     },
     "execution_count": 59,
     "metadata": {},
     "output_type": "execute_result"
    }
   ],
   "source": [
    "#Calculate model_4_results\n",
    "model_4_results=calculate_results(test_labels_encoded,\n",
    "                                  model_4_preds)\n",
    "model_4_results"
   ]
  },
  {
   "cell_type": "markdown",
   "id": "126778c5",
   "metadata": {},
   "source": [
    "## Model 5 : Bidirectional RNN"
   ]
  },
  {
   "cell_type": "code",
   "execution_count": 60,
   "id": "0fcc6b18",
   "metadata": {},
   "outputs": [],
   "source": [
    "#Build a bidirectional RNN in TensorFlow\n",
    "from tensorflow.keras import layers\n",
    "inputs=layers.Input(shape=(1,),dtype='string')\n",
    "x=text_vectorizer(inputs)\n",
    "x=token_embed(x)\n",
    "x=layers.Bidirectional(layers.LSTM(64,return_sequences=True))(x)\n",
    "x=layers.Bidirectional(layers.GRU(64))(x)\n",
    "outputs=layers.Dense(num_classes,activation='softmax')(x)\n",
    "model_5=tf.keras.Model(inputs,outputs,name='model_5_bidirectional')"
   ]
  },
  {
   "cell_type": "code",
   "execution_count": 61,
   "id": "aefd0ba0",
   "metadata": {},
   "outputs": [
    {
     "name": "stdout",
     "output_type": "stream",
     "text": [
      "Model: \"model_5_bidirectional\"\n",
      "_________________________________________________________________\n",
      " Layer (type)                Output Shape              Param #   \n",
      "=================================================================\n",
      " input_4 (InputLayer)        [(None, 1)]               0         \n",
      "                                                                 \n",
      " text_vectorization (TextVec  (None, 392)              0         \n",
      " torization)                                                     \n",
      "                                                                 \n",
      " token_embedding (Embedding)  (None, 392, 128)         4573952   \n",
      "                                                                 \n",
      " bidirectional (Bidirectiona  (None, 392, 128)         98816     \n",
      " l)                                                              \n",
      "                                                                 \n",
      " bidirectional_1 (Bidirectio  (None, 128)              74496     \n",
      " nal)                                                            \n",
      "                                                                 \n",
      " dense_8 (Dense)             (None, 5)                 645       \n",
      "                                                                 \n",
      "=================================================================\n",
      "Total params: 4,747,909\n",
      "Trainable params: 4,747,909\n",
      "Non-trainable params: 0\n",
      "_________________________________________________________________\n"
     ]
    }
   ],
   "source": [
    "model_5.summary()"
   ]
  },
  {
   "cell_type": "code",
   "execution_count": 62,
   "id": "9ac320dd",
   "metadata": {},
   "outputs": [
    {
     "name": "stdout",
     "output_type": "stream",
     "text": [
      "Epoch 1/10\n",
      "93/93 [==============================] - 181s 2s/step - loss: 0.9596 - accuracy: 0.5907 - val_loss: 1.0142 - val_accuracy: 0.5820\n",
      "Epoch 2/10\n",
      "93/93 [==============================] - 137s 1s/step - loss: 0.8385 - accuracy: 0.6310 - val_loss: 0.9424 - val_accuracy: 0.5969\n",
      "Epoch 3/10\n",
      "93/93 [==============================] - 138s 1s/step - loss: 0.7941 - accuracy: 0.6663 - val_loss: 0.9672 - val_accuracy: 0.5602\n",
      "Epoch 4/10\n",
      "93/93 [==============================] - 138s 1s/step - loss: 0.7742 - accuracy: 0.6576 - val_loss: 0.9453 - val_accuracy: 0.6070\n",
      "Epoch 5/10\n",
      "93/93 [==============================] - 138s 1s/step - loss: 0.7734 - accuracy: 0.6683 - val_loss: 0.9668 - val_accuracy: 0.5930\n",
      "Epoch 6/10\n",
      "93/93 [==============================] - 139s 2s/step - loss: 0.7249 - accuracy: 0.6952 - val_loss: 0.9971 - val_accuracy: 0.6234\n",
      "Epoch 7/10\n",
      "93/93 [==============================] - 140s 2s/step - loss: 0.7181 - accuracy: 0.7097 - val_loss: 0.9302 - val_accuracy: 0.5953\n",
      "Epoch 8/10\n",
      "93/93 [==============================] - 140s 2s/step - loss: 0.7245 - accuracy: 0.6946 - val_loss: 0.9553 - val_accuracy: 0.6297\n",
      "Epoch 9/10\n",
      "93/93 [==============================] - 138s 1s/step - loss: 0.6797 - accuracy: 0.7167 - val_loss: 0.9978 - val_accuracy: 0.6102\n",
      "Epoch 10/10\n",
      "93/93 [==============================] - 138s 1s/step - loss: 0.7099 - accuracy: 0.6983 - val_loss: 0.9422 - val_accuracy: 0.5984\n"
     ]
    }
   ],
   "source": [
    "#Compile the model\n",
    "model_5.compile(loss='categorical_crossentropy',optimizer='adam',metrics='accuracy')\n",
    "\n",
    "#Fit model_5 to the data\n",
    "history_model_5=model_5.fit(train_dataset,\n",
    "                            epochs=10,\n",
    "                            steps_per_epoch=int(0.1*len(train_dataset)),\n",
    "                            validation_data=test_dataset,\n",
    "                            validation_steps=int(0.1*len(test_dataset)))"
   ]
  },
  {
   "cell_type": "code",
   "execution_count": 63,
   "id": "a737b453",
   "metadata": {},
   "outputs": [
    {
     "name": "stdout",
     "output_type": "stream",
     "text": [
      "400/400 [==============================] - 148s 369ms/step - loss: 0.9151 - accuracy: 0.6089\n"
     ]
    },
    {
     "data": {
      "text/plain": [
       "[0.9150882363319397, 0.6088927388191223]"
      ]
     },
     "execution_count": 63,
     "metadata": {},
     "output_type": "execute_result"
    }
   ],
   "source": [
    "#Evaluate on the whole test dataset\n",
    "model_5.evaluate(test_dataset)"
   ]
  },
  {
   "cell_type": "code",
   "execution_count": 64,
   "id": "37f67121",
   "metadata": {},
   "outputs": [
    {
     "name": "stdout",
     "output_type": "stream",
     "text": [
      "400/400 [==============================] - 166s 387ms/step\n"
     ]
    }
   ],
   "source": [
    "#Make predictions (our model predicts prediction probability for each class)\n",
    "model_5_pred_probs=model_5.predict(test_dataset)"
   ]
  },
  {
   "cell_type": "code",
   "execution_count": 65,
   "id": "37822479",
   "metadata": {},
   "outputs": [
    {
     "data": {
      "text/plain": [
       "<tf.Tensor: shape=(12797,), dtype=int64, numpy=array([4, 2, 3, ..., 3, 4, 4], dtype=int64)>"
      ]
     },
     "execution_count": 65,
     "metadata": {},
     "output_type": "execute_result"
    }
   ],
   "source": [
    "#Convert pred probs to classes\n",
    "model_5_preds=tf.argmax(model_5_pred_probs,axis=1)\n",
    "model_5_preds"
   ]
  },
  {
   "cell_type": "code",
   "execution_count": 66,
   "id": "0d5205ac",
   "metadata": {},
   "outputs": [
    {
     "data": {
      "text/plain": [
       "{'accuracy': 0.609, 'precision': 0.595, 'recall': 0.609, 'f1': 0.599}"
      ]
     },
     "execution_count": 66,
     "metadata": {},
     "output_type": "execute_result"
    }
   ],
   "source": [
    "#Calculate model_5_results\n",
    "model_5_results=calculate_results(test_labels_encoded,\n",
    "                                  model_5_preds)\n",
    "model_5_results"
   ]
  },
  {
   "cell_type": "markdown",
   "id": "8db11c98",
   "metadata": {},
   "source": [
    "## Model 6 : Feature Extraction with pretrained token embeddings"
   ]
  },
  {
   "cell_type": "code",
   "execution_count": 67,
   "id": "af9a2d76",
   "metadata": {},
   "outputs": [],
   "source": [
    "#Download pretrained TensorFlow Hub USE\n",
    "import tensorflow_hub as hub\n",
    "tf_hub_embedding_layer=hub.KerasLayer(\"https://tfhub.dev/google/universal-sentence-encoder/4\",\n",
    "                                      trainable=False,\n",
    "                                      name='universal_sentence_encoder')"
   ]
  },
  {
   "cell_type": "code",
   "execution_count": 70,
   "id": "ba9c6963",
   "metadata": {},
   "outputs": [
    {
     "name": "stdout",
     "output_type": "stream",
     "text": [
      "Random sentence:\n",
      " wow,it was great...rides better that adventure at disneyland...enjoy the scenery..love the people real nice, short wait on lines..was not able to see the show..but parking was reasonable and food was reasonable.\n",
      "Sentence after embedding:\n",
      " [-8.11884925e-02 -2.51630973e-02  3.33815478e-02  2.62032379e-03\n",
      " -2.83748228e-02  5.27751185e-02  2.40395740e-02 -2.00630119e-03\n",
      "  3.18720080e-02 -8.35188925e-02  1.15976362e-02  5.32863522e-03\n",
      " -1.74029209e-02  7.25734532e-02 -3.29529233e-02 -6.91806781e-04\n",
      "  1.17168939e-02  6.45996556e-02  3.73514220e-02  3.72216254e-02\n",
      " -6.26691058e-03  2.61194352e-02 -2.09682640e-02 -1.84117090e-02\n",
      "  8.54854379e-03  6.95208982e-02 -4.43292484e-02 -7.65315199e-04\n",
      " -5.53889759e-02 -6.10285364e-02 -4.47098799e-02  1.78790968e-02\n",
      "  3.26321907e-02  3.58800008e-03  1.23296846e-02 -4.42835540e-02\n",
      "  6.62914068e-02 -1.53090777e-02 -4.54238802e-02 -1.97393969e-02\n",
      "  2.99966708e-02 -3.42303552e-02  3.99728417e-02  2.14288514e-02\n",
      " -7.85056874e-02  1.85892135e-02  1.76980589e-02  3.56988646e-02\n",
      " -1.28699336e-02 -4.75785024e-02  2.83868760e-02 -3.81182879e-02\n",
      "  4.96175662e-02 -4.26977500e-02  5.52631635e-03  3.65155190e-02\n",
      " -8.81753489e-03  3.08270324e-02  4.54690978e-02  1.74956396e-02\n",
      "  6.30179197e-02 -4.25202996e-02 -5.95501699e-02 -8.12430754e-02\n",
      " -5.12679387e-03  5.38539737e-02 -3.13045345e-02 -8.47951323e-02\n",
      "  6.27205148e-02 -4.31962349e-02  1.62003320e-02 -4.90762703e-02\n",
      "  3.94689068e-02  1.62873697e-02  2.13871188e-02  2.76591145e-02\n",
      " -3.92287225e-02  4.06910479e-02  5.22935018e-02 -2.41646487e-02\n",
      " -7.15563865e-03 -1.97566318e-04 -1.07039716e-02  4.75848243e-02\n",
      " -7.69959437e-03  4.17508334e-02  8.01764503e-02  2.08933875e-02\n",
      " -7.17481747e-02 -6.90672398e-02  4.54044268e-02 -1.15627656e-02\n",
      " -8.12024251e-02 -1.25121390e-02  7.31809959e-02  3.67265265e-03\n",
      "  5.86327836e-02 -4.66582030e-02 -5.34401573e-02  2.91124694e-02\n",
      " -4.09807749e-02  7.52698677e-03 -3.25803161e-02  9.30571463e-03\n",
      "  2.02173498e-02 -1.48989009e-02  1.07387276e-02 -4.36140411e-02\n",
      " -6.47827163e-02  5.83173893e-02  4.06474210e-02 -2.77330205e-02\n",
      " -1.69426631e-02 -3.07710133e-02 -4.84806346e-03 -4.09732535e-02\n",
      "  4.67131361e-02  3.62096052e-03 -1.95202269e-02  2.58522965e-02\n",
      " -3.00568668e-03 -2.03673579e-02  7.81796575e-02  2.92741675e-02\n",
      "  5.36238588e-02  2.90815020e-03  4.20079678e-02 -6.36125775e-03\n",
      "  4.06697951e-02 -1.19095938e-02  2.56234929e-02 -1.89619716e-02\n",
      "  2.35099494e-02 -3.02857794e-02  2.72506755e-02  1.51055101e-02\n",
      "  6.68477863e-02  2.84480285e-02  2.34395079e-02  5.54302298e-02\n",
      " -4.76641282e-02  1.04441896e-01 -4.48194183e-02  6.07463531e-02\n",
      " -7.18797967e-02 -1.30193809e-03 -1.48424022e-02 -2.44077500e-02\n",
      " -7.06222579e-02  1.48840267e-02 -6.19115354e-03 -2.93435138e-02\n",
      " -2.54347008e-02  1.81794744e-02 -1.47979548e-02  3.01598129e-03\n",
      " -3.78940888e-02  1.19532300e-02 -2.69829817e-02  5.06340479e-03\n",
      "  3.85395298e-03 -3.42626460e-02  6.12894930e-02 -4.56386209e-02\n",
      "  5.90575784e-02  5.34743220e-02  1.06078170e-01 -3.65145020e-02\n",
      " -8.79574008e-03  6.71800077e-02 -3.12985294e-02 -6.19059987e-02\n",
      " -7.31028169e-02 -1.28366873e-02 -8.19310844e-02  2.28980351e-02\n",
      " -3.58365551e-02 -5.04762083e-02 -7.22408667e-03  2.92268060e-02\n",
      " -5.09924367e-02 -2.17078775e-02  5.97743094e-02 -4.78861108e-02\n",
      " -9.59156547e-03  2.86887959e-02 -3.88099886e-02 -3.28137912e-02\n",
      " -5.01099974e-03  5.69306277e-02  5.08342944e-02 -6.57031685e-02\n",
      "  7.17222691e-02  6.55478938e-03  3.46825784e-03 -7.11499229e-02\n",
      "  2.57235412e-02 -3.23922895e-02  2.70302966e-02  4.81542684e-02\n",
      " -1.72362365e-02 -9.90443025e-03  3.04906052e-02  3.22848372e-02\n",
      "  8.76931250e-02 -7.68163381e-03  5.51450513e-02  2.83982381e-02\n",
      " -2.55239978e-02 -6.44279867e-02 -3.12388744e-02 -3.83014977e-02\n",
      " -1.58329718e-02  4.31521609e-02 -7.23473877e-02 -1.26556307e-02\n",
      " -2.55518779e-02  5.34637133e-03 -3.97363007e-02 -8.06660801e-02\n",
      "  7.86222285e-04  1.05462670e-02  3.64542287e-03 -4.16683257e-02\n",
      " -4.77468111e-02 -1.11146998e-02 -6.96255490e-02  7.18305185e-02\n",
      " -1.73723809e-02  4.47645597e-02  6.22438677e-02 -6.47526383e-02\n",
      " -4.16187011e-02 -1.01026244e-01  2.41007246e-02 -2.75438968e-02\n",
      " -2.36592926e-02 -3.29216057e-03 -6.65706918e-02  4.27430496e-02\n",
      "  2.18281057e-02  8.44294298e-03  2.49493346e-02 -7.33732507e-02\n",
      "  3.29148537e-03 -2.08128877e-02  4.93468493e-02  4.80710864e-02\n",
      " -9.63193327e-02  4.92374264e-02  8.89171008e-03  6.09144866e-02\n",
      "  5.03492653e-02  2.69641727e-02 -1.59374774e-02 -4.81450260e-02\n",
      "  8.80330205e-02  1.05785027e-01  6.38334602e-02  3.69795226e-02\n",
      "  4.18807678e-02  8.65412205e-02  3.71890003e-03 -6.46886379e-02\n",
      " -4.16481048e-02  9.20249056e-03 -2.58312169e-02  6.88697174e-02\n",
      "  6.12580143e-02 -2.65889503e-02 -3.95518392e-02  6.71562627e-02\n",
      "  6.03313856e-02  2.60770023e-02  1.72683671e-02  5.93598969e-02\n",
      " -1.79697741e-02  1.21992500e-02 -4.04359102e-02 -6.74978122e-02\n",
      "  9.35012754e-03 -4.27563153e-02  1.23093948e-02 -2.72830483e-02\n",
      "  5.46475686e-02 -5.23490869e-02 -1.76244471e-02  5.68837374e-02\n",
      " -1.72743555e-02  1.49938595e-02 -5.80949485e-02  1.02376878e-01\n",
      " -2.14433577e-02  2.34960355e-02  9.37715769e-02 -2.47504376e-02\n",
      " -6.72728047e-02 -7.82419927e-03 -5.05286902e-02  1.03596784e-02\n",
      "  7.23599866e-02  2.53345761e-02  4.11149822e-02 -1.83418281e-02\n",
      "  3.87290828e-02  1.11790290e-02  4.88750078e-02 -7.34114051e-02\n",
      "  1.42959924e-02  3.07641309e-02 -1.19740963e-02 -3.27499025e-02\n",
      "  1.92863327e-02  4.60364372e-02 -5.97771374e-04  1.85877401e-02\n",
      " -6.37000054e-02 -7.28117600e-02  3.96406986e-02 -2.17855107e-02\n",
      " -5.11317886e-02 -6.52408507e-03  5.72681939e-03  1.00280193e-03\n",
      " -3.54926139e-02 -8.68957713e-02  2.25087032e-02  1.00417288e-04\n",
      "  9.65120271e-03 -1.56103186e-02  6.29207715e-02  3.10949553e-02\n",
      " -5.15958332e-02  8.90824720e-02  3.12370770e-02 -7.44815245e-02\n",
      " -6.84367940e-02 -7.05333054e-02 -1.49994604e-02  2.56535318e-02\n",
      " -9.70235467e-03 -4.02478836e-02 -1.99363474e-02  7.48645607e-03\n",
      "  3.39597575e-02 -6.04421087e-02  7.45656043e-02 -4.57369797e-02\n",
      " -4.06158268e-02 -6.22373596e-02 -2.37685237e-02  3.38545106e-02\n",
      " -3.80818397e-02 -2.87596006e-02 -5.04916385e-02  5.01647480e-02\n",
      " -9.87735465e-02  4.63836044e-02 -4.78920862e-02 -2.43931562e-02\n",
      " -5.29916026e-02 -6.64210767e-02  7.59752989e-02 -5.00842221e-02\n",
      "  8.15944746e-03 -3.05711795e-02  1.72513463e-02  8.43104813e-03\n",
      "  6.19608164e-02 -5.97887225e-02  4.15090006e-03 -3.40789706e-02\n",
      " -4.40517999e-02  4.30834368e-02  1.64066441e-02  2.55497582e-02\n",
      " -3.28847170e-02 -7.33195916e-02 -7.44063407e-02  7.18321360e-04\n",
      "  5.55073172e-02  1.86319333e-02 -1.73354410e-02 -1.99461989e-02\n",
      " -8.35072063e-03 -7.15489611e-02  5.23865521e-02  1.21634863e-02\n",
      " -7.20767304e-02 -3.21268812e-02  4.98483814e-02  6.11574762e-02\n",
      "  6.37889430e-02 -1.31425550e-02 -2.45144963e-03 -5.30030765e-02\n",
      "  5.24063073e-02 -5.85829057e-02  6.97106635e-03 -1.08826660e-01\n",
      " -1.96145996e-02  8.52390472e-03  6.48304075e-02 -6.03302792e-02\n",
      "  3.39306891e-02 -1.80034544e-02  4.99503389e-02  2.89208405e-02\n",
      " -1.41523518e-02  3.13213840e-02 -1.69785414e-02  1.70845147e-02\n",
      "  1.14422189e-02 -7.77755305e-02 -1.34781552e-02  3.41299027e-02\n",
      " -2.02052481e-02  2.98749562e-02  3.08629815e-02  5.64837568e-02\n",
      "  7.09539279e-02 -5.76480627e-02  5.09186834e-02 -1.48880612e-02\n",
      " -1.20561915e-02  2.76061110e-02  2.90104654e-02 -5.66675253e-02\n",
      " -5.60831018e-02  1.89295821e-02  4.79715224e-03  7.22195953e-03\n",
      " -2.05305498e-03  8.84512588e-02 -3.92954461e-02  2.44297627e-02\n",
      "  9.16895550e-03  1.75732598e-02 -2.09502354e-02  1.91025306e-02\n",
      " -2.17980072e-02 -3.34595628e-02 -5.58003457e-03  4.34622392e-02\n",
      " -1.17403083e-02 -3.69068384e-02 -4.88732085e-02  3.86814177e-02\n",
      "  5.38890250e-02  2.77350210e-02 -6.43396378e-02  4.21541138e-03\n",
      "  6.14544041e-02 -1.73892584e-02 -1.94418132e-02  3.70806381e-02\n",
      " -5.80661930e-04 -1.29226120e-02 -3.32102999e-02  5.74491359e-03\n",
      " -6.48241118e-02 -6.12926036e-02  3.06159612e-02 -5.83247840e-02\n",
      "  2.66693048e-02  3.90782133e-02 -2.72590872e-02  4.97892238e-02\n",
      "  3.22336145e-02 -2.51566842e-02 -3.25927846e-02 -4.21727076e-02\n",
      "  2.44215131e-02  4.52333502e-02  7.01647773e-02  3.68693434e-02\n",
      "  6.41360432e-02 -1.23420823e-02  9.97451842e-02  5.42681441e-02\n",
      " -4.19354113e-03  2.38865651e-02  3.87406871e-02 -6.45388812e-02\n",
      "  1.92751158e-02 -8.90397429e-02 -3.14853154e-02 -1.81877299e-03\n",
      " -9.78420079e-02 -5.03109843e-02  3.97806652e-02  4.69710529e-02\n",
      " -3.67151350e-02 -5.65256178e-02 -2.63611097e-02  6.21267129e-03\n",
      " -7.03392327e-02  1.50180059e-02  6.67315815e-03 -5.87137118e-02\n",
      "  4.89637330e-02 -1.15925437e-02 -5.41627929e-02 -4.45724167e-02\n",
      "  7.09625855e-02  6.30369186e-02 -2.26098821e-02 -5.19297794e-02\n",
      " -5.88878132e-02 -1.25767207e-02  5.40851429e-02 -4.50857431e-02]\n",
      "Length of sentence embedding: 512\n"
     ]
    }
   ],
   "source": [
    "#Test out the pretrained embedding on a random sentence\n",
    "random_train_sentence=random.choice(X_train[['Review_Text']].values.ravel())\n",
    "print(f\"Random sentence:\\n {random_train_sentence}\")\n",
    "use_embedded_sentence=tf_hub_embedding_layer([random_train_sentence])\n",
    "print(f\"Sentence after embedding:\\n {use_embedded_sentence[0]}\")\n",
    "print(f\"Length of sentence embedding: {len(use_embedded_sentence[0])}\")"
   ]
  },
  {
   "cell_type": "markdown",
   "id": "550e9a0d",
   "metadata": {},
   "source": [
    "### Building and fitting an NLP feature extraction model using pretrained embeddings from TensorFlow Hub"
   ]
  },
  {
   "cell_type": "code",
   "execution_count": 73,
   "id": "3d63fb6d",
   "metadata": {},
   "outputs": [],
   "source": [
    "#Define feature extraction model using TF Hub Layer\n",
    "inputs=layers.Input(shape=[],dtype=tf.string)\n",
    "pretrained_embedding=tf_hub_embedding_layer(inputs) #tokenize text and create embedding of each sequence (512 long vector)\n",
    "x=layers.Dense(128,activation=\"relu\")(pretrained_embedding)\n",
    "outputs=layers.Dense(num_classes,activation='softmax')(x) #create the output layer\n",
    "model_6=tf.keras.Model(inputs=inputs,\n",
    "                       outputs=outputs,\n",
    "                       name='model_2_USE_feature_extractor')\n",
    "\n",
    "#Compile the model\n",
    "model_6.compile(loss='categorical_crossentropy',\n",
    "                optimizer=tf.keras.optimizers.Adam(),\n",
    "                metrics=['accuracy'])"
   ]
  },
  {
   "cell_type": "code",
   "execution_count": 74,
   "id": "4c2e5d5a",
   "metadata": {},
   "outputs": [
    {
     "name": "stdout",
     "output_type": "stream",
     "text": [
      "Model: \"model_2_USE_feature_extractor\"\n",
      "_________________________________________________________________\n",
      " Layer (type)                Output Shape              Param #   \n",
      "=================================================================\n",
      " input_8 (InputLayer)        [(None,)]                 0         \n",
      "                                                                 \n",
      " universal_sentence_encoder   (None, 512)              256797824 \n",
      " (KerasLayer)                                                    \n",
      "                                                                 \n",
      " dense_12 (Dense)            (None, 128)               65664     \n",
      "                                                                 \n",
      " dense_13 (Dense)            (None, 5)                 645       \n",
      "                                                                 \n",
      "=================================================================\n",
      "Total params: 256,864,133\n",
      "Trainable params: 66,309\n",
      "Non-trainable params: 256,797,824\n",
      "_________________________________________________________________\n"
     ]
    }
   ],
   "source": [
    "model_6.summary()"
   ]
  },
  {
   "cell_type": "code",
   "execution_count": 75,
   "id": "9de7cd64",
   "metadata": {},
   "outputs": [
    {
     "name": "stdout",
     "output_type": "stream",
     "text": [
      "Epoch 1/10\n",
      "93/93 [==============================] - 14s 89ms/step - loss: 1.1886 - accuracy: 0.5376 - val_loss: 1.0628 - val_accuracy: 0.5367\n",
      "Epoch 2/10\n",
      "93/93 [==============================] - 7s 74ms/step - loss: 1.0098 - accuracy: 0.5736 - val_loss: 0.9661 - val_accuracy: 0.5938\n",
      "Epoch 3/10\n",
      "93/93 [==============================] - 7s 75ms/step - loss: 0.9662 - accuracy: 0.5682 - val_loss: 0.9272 - val_accuracy: 0.6039\n",
      "Epoch 4/10\n",
      "93/93 [==============================] - 7s 72ms/step - loss: 0.9257 - accuracy: 0.5958 - val_loss: 0.9084 - val_accuracy: 0.6102\n",
      "Epoch 5/10\n",
      "93/93 [==============================] - 6s 69ms/step - loss: 0.9282 - accuracy: 0.5877 - val_loss: 0.9003 - val_accuracy: 0.6156\n",
      "Epoch 6/10\n",
      "93/93 [==============================] - 7s 71ms/step - loss: 0.9139 - accuracy: 0.6082 - val_loss: 0.8897 - val_accuracy: 0.6086\n",
      "Epoch 7/10\n",
      "93/93 [==============================] - 7s 71ms/step - loss: 0.8860 - accuracy: 0.6079 - val_loss: 0.8883 - val_accuracy: 0.6141\n",
      "Epoch 8/10\n",
      "93/93 [==============================] - 6s 66ms/step - loss: 0.8927 - accuracy: 0.6126 - val_loss: 0.8794 - val_accuracy: 0.6266\n",
      "Epoch 9/10\n",
      "93/93 [==============================] - 7s 74ms/step - loss: 0.8612 - accuracy: 0.6166 - val_loss: 0.8793 - val_accuracy: 0.6148\n",
      "Epoch 10/10\n",
      "93/93 [==============================] - 6s 69ms/step - loss: 0.8914 - accuracy: 0.6099 - val_loss: 0.8837 - val_accuracy: 0.6102\n"
     ]
    }
   ],
   "source": [
    "#Fit model_6 to the data\n",
    "history_model_6=model_6.fit(train_dataset,\n",
    "                            epochs=10,\n",
    "                            steps_per_epoch=int(0.1*len(train_dataset)),\n",
    "                            validation_data=test_dataset,\n",
    "                            validation_steps=int(0.1*len(test_dataset)))"
   ]
  },
  {
   "cell_type": "code",
   "execution_count": 76,
   "id": "2f003304",
   "metadata": {},
   "outputs": [
    {
     "name": "stdout",
     "output_type": "stream",
     "text": [
      "400/400 [==============================] - 21s 51ms/step - loss: 0.8865 - accuracy: 0.6082\n"
     ]
    },
    {
     "data": {
      "text/plain": [
       "[0.8865395784378052, 0.6081894040107727]"
      ]
     },
     "execution_count": 76,
     "metadata": {},
     "output_type": "execute_result"
    }
   ],
   "source": [
    "#Evaluate on the whole test dataset\n",
    "model_6.evaluate(test_dataset)"
   ]
  },
  {
   "cell_type": "code",
   "execution_count": 77,
   "id": "909707cc",
   "metadata": {},
   "outputs": [
    {
     "name": "stdout",
     "output_type": "stream",
     "text": [
      "400/400 [==============================] - 21s 50ms/step\n"
     ]
    }
   ],
   "source": [
    "#Make predictions (our model predicts prediction probability for each class)\n",
    "model_6_pred_probs=model_6.predict(test_dataset)"
   ]
  },
  {
   "cell_type": "code",
   "execution_count": 78,
   "id": "46b5a8f4",
   "metadata": {},
   "outputs": [
    {
     "data": {
      "text/plain": [
       "<tf.Tensor: shape=(12797,), dtype=int64, numpy=array([4, 2, 4, ..., 3, 4, 4], dtype=int64)>"
      ]
     },
     "execution_count": 78,
     "metadata": {},
     "output_type": "execute_result"
    }
   ],
   "source": [
    "#Convert pred probs to classes\n",
    "model_6_preds=tf.argmax(model_6_pred_probs,axis=1)\n",
    "model_6_preds"
   ]
  },
  {
   "cell_type": "code",
   "execution_count": 79,
   "id": "bd39fa61",
   "metadata": {},
   "outputs": [
    {
     "data": {
      "text/plain": [
       "{'accuracy': 0.608, 'precision': 0.588, 'recall': 0.608, 'f1': 0.593}"
      ]
     },
     "execution_count": 79,
     "metadata": {},
     "output_type": "execute_result"
    }
   ],
   "source": [
    "#Calculate model_6_results\n",
    "\n",
    "model_6_results=calculate_results(test_labels_encoded,\n",
    "                                  model_6_preds)\n",
    "model_6_results"
   ]
  },
  {
   "cell_type": "markdown",
   "id": "5abf125d",
   "metadata": {},
   "source": [
    "## Model 7: Combining pretrained token embeddings + characters embeddings (hybrid embedding layer)"
   ]
  },
  {
   "cell_type": "markdown",
   "id": "44cb0cfb",
   "metadata": {},
   "source": [
    "### Creating a character - level tokenizer"
   ]
  },
  {
   "cell_type": "code",
   "execution_count": 99,
   "id": "48e67dd5",
   "metadata": {},
   "outputs": [
    {
     "data": {
      "text/plain": [
       "array(['lots of fun attractions, short ride waits, easy mtr acess, food and drink is very expensive. a good day for young and old.'],\n",
       "      dtype=object)"
      ]
     },
     "execution_count": 99,
     "metadata": {},
     "output_type": "execute_result"
    }
   ],
   "source": [
    "X_train[['Review_Text']].values.ravel()[:1]"
   ]
  },
  {
   "cell_type": "code",
   "execution_count": 100,
   "id": "abaf237b",
   "metadata": {},
   "outputs": [],
   "source": [
    "#Making a function to split sentences into characters\n",
    "def split_chars(text):\n",
    "  return \" \".join(list(text))"
   ]
  },
  {
   "cell_type": "code",
   "execution_count": 101,
   "id": "d9b04164",
   "metadata": {},
   "outputs": [
    {
     "data": {
      "text/plain": [
       "'h k g   d i s n e y l a n d   w a s   a n   e x p e n s i v e   d i s a p p o i n t m e n t .   t i m e   a n d   m o n e y   b e t t e r   s p e n t   !     g o   t o   o c e a n   p a r k .     e s p e c i a l l y   i f   y o u r   h o t e l   i s   o n   t h e   i s l a n d   s i d e .'"
      ]
     },
     "execution_count": 101,
     "metadata": {},
     "output_type": "execute_result"
    }
   ],
   "source": [
    "#Text splitting non-character-level sequence into characters\n",
    "random_train_sentence=random.choice(X_train[['Review_Text']].values.ravel())\n",
    "split_chars(random_train_sentence)"
   ]
  },
  {
   "cell_type": "code",
   "execution_count": 102,
   "id": "09298946",
   "metadata": {},
   "outputs": [
    {
     "name": "stdout",
     "output_type": "stream",
     "text": [
      "['l o t s   o f   f u n   a t t r a c t i o n s ,   s h o r t   r i d e   w a i t s ,   e a s y   m t r   a c e s s ,   f o o d   a n d   d r i n k   i s   v e r y   e x p e n s i v e .   a   g o o d   d a y   f o r   y o u n g   a n d   o l d .', 'i   w a s   v e r y   s u r p r i s e d   t h a t   e u r o   d i s n e y   d i d   n o t   h a v e   t h a t     h a p p i e s t   p l a c e   o n   e a r t h     f e e l !   t h e   d i s n e y   s t a f f   w e r e   n o t   f r i e n d l y   ( l i k e   i   a m   u s e d   t o   i n   u s ) ,   i t   w a s   n o t   c l e a n   l i k e   t h e   u s   p a r k s   ( g a r b a g e   a n d   c i g a r e t t e   b u t t s   a l l   o v e r ) ,   a n d   w e   o n l y   s a w   t h r e e   c h a r a c t e r s   d u r i n g   o u r   3   d a y s   t h e r e .   i t   i s   w o r t h   v i s i t i n g   j u s t   t o   e x p e r i e n c e   a n d   t o   s e e   h o w   a m a z i n g   o u r   p a r k s   a r e   i n   t h e   u s ;   i t   g a v e   m e   m o r e   a p p r e c i a t i o n   f o r   o u r s !']\n"
     ]
    }
   ],
   "source": [
    "#Split sequence-level data splits into character-level data splits\n",
    "train_chars=[split_chars(sentence) for sentence in X_train[['Review_Text']].values.ravel()]\n",
    "test_chars=[split_chars(sentence) for sentence in X_test[['Review_Text']].values.ravel()]\n",
    "print(train_chars[:2])"
   ]
  },
  {
   "cell_type": "code",
   "execution_count": 103,
   "id": "1265e5a8",
   "metadata": {},
   "outputs": [
    {
     "data": {
      "text/plain": [
       "695.4394989785325"
      ]
     },
     "execution_count": 103,
     "metadata": {},
     "output_type": "execute_result"
    }
   ],
   "source": [
    "#What´s the average character length?\n",
    "chars_lens=[len(sentence) for sentence in X_train[['Review_Text']].values.ravel()]\n",
    "mean_char_len=np.mean(chars_lens)\n",
    "mean_char_len"
   ]
  },
  {
   "cell_type": "code",
   "execution_count": 104,
   "id": "15f6a3e2",
   "metadata": {},
   "outputs": [
    {
     "data": {
      "image/png": "[encoded data removed]",
      "text/plain": [
       "<Figure size 640x480 with 1 Axes>"
      ]
     },
     "metadata": {},
     "output_type": "display_data"
    }
   ],
   "source": [
    "#Check the distribution of our sequences at a character-level\n",
    "import matplotlib.pyplot as plt\n",
    "plt.hist(chars_lens,bins=7);"
   ]
  },
  {
   "cell_type": "code",
   "execution_count": 105,
   "id": "65b414e5",
   "metadata": {},
   "outputs": [
    {
     "data": {
      "text/plain": [
       "2102"
      ]
     },
     "execution_count": 105,
     "metadata": {},
     "output_type": "execute_result"
    }
   ],
   "source": [
    "#Find wha character length covers 95% of sequences\n",
    "output_seq_char_len=int(np.percentile(chars_lens,95))\n",
    "output_seq_char_len"
   ]
  },
  {
   "cell_type": "code",
   "execution_count": 106,
   "id": "1adcf1a3",
   "metadata": {},
   "outputs": [
    {
     "data": {
      "text/plain": [
       "'abcdefghijklmnopqrstuvwxyz0123456789!\"#$%&\\'()*+,-./:;<=>?@[\\\\]^_`{|}~'"
      ]
     },
     "execution_count": 106,
     "metadata": {},
     "output_type": "execute_result"
    }
   ],
   "source": [
    "#Get all keyboard characters\n",
    "import string\n",
    "alphabet=string.ascii_lowercase+string.digits+string.punctuation\n",
    "alphabet"
   ]
  },
  {
   "cell_type": "code",
   "execution_count": 107,
   "id": "92cdd818",
   "metadata": {},
   "outputs": [],
   "source": [
    "#Create char-level vectorizer instance\n",
    "num_char_tokens=len(alphabet)+2 #add 2 for space and OOV token (OOV=out of vocab,'[UNK]')\n",
    "char_vectorizer=TextVectorization(max_tokens=num_char_tokens,\n",
    "                                  # standardize=None, #set standarization to \"None\" if you want to leave punctuation in\n",
    "                                  output_sequence_length=output_seq_char_len,\n",
    "                                  name='char_vectorizer')"
   ]
  },
  {
   "cell_type": "code",
   "execution_count": 108,
   "id": "d3cdc8f7",
   "metadata": {},
   "outputs": [],
   "source": [
    "#Adapt character vectorizer to training character\n",
    "char_vectorizer.adapt(train_chars)"
   ]
  },
  {
   "cell_type": "code",
   "execution_count": 109,
   "id": "dd3d8cc4",
   "metadata": {},
   "outputs": [
    {
     "name": "stdout",
     "output_type": "stream",
     "text": [
      "Number of different characters in character vocab: 38\n",
      "5 most common characters:['', '[UNK]', 'e', 't', 'a']\n",
      "5 least common characters:['4', '6', '9', '8', '7']\n"
     ]
    }
   ],
   "source": [
    "#Check character vocab stats\n",
    "char_vocab=char_vectorizer.get_vocabulary()\n",
    "print(f\"Number of different characters in character vocab: {len(char_vocab)}\") \n",
    "print(f\"5 most common characters:{char_vocab[:5]}\")\n",
    "print(f\"5 least common characters:{char_vocab[-5:]}\")"
   ]
  },
  {
   "cell_type": "code",
   "execution_count": 110,
   "id": "7341a7df",
   "metadata": {},
   "outputs": [
    {
     "name": "stdout",
     "output_type": "stream",
     "text": [
      "Charified text:\n",
      " l o t s   o f   f u n   f o r   t w o   o l d e r   a d u l t s   r e l i v i n g   t h e i r   c h i l d h o o d   a d v e n t u r e s   i n   d i s n e y l a n d .   a l t h o u g h   t w o   r i d e s   w e r e   i n o p e r a t i v e ,   w e   w e r e   a b l e   t o   c a t c h   t h e m   d u r i n g   o u r   s t a y   w i t h o u t   a n y   d i f f i c u l t y .     e n j o y e d   t h e   c h a n g e s   t h a t   h a v e   b e e n   r e c e n t l y   a d d e d .\n",
      "\n",
      "Length of random_train_chars:201\n",
      "\n",
      "Vectorized chars:\n",
      " [[12  5  3 ...  0  0  0]]\n",
      "\n",
      "Length of vectorized chars:2102\n"
     ]
    }
   ],
   "source": [
    "#Test out our character vectorizer\n",
    "random_train_chars=random.choice(train_chars)\n",
    "print(f\"Charified text:\\n {random_train_chars}\")\n",
    "print(f\"\\nLength of random_train_chars:{len(random_train_chars.split())}\")\n",
    "vectorized_chars=char_vectorizer([random_train_chars])\n",
    "print(f\"\\nVectorized chars:\\n {vectorized_chars}\")\n",
    "print(f\"\\nLength of vectorized chars:{len(vectorized_chars[0])}\")"
   ]
  },
  {
   "cell_type": "markdown",
   "id": "c2fc2579",
   "metadata": {},
   "source": [
    "### Creating a character-level embedding"
   ]
  },
  {
   "cell_type": "code",
   "execution_count": 111,
   "id": "1983cfe1",
   "metadata": {},
   "outputs": [],
   "source": [
    "#Create char embedding layer\n",
    "char_embed=layers.Embedding(input_dim=len(char_vocab), #number of different characters\n",
    "                            output_dim=30, \n",
    "                            mask_zero=True,\n",
    "                            name='char_embed')"
   ]
  },
  {
   "cell_type": "code",
   "execution_count": 112,
   "id": "09a13d53",
   "metadata": {},
   "outputs": [
    {
     "name": "stdout",
     "output_type": "stream",
     "text": [
      "Charified text:\n",
      " l o t s   o f   f u n   f o r   t w o   o l d e r   a d u l t s   r e l i v i n g   t h e i r   c h i l d h o o d   a d v e n t u r e s   i n   d i s n e y l a n d .   a l t h o u g h   t w o   r i d e s   w e r e   i n o p e r a t i v e ,   w e   w e r e   a b l e   t o   c a t c h   t h e m   d u r i n g   o u r   s t a y   w i t h o u t   a n y   d i f f i c u l t y .     e n j o y e d   t h e   c h a n g e s   t h a t   h a v e   b e e n   r e c e n t l y   a d d e d .\n",
      "\n",
      "Embedded chars (after vectorization and embedding):\n",
      " [[[-0.04866008 -0.04351724 -0.02207084 ...  0.02569059  0.00464325\n",
      "    0.02344842]\n",
      "  [ 0.01541724  0.01446518  0.02003438 ... -0.02368059 -0.01714247\n",
      "    0.01516055]\n",
      "  [ 0.04979061  0.01072544  0.0204686  ... -0.03459198  0.04249084\n",
      "   -0.02346689]\n",
      "  ...\n",
      "  [ 0.04070571 -0.00215701 -0.03521068 ... -0.00215814 -0.00890747\n",
      "   -0.02402666]\n",
      "  [ 0.04070571 -0.00215701 -0.03521068 ... -0.00215814 -0.00890747\n",
      "   -0.02402666]\n",
      "  [ 0.04070571 -0.00215701 -0.03521068 ... -0.00215814 -0.00890747\n",
      "   -0.02402666]]]\n",
      "\n",
      "Character embedding shape:(1, 2102, 30)\n"
     ]
    }
   ],
   "source": [
    "#Test our character embedding layer\n",
    "print(f\"Charified text:\\n {random_train_chars}\\n\")\n",
    "char_embed_example=char_embed(char_vectorizer([random_train_chars]))\n",
    "print(f\"Embedded chars (after vectorization and embedding):\\n {char_embed_example}\\n\")\n",
    "print(f\"Character embedding shape:{char_embed_example.shape}\")"
   ]
  },
  {
   "cell_type": "code",
   "execution_count": 113,
   "id": "fa4084e1",
   "metadata": {},
   "outputs": [],
   "source": [
    "#1. Set-up token inputs/model\n",
    "token_inputs=layers.Input(shape=[],dtype=tf.string , name='token_input')\n",
    "token_embeddings=tf_hub_embedding_layer(token_inputs)\n",
    "token_outputs=layers.Dense(128,activation='relu')(token_embeddings)\n",
    "token_model=tf.keras.Model(inputs=token_inputs,\n",
    "                           outputs=token_outputs)\n",
    "\n",
    "#2. Set-up char inputs/model\n",
    "char_inputs=layers.Input(shape=(1,),dtype=tf.string,name='char_input')\n",
    "char_vectors=char_vectorizer(char_inputs)\n",
    "char_embeddings=char_embed(char_vectors)\n",
    "char_bi_lstm=layers.Bidirectional(layers.LSTM(24))(char_embeddings)\n",
    "char_model=tf.keras.Model(inputs=char_inputs,\n",
    "                          outputs=char_bi_lstm)\n",
    "\n",
    "#3. Concatenate token and char inputs (create hybrid token embedding)\n",
    "token_char_concat=layers.Concatenate(name='token_char_hybrid')([token_model.output,\n",
    "                                                                char_model.output])\n",
    "\n",
    "#4. Create output layers - adding a Dropout layer\n",
    "combined_dropout=layers.Dropout(0.1) (token_char_concat)\n",
    "combined_dense=layers.Dense(128,activation='relu')(combined_dropout)\n",
    "output_layer=layers.Dense(num_classes,activation='softmax')(combined_dense)\n",
    "\n",
    "#5. Construct model with char and token inputs\n",
    "model_7=tf.keras.Model(inputs=[token_model.input,char_model.input],\n",
    "                       outputs=output_layer,\n",
    "                       name='model_7_token_and_char_embeddings')"
   ]
  },
  {
   "cell_type": "code",
   "execution_count": 114,
   "id": "06a95968",
   "metadata": {},
   "outputs": [
    {
     "name": "stdout",
     "output_type": "stream",
     "text": [
      "Model: \"model_7_token_and_char_embeddings\"\n",
      "__________________________________________________________________________________________________\n",
      " Layer (type)                   Output Shape         Param #     Connected to                     \n",
      "==================================================================================================\n",
      " char_input (InputLayer)        [(None, 1)]          0           []                               \n",
      "                                                                                                  \n",
      " token_input (InputLayer)       [(None,)]            0           []                               \n",
      "                                                                                                  \n",
      " char_vectorizer (TextVectoriza  (None, 2102)        0           ['char_input[0][0]']             \n",
      " tion)                                                                                            \n",
      "                                                                                                  \n",
      " universal_sentence_encoder (Ke  (None, 512)         256797824   ['token_input[0][0]']            \n",
      " rasLayer)                                                                                        \n",
      "                                                                                                  \n",
      " char_embed (Embedding)         (None, 2102, 30)     1140        ['char_vectorizer[0][0]']        \n",
      "                                                                                                  \n",
      " dense_17 (Dense)               (None, 128)          65664       ['universal_sentence_encoder[5][0\n",
      "                                                                 ]']                              \n",
      "                                                                                                  \n",
      " bidirectional_6 (Bidirectional  (None, 48)          10560       ['char_embed[0][0]']             \n",
      " )                                                                                                \n",
      "                                                                                                  \n",
      " token_char_hybrid (Concatenate  (None, 176)         0           ['dense_17[0][0]',               \n",
      " )                                                                'bidirectional_6[0][0]']        \n",
      "                                                                                                  \n",
      " dropout_1 (Dropout)            (None, 176)          0           ['token_char_hybrid[0][0]']      \n",
      "                                                                                                  \n",
      " dense_18 (Dense)               (None, 128)          22656       ['dropout_1[0][0]']              \n",
      "                                                                                                  \n",
      " dense_19 (Dense)               (None, 5)            645         ['dense_18[0][0]']               \n",
      "                                                                                                  \n",
      "==================================================================================================\n",
      "Total params: 256,898,489\n",
      "Trainable params: 100,665\n",
      "Non-trainable params: 256,797,824\n",
      "__________________________________________________________________________________________________\n"
     ]
    }
   ],
   "source": [
    "#Get a summary of our model\n",
    "model_7.summary()"
   ]
  },
  {
   "cell_type": "code",
   "execution_count": 115,
   "id": "059179bd",
   "metadata": {},
   "outputs": [
    {
     "data": {
      "image/png": "[encoded data removed]",
      "text/plain": [
       "<IPython.core.display.Image object>"
      ]
     },
     "execution_count": 115,
     "metadata": {},
     "output_type": "execute_result"
    }
   ],
   "source": [
    "#Plot hybrid token and character model\n",
    "from keras.utils import plot_model\n",
    "plot_model(model_7,show_shapes=True)"
   ]
  },
  {
   "cell_type": "code",
   "execution_count": 116,
   "id": "e8ec056b",
   "metadata": {},
   "outputs": [],
   "source": [
    "#Compile token char model\n",
    "model_7.compile(loss='categorical_crossentropy',\n",
    "                optimizer=tf.keras.optimizers.Adam(),\n",
    "                metrics=['accuracy'])"
   ]
  },
  {
   "cell_type": "markdown",
   "id": "d57ef27a",
   "metadata": {},
   "source": [
    "### Combining token and character data into a tf.data.Dataset"
   ]
  },
  {
   "cell_type": "code",
   "execution_count": 117,
   "id": "a2424d7c",
   "metadata": {},
   "outputs": [],
   "source": [
    "# Combine chars and tokens into a dataset\n",
    "train_char_token_data=tf.data.Dataset.from_tensor_slices((X_train[['Review_Text']].values.ravel(),train_chars)) #make data\n",
    "train_char_token_labels=tf.data.Dataset.from_tensor_slices(train_labels_one_hot) #make the labels\n",
    "train_char_token_dataset=tf.data.Dataset.zip((train_char_token_data,train_char_token_labels))\n",
    "\n",
    "#Prefetch and batch train data\n",
    "train_char_token_dataset=train_char_token_dataset.batch(32).prefetch(tf.data.AUTOTUNE)"
   ]
  },
  {
   "cell_type": "code",
   "execution_count": 118,
   "id": "f0b5ec92",
   "metadata": {},
   "outputs": [],
   "source": [
    "#Repeat the steps above in the for test data\n",
    "test_char_token_data=tf.data.Dataset.from_tensor_slices((X_test[['Review_Text']].values.ravel(),test_chars)) #make data\n",
    "test_char_token_labels=tf.data.Dataset.from_tensor_slices(test_labels_one_hot) #make the labels\n",
    "test_char_token_dataset=tf.data.Dataset.zip((test_char_token_data,test_char_token_labels))\n",
    "test_char_token_dataset=test_char_token_dataset.batch(32).prefetch(tf.data.AUTOTUNE)"
   ]
  },
  {
   "cell_type": "code",
   "execution_count": 119,
   "id": "b432d14f",
   "metadata": {},
   "outputs": [
    {
     "data": {
      "text/plain": [
       "(<PrefetchDataset element_spec=((TensorSpec(shape=(None,), dtype=tf.string, name=None), TensorSpec(shape=(None,), dtype=tf.string, name=None)), TensorSpec(shape=(None, 5), dtype=tf.float64, name=None))>,\n",
       " <PrefetchDataset element_spec=((TensorSpec(shape=(None,), dtype=tf.string, name=None), TensorSpec(shape=(None,), dtype=tf.string, name=None)), TensorSpec(shape=(None, 5), dtype=tf.float64, name=None))>)"
      ]
     },
     "execution_count": 119,
     "metadata": {},
     "output_type": "execute_result"
    }
   ],
   "source": [
    "#Check out our training and token embedding dataset\n",
    "train_char_token_dataset,test_char_token_dataset"
   ]
  },
  {
   "cell_type": "code",
   "execution_count": 120,
   "id": "76b4df7d",
   "metadata": {},
   "outputs": [
    {
     "name": "stdout",
     "output_type": "stream",
     "text": [
      "Epoch 1/10\n",
      "93/93 [==============================] - 298s 3s/step - loss: 1.1469 - accuracy: 0.5427 - val_loss: 1.0048 - val_accuracy: 0.5461\n",
      "Epoch 2/10\n",
      "93/93 [==============================] - 226s 2s/step - loss: 0.9660 - accuracy: 0.5837 - val_loss: 0.9209 - val_accuracy: 0.5914\n",
      "Epoch 3/10\n",
      "93/93 [==============================] - 244s 3s/step - loss: 0.9320 - accuracy: 0.5830 - val_loss: 0.8984 - val_accuracy: 0.6070\n",
      "Epoch 4/10\n",
      "93/93 [==============================] - 253s 3s/step - loss: 0.9136 - accuracy: 0.5917 - val_loss: 0.8926 - val_accuracy: 0.6125\n",
      "Epoch 5/10\n",
      "93/93 [==============================] - 237s 3s/step - loss: 0.9139 - accuracy: 0.5995 - val_loss: 0.8816 - val_accuracy: 0.6180\n",
      "Epoch 6/10\n",
      "93/93 [==============================] - 241s 3s/step - loss: 0.9094 - accuracy: 0.5974 - val_loss: 0.8777 - val_accuracy: 0.6250\n",
      "Epoch 7/10\n",
      "93/93 [==============================] - 239s 3s/step - loss: 0.8836 - accuracy: 0.6075 - val_loss: 0.8941 - val_accuracy: 0.6203\n",
      "Epoch 8/10\n",
      "93/93 [==============================] - 247s 3s/step - loss: 0.8901 - accuracy: 0.6146 - val_loss: 0.8785 - val_accuracy: 0.6180\n",
      "Epoch 9/10\n",
      "93/93 [==============================] - 247s 3s/step - loss: 0.8598 - accuracy: 0.6203 - val_loss: 0.8789 - val_accuracy: 0.6141\n",
      "Epoch 10/10\n",
      "93/93 [==============================] - 458s 5s/step - loss: 0.8849 - accuracy: 0.6072 - val_loss: 0.8949 - val_accuracy: 0.6141\n"
     ]
    }
   ],
   "source": [
    "#Fit the model on tokens and chars\n",
    "model_7_history=model_7.fit(train_char_token_dataset,\n",
    "                            steps_per_epoch=int(0.1*len(train_char_token_dataset)),\n",
    "                            epochs=10,\n",
    "                            validation_data=test_char_token_dataset,\n",
    "                            validation_steps=int(0.1*len(test_char_token_dataset)))"
   ]
  },
  {
   "cell_type": "code",
   "execution_count": 121,
   "id": "09a63a3a",
   "metadata": {},
   "outputs": [
    {
     "name": "stdout",
     "output_type": "stream",
     "text": [
      "400/400 [==============================] - 164s 403ms/step - loss: 0.8948 - accuracy: 0.6016\n"
     ]
    },
    {
     "data": {
      "text/plain": [
       "[0.8948023319244385, 0.601625382900238]"
      ]
     },
     "execution_count": 121,
     "metadata": {},
     "output_type": "execute_result"
    }
   ],
   "source": [
    "#Evaluate on the whole validation dataset\n",
    "model_7.evaluate(test_char_token_dataset)"
   ]
  },
  {
   "cell_type": "code",
   "execution_count": 122,
   "id": "3f46efd4",
   "metadata": {},
   "outputs": [
    {
     "name": "stdout",
     "output_type": "stream",
     "text": [
      "400/400 [==============================] - 177s 400ms/step\n"
     ]
    },
    {
     "data": {
      "text/plain": [
       "array([[2.43236980e-04, 1.94759562e-03, 2.99683362e-02, 2.86158353e-01,\n",
       "        6.81682408e-01],\n",
       "       [1.93261206e-01, 2.61814684e-01, 3.29023868e-01, 1.71351448e-01,\n",
       "        4.45488021e-02],\n",
       "       [6.76923525e-03, 1.90408267e-02, 9.96262729e-02, 3.14632475e-01,\n",
       "        5.59931159e-01],\n",
       "       ...,\n",
       "       [3.86826624e-03, 2.37612557e-02, 2.00321510e-01, 5.39949000e-01,\n",
       "        2.32099965e-01],\n",
       "       [3.94851268e-05, 4.58265305e-04, 1.35902213e-02, 2.73739189e-01,\n",
       "        7.12172806e-01],\n",
       "       [1.09419379e-05, 9.99138283e-05, 2.82392697e-03, 1.16031334e-01,\n",
       "        8.81033838e-01]], dtype=float32)"
      ]
     },
     "execution_count": 122,
     "metadata": {},
     "output_type": "execute_result"
    }
   ],
   "source": [
    "#Make predictions with character model only\n",
    "model_7_pred_probs=model_7.predict(test_char_token_dataset)\n",
    "model_7_pred_probs"
   ]
  },
  {
   "cell_type": "code",
   "execution_count": 123,
   "id": "a26c1909",
   "metadata": {},
   "outputs": [
    {
     "data": {
      "text/plain": [
       "<tf.Tensor: shape=(12797,), dtype=int64, numpy=array([4, 2, 4, ..., 3, 4, 4], dtype=int64)>"
      ]
     },
     "execution_count": 123,
     "metadata": {},
     "output_type": "execute_result"
    }
   ],
   "source": [
    "#Convert predictions probabilities to class labels\n",
    "model_7_preds=tf.argmax(model_7_pred_probs,axis=1)\n",
    "model_7_preds"
   ]
  },
  {
   "cell_type": "code",
   "execution_count": 124,
   "id": "26588d89",
   "metadata": {},
   "outputs": [
    {
     "data": {
      "text/plain": [
       "{'accuracy': 0.602, 'precision': 0.602, 'recall': 0.602, 'f1': 0.598}"
      ]
     },
     "execution_count": 124,
     "metadata": {},
     "output_type": "execute_result"
    }
   ],
   "source": [
    "#Calculate the results of token-char-hybrid model\n",
    "model_7_results=calculate_results(y_true=test_labels_encoded,\n",
    "                                  y_pred=model_7_preds)\n",
    "\n",
    "model_7_results"
   ]
  },
  {
   "cell_type": "markdown",
   "id": "772f0c8f",
   "metadata": {},
   "source": [
    "# Modelling experiments with \"Review_Text\" and \"Branch\" as inputs"
   ]
  },
  {
   "cell_type": "code",
   "execution_count": 125,
   "id": "666c028a",
   "metadata": {},
   "outputs": [
    {
     "data": {
      "text/html": [
       "<div>\n",
       "<style scoped>\n",
       "    .dataframe tbody tr th:only-of-type {\n",
       "        vertical-align: middle;\n",
       "    }\n",
       "\n",
       "    .dataframe tbody tr th {\n",
       "        vertical-align: top;\n",
       "    }\n",
       "\n",
       "    .dataframe thead th {\n",
       "        text-align: right;\n",
       "    }\n",
       "</style>\n",
       "<table border=\"1\" class=\"dataframe\">\n",
       "  <thead>\n",
       "    <tr style=\"text-align: right;\">\n",
       "      <th></th>\n",
       "      <th>Rating</th>\n",
       "      <th>Review_Text</th>\n",
       "      <th>Branch</th>\n",
       "    </tr>\n",
       "  </thead>\n",
       "  <tbody>\n",
       "    <tr>\n",
       "      <th>0</th>\n",
       "      <td>3</td>\n",
       "      <td>if you've ever been to disneyland anywhere you...</td>\n",
       "      <td>Disneyland_HongKong</td>\n",
       "    </tr>\n",
       "    <tr>\n",
       "      <th>1</th>\n",
       "      <td>3</td>\n",
       "      <td>its been a while since d last time we visit hk...</td>\n",
       "      <td>Disneyland_HongKong</td>\n",
       "    </tr>\n",
       "    <tr>\n",
       "      <th>2</th>\n",
       "      <td>3</td>\n",
       "      <td>thanks god it wasn   t too hot or too humid wh...</td>\n",
       "      <td>Disneyland_HongKong</td>\n",
       "    </tr>\n",
       "    <tr>\n",
       "      <th>3</th>\n",
       "      <td>3</td>\n",
       "      <td>hk disneyland is a great compact park. unfortu...</td>\n",
       "      <td>Disneyland_HongKong</td>\n",
       "    </tr>\n",
       "    <tr>\n",
       "      <th>4</th>\n",
       "      <td>3</td>\n",
       "      <td>the location is not in the city, took around 1...</td>\n",
       "      <td>Disneyland_HongKong</td>\n",
       "    </tr>\n",
       "  </tbody>\n",
       "</table>\n",
       "</div>"
      ],
      "text/plain": [
       "   Rating                                        Review_Text  \\\n",
       "0       3  if you've ever been to disneyland anywhere you...   \n",
       "1       3  its been a while since d last time we visit hk...   \n",
       "2       3  thanks god it wasn   t too hot or too humid wh...   \n",
       "3       3  hk disneyland is a great compact park. unfortu...   \n",
       "4       3  the location is not in the city, took around 1...   \n",
       "\n",
       "                Branch  \n",
       "0  Disneyland_HongKong  \n",
       "1  Disneyland_HongKong  \n",
       "2  Disneyland_HongKong  \n",
       "3  Disneyland_HongKong  \n",
       "4  Disneyland_HongKong  "
      ]
     },
     "execution_count": 125,
     "metadata": {},
     "output_type": "execute_result"
    }
   ],
   "source": [
    "df.head()"
   ]
  },
  {
   "cell_type": "markdown",
   "id": "3725aac9",
   "metadata": {},
   "source": [
    "### Create position embeddings"
   ]
  },
  {
   "cell_type": "code",
   "execution_count": 126,
   "id": "488393b4",
   "metadata": {},
   "outputs": [
    {
     "data": {
      "text/plain": [
       "Disneyland_California    19406\n",
       "Disneyland_Paris         13630\n",
       "Disneyland_HongKong       9620\n",
       "Name: Branch, dtype: int64"
      ]
     },
     "execution_count": 126,
     "metadata": {},
     "output_type": "execute_result"
    }
   ],
   "source": [
    "#How many brances do we have?\n",
    "df[\"Branch\"].value_counts()"
   ]
  },
  {
   "cell_type": "code",
   "execution_count": 127,
   "id": "1a8b2650",
   "metadata": {},
   "outputs": [
    {
     "data": {
      "image/png": "[encoded data removed]",
      "text/plain": [
       "<Figure size 640x480 with 1 Axes>"
      ]
     },
     "metadata": {},
     "output_type": "display_data"
    }
   ],
   "source": [
    "#Plotting the distributions of the Branches\n",
    "import seaborn as sns\n",
    "sns.countplot(data=df,x='Branch');"
   ]
  },
  {
   "cell_type": "code",
   "execution_count": 128,
   "id": "0fda7bf7",
   "metadata": {},
   "outputs": [
    {
     "data": {
      "text/html": [
       "<div>\n",
       "<style scoped>\n",
       "    .dataframe tbody tr th:only-of-type {\n",
       "        vertical-align: middle;\n",
       "    }\n",
       "\n",
       "    .dataframe tbody tr th {\n",
       "        vertical-align: top;\n",
       "    }\n",
       "\n",
       "    .dataframe thead th {\n",
       "        text-align: right;\n",
       "    }\n",
       "</style>\n",
       "<table border=\"1\" class=\"dataframe\">\n",
       "  <thead>\n",
       "    <tr style=\"text-align: right;\">\n",
       "      <th></th>\n",
       "      <th>Branches</th>\n",
       "    </tr>\n",
       "  </thead>\n",
       "  <tbody>\n",
       "    <tr>\n",
       "      <th>0</th>\n",
       "      <td>1</td>\n",
       "    </tr>\n",
       "    <tr>\n",
       "      <th>1</th>\n",
       "      <td>2</td>\n",
       "    </tr>\n",
       "    <tr>\n",
       "      <th>2</th>\n",
       "      <td>1</td>\n",
       "    </tr>\n",
       "    <tr>\n",
       "      <th>3</th>\n",
       "      <td>1</td>\n",
       "    </tr>\n",
       "    <tr>\n",
       "      <th>4</th>\n",
       "      <td>0</td>\n",
       "    </tr>\n",
       "  </tbody>\n",
       "</table>\n",
       "</div>"
      ],
      "text/plain": [
       "   Branches\n",
       "0         1\n",
       "1         2\n",
       "2         1\n",
       "3         1\n",
       "4         0"
      ]
     },
     "execution_count": 128,
     "metadata": {},
     "output_type": "execute_result"
    }
   ],
   "source": [
    "#Converting the \"Branch\" column to numbers before creating one_hot_tensors\n",
    "from sklearn.preprocessing import LabelEncoder\n",
    "import pandas as pd\n",
    "label_encoder=LabelEncoder()\n",
    "train_branch_encoded=pd.DataFrame(label_encoder.fit_transform(X_train['Branch']),columns=[\"Branches\"])\n",
    "test_branch_encoded=pd.DataFrame(label_encoder.transform(X_test['Branch']),columns=[\"Branches\"])\n",
    "\n",
    "#Check what training labels look like\n",
    "train_branch_encoded.head()"
   ]
  },
  {
   "cell_type": "code",
   "execution_count": 129,
   "id": "ee0bdac3",
   "metadata": {},
   "outputs": [
    {
     "data": {
      "text/plain": [
       "(<tf.Tensor: shape=(2, 3), dtype=float32, numpy=\n",
       " array([[0., 1., 0.],\n",
       "        [0., 0., 1.]], dtype=float32)>,\n",
       " TensorShape([29859, 3]))"
      ]
     },
     "execution_count": 129,
     "metadata": {},
     "output_type": "execute_result"
    }
   ],
   "source": [
    "#Use TensorFlow to create one-hot-encoded tensors of our \"Branch\" column\n",
    "train_branch_numbers_one_hot=tf.squeeze(tf.one_hot(train_branch_encoded, depth=3))\n",
    "test_branch_numbers_one_hot=tf.squeeze(tf.one_hot(test_branch_encoded, depth=3))\n",
    "train_branch_numbers_one_hot[:2], train_branch_numbers_one_hot.shape"
   ]
  },
  {
   "cell_type": "code",
   "execution_count": 130,
   "id": "82b539a9",
   "metadata": {},
   "outputs": [
    {
     "data": {
      "text/plain": [
       "array(['Disneyland_HongKong', 'Disneyland_Paris', 'Disneyland_HongKong',\n",
       "       ..., 'Disneyland_California', 'Disneyland_HongKong',\n",
       "       'Disneyland_HongKong'], dtype=object)"
      ]
     },
     "execution_count": 130,
     "metadata": {},
     "output_type": "execute_result"
    }
   ],
   "source": [
    "X_train['Branch'].to_numpy()"
   ]
  },
  {
   "cell_type": "markdown",
   "id": "e480488f",
   "metadata": {},
   "source": [
    "## Model 8: Combining pretrained token embeddings + the \"Branch\" one hot data"
   ]
  },
  {
   "cell_type": "code",
   "execution_count": 131,
   "id": "e853dbb3",
   "metadata": {},
   "outputs": [],
   "source": [
    "#1. Token inputs\n",
    "token_inputs=layers.Input(shape=[] ,dtype='string' ,name='token_inputs')\n",
    "token_embeddings=tf_hub_embedding_layer(token_inputs)\n",
    "token_outputs=layers.Dense(128,activation='relu')(token_embeddings)\n",
    "token_model=tf.keras.Model(inputs=token_inputs,\n",
    "                           outputs=token_outputs)\n",
    "\n",
    "# 2. Branch numbers model\n",
    "branch_numbers_inputs=layers.Input(shape=(3,) ,dtype=tf.float32 ,name='branch_number_input')\n",
    "x=layers.Dense(32,activation='relu')(branch_numbers_inputs)\n",
    "branch_number_model=tf.keras.Model(inputs=branch_numbers_inputs,\n",
    "                                 outputs=x)\n",
    "\n",
    "# 3. Combine token and char embedding to a hybrid embeddding\n",
    "combined_embeddings=layers.Concatenate(name='char_token_hybrid_embeddings')([token_model.output,branch_number_model.output])\n",
    "\n",
    "\n",
    "output_layer=layers.Dense(num_classes,activation='softmax',name='output_layer')(combined_embeddings)\n",
    "\n",
    "\n",
    "# 4. Put together model with all kind of inputs\n",
    "model_8=tf.keras.Model(inputs=[token_model.input,\n",
    "                               branch_number_model.input],\n",
    "                       outputs=output_layer,\n",
    "                       name='model_8_token_embedding_branch_model')"
   ]
  },
  {
   "cell_type": "code",
   "execution_count": 132,
   "id": "695ac98a",
   "metadata": {},
   "outputs": [
    {
     "name": "stdout",
     "output_type": "stream",
     "text": [
      "Model: \"model_8_token_embedding_branch_model\"\n",
      "__________________________________________________________________________________________________\n",
      " Layer (type)                   Output Shape         Param #     Connected to                     \n",
      "==================================================================================================\n",
      " token_inputs (InputLayer)      [(None,)]            0           []                               \n",
      "                                                                                                  \n",
      " universal_sentence_encoder (Ke  (None, 512)         256797824   ['token_inputs[0][0]']           \n",
      " rasLayer)                                                                                        \n",
      "                                                                                                  \n",
      " branch_number_input (InputLaye  [(None, 3)]         0           []                               \n",
      " r)                                                                                               \n",
      "                                                                                                  \n",
      " dense_20 (Dense)               (None, 128)          65664       ['universal_sentence_encoder[6][0\n",
      "                                                                 ]']                              \n",
      "                                                                                                  \n",
      " dense_21 (Dense)               (None, 32)           128         ['branch_number_input[0][0]']    \n",
      "                                                                                                  \n",
      " char_token_hybrid_embeddings (  (None, 160)         0           ['dense_20[0][0]',               \n",
      " Concatenate)                                                     'dense_21[0][0]']               \n",
      "                                                                                                  \n",
      " output_layer (Dense)           (None, 5)            805         ['char_token_hybrid_embeddings[0]\n",
      "                                                                 [0]']                            \n",
      "                                                                                                  \n",
      "==================================================================================================\n",
      "Total params: 256,864,421\n",
      "Trainable params: 66,597\n",
      "Non-trainable params: 256,797,824\n",
      "__________________________________________________________________________________________________\n"
     ]
    }
   ],
   "source": [
    "#Get a summary of our tribid embedding model\n",
    "model_8.summary()"
   ]
  },
  {
   "cell_type": "code",
   "execution_count": 133,
   "id": "15e11a97",
   "metadata": {},
   "outputs": [
    {
     "data": {
      "image/png": "[encoded data removed]",
      "text/plain": [
       "<IPython.core.display.Image object>"
      ]
     },
     "execution_count": 133,
     "metadata": {},
     "output_type": "execute_result"
    }
   ],
   "source": [
    "#Plot model_8 to explore it visually...\n",
    "from tensorflow.keras.utils import plot_model\n",
    "plot_model(model_8,show_shapes=True)"
   ]
  },
  {
   "cell_type": "code",
   "execution_count": 134,
   "id": "fb1d4423",
   "metadata": {},
   "outputs": [],
   "source": [
    "# Compile token,char and positional embedding model\n",
    "model_8.compile(loss=tf.keras.losses.CategoricalCrossentropy(label_smoothing=0.2), #helps to prevent overfitting\n",
    "                optimizer=tf.keras.optimizers.Adam(),\n",
    "                metrics=['accuracy'])"
   ]
  },
  {
   "cell_type": "markdown",
   "id": "932058e5",
   "metadata": {},
   "source": [
    "### Create hybrid embedding datasets using tf.data"
   ]
  },
  {
   "cell_type": "code",
   "execution_count": 135,
   "id": "902ef81a",
   "metadata": {},
   "outputs": [],
   "source": [
    "#Create training and validation datasets(with all four kind of input data)\n",
    "\n",
    "train_char_token_pos_data=tf.data.Dataset.from_tensor_slices((X_train[['Review_Text']].values.ravel(),\n",
    "                                                             train_branch_numbers_one_hot))\n",
    "\n",
    "train_char_token_pos_labels=tf.data.Dataset.from_tensor_slices(train_labels_one_hot)\n",
    "\n",
    "\n",
    "train_char_token_pos_dataset=tf.data.Dataset.zip((train_char_token_pos_data,train_char_token_pos_labels))\n",
    "\n",
    "train_char_token_pos_dataset=train_char_token_pos_dataset.batch(32).prefetch(tf.data.AUTOTUNE)\n",
    "\n",
    "#The same for test data\n",
    "\n",
    "test_char_token_pos_data=tf.data.Dataset.from_tensor_slices((X_test[['Review_Text']].values.ravel(),\n",
    "                                                             test_branch_numbers_one_hot))\n",
    "\n",
    "test_char_token_pos_labels=tf.data.Dataset.from_tensor_slices(test_labels_one_hot)\n",
    "\n",
    "\n",
    "test_char_token_pos_dataset=tf.data.Dataset.zip((test_char_token_pos_data,test_char_token_pos_labels))\n",
    "\n",
    "test_char_token_pos_dataset=test_char_token_pos_dataset.batch(32).prefetch(tf.data.AUTOTUNE)\n"
   ]
  },
  {
   "cell_type": "code",
   "execution_count": 136,
   "id": "1ed019e3",
   "metadata": {},
   "outputs": [
    {
     "data": {
      "text/plain": [
       "(<PrefetchDataset element_spec=((TensorSpec(shape=(None,), dtype=tf.string, name=None), TensorSpec(shape=(None, 3), dtype=tf.float32, name=None)), TensorSpec(shape=(None, 5), dtype=tf.float64, name=None))>,\n",
       " <PrefetchDataset element_spec=((TensorSpec(shape=(None,), dtype=tf.string, name=None), TensorSpec(shape=(None, 3), dtype=tf.float32, name=None)), TensorSpec(shape=(None, 5), dtype=tf.float64, name=None))>)"
      ]
     },
     "execution_count": 136,
     "metadata": {},
     "output_type": "execute_result"
    }
   ],
   "source": [
    "#Check input shapes\n",
    "test_char_token_pos_dataset,test_char_token_pos_dataset"
   ]
  },
  {
   "cell_type": "markdown",
   "id": "84806642",
   "metadata": {},
   "source": [
    "### Fitting, evaluating and making predictions with our hybrid model"
   ]
  },
  {
   "cell_type": "code",
   "execution_count": 137,
   "id": "62de6f3b",
   "metadata": {},
   "outputs": [
    {
     "name": "stdout",
     "output_type": "stream",
     "text": [
      "Epoch 1/10\n",
      "93/93 [==============================] - 16s 113ms/step - loss: 1.3293 - accuracy: 0.5423 - val_loss: 1.2664 - val_accuracy: 0.5445\n",
      "Epoch 2/10\n",
      "93/93 [==============================] - 9s 102ms/step - loss: 1.2406 - accuracy: 0.5759 - val_loss: 1.2242 - val_accuracy: 0.5867\n",
      "Epoch 3/10\n",
      "93/93 [==============================] - 7s 70ms/step - loss: 1.2302 - accuracy: 0.5649 - val_loss: 1.2139 - val_accuracy: 0.6000\n",
      "Epoch 4/10\n",
      "93/93 [==============================] - 6s 68ms/step - loss: 1.2115 - accuracy: 0.5948 - val_loss: 1.2064 - val_accuracy: 0.5984\n",
      "Epoch 5/10\n",
      "93/93 [==============================] - 6s 68ms/step - loss: 1.2163 - accuracy: 0.5894 - val_loss: 1.2034 - val_accuracy: 0.6039\n",
      "Epoch 6/10\n",
      "93/93 [==============================] - 7s 71ms/step - loss: 1.2089 - accuracy: 0.5941 - val_loss: 1.1971 - val_accuracy: 0.5984\n",
      "Epoch 7/10\n",
      "93/93 [==============================] - 6s 70ms/step - loss: 1.1933 - accuracy: 0.5991 - val_loss: 1.1976 - val_accuracy: 0.6039\n",
      "Epoch 8/10\n",
      "93/93 [==============================] - 6s 66ms/step - loss: 1.1949 - accuracy: 0.6126 - val_loss: 1.1913 - val_accuracy: 0.6148\n",
      "Epoch 9/10\n",
      "93/93 [==============================] - 7s 74ms/step - loss: 1.1808 - accuracy: 0.6136 - val_loss: 1.1912 - val_accuracy: 0.6141\n",
      "Epoch 10/10\n",
      "93/93 [==============================] - 6s 68ms/step - loss: 1.1948 - accuracy: 0.6132 - val_loss: 1.1935 - val_accuracy: 0.6109\n"
     ]
    }
   ],
   "source": [
    "#Fit our tribrid embedding modeel\n",
    "history_model_8=model_8.fit(train_char_token_pos_dataset,\n",
    "                            steps_per_epoch=int(0.1*len(train_char_token_pos_dataset)),\n",
    "                            epochs=10,\n",
    "                            validation_data=test_char_token_pos_dataset,\n",
    "                            validation_steps=int(0.1*len(test_char_token_pos_dataset)))"
   ]
  },
  {
   "cell_type": "code",
   "execution_count": 138,
   "id": "9fa80a87",
   "metadata": {},
   "outputs": [
    {
     "data": {
      "text/plain": [
       "array([[0.0365934 , 0.0420426 , 0.0899577 , 0.2871239 , 0.5442824 ],\n",
       "       [0.19462977, 0.16680193, 0.2652638 , 0.23916902, 0.13413551],\n",
       "       [0.10426699, 0.07514078, 0.13341165, 0.2479033 , 0.43927723],\n",
       "       ...,\n",
       "       [0.05657349, 0.06735464, 0.20536838, 0.46770135, 0.20300211],\n",
       "       [0.02735537, 0.026244  , 0.06328668, 0.27246606, 0.61064786],\n",
       "       [0.03108243, 0.02304687, 0.0330156 , 0.14559558, 0.76725954]],\n",
       "      dtype=float32)"
      ]
     },
     "execution_count": 138,
     "metadata": {},
     "output_type": "execute_result"
    }
   ],
   "source": [
    "#Make predictions with the char token model\n",
    "model_8_preds_probs=model_8.predict(test_char_token_pos_dataset,verbose=0)\n",
    "model_8_preds_probs"
   ]
  },
  {
   "cell_type": "code",
   "execution_count": 139,
   "id": "feee30ae",
   "metadata": {},
   "outputs": [
    {
     "data": {
      "text/plain": [
       "<tf.Tensor: shape=(12797,), dtype=int64, numpy=array([4, 2, 4, ..., 3, 4, 4], dtype=int64)>"
      ]
     },
     "execution_count": 139,
     "metadata": {},
     "output_type": "execute_result"
    }
   ],
   "source": [
    "#Convert pred probs to pred labels\n",
    "model_8_preds=tf.argmax(model_8_preds_probs,axis=1)\n",
    "model_8_preds"
   ]
  },
  {
   "cell_type": "code",
   "execution_count": 140,
   "id": "350b20df",
   "metadata": {},
   "outputs": [
    {
     "data": {
      "text/plain": [
       "{'accuracy': 0.612, 'precision': 0.576, 'recall': 0.612, 'f1': 0.589}"
      ]
     },
     "execution_count": 140,
     "metadata": {},
     "output_type": "execute_result"
    }
   ],
   "source": [
    "#Calculate results of char token pos model\n",
    "model_8_results=calculate_results(test_labels_encoded,\n",
    "                                  model_8_preds)\n",
    "\n",
    "model_8_results"
   ]
  },
  {
   "cell_type": "markdown",
   "id": "24fcd5ba",
   "metadata": {},
   "source": [
    "## Model 9: Combining character embeddings + the \"Branch\" one hot data"
   ]
  },
  {
   "cell_type": "code",
   "execution_count": 141,
   "id": "200d5f40",
   "metadata": {},
   "outputs": [],
   "source": [
    "# 1. Char inputs\n",
    "char_inputs=layers.Input(shape=(1,) ,dtype='string',name='char_inputs')\n",
    "char_vectors=char_vectorizer(char_inputs)\n",
    "char_embeddings=char_embed(char_vectors)\n",
    "char_bi_lstm=layers.Bidirectional(layers.LSTM(24))(char_embeddings)\n",
    "char_model=tf.keras.Model(inputs=char_inputs,\n",
    "                          outputs=char_bi_lstm)\n",
    "\n",
    "# 2. Branch numbers model\n",
    "branch_numbers_inputs=layers.Input(shape=(3,) ,dtype=tf.float32 ,name='branch_number_input')\n",
    "x=layers.Dense(32,activation='relu')(branch_numbers_inputs)\n",
    "branch_number_model=tf.keras.Model(inputs=branch_numbers_inputs,\n",
    "                                 outputs=x)\n",
    "\n",
    "# 3. Combine token and char embedding to a hybrid embeddding\n",
    "combined_embeddings=layers.Concatenate(name='char_token_hybrid_embeddings')([char_model.output,branch_number_model.output])\n",
    "\n",
    "\n",
    "output_layer=layers.Dense(num_classes,activation='softmax',name='output_layer')(combined_embeddings)\n",
    "\n",
    "\n",
    "# 4. Put together model with all kind of inputs\n",
    "model_9=tf.keras.Model(inputs=[char_model.input,\n",
    "                               branch_number_model.input],\n",
    "                       outputs=output_layer,\n",
    "                       name='model_9_char_embedding_branch_model')"
   ]
  },
  {
   "cell_type": "code",
   "execution_count": 142,
   "id": "71c01357",
   "metadata": {},
   "outputs": [
    {
     "name": "stdout",
     "output_type": "stream",
     "text": [
      "Model: \"model_9_char_embedding_branch_model\"\n",
      "__________________________________________________________________________________________________\n",
      " Layer (type)                   Output Shape         Param #     Connected to                     \n",
      "==================================================================================================\n",
      " char_inputs (InputLayer)       [(None, 1)]          0           []                               \n",
      "                                                                                                  \n",
      " char_vectorizer (TextVectoriza  (None, 2102)        0           ['char_inputs[0][0]']            \n",
      " tion)                                                                                            \n",
      "                                                                                                  \n",
      " char_embed (Embedding)         (None, 2102, 30)     1140        ['char_vectorizer[1][0]']        \n",
      "                                                                                                  \n",
      " branch_number_input (InputLaye  [(None, 3)]         0           []                               \n",
      " r)                                                                                               \n",
      "                                                                                                  \n",
      " bidirectional_7 (Bidirectional  (None, 48)          10560       ['char_embed[1][0]']             \n",
      " )                                                                                                \n",
      "                                                                                                  \n",
      " dense_22 (Dense)               (None, 32)           128         ['branch_number_input[0][0]']    \n",
      "                                                                                                  \n",
      " char_token_hybrid_embeddings (  (None, 80)          0           ['bidirectional_7[0][0]',        \n",
      " Concatenate)                                                     'dense_22[0][0]']               \n",
      "                                                                                                  \n",
      " output_layer (Dense)           (None, 5)            405         ['char_token_hybrid_embeddings[0]\n",
      "                                                                 [0]']                            \n",
      "                                                                                                  \n",
      "==================================================================================================\n",
      "Total params: 12,233\n",
      "Trainable params: 12,233\n",
      "Non-trainable params: 0\n",
      "__________________________________________________________________________________________________\n"
     ]
    }
   ],
   "source": [
    "#Get a summary of our hybrid embedding model\n",
    "model_9.summary()"
   ]
  },
  {
   "cell_type": "markdown",
   "id": "88ad0c55",
   "metadata": {},
   "source": [
    "### Create hybrid embedding datasets using tf.data"
   ]
  },
  {
   "cell_type": "code",
   "execution_count": 143,
   "id": "1391962b",
   "metadata": {},
   "outputs": [
    {
     "data": {
      "image/png": "[encoded data removed]",
      "text/plain": [
       "<IPython.core.display.Image object>"
      ]
     },
     "execution_count": 143,
     "metadata": {},
     "output_type": "execute_result"
    }
   ],
   "source": [
    "#Plot model_9 to explore it visually...\n",
    "from tensorflow.keras.utils import plot_model\n",
    "plot_model(model_9,show_shapes=True)"
   ]
  },
  {
   "cell_type": "code",
   "execution_count": 144,
   "id": "04f4d68a",
   "metadata": {},
   "outputs": [],
   "source": [
    "# Compile token,char and positional embedding model\n",
    "model_9.compile(loss=tf.keras.losses.CategoricalCrossentropy(label_smoothing=0.2), #helps to prevent overfitting\n",
    "                optimizer=tf.keras.optimizers.Adam(),\n",
    "                metrics=['accuracy'])"
   ]
  },
  {
   "cell_type": "markdown",
   "id": "4fccff67",
   "metadata": {},
   "source": [
    "### Create hybrid embedding datasets using tf.data"
   ]
  },
  {
   "cell_type": "code",
   "execution_count": 145,
   "id": "badef68c",
   "metadata": {},
   "outputs": [],
   "source": [
    "#Create training and validation datasets(with all four kind of input data)\n",
    "\n",
    "train_char_token_pos_data=tf.data.Dataset.from_tensor_slices((train_chars,\n",
    "                                                             train_branch_numbers_one_hot))\n",
    "\n",
    "train_char_token_pos_labels=tf.data.Dataset.from_tensor_slices(train_labels_one_hot)\n",
    "\n",
    "\n",
    "train_char_token_pos_dataset=tf.data.Dataset.zip((train_char_token_pos_data,train_char_token_pos_labels))\n",
    "\n",
    "train_char_token_pos_dataset=train_char_token_pos_dataset.batch(32).prefetch(tf.data.AUTOTUNE)\n",
    "\n",
    "#The same for test data\n",
    "\n",
    "test_char_token_pos_data=tf.data.Dataset.from_tensor_slices((test_chars,\n",
    "                                                             test_branch_numbers_one_hot))\n",
    "\n",
    "test_char_token_pos_labels=tf.data.Dataset.from_tensor_slices(test_labels_one_hot)\n",
    "\n",
    "\n",
    "test_char_token_pos_dataset=tf.data.Dataset.zip((test_char_token_pos_data,test_char_token_pos_labels))\n",
    "\n",
    "test_char_token_pos_dataset=test_char_token_pos_dataset.batch(32).prefetch(tf.data.AUTOTUNE)"
   ]
  },
  {
   "cell_type": "markdown",
   "id": "ce02638d",
   "metadata": {},
   "source": [
    "### Fitting, evaluating and making predictions with our hybrid model"
   ]
  },
  {
   "cell_type": "code",
   "execution_count": 146,
   "id": "44c7c62d",
   "metadata": {},
   "outputs": [
    {
     "name": "stdout",
     "output_type": "stream",
     "text": [
      "Epoch 1/10\n",
      "93/93 [==============================] - 265s 3s/step - loss: 1.3796 - accuracy: 0.5319 - val_loss: 1.3485 - val_accuracy: 0.5336\n",
      "Epoch 2/10\n",
      "93/93 [==============================] - 243s 3s/step - loss: 1.3428 - accuracy: 0.5417 - val_loss: 1.3407 - val_accuracy: 0.5336\n",
      "Epoch 3/10\n",
      "93/93 [==============================] - 243s 3s/step - loss: 1.3461 - accuracy: 0.5302 - val_loss: 1.3406 - val_accuracy: 0.5336\n",
      "Epoch 4/10\n",
      "93/93 [==============================] - 244s 3s/step - loss: 1.3369 - accuracy: 0.5407 - val_loss: 1.3368 - val_accuracy: 0.5336\n",
      "Epoch 5/10\n",
      "93/93 [==============================] - 236s 3s/step - loss: 1.3482 - accuracy: 0.5319 - val_loss: 1.3377 - val_accuracy: 0.5336\n",
      "Epoch 6/10\n",
      "93/93 [==============================] - 246s 3s/step - loss: 1.3295 - accuracy: 0.5497 - val_loss: 1.3340 - val_accuracy: 0.5336\n",
      "Epoch 7/10\n",
      "93/93 [==============================] - 258s 3s/step - loss: 1.3309 - accuracy: 0.5433 - val_loss: 1.3336 - val_accuracy: 0.5344\n",
      "Epoch 8/10\n",
      "93/93 [==============================] - 249s 3s/step - loss: 1.3290 - accuracy: 0.5477 - val_loss: 1.3329 - val_accuracy: 0.5336\n",
      "Epoch 9/10\n",
      "93/93 [==============================] - 238s 3s/step - loss: 1.3250 - accuracy: 0.5595 - val_loss: 1.3340 - val_accuracy: 0.5367\n",
      "Epoch 10/10\n",
      "93/93 [==============================] - 243s 3s/step - loss: 1.3410 - accuracy: 0.5309 - val_loss: 1.3454 - val_accuracy: 0.5305\n"
     ]
    }
   ],
   "source": [
    "#Fit our tribrid embedding modeel\n",
    "history_model_9=model_9.fit(train_char_token_pos_dataset,\n",
    "                            steps_per_epoch=int(0.1*len(train_char_token_pos_dataset)),\n",
    "                            epochs=10,\n",
    "                            validation_data=test_char_token_pos_dataset,\n",
    "                            validation_steps=int(0.1*len(test_char_token_pos_dataset)))"
   ]
  },
  {
   "cell_type": "code",
   "execution_count": 147,
   "id": "0466ceb9",
   "metadata": {},
   "outputs": [
    {
     "data": {
      "text/plain": [
       "array([[0.06900655, 0.08370335, 0.18151022, 0.30894652, 0.35683337],\n",
       "       [0.12009675, 0.12512535, 0.20015664, 0.26527214, 0.2893492 ],\n",
       "       [0.1023321 , 0.10210586, 0.17461944, 0.26363924, 0.3573034 ],\n",
       "       ...,\n",
       "       [0.06530333, 0.07800313, 0.17864376, 0.34303495, 0.33501488],\n",
       "       [0.10797583, 0.11638252, 0.18720433, 0.27653903, 0.31189832],\n",
       "       [0.11587136, 0.11650264, 0.19425738, 0.26522934, 0.30813926]],\n",
       "      dtype=float32)"
      ]
     },
     "execution_count": 147,
     "metadata": {},
     "output_type": "execute_result"
    }
   ],
   "source": [
    "#Make predictions with the char token model\n",
    "model_9_preds_probs=model_9.predict(test_char_token_pos_dataset,verbose=0)\n",
    "model_9_preds_probs"
   ]
  },
  {
   "cell_type": "code",
   "execution_count": 148,
   "id": "16b520b5",
   "metadata": {},
   "outputs": [
    {
     "data": {
      "text/plain": [
       "<tf.Tensor: shape=(12797,), dtype=int64, numpy=array([4, 4, 4, ..., 3, 4, 4], dtype=int64)>"
      ]
     },
     "execution_count": 148,
     "metadata": {},
     "output_type": "execute_result"
    }
   ],
   "source": [
    "#Convert pred probs to pred labels\n",
    "model_9_preds=tf.argmax(model_9_preds_probs,axis=1)\n",
    "model_9_preds"
   ]
  },
  {
   "cell_type": "code",
   "execution_count": 149,
   "id": "de8f2694",
   "metadata": {},
   "outputs": [
    {
     "data": {
      "text/plain": [
       "{'accuracy': 0.537, 'precision': 0.394, 'recall': 0.537, 'f1': 0.435}"
      ]
     },
     "execution_count": 149,
     "metadata": {},
     "output_type": "execute_result"
    }
   ],
   "source": [
    "#Calculate results of char token pos model\n",
    "model_9_results=calculate_results(test_labels_encoded,\n",
    "                                  model_9_preds)\n",
    "\n",
    "model_9_results"
   ]
  },
  {
   "cell_type": "markdown",
   "id": "3e2c8ed1",
   "metadata": {},
   "source": [
    "## Model 10: Combining pretrained token embeddings + character embeddings + the \"Branch\" one hot data"
   ]
  },
  {
   "cell_type": "code",
   "execution_count": 151,
   "id": "b23c2983",
   "metadata": {},
   "outputs": [],
   "source": [
    "#1. Token inputs\n",
    "token_inputs=layers.Input(shape=[] ,dtype='string' ,name='token_inputs')\n",
    "token_embeddings=tf_hub_embedding_layer(token_inputs)\n",
    "token_outputs=layers.Dense(128,activation='relu')(token_embeddings)\n",
    "token_model=tf.keras.Model(inputs=token_inputs,\n",
    "                           outputs=token_outputs)\n",
    "\n",
    "# 2. Char inputs\n",
    "char_inputs=layers.Input(shape=(1,) ,dtype='string',name='char_inputs')\n",
    "char_vectors=char_vectorizer(char_inputs)\n",
    "char_embeddings=char_embed(char_vectors)\n",
    "char_bi_lstm=layers.Bidirectional(layers.LSTM(24))(char_embeddings)\n",
    "char_model=tf.keras.Model(inputs=char_inputs,\n",
    "                          outputs=char_bi_lstm)\n",
    "\n",
    "# 3. Branch numbers model\n",
    "branch_numbers_inputs=layers.Input(shape=(3,) ,dtype=tf.float32 ,name='branch_number_input')\n",
    "x=layers.Dense(32,activation='relu')(branch_numbers_inputs)\n",
    "branch_number_model=tf.keras.Model(inputs=branch_numbers_inputs,\n",
    "                                 outputs=x)\n",
    "\n",
    "\n",
    "# 4. Combine token and char embedding to a hybrid embeddding\n",
    "tribried_embeddings=layers.Concatenate(name='char_token_hybrid_embeddings')([token_model.output,char_model.output,branch_number_model.output])\n",
    "\n",
    "\n",
    "output_layer=layers.Dense(num_classes,activation='softmax',name='output_layer')(tribried_embeddings)\n",
    "\n",
    "\n",
    "# 4. Put together model with all kind of inputs\n",
    "model_10=tf.keras.Model(inputs=[token_model.input,char_model.input,\n",
    "                               branch_number_model.input],\n",
    "                       outputs=output_layer,\n",
    "                       name='model_10_token_char_embedding_branch_model')"
   ]
  },
  {
   "cell_type": "code",
   "execution_count": 152,
   "id": "d1e77d65",
   "metadata": {},
   "outputs": [
    {
     "name": "stdout",
     "output_type": "stream",
     "text": [
      "Model: \"model_10_token_char_embedding_branch_model\"\n",
      "__________________________________________________________________________________________________\n",
      " Layer (type)                   Output Shape         Param #     Connected to                     \n",
      "==================================================================================================\n",
      " char_inputs (InputLayer)       [(None, 1)]          0           []                               \n",
      "                                                                                                  \n",
      " token_inputs (InputLayer)      [(None,)]            0           []                               \n",
      "                                                                                                  \n",
      " char_vectorizer (TextVectoriza  (None, 2102)        0           ['char_inputs[0][0]']            \n",
      " tion)                                                                                            \n",
      "                                                                                                  \n",
      " universal_sentence_encoder (Ke  (None, 512)         256797824   ['token_inputs[0][0]']           \n",
      " rasLayer)                                                                                        \n",
      "                                                                                                  \n",
      " char_embed (Embedding)         (None, 2102, 30)     1140        ['char_vectorizer[2][0]']        \n",
      "                                                                                                  \n",
      " branch_number_input (InputLaye  [(None, 3)]         0           []                               \n",
      " r)                                                                                               \n",
      "                                                                                                  \n",
      " dense_23 (Dense)               (None, 128)          65664       ['universal_sentence_encoder[7][0\n",
      "                                                                 ]']                              \n",
      "                                                                                                  \n",
      " bidirectional_8 (Bidirectional  (None, 48)          10560       ['char_embed[2][0]']             \n",
      " )                                                                                                \n",
      "                                                                                                  \n",
      " dense_24 (Dense)               (None, 32)           128         ['branch_number_input[0][0]']    \n",
      "                                                                                                  \n",
      " char_token_hybrid_embeddings (  (None, 208)         0           ['dense_23[0][0]',               \n",
      " Concatenate)                                                     'bidirectional_8[0][0]',        \n",
      "                                                                  'dense_24[0][0]']               \n",
      "                                                                                                  \n",
      " output_layer (Dense)           (None, 5)            1045        ['char_token_hybrid_embeddings[0]\n",
      "                                                                 [0]']                            \n",
      "                                                                                                  \n",
      "==================================================================================================\n",
      "Total params: 256,876,361\n",
      "Trainable params: 78,537\n",
      "Non-trainable params: 256,797,824\n",
      "__________________________________________________________________________________________________\n"
     ]
    }
   ],
   "source": [
    "#Get a summary of our tribid embedding model\n",
    "model_10.summary()"
   ]
  },
  {
   "cell_type": "code",
   "execution_count": 153,
   "id": "e7d98c6f",
   "metadata": {},
   "outputs": [
    {
     "data": {
      "image/png": "[encoded data removed]",
      "text/plain": [
       "<IPython.core.display.Image object>"
      ]
     },
     "execution_count": 153,
     "metadata": {},
     "output_type": "execute_result"
    }
   ],
   "source": [
    "#Plot model_10 to explore it visually...\n",
    "from tensorflow.keras.utils import plot_model\n",
    "plot_model(model_10,show_shapes=True)"
   ]
  },
  {
   "cell_type": "code",
   "execution_count": 154,
   "id": "4c4882e1",
   "metadata": {},
   "outputs": [],
   "source": [
    "# Compile token,char and positional embedding model\n",
    "model_10.compile(loss=tf.keras.losses.CategoricalCrossentropy(label_smoothing=0.2), #helps to prevent overfitting\n",
    "                optimizer=tf.keras.optimizers.Adam(),\n",
    "                metrics=['accuracy'])"
   ]
  },
  {
   "cell_type": "markdown",
   "id": "5b4e4c1d",
   "metadata": {},
   "source": [
    "### Create tribrid embedding datasets using tf.data"
   ]
  },
  {
   "cell_type": "code",
   "execution_count": 155,
   "id": "2205c1f5",
   "metadata": {},
   "outputs": [],
   "source": [
    "#Create training and validation datasets(with all four kind of input data)\n",
    "\n",
    "train_char_token_pos_data=tf.data.Dataset.from_tensor_slices((X_train[['Review_Text']].values.ravel(),train_chars,\n",
    "                                                             train_branch_numbers_one_hot))\n",
    "\n",
    "train_char_token_pos_labels=tf.data.Dataset.from_tensor_slices(train_labels_one_hot)\n",
    "\n",
    "\n",
    "train_char_token_pos_dataset=tf.data.Dataset.zip((train_char_token_pos_data,train_char_token_pos_labels))\n",
    "\n",
    "train_char_token_pos_dataset=train_char_token_pos_dataset.batch(32).prefetch(tf.data.AUTOTUNE)\n",
    "\n",
    "#The same for test data\n",
    "\n",
    "test_char_token_pos_data=tf.data.Dataset.from_tensor_slices((X_test[['Review_Text']].values.ravel(),test_chars,\n",
    "                                                             test_branch_numbers_one_hot))\n",
    "\n",
    "test_char_token_pos_labels=tf.data.Dataset.from_tensor_slices(test_labels_one_hot)\n",
    "\n",
    "\n",
    "test_char_token_pos_dataset=tf.data.Dataset.zip((test_char_token_pos_data,test_char_token_pos_labels))\n",
    "\n",
    "test_char_token_pos_dataset=test_char_token_pos_dataset.batch(32).prefetch(tf.data.AUTOTUNE)"
   ]
  },
  {
   "cell_type": "markdown",
   "id": "2f1c8a68",
   "metadata": {},
   "source": [
    "### Fitting, evaluating and making predictions with our tribrid model"
   ]
  },
  {
   "cell_type": "code",
   "execution_count": 157,
   "id": "7bbe2231",
   "metadata": {},
   "outputs": [
    {
     "name": "stdout",
     "output_type": "stream",
     "text": [
      "Epoch 1/10\n",
      "93/93 [==============================] - 249s 3s/step - loss: 1.1947 - accuracy: 0.6186 - val_loss: 1.2023 - val_accuracy: 0.5984\n",
      "Epoch 2/10\n",
      "93/93 [==============================] - 246s 3s/step - loss: 1.1949 - accuracy: 0.6092 - val_loss: 1.1905 - val_accuracy: 0.6102\n",
      "Epoch 3/10\n",
      "93/93 [==============================] - 235s 3s/step - loss: 1.1982 - accuracy: 0.5981 - val_loss: 1.1944 - val_accuracy: 0.6039\n",
      "Epoch 4/10\n",
      "93/93 [==============================] - 234s 3s/step - loss: 1.1894 - accuracy: 0.6139 - val_loss: 1.1896 - val_accuracy: 0.6125\n",
      "Epoch 5/10\n",
      "93/93 [==============================] - 231s 2s/step - loss: 1.1938 - accuracy: 0.6065 - val_loss: 1.1891 - val_accuracy: 0.6172\n",
      "Epoch 6/10\n",
      "93/93 [==============================] - 233s 3s/step - loss: 1.1956 - accuracy: 0.6156 - val_loss: 1.1852 - val_accuracy: 0.6016\n",
      "Epoch 7/10\n",
      "93/93 [==============================] - 470s 5s/step - loss: 1.1834 - accuracy: 0.6095 - val_loss: 1.1881 - val_accuracy: 0.6117\n",
      "Epoch 8/10\n",
      "93/93 [==============================] - 237s 3s/step - loss: 1.1845 - accuracy: 0.6163 - val_loss: 1.1820 - val_accuracy: 0.6203\n",
      "Epoch 9/10\n",
      "93/93 [==============================] - 246s 3s/step - loss: 1.1725 - accuracy: 0.6210 - val_loss: 1.1820 - val_accuracy: 0.6211\n",
      "Epoch 10/10\n",
      "93/93 [==============================] - 245s 3s/step - loss: 1.1855 - accuracy: 0.6139 - val_loss: 1.1868 - val_accuracy: 0.6125\n"
     ]
    }
   ],
   "source": [
    "#Fit our tribrid embedding modeel\n",
    "history_model_10=model_10.fit(train_char_token_pos_dataset,\n",
    "                            steps_per_epoch=int(0.1*len(train_char_token_pos_dataset)),\n",
    "                            epochs=10,\n",
    "                            validation_data=test_char_token_pos_dataset,\n",
    "                            validation_steps=int(0.1*len(test_char_token_pos_dataset)))"
   ]
  },
  {
   "cell_type": "code",
   "execution_count": 158,
   "id": "dfe42943",
   "metadata": {},
   "outputs": [
    {
     "data": {
      "text/plain": [
       "array([[0.03885975, 0.04774693, 0.08006403, 0.23673473, 0.59659445],\n",
       "       [0.20571372, 0.17222883, 0.2852063 , 0.22091477, 0.11593637],\n",
       "       [0.0928267 , 0.07097445, 0.11641786, 0.24032252, 0.47945836],\n",
       "       ...,\n",
       "       [0.0557563 , 0.06421473, 0.19884183, 0.4693583 , 0.21182881],\n",
       "       [0.02731932, 0.02782192, 0.06398258, 0.2787126 , 0.6021636 ],\n",
       "       [0.04197752, 0.02920288, 0.03334565, 0.1282697 , 0.7672042 ]],\n",
       "      dtype=float32)"
      ]
     },
     "execution_count": 158,
     "metadata": {},
     "output_type": "execute_result"
    }
   ],
   "source": [
    "#Make predictions with the char token model\n",
    "model_10_preds_probs=model_10.predict(test_char_token_pos_dataset,verbose=0)\n",
    "model_10_preds_probs"
   ]
  },
  {
   "cell_type": "code",
   "execution_count": 159,
   "id": "c7a735aa",
   "metadata": {},
   "outputs": [
    {
     "data": {
      "text/plain": [
       "<tf.Tensor: shape=(12797,), dtype=int64, numpy=array([4, 2, 4, ..., 3, 4, 4], dtype=int64)>"
      ]
     },
     "execution_count": 159,
     "metadata": {},
     "output_type": "execute_result"
    }
   ],
   "source": [
    "#Convert pred probs to pred labels\n",
    "model_10_preds=tf.argmax(model_10_preds_probs,axis=1)\n",
    "model_10_preds"
   ]
  },
  {
   "cell_type": "code",
   "execution_count": 160,
   "id": "99e7b1b4",
   "metadata": {},
   "outputs": [
    {
     "data": {
      "text/plain": [
       "{'accuracy': 0.615, 'precision': 0.589, 'recall': 0.615, 'f1': 0.593}"
      ]
     },
     "execution_count": 160,
     "metadata": {},
     "output_type": "execute_result"
    }
   ],
   "source": [
    "#Calculate results of char token pos model\n",
    "model_10_results=calculate_results(test_labels_encoded,\n",
    "                                  model_10_preds)\n",
    "\n",
    "model_10_results"
   ]
  },
  {
   "cell_type": "markdown",
   "id": "70be2dd3",
   "metadata": {},
   "source": [
    "## Comparing the performance of each of our models"
   ]
  },
  {
   "cell_type": "code",
   "execution_count": 161,
   "id": "083986f0",
   "metadata": {},
   "outputs": [
    {
     "data": {
      "text/html": [
       "<div>\n",
       "<style scoped>\n",
       "    .dataframe tbody tr th:only-of-type {\n",
       "        vertical-align: middle;\n",
       "    }\n",
       "\n",
       "    .dataframe tbody tr th {\n",
       "        vertical-align: top;\n",
       "    }\n",
       "\n",
       "    .dataframe thead th {\n",
       "        text-align: right;\n",
       "    }\n",
       "</style>\n",
       "<table border=\"1\" class=\"dataframe\">\n",
       "  <thead>\n",
       "    <tr style=\"text-align: right;\">\n",
       "      <th></th>\n",
       "      <th>accuracy</th>\n",
       "      <th>precision</th>\n",
       "      <th>recall</th>\n",
       "      <th>f1</th>\n",
       "    </tr>\n",
       "  </thead>\n",
       "  <tbody>\n",
       "    <tr>\n",
       "      <th>Model 0: Best Basic ML Model</th>\n",
       "      <td>0.629</td>\n",
       "      <td>0.594</td>\n",
       "      <td>0.629</td>\n",
       "      <td>0.601</td>\n",
       "    </tr>\n",
       "    <tr>\n",
       "      <th>Model 1: Dense model using Sequential API + TF-IDF</th>\n",
       "      <td>0.543</td>\n",
       "      <td>0.294</td>\n",
       "      <td>0.543</td>\n",
       "      <td>0.382</td>\n",
       "    </tr>\n",
       "    <tr>\n",
       "      <th>Model 2: Conv1D with token embeddings</th>\n",
       "      <td>0.617</td>\n",
       "      <td>0.563</td>\n",
       "      <td>0.617</td>\n",
       "      <td>0.585</td>\n",
       "    </tr>\n",
       "    <tr>\n",
       "      <th>Model 3: LSTM</th>\n",
       "      <td>0.573</td>\n",
       "      <td>0.576</td>\n",
       "      <td>0.573</td>\n",
       "      <td>0.570</td>\n",
       "    </tr>\n",
       "    <tr>\n",
       "      <th>Model 4: GRU</th>\n",
       "      <td>0.607</td>\n",
       "      <td>0.610</td>\n",
       "      <td>0.607</td>\n",
       "      <td>0.597</td>\n",
       "    </tr>\n",
       "    <tr>\n",
       "      <th>Model 5: Bidirectional RNN</th>\n",
       "      <td>0.609</td>\n",
       "      <td>0.595</td>\n",
       "      <td>0.609</td>\n",
       "      <td>0.599</td>\n",
       "    </tr>\n",
       "    <tr>\n",
       "      <th>Model 6: Feature Extraction with pretrained token embeddings</th>\n",
       "      <td>0.608</td>\n",
       "      <td>0.588</td>\n",
       "      <td>0.608</td>\n",
       "      <td>0.593</td>\n",
       "    </tr>\n",
       "    <tr>\n",
       "      <th>Model 7: Pretrained token embeddings + characters embeddings</th>\n",
       "      <td>0.602</td>\n",
       "      <td>0.602</td>\n",
       "      <td>0.602</td>\n",
       "      <td>0.598</td>\n",
       "    </tr>\n",
       "    <tr>\n",
       "      <th>Model 8: Pretrained token embeddings + the Branch One Hot Data</th>\n",
       "      <td>0.612</td>\n",
       "      <td>0.576</td>\n",
       "      <td>0.612</td>\n",
       "      <td>0.589</td>\n",
       "    </tr>\n",
       "    <tr>\n",
       "      <th>Model 9: Character embeddings + the Branch One Hot Data</th>\n",
       "      <td>0.537</td>\n",
       "      <td>0.394</td>\n",
       "      <td>0.537</td>\n",
       "      <td>0.435</td>\n",
       "    </tr>\n",
       "    <tr>\n",
       "      <th>Model 10: Pretrained token embeddings +  Character embeddings + the Branch One Hot Data</th>\n",
       "      <td>0.615</td>\n",
       "      <td>0.589</td>\n",
       "      <td>0.615</td>\n",
       "      <td>0.593</td>\n",
       "    </tr>\n",
       "  </tbody>\n",
       "</table>\n",
       "</div>"
      ],
      "text/plain": [
       "                                                    accuracy  precision  \\\n",
       "Model 0: Best Basic ML Model                           0.629      0.594   \n",
       "Model 1: Dense model using Sequential API + TF-...     0.543      0.294   \n",
       "Model 2: Conv1D with token embeddings                  0.617      0.563   \n",
       "Model 3: LSTM                                          0.573      0.576   \n",
       "Model 4: GRU                                           0.607      0.610   \n",
       "Model 5: Bidirectional RNN                             0.609      0.595   \n",
       "Model 6: Feature Extraction with pretrained tok...     0.608      0.588   \n",
       "Model 7: Pretrained token embeddings + characte...     0.602      0.602   \n",
       "Model 8: Pretrained token embeddings + the Bran...     0.612      0.576   \n",
       "Model 9: Character embeddings + the Branch One ...     0.537      0.394   \n",
       "Model 10: Pretrained token embeddings +  Charac...     0.615      0.589   \n",
       "\n",
       "                                                    recall    f1  \n",
       "Model 0: Best Basic ML Model                         0.629 0.601  \n",
       "Model 1: Dense model using Sequential API + TF-...   0.543 0.382  \n",
       "Model 2: Conv1D with token embeddings                0.617 0.585  \n",
       "Model 3: LSTM                                        0.573 0.570  \n",
       "Model 4: GRU                                         0.607 0.597  \n",
       "Model 5: Bidirectional RNN                           0.609 0.599  \n",
       "Model 6: Feature Extraction with pretrained tok...   0.608 0.593  \n",
       "Model 7: Pretrained token embeddings + characte...   0.602 0.598  \n",
       "Model 8: Pretrained token embeddings + the Bran...   0.612 0.589  \n",
       "Model 9: Character embeddings + the Branch One ...   0.537 0.435  \n",
       "Model 10: Pretrained token embeddings +  Charac...   0.615 0.593  "
      ]
     },
     "execution_count": 161,
     "metadata": {},
     "output_type": "execute_result"
    }
   ],
   "source": [
    "#Combining model results into a DataFrame\n",
    "all_model_results=pd.DataFrame({'Model 0: Best Basic ML Model':baseline_results,\n",
    "                                \"Model 1: Dense model using Sequential API + TF-IDF \":model_1_results,\n",
    "                                \"Model 2: Conv1D with token embeddings\":model_2_results,\n",
    "                                \"Model 3: LSTM\":model_3_results,\n",
    "                                \"Model 4: GRU\":model_4_results,\n",
    "                                \"Model 5: Bidirectional RNN\":model_5_results,\n",
    "                                \"Model 6: Feature Extraction with pretrained token embeddings\":model_6_results,\n",
    "                                \"Model 7: Pretrained token embeddings + characters embeddings\":model_7_results,\n",
    "                                \"Model 8: Pretrained token embeddings + the Branch One Hot Data\": model_8_results,\n",
    "                                \"Model 9: Character embeddings + the Branch One Hot Data\":model_9_results,\n",
    "                                \"Model 10: Pretrained token embeddings +  Character embeddings + the Branch One Hot Data\":model_10_results})\n",
    " \n",
    "all_model_results=all_model_results.T\n",
    "\n",
    "all_model_results"
   ]
  },
  {
   "cell_type": "code",
   "execution_count": 162,
   "id": "d95bf116",
   "metadata": {},
   "outputs": [
    {
     "data": {
      "image/png": "[encoded data removed]",
      "text/plain": [
       "<Figure size 700x300 with 1 Axes>"
      ]
     },
     "metadata": {},
     "output_type": "display_data"
    }
   ],
   "source": [
    "#Plot and compare all of the model results\n",
    "all_model_results.plot(kind='bar',figsize=(7,3)).legend(bbox_to_anchor=(1,1));"
   ]
  },
  {
   "cell_type": "code",
   "execution_count": 163,
   "id": "9345f47d",
   "metadata": {},
   "outputs": [
    {
     "data": {
      "image/png": "[encoded data removed]",
      "text/plain": [
       "<Figure size 700x300 with 1 Axes>"
      ]
     },
     "metadata": {},
     "output_type": "display_data"
    }
   ],
   "source": [
    "#Sort model results by f1-score\n",
    "all_model_results.sort_values(\"f1\",ascending=False)[\"f1\"].plot(kind='bar',figsize=(7,3));"
   ]
  },
  {
   "cell_type": "markdown",
   "id": "7578b27a",
   "metadata": {},
   "source": [
    "## Finding the most wrong examples"
   ]
  },
  {
   "cell_type": "code",
   "execution_count": 164,
   "id": "c3d1150a",
   "metadata": {},
   "outputs": [
    {
     "name": "stdout",
     "output_type": "stream",
     "text": [
      "400/400 [==============================] - 157s 384ms/step\n"
     ]
    },
    {
     "data": {
      "text/plain": [
       "array([4, 2, 3, ..., 3, 4, 4], dtype=int64)"
      ]
     },
     "execution_count": 164,
     "metadata": {},
     "output_type": "execute_result"
    }
   ],
   "source": [
    "#Making predictions with one of the best models (Model_5)\n",
    "model_5_pred_probs=model_5.predict(test_dataset)\n",
    "model_5_preds=np.argmax(model_5_pred_probs,axis=1)\n",
    "model_5_preds"
   ]
  },
  {
   "cell_type": "code",
   "execution_count": 165,
   "id": "208598fd",
   "metadata": {},
   "outputs": [
    {
     "data": {
      "text/html": [
       "<div>\n",
       "<style scoped>\n",
       "    .dataframe tbody tr th:only-of-type {\n",
       "        vertical-align: middle;\n",
       "    }\n",
       "\n",
       "    .dataframe tbody tr th {\n",
       "        vertical-align: top;\n",
       "    }\n",
       "\n",
       "    .dataframe thead th {\n",
       "        text-align: right;\n",
       "    }\n",
       "</style>\n",
       "<table border=\"1\" class=\"dataframe\">\n",
       "  <thead>\n",
       "    <tr style=\"text-align: right;\">\n",
       "      <th></th>\n",
       "      <th>text</th>\n",
       "      <th>target</th>\n",
       "      <th>pred</th>\n",
       "      <th>pred_prob</th>\n",
       "    </tr>\n",
       "  </thead>\n",
       "  <tbody>\n",
       "    <tr>\n",
       "      <th>0</th>\n",
       "      <td>the happiest place on earth. disneyland hong k...</td>\n",
       "      <td>3</td>\n",
       "      <td>4</td>\n",
       "      <td>0.991</td>\n",
       "    </tr>\n",
       "    <tr>\n",
       "      <th>1</th>\n",
       "      <td>we visited disneyland paris from march 20th   ...</td>\n",
       "      <td>3</td>\n",
       "      <td>2</td>\n",
       "      <td>0.991</td>\n",
       "    </tr>\n",
       "    <tr>\n",
       "      <th>2</th>\n",
       "      <td>i have been a guest, but also an employee at d...</td>\n",
       "      <td>4</td>\n",
       "      <td>3</td>\n",
       "      <td>0.991</td>\n",
       "    </tr>\n",
       "    <tr>\n",
       "      <th>3</th>\n",
       "      <td>first thing first, you need to have the flyers...</td>\n",
       "      <td>4</td>\n",
       "      <td>4</td>\n",
       "      <td>0.991</td>\n",
       "    </tr>\n",
       "    <tr>\n",
       "      <th>4</th>\n",
       "      <td>for my surprise tickets were 80 per person per...</td>\n",
       "      <td>4</td>\n",
       "      <td>0</td>\n",
       "      <td>0.991</td>\n",
       "    </tr>\n",
       "  </tbody>\n",
       "</table>\n",
       "</div>"
      ],
      "text/plain": [
       "                                                text  target  pred  pred_prob\n",
       "0  the happiest place on earth. disneyland hong k...       3     4      0.991\n",
       "1  we visited disneyland paris from march 20th   ...       3     2      0.991\n",
       "2  i have been a guest, but also an employee at d...       4     3      0.991\n",
       "3  first thing first, you need to have the flyers...       4     4      0.991\n",
       "4  for my surprise tickets were 80 per person per...       4     0      0.991"
      ]
     },
     "execution_count": 165,
     "metadata": {},
     "output_type": "execute_result"
    }
   ],
   "source": [
    "#Create a DataFrame with test sentences, validation labels and best performing model prediction labels + probabilities\n",
    "test_df=pd.DataFrame({\"text\":X_test[[\"Review_Text\"]].values.ravel(),\n",
    "                     \"target\":test_labels_encoded,\n",
    "                     \"pred\":model_5_preds,\n",
    "                     \"pred_prob\":np.max(model_5_pred_probs)\n",
    "\n",
    "\n",
    "})\n",
    "\n",
    "test_df.head()\n"
   ]
  },
  {
   "cell_type": "code",
   "execution_count": 166,
   "id": "e0b6b4d6",
   "metadata": {},
   "outputs": [
    {
     "data": {
      "text/html": [
       "<div>\n",
       "<style scoped>\n",
       "    .dataframe tbody tr th:only-of-type {\n",
       "        vertical-align: middle;\n",
       "    }\n",
       "\n",
       "    .dataframe tbody tr th {\n",
       "        vertical-align: top;\n",
       "    }\n",
       "\n",
       "    .dataframe thead th {\n",
       "        text-align: right;\n",
       "    }\n",
       "</style>\n",
       "<table border=\"1\" class=\"dataframe\">\n",
       "  <thead>\n",
       "    <tr style=\"text-align: right;\">\n",
       "      <th></th>\n",
       "      <th>text</th>\n",
       "      <th>target</th>\n",
       "      <th>pred</th>\n",
       "      <th>pred_prob</th>\n",
       "    </tr>\n",
       "  </thead>\n",
       "  <tbody>\n",
       "    <tr>\n",
       "      <th>0</th>\n",
       "      <td>the happiest place on earth. disneyland hong k...</td>\n",
       "      <td>3</td>\n",
       "      <td>4</td>\n",
       "      <td>0.991</td>\n",
       "    </tr>\n",
       "    <tr>\n",
       "      <th>8508</th>\n",
       "      <td>dream come true! how i wish i was with my whol...</td>\n",
       "      <td>4</td>\n",
       "      <td>3</td>\n",
       "      <td>0.991</td>\n",
       "    </tr>\n",
       "    <tr>\n",
       "      <th>8519</th>\n",
       "      <td>love disneyland however hard to find decent qu...</td>\n",
       "      <td>3</td>\n",
       "      <td>2</td>\n",
       "      <td>0.991</td>\n",
       "    </tr>\n",
       "    <tr>\n",
       "      <th>8516</th>\n",
       "      <td>going here is really convenient because of mtr...</td>\n",
       "      <td>3</td>\n",
       "      <td>4</td>\n",
       "      <td>0.991</td>\n",
       "    </tr>\n",
       "    <tr>\n",
       "      <th>8515</th>\n",
       "      <td>hk disneyland has 5 theme parks. if you wanna ...</td>\n",
       "      <td>3</td>\n",
       "      <td>2</td>\n",
       "      <td>0.991</td>\n",
       "    </tr>\n",
       "    <tr>\n",
       "      <th>8513</th>\n",
       "      <td>when did the prices get so ridiculous? i know ...</td>\n",
       "      <td>4</td>\n",
       "      <td>3</td>\n",
       "      <td>0.991</td>\n",
       "    </tr>\n",
       "    <tr>\n",
       "      <th>8512</th>\n",
       "      <td>went with family this half term it was very, v...</td>\n",
       "      <td>2</td>\n",
       "      <td>0</td>\n",
       "      <td>0.991</td>\n",
       "    </tr>\n",
       "    <tr>\n",
       "      <th>8511</th>\n",
       "      <td>very good place to visit either on your own as...</td>\n",
       "      <td>4</td>\n",
       "      <td>3</td>\n",
       "      <td>0.991</td>\n",
       "    </tr>\n",
       "    <tr>\n",
       "      <th>8510</th>\n",
       "      <td>anyone who comes to disneyland with a car, hav...</td>\n",
       "      <td>4</td>\n",
       "      <td>2</td>\n",
       "      <td>0.991</td>\n",
       "    </tr>\n",
       "    <tr>\n",
       "      <th>8507</th>\n",
       "      <td>my first ever visit to one of disneylands all ...</td>\n",
       "      <td>3</td>\n",
       "      <td>4</td>\n",
       "      <td>0.991</td>\n",
       "    </tr>\n",
       "  </tbody>\n",
       "</table>\n",
       "</div>"
      ],
      "text/plain": [
       "                                                   text  target  pred  \\\n",
       "0     the happiest place on earth. disneyland hong k...       3     4   \n",
       "8508  dream come true! how i wish i was with my whol...       4     3   \n",
       "8519  love disneyland however hard to find decent qu...       3     2   \n",
       "8516  going here is really convenient because of mtr...       3     4   \n",
       "8515  hk disneyland has 5 theme parks. if you wanna ...       3     2   \n",
       "8513  when did the prices get so ridiculous? i know ...       4     3   \n",
       "8512  went with family this half term it was very, v...       2     0   \n",
       "8511  very good place to visit either on your own as...       4     3   \n",
       "8510  anyone who comes to disneyland with a car, hav...       4     2   \n",
       "8507  my first ever visit to one of disneylands all ...       3     4   \n",
       "\n",
       "      pred_prob  \n",
       "0         0.991  \n",
       "8508      0.991  \n",
       "8519      0.991  \n",
       "8516      0.991  \n",
       "8515      0.991  \n",
       "8513      0.991  \n",
       "8512      0.991  \n",
       "8511      0.991  \n",
       "8510      0.991  \n",
       "8507      0.991  "
      ]
     },
     "execution_count": 166,
     "metadata": {},
     "output_type": "execute_result"
    }
   ],
   "source": [
    "#Find the wrong predictions and sort by prediction probabilities\n",
    "most_wrong=test_df[test_df[\"target\"]!=test_df[\"pred\"]].sort_values(\"pred_prob\",ascending=False)\n",
    "most_wrong[:10]"
   ]
  },
  {
   "cell_type": "code",
   "execution_count": 167,
   "id": "ec868c79",
   "metadata": {},
   "outputs": [
    {
     "name": "stdout",
     "output_type": "stream",
     "text": [
      "Target:3, Pred:4, Prob:0.9905732274055481\n",
      "Text:\n",
      "the happiest place on earth. disneyland hong kong does not disappoint.re creating many of the exact features of the original one in california but on a much smaller scale, the theme park contains the usual four disney themed lands along with classic rides and attractions, as well as high caliber performances, shows and parades. don't miss the space mountain ride and feel like a real space rider. and before the day ends witness the night sky come alive with this dazzling pyrotechnic pageant   disney in the stars!the park is small enough that all attractions should be accessible in one day. the tickets may be slightly expensive, but they're worth it. all in all, disneyland is a wonderful place, and i recommend giving it a chance!\n",
      "\n",
      "----\n",
      "\n",
      "Target:4, Pred:3, Prob:0.9905732274055481\n",
      "Text:\n",
      "dream come true! how i wish i was with my whole family when we went here.there is indeed a tear jerking moment when i saw mickey mouse and friends during the parade plus the most awaited fireworks before the park closes!!!we were here the whole day! we went on a monday and its a good idea to go here on a weekday since there were no limited lines on the attractions. and oh i saw baymax!!! i was able to take picture with him and he's soooo adorable!!!there were wifi's on some common areas at the park such as souvenir shops and the main street. food is pricey we ate lunch here and we paid around hkd 300  per meal head. we also went shopping at the souvenir shop!!! too bad i was not able to ride all the attractions in disneyland. maybe 2 days will do? ill make sure to go back here to ride the other rides!\n",
      "\n",
      "----\n",
      "\n",
      "Target:3, Pred:2, Prob:0.9905732274055481\n",
      "Text:\n",
      "love disneyland however hard to find decent quick food, very overpriced and very busy everywhere.  not a fan of trying to walk through the very crowded parks but the fast passes make the lineups for rides tolerable.\n",
      "\n",
      "----\n",
      "\n",
      "Target:3, Pred:4, Prob:0.9905732274055481\n",
      "Text:\n",
      "going here is really convenient because of mtr. the disney mtr is fantastic! people will start taking photos inside the train. the whole disneyland is excellent. maps are everywhere and it is not hard to locate places. animation academy is also wonderful. however, prepare to listen to a chinese speaking artist. \n",
      "\n",
      "----\n",
      "\n",
      "Target:3, Pred:2, Prob:0.9905732274055481\n",
      "Text:\n",
      "hk disneyland has 5 theme parks. if you wanna go through each theme park, you have to spend a whole day there start from 10 am to 8pm. the ticket i bought from ct agency is hkd 550 including a yummy lunch at a restaurant inside disneyland.\n",
      "\n",
      "----\n",
      "\n",
      "Target:4, Pred:3, Prob:0.9905732274055481\n",
      "Text:\n",
      "when did the prices get so ridiculous? i know inflation  but it's been thirty years since  inflation  has doubled and disneyland has doubled in the last ten. hard to afford to be able to eat anything besides what you pick up at the gas station before coming in. we've been three times in the past ten years and this year's prices really seemed excessive. at least give us a free bottle of water or a food voucher. something. rides seemingly broke left and right while we were there and the fantasmic show was unwatchable because people lined up and took all the somewhat respectable seats hours before the show started. sure i could've done it too, but i'm not going to sit in one spot for two hours to watch a ten minute show. food is always great, especially the montecristo sandwich, but it's just soooo pricey. we'll be back, but it'll be when we have kids and the food will be smuggled in from the outside. and put some water fountains out in the open and not in a dark corner of the 90 minute line of indiana jones. and they should rename fantasyland to strollerland. get there early and if you're lucky you'll be able to ride splash mountain about five times without even getting off before the line forms. then just fastpass the good stuff the rest of the day.\n",
      "\n",
      "----\n",
      "\n",
      "Target:2, Pred:0, Prob:0.9905732274055481\n",
      "Text:\n",
      "went with family this half term it was very, very busy. we have been to the american disneyland theme parks and feel parents need to be aware that they are exposing their children to a huge amount of second hand smoke. the queues were at least 60 minutes long for a five minute ride a more scaled down version of the american experience. there are lots of photos taken at a price ready in a very short period of time. feel a lot could have been done to protect people in the queues we were soaked to the skin so do take umbrellas and waterproofs at this time of the year. it is very expensive for junk food but you can get a fast pass for rides at no cost which does cut down the waiting time. overall with the knowledge we have of other disneyland venues a disappointing experience the whole place is in need of refurbishment.\n",
      "\n",
      "----\n",
      "\n",
      "Target:4, Pred:3, Prob:0.9905732274055481\n",
      "Text:\n",
      "very good place to visit either on your own as a couple or a family  ,plenty to see and do ,have your picture taken with some of the cartoon characters and a definate thing to do is watch the parade\n",
      "\n",
      "----\n",
      "\n",
      "Target:4, Pred:2, Prob:0.9905732274055481\n",
      "Text:\n",
      "anyone who comes to disneyland with a car, have to pay for parking. it is recommended to prefer the parking near disny vilage. the cost of parking in the parking near disney village is much lower than at the main disney park. also, the walking distance from the disny vilage parking is short by several hundred meters than the distance from the main park. the price in the disney village parking is 2.5. euro per hour, and maximum 10 euros per day. in the main disney park the price is 15 euros, a fixed amount (even for one hour).\n",
      "\n",
      "----\n",
      "\n",
      "Target:3, Pred:4, Prob:0.9905732274055481\n",
      "Text:\n",
      "my first ever visit to one of disneylands all over the world. had a great time exploring with my husband but we're not contented with the rides it would of been nice if they make it longer. its kinda rides for kids only.\n",
      "\n",
      "----\n",
      "\n"
     ]
    }
   ],
   "source": [
    "for row in most_wrong[:10].itertuples():\n",
    "  _,text,target,pred,pred_prob=row\n",
    "  print(f\"Target:{target}, Pred:{pred}, Prob:{pred_prob}\")\n",
    "  print(f\"Text:\\n{text}\\n\")\n",
    "  print(\"----\\n\")"
   ]
  }
 ],
 "metadata": {
  "kernelspec": {
   "display_name": "Python 3 (ipykernel)",
   "language": "python",
   "name": "python3"
  },
  "language_info": {
   "codemirror_mode": {
    "name": "ipython",
    "version": 3
   },
   "file_extension": ".py",
   "mimetype": "text/x-python",
   "name": "python",
   "nbconvert_exporter": "python",
   "pygments_lexer": "ipython3",
   "version": "3.9.13"
  }
 },
 "nbformat": 4,
 "nbformat_minor": 5
}
