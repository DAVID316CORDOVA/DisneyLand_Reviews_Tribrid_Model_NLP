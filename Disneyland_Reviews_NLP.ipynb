{
 "cells": [
  {
   "cell_type": "code",
   "execution_count": 1,
   "id": "ecee9763",
   "metadata": {},
   "outputs": [],
   "source": [
    "#Importing the libraries\n",
    "import pandas as pd\n",
    "import matplotlib.pyplot as plt\n",
    "import seaborn as sns\n",
    "import six\n",
    "import sys\n",
    "sys.modules['sklearn.externals.six'] = six\n",
    "import warnings\n",
    "warnings.filterwarnings(action=\"ignore\",category=FutureWarning)"
   ]
  },
  {
   "cell_type": "code",
   "execution_count": 2,
   "id": "e810cbed",
   "metadata": {},
   "outputs": [],
   "source": [
    "pd.options.display.float_format=\"{:,.3f}\".format"
   ]
  },
  {
   "cell_type": "code",
   "execution_count": 3,
   "id": "b9495de8",
   "metadata": {},
   "outputs": [
    {
     "data": {
      "text/html": [
       "<div>\n",
       "<style scoped>\n",
       "    .dataframe tbody tr th:only-of-type {\n",
       "        vertical-align: middle;\n",
       "    }\n",
       "\n",
       "    .dataframe tbody tr th {\n",
       "        vertical-align: top;\n",
       "    }\n",
       "\n",
       "    .dataframe thead th {\n",
       "        text-align: right;\n",
       "    }\n",
       "</style>\n",
       "<table border=\"1\" class=\"dataframe\">\n",
       "  <thead>\n",
       "    <tr style=\"text-align: right;\">\n",
       "      <th></th>\n",
       "      <th>Review_ID</th>\n",
       "      <th>Rating</th>\n",
       "      <th>Year_Month</th>\n",
       "      <th>Reviewer_Location</th>\n",
       "      <th>Review_Text</th>\n",
       "      <th>Branch</th>\n",
       "    </tr>\n",
       "  </thead>\n",
       "  <tbody>\n",
       "    <tr>\n",
       "      <th>0</th>\n",
       "      <td>670772142</td>\n",
       "      <td>4</td>\n",
       "      <td>2019-4</td>\n",
       "      <td>Australia</td>\n",
       "      <td>If you've ever been to Disneyland anywhere you...</td>\n",
       "      <td>Disneyland_HongKong</td>\n",
       "    </tr>\n",
       "    <tr>\n",
       "      <th>1</th>\n",
       "      <td>670682799</td>\n",
       "      <td>4</td>\n",
       "      <td>2019-5</td>\n",
       "      <td>Philippines</td>\n",
       "      <td>Its been a while since d last time we visit HK...</td>\n",
       "      <td>Disneyland_HongKong</td>\n",
       "    </tr>\n",
       "    <tr>\n",
       "      <th>2</th>\n",
       "      <td>670623270</td>\n",
       "      <td>4</td>\n",
       "      <td>2019-4</td>\n",
       "      <td>United Arab Emirates</td>\n",
       "      <td>Thanks God it wasn   t too hot or too humid wh...</td>\n",
       "      <td>Disneyland_HongKong</td>\n",
       "    </tr>\n",
       "    <tr>\n",
       "      <th>3</th>\n",
       "      <td>670607911</td>\n",
       "      <td>4</td>\n",
       "      <td>2019-4</td>\n",
       "      <td>Australia</td>\n",
       "      <td>HK Disneyland is a great compact park. Unfortu...</td>\n",
       "      <td>Disneyland_HongKong</td>\n",
       "    </tr>\n",
       "    <tr>\n",
       "      <th>4</th>\n",
       "      <td>670607296</td>\n",
       "      <td>4</td>\n",
       "      <td>2019-4</td>\n",
       "      <td>United Kingdom</td>\n",
       "      <td>the location is not in the city, took around 1...</td>\n",
       "      <td>Disneyland_HongKong</td>\n",
       "    </tr>\n",
       "  </tbody>\n",
       "</table>\n",
       "</div>"
      ],
      "text/plain": [
       "   Review_ID  Rating Year_Month     Reviewer_Location  \\\n",
       "0  670772142       4     2019-4             Australia   \n",
       "1  670682799       4     2019-5           Philippines   \n",
       "2  670623270       4     2019-4  United Arab Emirates   \n",
       "3  670607911       4     2019-4             Australia   \n",
       "4  670607296       4     2019-4        United Kingdom   \n",
       "\n",
       "                                         Review_Text               Branch  \n",
       "0  If you've ever been to Disneyland anywhere you...  Disneyland_HongKong  \n",
       "1  Its been a while since d last time we visit HK...  Disneyland_HongKong  \n",
       "2  Thanks God it wasn   t too hot or too humid wh...  Disneyland_HongKong  \n",
       "3  HK Disneyland is a great compact park. Unfortu...  Disneyland_HongKong  \n",
       "4  the location is not in the city, took around 1...  Disneyland_HongKong  "
      ]
     },
     "execution_count": 3,
     "metadata": {},
     "output_type": "execute_result"
    }
   ],
   "source": [
    "#Loading data\n",
    "df=pd.read_csv('Disneyland_Reviews.csv',encoding='latin-1')\n",
    "df.head()"
   ]
  },
  {
   "cell_type": "code",
   "execution_count": 4,
   "id": "dac9711f",
   "metadata": {},
   "outputs": [
    {
     "data": {
      "text/html": [
       "<div>\n",
       "<style scoped>\n",
       "    .dataframe tbody tr th:only-of-type {\n",
       "        vertical-align: middle;\n",
       "    }\n",
       "\n",
       "    .dataframe tbody tr th {\n",
       "        vertical-align: top;\n",
       "    }\n",
       "\n",
       "    .dataframe thead th {\n",
       "        text-align: right;\n",
       "    }\n",
       "</style>\n",
       "<table border=\"1\" class=\"dataframe\">\n",
       "  <thead>\n",
       "    <tr style=\"text-align: right;\">\n",
       "      <th></th>\n",
       "      <th>Review_ID</th>\n",
       "      <th>Rating</th>\n",
       "      <th>Year_Month</th>\n",
       "      <th>Reviewer_Location</th>\n",
       "      <th>Review_Text</th>\n",
       "      <th>Branch</th>\n",
       "    </tr>\n",
       "  </thead>\n",
       "  <tbody>\n",
       "    <tr>\n",
       "      <th>0</th>\n",
       "      <td>670772142</td>\n",
       "      <td>4</td>\n",
       "      <td>2019-4</td>\n",
       "      <td>Australia</td>\n",
       "      <td>if you've ever been to disneyland anywhere you...</td>\n",
       "      <td>Disneyland_HongKong</td>\n",
       "    </tr>\n",
       "    <tr>\n",
       "      <th>1</th>\n",
       "      <td>670682799</td>\n",
       "      <td>4</td>\n",
       "      <td>2019-5</td>\n",
       "      <td>Philippines</td>\n",
       "      <td>its been a while since d last time we visit hk...</td>\n",
       "      <td>Disneyland_HongKong</td>\n",
       "    </tr>\n",
       "    <tr>\n",
       "      <th>2</th>\n",
       "      <td>670623270</td>\n",
       "      <td>4</td>\n",
       "      <td>2019-4</td>\n",
       "      <td>United Arab Emirates</td>\n",
       "      <td>thanks god it wasn   t too hot or too humid wh...</td>\n",
       "      <td>Disneyland_HongKong</td>\n",
       "    </tr>\n",
       "    <tr>\n",
       "      <th>3</th>\n",
       "      <td>670607911</td>\n",
       "      <td>4</td>\n",
       "      <td>2019-4</td>\n",
       "      <td>Australia</td>\n",
       "      <td>hk disneyland is a great compact park. unfortu...</td>\n",
       "      <td>Disneyland_HongKong</td>\n",
       "    </tr>\n",
       "    <tr>\n",
       "      <th>4</th>\n",
       "      <td>670607296</td>\n",
       "      <td>4</td>\n",
       "      <td>2019-4</td>\n",
       "      <td>United Kingdom</td>\n",
       "      <td>the location is not in the city, took around 1...</td>\n",
       "      <td>Disneyland_HongKong</td>\n",
       "    </tr>\n",
       "  </tbody>\n",
       "</table>\n",
       "</div>"
      ],
      "text/plain": [
       "   Review_ID  Rating Year_Month     Reviewer_Location  \\\n",
       "0  670772142       4     2019-4             Australia   \n",
       "1  670682799       4     2019-5           Philippines   \n",
       "2  670623270       4     2019-4  United Arab Emirates   \n",
       "3  670607911       4     2019-4             Australia   \n",
       "4  670607296       4     2019-4        United Kingdom   \n",
       "\n",
       "                                         Review_Text               Branch  \n",
       "0  if you've ever been to disneyland anywhere you...  Disneyland_HongKong  \n",
       "1  its been a while since d last time we visit hk...  Disneyland_HongKong  \n",
       "2  thanks god it wasn   t too hot or too humid wh...  Disneyland_HongKong  \n",
       "3  hk disneyland is a great compact park. unfortu...  Disneyland_HongKong  \n",
       "4  the location is not in the city, took around 1...  Disneyland_HongKong  "
      ]
     },
     "execution_count": 4,
     "metadata": {},
     "output_type": "execute_result"
    }
   ],
   "source": [
    "#Changing to lowe case letter the Rview_Text feature\n",
    "df['Review_Text']=df['Review_Text'].str.lower()\n",
    "df.head()"
   ]
  },
  {
   "cell_type": "code",
   "execution_count": 5,
   "id": "85bd45fe",
   "metadata": {},
   "outputs": [
    {
     "data": {
      "text/html": [
       "<div>\n",
       "<style scoped>\n",
       "    .dataframe tbody tr th:only-of-type {\n",
       "        vertical-align: middle;\n",
       "    }\n",
       "\n",
       "    .dataframe tbody tr th {\n",
       "        vertical-align: top;\n",
       "    }\n",
       "\n",
       "    .dataframe thead th {\n",
       "        text-align: right;\n",
       "    }\n",
       "</style>\n",
       "<table border=\"1\" class=\"dataframe\">\n",
       "  <thead>\n",
       "    <tr style=\"text-align: right;\">\n",
       "      <th></th>\n",
       "      <th>Rating</th>\n",
       "      <th>Review_Text</th>\n",
       "      <th>Branch</th>\n",
       "    </tr>\n",
       "  </thead>\n",
       "  <tbody>\n",
       "    <tr>\n",
       "      <th>0</th>\n",
       "      <td>4</td>\n",
       "      <td>if you've ever been to disneyland anywhere you...</td>\n",
       "      <td>Disneyland_HongKong</td>\n",
       "    </tr>\n",
       "    <tr>\n",
       "      <th>1</th>\n",
       "      <td>4</td>\n",
       "      <td>its been a while since d last time we visit hk...</td>\n",
       "      <td>Disneyland_HongKong</td>\n",
       "    </tr>\n",
       "    <tr>\n",
       "      <th>2</th>\n",
       "      <td>4</td>\n",
       "      <td>thanks god it wasn   t too hot or too humid wh...</td>\n",
       "      <td>Disneyland_HongKong</td>\n",
       "    </tr>\n",
       "    <tr>\n",
       "      <th>3</th>\n",
       "      <td>4</td>\n",
       "      <td>hk disneyland is a great compact park. unfortu...</td>\n",
       "      <td>Disneyland_HongKong</td>\n",
       "    </tr>\n",
       "    <tr>\n",
       "      <th>4</th>\n",
       "      <td>4</td>\n",
       "      <td>the location is not in the city, took around 1...</td>\n",
       "      <td>Disneyland_HongKong</td>\n",
       "    </tr>\n",
       "  </tbody>\n",
       "</table>\n",
       "</div>"
      ],
      "text/plain": [
       "   Rating                                        Review_Text  \\\n",
       "0       4  if you've ever been to disneyland anywhere you...   \n",
       "1       4  its been a while since d last time we visit hk...   \n",
       "2       4  thanks god it wasn   t too hot or too humid wh...   \n",
       "3       4  hk disneyland is a great compact park. unfortu...   \n",
       "4       4  the location is not in the city, took around 1...   \n",
       "\n",
       "                Branch  \n",
       "0  Disneyland_HongKong  \n",
       "1  Disneyland_HongKong  \n",
       "2  Disneyland_HongKong  \n",
       "3  Disneyland_HongKong  \n",
       "4  Disneyland_HongKong  "
      ]
     },
     "execution_count": 5,
     "metadata": {},
     "output_type": "execute_result"
    }
   ],
   "source": [
    "#Dropping \"Review_ID\" ,\"Reviewer_Location\" and 'Year_Month' features\n",
    "df=df.drop(columns=[\"Review_ID\", 'Reviewer_Location','Year_Month'])\n",
    "df.head()"
   ]
  },
  {
   "cell_type": "code",
   "execution_count": 6,
   "id": "5af0170e",
   "metadata": {},
   "outputs": [
    {
     "data": {
      "image/png": "[encoded data removed]",
      "text/plain": [
       "<Figure size 640x480 with 1 Axes>"
      ]
     },
     "metadata": {},
     "output_type": "display_data"
    }
   ],
   "source": [
    "#Plotting the distributions of Ratings\n",
    "import seaborn as sns\n",
    "sns.countplot(data=df,x='Rating');"
   ]
  },
  {
   "cell_type": "code",
   "execution_count": 7,
   "id": "f73685bd",
   "metadata": {},
   "outputs": [
    {
     "data": {
      "text/html": [
       "<div>\n",
       "<style scoped>\n",
       "    .dataframe tbody tr th:only-of-type {\n",
       "        vertical-align: middle;\n",
       "    }\n",
       "\n",
       "    .dataframe tbody tr th {\n",
       "        vertical-align: top;\n",
       "    }\n",
       "\n",
       "    .dataframe thead th {\n",
       "        text-align: right;\n",
       "    }\n",
       "</style>\n",
       "<table border=\"1\" class=\"dataframe\">\n",
       "  <thead>\n",
       "    <tr style=\"text-align: right;\">\n",
       "      <th></th>\n",
       "      <th>Rating</th>\n",
       "      <th>Review_Text</th>\n",
       "      <th>Branch</th>\n",
       "    </tr>\n",
       "  </thead>\n",
       "  <tbody>\n",
       "    <tr>\n",
       "      <th>0</th>\n",
       "      <td>3</td>\n",
       "      <td>if you've ever been to disneyland anywhere you...</td>\n",
       "      <td>Disneyland_HongKong</td>\n",
       "    </tr>\n",
       "    <tr>\n",
       "      <th>1</th>\n",
       "      <td>3</td>\n",
       "      <td>its been a while since d last time we visit hk...</td>\n",
       "      <td>Disneyland_HongKong</td>\n",
       "    </tr>\n",
       "    <tr>\n",
       "      <th>2</th>\n",
       "      <td>3</td>\n",
       "      <td>thanks god it wasn   t too hot or too humid wh...</td>\n",
       "      <td>Disneyland_HongKong</td>\n",
       "    </tr>\n",
       "    <tr>\n",
       "      <th>3</th>\n",
       "      <td>3</td>\n",
       "      <td>hk disneyland is a great compact park. unfortu...</td>\n",
       "      <td>Disneyland_HongKong</td>\n",
       "    </tr>\n",
       "    <tr>\n",
       "      <th>4</th>\n",
       "      <td>3</td>\n",
       "      <td>the location is not in the city, took around 1...</td>\n",
       "      <td>Disneyland_HongKong</td>\n",
       "    </tr>\n",
       "  </tbody>\n",
       "</table>\n",
       "</div>"
      ],
      "text/plain": [
       "   Rating                                        Review_Text  \\\n",
       "0       3  if you've ever been to disneyland anywhere you...   \n",
       "1       3  its been a while since d last time we visit hk...   \n",
       "2       3  thanks god it wasn   t too hot or too humid wh...   \n",
       "3       3  hk disneyland is a great compact park. unfortu...   \n",
       "4       3  the location is not in the city, took around 1...   \n",
       "\n",
       "                Branch  \n",
       "0  Disneyland_HongKong  \n",
       "1  Disneyland_HongKong  \n",
       "2  Disneyland_HongKong  \n",
       "3  Disneyland_HongKong  \n",
       "4  Disneyland_HongKong  "
      ]
     },
     "execution_count": 7,
     "metadata": {},
     "output_type": "execute_result"
    }
   ],
   "source": [
    "#Substracting 1 of the \"Rating\" feature in order to have values between 0 and 4\n",
    "df['Rating']=df['Rating']-1\n",
    "df.head()"
   ]
  },
  {
   "cell_type": "markdown",
   "id": "c2a80f0d",
   "metadata": {},
   "source": [
    "## Creating an evaluation function for our model experiments"
   ]
  },
  {
   "cell_type": "code",
   "execution_count": 9,
   "id": "4e2f5300",
   "metadata": {},
   "outputs": [],
   "source": [
    "#Function to evaluate: accuracy,precision,recall,f1-score\n",
    "from sklearn.metrics import accuracy_score,precision_recall_fscore_support\n",
    "\n",
    "def calculate_results(y_true,y_pred):\n",
    "  #Calculate model accuracy\n",
    "  model_accuracy=accuracy_score(y_true,y_pred)\n",
    "\n",
    "  #Calculate model precision,recall and f1-score using \"weighted average\"\n",
    "  model_precision,model_recall,model_f1,_=precision_recall_fscore_support(y_true,y_pred,average='weighted',zero_division=0)\n",
    "  model_results={'accuracy':model_accuracy.round(3),\n",
    "                 'precision':model_precision.round(3),\n",
    "                 \"recall\":model_recall.round(3),\n",
    "                 \"f1\":model_f1.round(3)}\n",
    "              \n",
    "  return model_results"
   ]
  },
  {
   "cell_type": "markdown",
   "id": "e73bdec2",
   "metadata": {},
   "source": [
    "## Defining train and test datasets"
   ]
  },
  {
   "cell_type": "code",
   "execution_count": 10,
   "id": "d70872db",
   "metadata": {},
   "outputs": [],
   "source": [
    "#Defining X and y\n",
    "X=df.drop(columns=[\"Rating\"])\n",
    "y=df[[\"Rating\"]]"
   ]
  },
  {
   "cell_type": "code",
   "execution_count": 11,
   "id": "e319d1de",
   "metadata": {},
   "outputs": [],
   "source": [
    "#Splitting the data in train and test\n",
    "from sklearn.model_selection import train_test_split\n",
    "X_train,X_test,y_train,y_test=train_test_split(X,y,test_size=0.3, stratify=y,random_state=42)"
   ]
  },
  {
   "cell_type": "code",
   "execution_count": 12,
   "id": "7d97adc2",
   "metadata": {},
   "outputs": [
    {
     "data": {
      "text/html": [
       "<div>\n",
       "<style scoped>\n",
       "    .dataframe tbody tr th:only-of-type {\n",
       "        vertical-align: middle;\n",
       "    }\n",
       "\n",
       "    .dataframe tbody tr th {\n",
       "        vertical-align: top;\n",
       "    }\n",
       "\n",
       "    .dataframe thead th {\n",
       "        text-align: right;\n",
       "    }\n",
       "</style>\n",
       "<table border=\"1\" class=\"dataframe\">\n",
       "  <thead>\n",
       "    <tr style=\"text-align: right;\">\n",
       "      <th></th>\n",
       "      <th>Review_Text</th>\n",
       "      <th>Branch</th>\n",
       "    </tr>\n",
       "  </thead>\n",
       "  <tbody>\n",
       "    <tr>\n",
       "      <th>4511</th>\n",
       "      <td>lots of fun attractions, short ride waits, eas...</td>\n",
       "      <td>Disneyland_HongKong</td>\n",
       "    </tr>\n",
       "    <tr>\n",
       "      <th>29098</th>\n",
       "      <td>i was very surprised that euro disney did not ...</td>\n",
       "      <td>Disneyland_Paris</td>\n",
       "    </tr>\n",
       "    <tr>\n",
       "      <th>4041</th>\n",
       "      <td>this was the second time we visited this disne...</td>\n",
       "      <td>Disneyland_HongKong</td>\n",
       "    </tr>\n",
       "    <tr>\n",
       "      <th>1364</th>\n",
       "      <td>we was very pleased with our visit. the attrac...</td>\n",
       "      <td>Disneyland_HongKong</td>\n",
       "    </tr>\n",
       "    <tr>\n",
       "      <th>23996</th>\n",
       "      <td>a bucket list experience.  not so much for the...</td>\n",
       "      <td>Disneyland_California</td>\n",
       "    </tr>\n",
       "    <tr>\n",
       "      <th>...</th>\n",
       "      <td>...</td>\n",
       "      <td>...</td>\n",
       "    </tr>\n",
       "    <tr>\n",
       "      <th>35574</th>\n",
       "      <td>the park is dated and in need of a thorough ov...</td>\n",
       "      <td>Disneyland_Paris</td>\n",
       "    </tr>\n",
       "    <tr>\n",
       "      <th>20448</th>\n",
       "      <td>we spent 5 days at the disneyland park in sept...</td>\n",
       "      <td>Disneyland_California</td>\n",
       "    </tr>\n",
       "    <tr>\n",
       "      <th>19209</th>\n",
       "      <td>loved disneyland, loved the park hopper to cal...</td>\n",
       "      <td>Disneyland_California</td>\n",
       "    </tr>\n",
       "    <tr>\n",
       "      <th>218</th>\n",
       "      <td>it was fun to go to hk disneyland. we stayed a...</td>\n",
       "      <td>Disneyland_HongKong</td>\n",
       "    </tr>\n",
       "    <tr>\n",
       "      <th>2413</th>\n",
       "      <td>took my daughter, son in law and grandsons. wo...</td>\n",
       "      <td>Disneyland_HongKong</td>\n",
       "    </tr>\n",
       "  </tbody>\n",
       "</table>\n",
       "<p>29859 rows × 2 columns</p>\n",
       "</div>"
      ],
      "text/plain": [
       "                                             Review_Text  \\\n",
       "4511   lots of fun attractions, short ride waits, eas...   \n",
       "29098  i was very surprised that euro disney did not ...   \n",
       "4041   this was the second time we visited this disne...   \n",
       "1364   we was very pleased with our visit. the attrac...   \n",
       "23996  a bucket list experience.  not so much for the...   \n",
       "...                                                  ...   \n",
       "35574  the park is dated and in need of a thorough ov...   \n",
       "20448  we spent 5 days at the disneyland park in sept...   \n",
       "19209  loved disneyland, loved the park hopper to cal...   \n",
       "218    it was fun to go to hk disneyland. we stayed a...   \n",
       "2413   took my daughter, son in law and grandsons. wo...   \n",
       "\n",
       "                      Branch  \n",
       "4511     Disneyland_HongKong  \n",
       "29098       Disneyland_Paris  \n",
       "4041     Disneyland_HongKong  \n",
       "1364     Disneyland_HongKong  \n",
       "23996  Disneyland_California  \n",
       "...                      ...  \n",
       "35574       Disneyland_Paris  \n",
       "20448  Disneyland_California  \n",
       "19209  Disneyland_California  \n",
       "218      Disneyland_HongKong  \n",
       "2413     Disneyland_HongKong  \n",
       "\n",
       "[29859 rows x 2 columns]"
      ]
     },
     "execution_count": 12,
     "metadata": {},
     "output_type": "execute_result"
    }
   ],
   "source": [
    "X_train"
   ]
  },
  {
   "cell_type": "markdown",
   "id": "74e28620",
   "metadata": {},
   "source": [
    "## Making different kind of feature labels for the experiments"
   ]
  },
  {
   "cell_type": "code",
   "execution_count": 161,
   "id": "b3a389e3",
   "metadata": {},
   "outputs": [],
   "source": [
    "#One hot encode labels\n",
    "from sklearn.preprocessing import OneHotEncoder\n",
    "one_hot_encoder=OneHotEncoder()\n",
    "train_labels_one_hot=one_hot_encoder.fit_transform(y_train.to_numpy().reshape(-1,1)).toarray()\n",
    "test_labels_one_hot=one_hot_encoder.transform(y_test.to_numpy().reshape(-1,1)).toarray()\n",
    "\n",
    "#Labels encoded\n",
    "train_labels_encoded=y_train.to_numpy().ravel()\n",
    "test_labels_encoded=y_test.to_numpy().ravel()\n",
    "\n",
    "num_classes=5"
   ]
  },
  {
   "cell_type": "code",
   "execution_count": 162,
   "id": "74c937de",
   "metadata": {},
   "outputs": [
    {
     "data": {
      "text/plain": [
       "array([3, 2, 3, ..., 4, 3, 4], dtype=int64)"
      ]
     },
     "execution_count": 162,
     "metadata": {},
     "output_type": "execute_result"
    }
   ],
   "source": [
    "train_labels_encoded"
   ]
  },
  {
   "cell_type": "markdown",
   "id": "90ab562e",
   "metadata": {},
   "source": [
    "# Starting a series of modelling experiments only with the \"Review_Text\" column as the unique feature"
   ]
  },
  {
   "cell_type": "markdown",
   "id": "b3ac8085",
   "metadata": {},
   "source": [
    "## Model 0: Testing the basic machine learning models, finding out the best and tuning it"
   ]
  },
  {
   "cell_type": "code",
   "execution_count": 15,
   "id": "4f86ac54",
   "metadata": {},
   "outputs": [],
   "source": [
    "#Importing the libraries\n",
    "from sklearn.preprocessing import StandardScaler\n",
    "from sklearn.model_selection import KFold,cross_val_score\n",
    "from sklearn.linear_model import LogisticRegression\n",
    "from sklearn.naive_bayes import MultinomialNB\n",
    "from sklearn.neighbors import KNeighborsClassifier\n",
    "from sklearn.tree import DecisionTreeClassifier\n",
    "\n",
    "#Ensemble\n",
    "from xgboost import XGBClassifier\n",
    "from catboost import CatBoostClassifier\n",
    "from lightgbm import LGBMClassifier\n",
    "from sklearn.ensemble import RandomForestClassifier,BaggingClassifier,ExtraTreesClassifier,AdaBoostClassifier"
   ]
  },
  {
   "cell_type": "code",
   "execution_count": null,
   "id": "c0177c58",
   "metadata": {},
   "outputs": [
    {
     "name": "stdout",
     "output_type": "stream",
     "text": [
      "Logistic Regression :62.41% (0.91%)\n",
      "MultinomialNB :54.27% (0.44%)\n",
      "KNN :51.15% (0.84%)\n",
      "Decision Tree :47.19% (0.79%)\n",
      "XGB Classifier :60.23% (0.95%)\n",
      "Cat Boost Classifier :56.76% (0.96%)\n",
      "LGBM Classifier :54.47% (0.76%)\n",
      "Random Forest :54.99% (0.80%)\n",
      "Bagging Class :54.28% (0.74%)\n",
      "Extra trees :54.78% (1.04%)\n",
      "Ada Boost :57.44% (0.72%)\n"
     ]
    }
   ],
   "source": [
    "from sklearn.feature_extraction.text import TfidfVectorizer\n",
    "from sklearn.naive_bayes import MultinomialNB\n",
    "from sklearn.pipeline import Pipeline\n",
    "\n",
    "#Preparing the models\n",
    "models=[]\n",
    "models.append((\"Logistic Regression\",LogisticRegression(solver=\"lbfgs\",max_iter=10000,multi_class=\"multinomial\")))\n",
    "models.append((\"MultinomialNB\",MultinomialNB()))\n",
    "models.append((\"KNN\",KNeighborsClassifier()))\n",
    "models.append((\"Decision Tree\",DecisionTreeClassifier()))\n",
    "models.append((\"XGB Classifier\",XGBClassifier(objective=\"multi:softmax\")))\n",
    "models.append((\"Cat Boost Classifier\",CatBoostClassifier(n_estimators =100,learning_rate=0.1, max_depth=3, random_state=500,verbose=0)))\n",
    "models.append((\"LGBM Classifier\",LGBMClassifier(max_depth = 3, learning_rate = 0.1, n_estimators = 10, objective='multiclass', seed=500,verbose=-100,force_row_wise=True,silent = True)))\n",
    "models.append((\"Random Forest\",RandomForestClassifier()))\n",
    "models.append((\"Bagging Class\",BaggingClassifier()))\n",
    "models.append((\"Extra trees\",ExtraTreesClassifier()))\n",
    "models.append((\"Ada Boost\",AdaBoostClassifier()))\n",
    "\n",
    "#Evaluating each model in turn\n",
    "results=[]\n",
    "names=[]\n",
    "scoring=\"accuracy\"\n",
    "\n",
    "for name, model in models:\n",
    "    kfold=KFold(n_splits=10,shuffle=True)\n",
    "    #Create a pipeline\n",
    "    model_0=Pipeline([\n",
    "    (\"tf-idf\",TfidfVectorizer()),\n",
    "    ('clf',model)\n",
    "    ])\n",
    "    cv_results=cross_val_score(model_0,X_train[['Review_Text']].values.ravel(),train_labels_encoded,cv=kfold,scoring=scoring)\n",
    "    results.append(cv_results)\n",
    "    names.append(name)\n",
    "    print(f\"{name} :{cv_results.mean()*100:,.2f}% ({cv_results.std()*100:.2f}%)\")"
   ]
  },
  {
   "cell_type": "code",
   "execution_count": 27,
   "id": "b14fc26a",
   "metadata": {},
   "outputs": [
    {
     "name": "stdout",
     "output_type": "stream",
     "text": [
      "Best : 0.623865 using the params {'logreg__C': 1.0}\n",
      "0.542617 (0.008019) with {'logreg__C': 0.001}\n",
      "0.565056 (0.006394) with {'logreg__C': 0.05357894736842105}\n",
      "0.584815 (0.004897) with {'logreg__C': 0.1061578947368421}\n",
      "0.594628 (0.005116) with {'logreg__C': 0.15873684210526315}\n",
      "0.601058 (0.005775) with {'logreg__C': 0.2113157894736842}\n",
      "0.606316 (0.006132) with {'logreg__C': 0.26389473684210524}\n",
      "0.609464 (0.005715) with {'logreg__C': 0.3164736842105263}\n",
      "0.612479 (0.006030) with {'logreg__C': 0.36905263157894735}\n",
      "0.615828 (0.006299) with {'logreg__C': 0.4216315789473684}\n",
      "0.617536 (0.006421) with {'logreg__C': 0.47421052631578947}\n",
      "0.618942 (0.007109) with {'logreg__C': 0.5267894736842105}\n",
      "0.620215 (0.007656) with {'logreg__C': 0.5793684210526315}\n",
      "0.621153 (0.007845) with {'logreg__C': 0.6319473684210526}\n",
      "0.621454 (0.007562) with {'logreg__C': 0.6845263157894736}\n",
      "0.621622 (0.008420) with {'logreg__C': 0.7371052631578947}\n",
      "0.622157 (0.008639) with {'logreg__C': 0.7896842105263158}\n",
      "0.622626 (0.007848) with {'logreg__C': 0.8422631578947368}\n",
      "0.623597 (0.007611) with {'logreg__C': 0.8948421052631579}\n",
      "0.623430 (0.007876) with {'logreg__C': 0.9474210526315789}\n",
      "0.623865 (0.007529) with {'logreg__C': 1.0}\n"
     ]
    }
   ],
   "source": [
    "#Fine Tuning the best model\n",
    "\n",
    "from sklearn.model_selection import GridSearchCV\n",
    "from sklearn.pipeline import Pipeline\n",
    "import numpy as np\n",
    "from sklearn.feature_extraction.text import TfidfVectorizer\n",
    "\n",
    "#Build the steps\n",
    "steps=[(\"tf-idf\",TfidfVectorizer()),('logreg',LogisticRegression(solver=\"lbfgs\",max_iter=10000,multi_class=\"multinomial\"))]\n",
    "\n",
    "\n",
    "pipeline=Pipeline(steps)\n",
    "\n",
    "#Create the parameter space\n",
    "parameters = {\n",
    "    'logreg__C': np.linspace(0.001,1,20)\n",
    "}\n",
    "\n",
    "\n",
    "kfold=KFold(n_splits=5,shuffle=True)\n",
    "\n",
    "grid_result=GridSearchCV(estimator=pipeline,param_grid=parameters,cv=kfold)\n",
    "\n",
    "grid_result.fit(X_train[['Review_Text']].values.ravel(),train_labels_encoded) \n",
    "\n",
    "#Summarize_results\n",
    "\n",
    "print(\"Best : %f using the params %s\" % (grid_result.best_score_ , grid_result.best_params_))\n",
    "\n",
    "means=grid_result.cv_results_[\"mean_test_score\"]\n",
    "stds=grid_result.cv_results_[\"std_test_score\"]\n",
    "params=grid_result.cv_results_[\"params\"]\n",
    "\n",
    "\n",
    "for mean,stdev,param in zip(means,stds,params):\n",
    "    \n",
    "  print(\"%f (%f) with %r\" % (mean,stdev,param))"
   ]
  },
  {
   "cell_type": "code",
   "execution_count": 29,
   "id": "727d2ecc",
   "metadata": {},
   "outputs": [
    {
     "name": "stdout",
     "output_type": "stream",
     "text": [
      "Our baseline model achieves an accuracy of:62.90%\n"
     ]
    }
   ],
   "source": [
    "#Evaluating our best classic machine learning model\n",
    "baseline_score=grid_result.score(X_test[['Review_Text']].values.ravel(),test_labels_encoded)\n",
    "print(f\"Our baseline model achieves an accuracy of:{baseline_score*100:.2f}%\")"
   ]
  },
  {
   "cell_type": "code",
   "execution_count": 30,
   "id": "af568947",
   "metadata": {},
   "outputs": [
    {
     "data": {
      "text/plain": [
       "array([4, 3, 4, 4, 2, 4, 3, 3, 4, 4], dtype=int64)"
      ]
     },
     "execution_count": 30,
     "metadata": {},
     "output_type": "execute_result"
    }
   ],
   "source": [
    "#Making predictions\n",
    "baseline_preds=grid_result.predict(X_test[['Review_Text']].values.ravel())\n",
    "baseline_preds[:10]"
   ]
  },
  {
   "cell_type": "code",
   "execution_count": 31,
   "id": "585266ab",
   "metadata": {},
   "outputs": [
    {
     "data": {
      "text/plain": [
       "{'accuracy': 0.629, 'precision': 0.594, 'recall': 0.629, 'f1': 0.601}"
      ]
     },
     "execution_count": 31,
     "metadata": {},
     "output_type": "execute_result"
    }
   ],
   "source": [
    "#Get baseline results\n",
    "baseline_results=calculate_results(test_labels_encoded,baseline_preds)\n",
    "baseline_results"
   ]
  },
  {
   "cell_type": "code",
   "execution_count": null,
   "id": "9847b2be",
   "metadata": {},
   "outputs": [],
   "source": [
    "#Saving the fine_tuned model\n",
    "from pickle import dump\n",
    "dump(grid_result,open(\"model_0.pkl\",\"wb\"))"
   ]
  },
  {
   "cell_type": "code",
   "execution_count": 17,
   "id": "ce42d1ce",
   "metadata": {},
   "outputs": [],
   "source": [
    "#Loading the model\n",
    "import pickle\n",
    "loaded_model = pickle.load(open('model_0.pkl', 'rb'))"
   ]
  },
  {
   "cell_type": "code",
   "execution_count": 18,
   "id": "07c1474c",
   "metadata": {},
   "outputs": [
    {
     "data": {
      "text/plain": [
       "{'accuracy': 0.629, 'precision': 0.594, 'recall': 0.629, 'f1': 0.601}"
      ]
     },
     "execution_count": 18,
     "metadata": {},
     "output_type": "execute_result"
    }
   ],
   "source": [
    "#Making predictions\n",
    "\n",
    "baseline_preds=loaded_model.predict(X_test[['Review_Text']].values.ravel())\n",
    "\n",
    "#Get baseline results\n",
    "\n",
    "baseline_results=calculate_results(test_labels_encoded,baseline_preds)\n",
    "\n",
    "baseline_results"
   ]
  },
  {
   "cell_type": "markdown",
   "id": "bf96defe",
   "metadata": {},
   "source": [
    "## Model 1: Dense model using Sequential API + TF-IDF"
   ]
  },
  {
   "cell_type": "code",
   "execution_count": 29,
   "id": "64faf94d",
   "metadata": {},
   "outputs": [],
   "source": [
    "import tensorflow as tf\n",
    "import numpy as np\n",
    "from keras.layers import Dense\n",
    "from keras import Sequential\n",
    "from sklearn.feature_extraction.text import TfidfVectorizer"
   ]
  },
  {
   "cell_type": "code",
   "execution_count": 58,
   "id": "c1c73cea",
   "metadata": {},
   "outputs": [
    {
     "name": "stdout",
     "output_type": "stream",
     "text": [
      "Epoch 1/10\n",
      "700/700 [==============================] - 69s 90ms/step - loss: 1.4245 - accuracy: 0.5398 - val_loss: 1.2997 - val_accuracy: 0.5480\n",
      "Epoch 2/10\n",
      "700/700 [==============================] - 59s 84ms/step - loss: 1.2529 - accuracy: 0.5408 - val_loss: 1.2201 - val_accuracy: 0.5480\n",
      "Epoch 3/10\n",
      "700/700 [==============================] - 61s 87ms/step - loss: 1.2129 - accuracy: 0.5408 - val_loss: 1.2033 - val_accuracy: 0.5480\n",
      "Epoch 4/10\n",
      "700/700 [==============================] - 58s 83ms/step - loss: 1.2041 - accuracy: 0.5408 - val_loss: 1.1994 - val_accuracy: 0.5480\n",
      "Epoch 5/10\n",
      "700/700 [==============================] - 58s 83ms/step - loss: 1.2020 - accuracy: 0.5408 - val_loss: 1.1988 - val_accuracy: 0.5480\n",
      "Epoch 6/10\n",
      "700/700 [==============================] - 59s 84ms/step - loss: 1.2015 - accuracy: 0.5408 - val_loss: 1.1987 - val_accuracy: 0.5480\n",
      "Epoch 7/10\n",
      "700/700 [==============================] - 60s 85ms/step - loss: 1.2014 - accuracy: 0.5408 - val_loss: 1.1989 - val_accuracy: 0.5480\n",
      "Epoch 8/10\n",
      "700/700 [==============================] - 59s 84ms/step - loss: 1.2014 - accuracy: 0.5408 - val_loss: 1.1987 - val_accuracy: 0.5480\n",
      "Epoch 9/10\n",
      "700/700 [==============================] - 61s 88ms/step - loss: 1.2014 - accuracy: 0.5408 - val_loss: 1.1987 - val_accuracy: 0.5480\n",
      "Epoch 10/10\n",
      "700/700 [==============================] - 60s 85ms/step - loss: 1.2014 - accuracy: 0.5408 - val_loss: 1.1988 - val_accuracy: 0.5480\n"
     ]
    },
    {
     "data": {
      "text/plain": [
       "<keras.callbacks.History at 0x24abc9c26a0>"
      ]
     },
     "execution_count": 58,
     "metadata": {},
     "output_type": "execute_result"
    }
   ],
   "source": [
    "tv=TfidfVectorizer()\n",
    "tv.fit(X_train[['Review_Text']].values.ravel())\n",
    "\n",
    "#Changing the data type to another one which uses less memory works with astype(np.uint8)\n",
    "X_train_model_1=tv.transform(X_train[['Review_Text']].values.ravel()).astype(np.uint8).toarray() \n",
    "X_test_model_1=tv.transform(X_test[['Review_Text']].values.ravel()).astype(np.uint8).toarray() \n",
    "\n",
    "model_1=Sequential()\n",
    "model_1.add(Dense(256,activation='relu'))\n",
    "model_1.add(Dense(64,activation='relu'))\n",
    "model_1.add(Dense(num_classes,activation='softmax'))\n",
    "model_1.compile(loss='categorical_crossentropy',optimizer='adam',metrics='accuracy')\n",
    "model_1.fit(X_train_model_1,train_labels_one_hot,epochs=10,validation_split=0.25)"
   ]
  },
  {
   "cell_type": "code",
   "execution_count": 59,
   "id": "08cc86e2",
   "metadata": {},
   "outputs": [
    {
     "data": {
      "text/plain": [
       "[1.2007097005844116, 0.5426271557807922]"
      ]
     },
     "execution_count": 59,
     "metadata": {},
     "output_type": "execute_result"
    }
   ],
   "source": [
    "#Evaluating our model\n",
    "model_1.evaluate(X_test_model_1,test_labels_one_hot,verbose=0)"
   ]
  },
  {
   "cell_type": "code",
   "execution_count": 60,
   "id": "6d7384a9",
   "metadata": {},
   "outputs": [
    {
     "name": "stdout",
     "output_type": "stream",
     "text": [
      "400/400 [==============================] - 22s 41ms/step\n"
     ]
    },
    {
     "data": {
      "text/plain": [
       "array([[0.03496404, 0.05010372, 0.11982798, 0.25477993, 0.54032445]],\n",
       "      dtype=float32)"
      ]
     },
     "execution_count": 60,
     "metadata": {},
     "output_type": "execute_result"
    }
   ],
   "source": [
    "#Making predictions\n",
    "model_1_pred_probs=model_1.predict(X_test_model_1)\n",
    "model_1_pred_probs[:1]"
   ]
  },
  {
   "cell_type": "code",
   "execution_count": 61,
   "id": "5037c622",
   "metadata": {},
   "outputs": [
    {
     "data": {
      "text/plain": [
       "array([4, 4, 4, ..., 4, 4, 4], dtype=int64)"
      ]
     },
     "execution_count": 61,
     "metadata": {},
     "output_type": "execute_result"
    }
   ],
   "source": [
    "#Convert pred probs to classes\n",
    "model_1_preds=np.argmax(model_1_pred_probs,axis=1)\n",
    "model_1_preds"
   ]
  },
  {
   "cell_type": "code",
   "execution_count": 62,
   "id": "1aa424e8",
   "metadata": {},
   "outputs": [
    {
     "data": {
      "text/plain": [
       "{'accuracy': 0.543, 'precision': 0.294, 'recall': 0.543, 'f1': 0.382}"
      ]
     },
     "execution_count": 62,
     "metadata": {},
     "output_type": "execute_result"
    }
   ],
   "source": [
    "#Calculate model_1_results\n",
    "model_1_results=calculate_results(test_labels_encoded,\n",
    "                                  model_1_preds)\n",
    "model_1_results"
   ]
  },
  {
   "cell_type": "markdown",
   "id": "91486f05",
   "metadata": {},
   "source": [
    "## Preparing our data (the text) for deeper Sequence Models"
   ]
  },
  {
   "cell_type": "code",
   "execution_count": 63,
   "id": "df66c51d",
   "metadata": {},
   "outputs": [],
   "source": [
    "import numpy as np\n",
    "import tensorflow as tf\n",
    "from tensorflow.keras import layers"
   ]
  },
  {
   "cell_type": "code",
   "execution_count": 64,
   "id": "ecedbc87",
   "metadata": {},
   "outputs": [
    {
     "data": {
      "text/plain": [
       "129.4063431461201"
      ]
     },
     "execution_count": 64,
     "metadata": {},
     "output_type": "execute_result"
    }
   ],
   "source": [
    "#How long is each sentence on average?\n",
    "sent_lens=[len(sentence.split()) for sentence in X_train[['Review_Text']].values.ravel().tolist()]\n",
    "avg_sent_len=np.mean(sent_lens)\n",
    "avg_sent_len"
   ]
  },
  {
   "cell_type": "code",
   "execution_count": 65,
   "id": "0f273fc4",
   "metadata": {},
   "outputs": [
    {
     "data": {
      "image/png": "[encoded data removed]",
      "text/plain": [
       "<Figure size 640x480 with 1 Axes>"
      ]
     },
     "metadata": {},
     "output_type": "display_data"
    }
   ],
   "source": [
    "#What´s the distribution look like?\n",
    "import matplotlib.pyplot as plt\n",
    "plt.hist(sent_lens,bins=20);"
   ]
  },
  {
   "cell_type": "code",
   "execution_count": 66,
   "id": "164231fc",
   "metadata": {},
   "outputs": [
    {
     "data": {
      "text/plain": [
       "392"
      ]
     },
     "execution_count": 66,
     "metadata": {},
     "output_type": "execute_result"
    }
   ],
   "source": [
    "#How long of a sentence length cover 95% of examples?\n",
    "output_seq_len=int(np.percentile(sent_lens,95))\n",
    "output_seq_len"
   ]
  },
  {
   "cell_type": "code",
   "execution_count": 67,
   "id": "66078d22",
   "metadata": {},
   "outputs": [
    {
     "data": {
      "text/plain": [
       "3963"
      ]
     },
     "execution_count": 67,
     "metadata": {},
     "output_type": "execute_result"
    }
   ],
   "source": [
    "#Maximum sequence lenght in the training set\n",
    "max(sent_lens)"
   ]
  },
  {
   "cell_type": "markdown",
   "id": "792c8227",
   "metadata": {},
   "source": [
    "### Create a text vectorizer layer\n",
    "\n",
    "-Tokenization:straight mapping from token to number can be modelled but quickly gets to big).\n",
    "\n",
    "-Embedding:richer representation of relationships between tokens(can limit size + can be learned)"
   ]
  },
  {
   "cell_type": "code",
   "execution_count": 68,
   "id": "1e2aed91",
   "metadata": {},
   "outputs": [
    {
     "data": {
      "text/plain": [
       "35734"
      ]
     },
     "execution_count": 68,
     "metadata": {},
     "output_type": "execute_result"
    }
   ],
   "source": [
    "from sklearn.feature_extraction.text import CountVectorizer\n",
    "vectorizer = CountVectorizer()\n",
    "vectorizer.fit_transform(X_train[['Review_Text']].values.ravel())\n",
    "len(vectorizer.get_feature_names_out()) #vectorizer.get_feature_names_out()"
   ]
  },
  {
   "cell_type": "code",
   "execution_count": 69,
   "id": "b8c89525",
   "metadata": {},
   "outputs": [],
   "source": [
    "#Create text vectorizer\n",
    "from tensorflow.keras.layers.experimental.preprocessing import TextVectorization\n",
    "\n",
    "text_vectorizer=TextVectorization(max_tokens=45952, # number of words in vocabulary\n",
    "                                  output_sequence_length=output_seq_len #desired output length of vectorized sequences \n",
    "                                  )"
   ]
  },
  {
   "cell_type": "code",
   "execution_count": 70,
   "id": "d44466e0",
   "metadata": {},
   "outputs": [],
   "source": [
    "#Adapt text vectorizer to traning sentences\n",
    "text_vectorizer.adapt(X_train[['Review_Text']].values.ravel())"
   ]
  },
  {
   "cell_type": "code",
   "execution_count": 71,
   "id": "864e66e5",
   "metadata": {},
   "outputs": [
    {
     "name": "stdout",
     "output_type": "stream",
     "text": [
      "Text:\n",
      "our family travels to disneyworld in florida 3 times a year for a week each trip. we love it and in wdw everything runs smoothly, even when lines do hit peak times. we were in la this january for business reasons and went to disneyland with my youngest (11) just because a. it is disney, b. it is an amusement park and c. we were in the area. well, let's say it is an under amusement park, the rides are almost the same as the ones we love in florida but with crappy surroundings, cranky and poorly dressed (time to buy new uniforms!) cast members, no music, no festive atmosphere. it barely feels disney, and it does not begin to feel  magical . as my daughter put it, she wanted to leave after 2 hours in the park (and the day we visited the lines were ok):  this is like what would look like if you were having a very bad dream about magic kingdom . i don't get how so many people still love disneyland, i honestly feel bad about them since they are obviously deprived of fun choices or seeing the place clouded in their memories of the past or obviously we don't get it and they do. but for us to even begin to enjoy this place, they would have to make a major clean sweep in this park (trash sits everywhere), hire and train happy people, give them a nice, new looking uniform, put music and events in the park, fix the potholes, clean up their act with fast passes, buy new umbrellas and park fixtures, train the personnel at town hall, open new table service restaurants, add a main street  smell , and so on. no wonder the two parks are managed by totally separated companies   who ever disney hires to maintain and manage this park should be let go, and bring in the big guns from florida.\n",
      "\n",
      "Length of text:323\n",
      "\n",
      "Vectorized text: [[   41   129  3918     4   539     8   224   125    94     5   107     9\n",
      "      5   316   226   140     7   153    11     3     8   748   158  2147\n",
      "   3374    88    60   121    53   811   665    94     7    18     8   676\n",
      "     31  1066     9  1870  1796     3    74     4    28    23    36  1633\n",
      "    695    49   148     5    11    12    24  2342    11    12    64   927\n",
      "     15     3  2414     7    18     8     2   303    97  1287   194    11\n",
      "     12    64   466   927    15     2    25    21   360     2   221    22\n",
      "      2   308     7   153     8   224    16    23  4056  3575  3219     3\n",
      "   2281  1369    33     4   297   199  5104   306   351    72   766    72\n",
      "   2774   527    11  1444  1274    24     3    11   405    26  1898     4\n",
      "    259   171    22    36   261   464    11   270   278     4   437   135\n",
      "     89   168     8     2    15     3     2    34     7   166     2   121\n",
      "     18   478    31    12    67   101    54   377    67    40    13    18\n",
      "    257     5    43   287   677    77   160   618    14   105    38   188\n",
      "     29    92    76   110   153    28    14  1177   259   287    77   115\n",
      "    268    39    21   916 15355     6    85  1137    52   512     2    59\n",
      "  12997     8   126   613     6     2   558    52   916     7   105    38\n",
      "     11     3    39    53    16     9    82     4    88  1898     4   182\n",
      "     31    59    39    54    27     4   146     5   720   233  7955     8\n",
      "     31    15  2013  5984   456  1731     3   223   302    76   417   115\n",
      "      5   197   199   448  6605   464   766     3  1223     8     2    15\n",
      "   2169     2 10871   233    71   126  2476    23    81   218   297   199\n",
      "   2739     3    15 11220   223     2  3206    17   997   979   249   199\n",
      "    920   290   276  1052     5   192   273  2164     3    29    20    72\n",
      "   1319     2   141    83    21   447    90   684  4307  5206   172   307\n",
      "     24 12577     4  3587     3  1100    31    15   242    35   380    42\n",
      "      3   296     8     2   161  5298    51   224     0     0     0     0\n",
      "      0     0     0     0     0     0     0     0     0     0     0     0\n",
      "      0     0     0     0     0     0     0     0     0     0     0     0\n",
      "      0     0     0     0     0     0     0     0     0     0     0     0\n",
      "      0     0     0     0     0     0     0     0     0     0     0     0\n",
      "      0     0     0     0     0     0     0     0     0     0     0     0\n",
      "      0     0     0     0     0     0     0     0]]\n"
     ]
    }
   ],
   "source": [
    "#Test our text vectorize on random sentences\n",
    "import random\n",
    "target_sentence=random.choice(X_train[['Review_Text']].values.ravel())\n",
    "print(f\"Text:\\n{target_sentence}\")\n",
    "print(f\"\\nLength of text:{len(target_sentence.split())}\")\n",
    "print(f\"\\nVectorized text: {text_vectorizer([target_sentence])}\")"
   ]
  },
  {
   "cell_type": "code",
   "execution_count": 72,
   "id": "214364e8",
   "metadata": {},
   "outputs": [
    {
     "name": "stdout",
     "output_type": "stream",
     "text": [
      "Number of words in vocab:45952\n",
      "Most common words in vocab:['', '[UNK]', 'the', 'and', 'to']\n",
      "Least common words in vocab:['feb2013', 'feb2012', 'feb2', 'featuresdisneyland', 'featuredthe']\n"
     ]
    }
   ],
   "source": [
    "#How many words in our training vocabulary\n",
    "df_disneyland_rating=text_vectorizer.get_vocabulary()\n",
    "print(f\"Number of words in vocab:{len(df_disneyland_rating)}\")\n",
    "print(f\"Most common words in vocab:{df_disneyland_rating[:5]}\")\n",
    "print(f\"Least common words in vocab:{df_disneyland_rating[-5:]}\")"
   ]
  },
  {
   "cell_type": "code",
   "execution_count": 73,
   "id": "994d8ca9",
   "metadata": {},
   "outputs": [
    {
     "data": {
      "text/plain": [
       "{'name': 'text_vectorization_1',\n",
       " 'trainable': True,\n",
       " 'batch_input_shape': (None,),\n",
       " 'dtype': 'string',\n",
       " 'max_tokens': 45952,\n",
       " 'standardize': 'lower_and_strip_punctuation',\n",
       " 'split': 'whitespace',\n",
       " 'ngrams': None,\n",
       " 'output_mode': 'int',\n",
       " 'output_sequence_length': 392,\n",
       " 'pad_to_max_tokens': False,\n",
       " 'sparse': False,\n",
       " 'ragged': False,\n",
       " 'vocabulary': None,\n",
       " 'idf_weights': None}"
      ]
     },
     "execution_count": 73,
     "metadata": {},
     "output_type": "execute_result"
    }
   ],
   "source": [
    "#Get the config of our text vectorizer\n",
    "text_vectorizer.get_config()"
   ]
  },
  {
   "cell_type": "markdown",
   "id": "34895b3d",
   "metadata": {},
   "source": [
    "### Create custom text embedding"
   ]
  },
  {
   "cell_type": "code",
   "execution_count": 74,
   "id": "2d72d031",
   "metadata": {},
   "outputs": [],
   "source": [
    "#Create token embedding layer\n",
    "token_embed=layers.Embedding(input_dim=len(df_disneyland_rating), #length of vocabulary\n",
    "                             output_dim=128, #Note:different embedding sizes result in drastically different parameters to train\n",
    "                             mask_zero=True, #use masking to handle variable sequence lengths (save space),\n",
    "                             name='token_embedding')"
   ]
  },
  {
   "cell_type": "code",
   "execution_count": 75,
   "id": "5d1f27b2",
   "metadata": {},
   "outputs": [
    {
     "name": "stdout",
     "output_type": "stream",
     "text": [
      "Sentence before vectorization:\n",
      " our family travels to disneyworld in florida 3 times a year for a week each trip. we love it and in wdw everything runs smoothly, even when lines do hit peak times. we were in la this january for business reasons and went to disneyland with my youngest (11) just because a. it is disney, b. it is an amusement park and c. we were in the area. well, let's say it is an under amusement park, the rides are almost the same as the ones we love in florida but with crappy surroundings, cranky and poorly dressed (time to buy new uniforms!) cast members, no music, no festive atmosphere. it barely feels disney, and it does not begin to feel  magical . as my daughter put it, she wanted to leave after 2 hours in the park (and the day we visited the lines were ok):  this is like what would look like if you were having a very bad dream about magic kingdom . i don't get how so many people still love disneyland, i honestly feel bad about them since they are obviously deprived of fun choices or seeing the place clouded in their memories of the past or obviously we don't get it and they do. but for us to even begin to enjoy this place, they would have to make a major clean sweep in this park (trash sits everywhere), hire and train happy people, give them a nice, new looking uniform, put music and events in the park, fix the potholes, clean up their act with fast passes, buy new umbrellas and park fixtures, train the personnel at town hall, open new table service restaurants, add a main street  smell , and so on. no wonder the two parks are managed by totally separated companies   who ever disney hires to maintain and manage this park should be let go, and bring in the big guns from florida.\n",
      "\n",
      "Sentence after vectorization (before embedding):\n",
      " [[   41   129  3918     4   539     8   224   125    94     5   107     9\n",
      "      5   316   226   140     7   153    11     3     8   748   158  2147\n",
      "   3374    88    60   121    53   811   665    94     7    18     8   676\n",
      "     31  1066     9  1870  1796     3    74     4    28    23    36  1633\n",
      "    695    49   148     5    11    12    24  2342    11    12    64   927\n",
      "     15     3  2414     7    18     8     2   303    97  1287   194    11\n",
      "     12    64   466   927    15     2    25    21   360     2   221    22\n",
      "      2   308     7   153     8   224    16    23  4056  3575  3219     3\n",
      "   2281  1369    33     4   297   199  5104   306   351    72   766    72\n",
      "   2774   527    11  1444  1274    24     3    11   405    26  1898     4\n",
      "    259   171    22    36   261   464    11   270   278     4   437   135\n",
      "     89   168     8     2    15     3     2    34     7   166     2   121\n",
      "     18   478    31    12    67   101    54   377    67    40    13    18\n",
      "    257     5    43   287   677    77   160   618    14   105    38   188\n",
      "     29    92    76   110   153    28    14  1177   259   287    77   115\n",
      "    268    39    21   916 15355     6    85  1137    52   512     2    59\n",
      "  12997     8   126   613     6     2   558    52   916     7   105    38\n",
      "     11     3    39    53    16     9    82     4    88  1898     4   182\n",
      "     31    59    39    54    27     4   146     5   720   233  7955     8\n",
      "     31    15  2013  5984   456  1731     3   223   302    76   417   115\n",
      "      5   197   199   448  6605   464   766     3  1223     8     2    15\n",
      "   2169     2 10871   233    71   126  2476    23    81   218   297   199\n",
      "   2739     3    15 11220   223     2  3206    17   997   979   249   199\n",
      "    920   290   276  1052     5   192   273  2164     3    29    20    72\n",
      "   1319     2   141    83    21   447    90   684  4307  5206   172   307\n",
      "     24 12577     4  3587     3  1100    31    15   242    35   380    42\n",
      "      3   296     8     2   161  5298    51   224     0     0     0     0\n",
      "      0     0     0     0     0     0     0     0     0     0     0     0\n",
      "      0     0     0     0     0     0     0     0     0     0     0     0\n",
      "      0     0     0     0     0     0     0     0     0     0     0     0\n",
      "      0     0     0     0     0     0     0     0     0     0     0     0\n",
      "      0     0     0     0     0     0     0     0     0     0     0     0\n",
      "      0     0     0     0     0     0     0     0]]\n",
      "\n",
      "Sentence after embedding:\n",
      " [[[ 0.00473592  0.02863643  0.04084592 ... -0.04758368 -0.00905794\n",
      "    0.04904127]\n",
      "  [-0.02184182 -0.0236055   0.03861606 ...  0.04455174  0.04889267\n",
      "    0.0264746 ]\n",
      "  [-0.00458534  0.01129127  0.01548605 ... -0.00754335 -0.03685888\n",
      "   -0.03886887]\n",
      "  ...\n",
      "  [-0.03108008 -0.01017878  0.0111869  ...  0.03893334  0.0176526\n",
      "   -0.02485849]\n",
      "  [-0.03108008 -0.01017878  0.0111869  ...  0.03893334  0.0176526\n",
      "   -0.02485849]\n",
      "  [-0.03108008 -0.01017878  0.0111869  ...  0.03893334  0.0176526\n",
      "   -0.02485849]]]\n",
      "\n",
      "Embedded sentence shape: (1, 392, 128)\n"
     ]
    }
   ],
   "source": [
    "#Show example embedding\n",
    "print(f\"Sentence before vectorization:\\n {target_sentence}\\n\")\n",
    "vectorized_sentence=text_vectorizer([target_sentence])\n",
    "print(f\"Sentence after vectorization (before embedding):\\n {vectorized_sentence}\\n\")\n",
    "embedded_sentence=token_embed(vectorized_sentence)\n",
    "print(f\"Sentence after embedding:\\n {embedded_sentence}\\n\")\n",
    "print(f\"Embedded sentence shape: {embedded_sentence.shape}\")"
   ]
  },
  {
   "cell_type": "markdown",
   "id": "d76c968b",
   "metadata": {},
   "source": [
    "## Creating datasets (making sure our datasets loads as fast as possible)"
   ]
  },
  {
   "cell_type": "code",
   "execution_count": 76,
   "id": "aaa1a856",
   "metadata": {},
   "outputs": [
    {
     "data": {
      "text/plain": [
       "<TensorSliceDataset element_spec=(TensorSpec(shape=(), dtype=tf.string, name=None), TensorSpec(shape=(5,), dtype=tf.float64, name=None))>"
      ]
     },
     "execution_count": 76,
     "metadata": {},
     "output_type": "execute_result"
    }
   ],
   "source": [
    "#Turn our data into TensorFlow Datasets\n",
    "train_dataset=tf.data.Dataset.from_tensor_slices((X_train[['Review_Text']].values.ravel(),train_labels_one_hot))\n",
    "test_dataset=tf.data.Dataset.from_tensor_slices((X_test[['Review_Text']].values.ravel(),test_labels_one_hot))\n",
    "\n",
    "train_dataset"
   ]
  },
  {
   "cell_type": "code",
   "execution_count": 77,
   "id": "e390a888",
   "metadata": {},
   "outputs": [
    {
     "data": {
      "text/plain": [
       "<PrefetchDataset element_spec=(TensorSpec(shape=(None,), dtype=tf.string, name=None), TensorSpec(shape=(None, 5), dtype=tf.float64, name=None))>"
      ]
     },
     "execution_count": 77,
     "metadata": {},
     "output_type": "execute_result"
    }
   ],
   "source": [
    "#Take the TensorSliceDataset's and turn them into prefected datasets\n",
    "train_dataset=train_dataset.batch(32).prefetch(tf.data.AUTOTUNE)\n",
    "test_dataset=test_dataset.batch(32).prefetch(tf.data.AUTOTUNE)\n",
    "\n",
    "train_dataset"
   ]
  },
  {
   "cell_type": "markdown",
   "id": "cc073c41",
   "metadata": {},
   "source": [
    "## Model 2 : Conv1D with token embeddings"
   ]
  },
  {
   "cell_type": "code",
   "execution_count": 78,
   "id": "431b8b51",
   "metadata": {},
   "outputs": [],
   "source": [
    "#Create 1D conv model to process sequences\n",
    "inputs=layers.Input(shape=(1,),dtype=tf.string)\n",
    "text_vectors=text_vectorizer(inputs) #vectorize text inputs\n",
    "token_embeddings=token_embed(text_vectors) #create embedding\n",
    "x=layers.Conv1D(64,kernel_size=5,padding='same',activation=\"relu\")(token_embeddings)\n",
    "x=layers.GlobalAveragePooling1D()(x) #condense he outputs of our feature vector from conv layer\n",
    "outputs=layers.Dense(num_classes,activation='softmax')(x)\n",
    "model_2=tf.keras.Model(inputs,outputs)\n",
    "\n",
    "#Compile\n",
    "model_2.compile(loss='categorical_crossentropy',\n",
    "                optimizer=tf.keras.optimizers.Adam(),\n",
    "                metrics=['accuracy'])"
   ]
  },
  {
   "cell_type": "code",
   "execution_count": 79,
   "id": "9cf65419",
   "metadata": {},
   "outputs": [
    {
     "name": "stdout",
     "output_type": "stream",
     "text": [
      "Model: \"model_1\"\n",
      "_________________________________________________________________\n",
      " Layer (type)                Output Shape              Param #   \n",
      "=================================================================\n",
      " input_2 (InputLayer)        [(None, 1)]               0         \n",
      "                                                                 \n",
      " text_vectorization_1 (TextV  (None, 392)              0         \n",
      " ectorization)                                                   \n",
      "                                                                 \n",
      " token_embedding (Embedding)  (None, 392, 128)         5881856   \n",
      "                                                                 \n",
      " conv1d_1 (Conv1D)           (None, 392, 64)           41024     \n",
      "                                                                 \n",
      " global_average_pooling1d_1   (None, 64)               0         \n",
      " (GlobalAveragePooling1D)                                        \n",
      "                                                                 \n",
      " dense_16 (Dense)            (None, 5)                 325       \n",
      "                                                                 \n",
      "=================================================================\n",
      "Total params: 5,923,205\n",
      "Trainable params: 5,923,205\n",
      "Non-trainable params: 0\n",
      "_________________________________________________________________\n"
     ]
    }
   ],
   "source": [
    "model_2.summary()"
   ]
  },
  {
   "cell_type": "code",
   "execution_count": 80,
   "id": "81d06f66",
   "metadata": {},
   "outputs": [
    {
     "name": "stdout",
     "output_type": "stream",
     "text": [
      "Epoch 1/10\n",
      "93/93 [==============================] - 16s 121ms/step - loss: 1.2313 - accuracy: 0.5454 - val_loss: 1.1793 - val_accuracy: 0.5336\n",
      "Epoch 2/10\n",
      "93/93 [==============================] - 10s 107ms/step - loss: 1.1581 - accuracy: 0.5430 - val_loss: 1.1248 - val_accuracy: 0.5484\n",
      "Epoch 3/10\n",
      "93/93 [==============================] - 10s 108ms/step - loss: 1.1005 - accuracy: 0.5417 - val_loss: 1.0596 - val_accuracy: 0.5742\n",
      "Epoch 4/10\n",
      "93/93 [==============================] - 11s 118ms/step - loss: 0.9962 - accuracy: 0.5813 - val_loss: 0.9844 - val_accuracy: 0.5727\n",
      "Epoch 5/10\n",
      "93/93 [==============================] - 11s 114ms/step - loss: 0.9785 - accuracy: 0.5877 - val_loss: 0.9625 - val_accuracy: 0.5836\n",
      "Epoch 6/10\n",
      "93/93 [==============================] - 11s 123ms/step - loss: 0.9544 - accuracy: 0.5864 - val_loss: 0.9518 - val_accuracy: 0.6016\n",
      "Epoch 7/10\n",
      "93/93 [==============================] - 10s 110ms/step - loss: 0.9374 - accuracy: 0.5995 - val_loss: 0.9407 - val_accuracy: 0.5867\n",
      "Epoch 8/10\n",
      "93/93 [==============================] - 10s 110ms/step - loss: 0.9204 - accuracy: 0.6048 - val_loss: 0.9355 - val_accuracy: 0.5898\n",
      "Epoch 9/10\n",
      "93/93 [==============================] - 10s 107ms/step - loss: 0.8892 - accuracy: 0.6173 - val_loss: 0.9256 - val_accuracy: 0.5961\n",
      "Epoch 10/10\n",
      "93/93 [==============================] - 11s 114ms/step - loss: 0.9094 - accuracy: 0.5954 - val_loss: 0.9319 - val_accuracy: 0.6000\n"
     ]
    }
   ],
   "source": [
    "#Fit the model\n",
    "history_model_2=model_2.fit(train_dataset,\n",
    "                            steps_per_epoch=int(0.1*len(train_dataset)),\n",
    "                            epochs=10,\n",
    "                            validation_data=test_dataset,\n",
    "                            validation_steps=int(0.1*len(test_dataset))) #only validate on 10% of the batches"
   ]
  },
  {
   "cell_type": "code",
   "execution_count": 81,
   "id": "e6ac188a",
   "metadata": {},
   "outputs": [
    {
     "data": {
      "text/plain": [
       "[0.9214253425598145, 0.6159256100654602]"
      ]
     },
     "execution_count": 81,
     "metadata": {},
     "output_type": "execute_result"
    }
   ],
   "source": [
    "#Evaluate on the whole validation dataset\n",
    "model_2.evaluate(test_dataset,verbose=0)"
   ]
  },
  {
   "cell_type": "code",
   "execution_count": 82,
   "id": "2a72a8cf",
   "metadata": {},
   "outputs": [
    {
     "name": "stdout",
     "output_type": "stream",
     "text": [
      "400/400 [==============================] - 9s 14ms/step\n"
     ]
    }
   ],
   "source": [
    "#Make predictions (our model predicts prediction probability for each class)\n",
    "model_2_pred_probs=model_2.predict(test_dataset)"
   ]
  },
  {
   "cell_type": "code",
   "execution_count": 83,
   "id": "e734e0fb",
   "metadata": {},
   "outputs": [
    {
     "data": {
      "text/plain": [
       "<tf.Tensor: shape=(12797,), dtype=int64, numpy=array([4, 2, 4, ..., 3, 4, 4], dtype=int64)>"
      ]
     },
     "execution_count": 83,
     "metadata": {},
     "output_type": "execute_result"
    }
   ],
   "source": [
    "#Convert pred probs to classes\n",
    "model_2_preds=tf.argmax(model_2_pred_probs,axis=1)\n",
    "model_2_preds"
   ]
  },
  {
   "cell_type": "code",
   "execution_count": 84,
   "id": "4b45155a",
   "metadata": {},
   "outputs": [
    {
     "data": {
      "text/plain": [
       "{'accuracy': 0.616, 'precision': 0.562, 'recall': 0.616, 'f1': 0.584}"
      ]
     },
     "execution_count": 84,
     "metadata": {},
     "output_type": "execute_result"
    }
   ],
   "source": [
    "#Calculate model_2_results\n",
    "model_2_results=calculate_results(test_labels_encoded,\n",
    "                                  model_2_preds)\n",
    "model_2_results"
   ]
  },
  {
   "cell_type": "markdown",
   "id": "bb855643",
   "metadata": {},
   "source": [
    "# Recurrent Neural Networks (RNN's)"
   ]
  },
  {
   "cell_type": "markdown",
   "id": "4f45d767",
   "metadata": {},
   "source": [
    "## Model 3: LSTM"
   ]
  },
  {
   "cell_type": "code",
   "execution_count": 85,
   "id": "fb3793b3",
   "metadata": {},
   "outputs": [],
   "source": [
    "#Create an LSTM model\n",
    "from tensorflow.keras import layers\n",
    "inputs=layers.Input(shape=(1,) ,dtype='string')\n",
    "x=text_vectorizer(inputs)\n",
    "x=token_embed(x)\n",
    "x=layers.LSTM(64,return_sequences=True)(x) #When you are stacking RNN cells together,you need to set return_sequences=True\n",
    "x=layers.LSTM(64)(x)\n",
    "x=layers.Dense(64,activation='relu')(x)\n",
    "outputs=layers.Dense(num_classes,activation='softmax')(x)\n",
    "model_3=tf.keras.Model(inputs,outputs,name='model_3_LSTM')"
   ]
  },
  {
   "cell_type": "code",
   "execution_count": 86,
   "id": "7d04289f",
   "metadata": {},
   "outputs": [
    {
     "name": "stdout",
     "output_type": "stream",
     "text": [
      "Model: \"model_3_LSTM\"\n",
      "_________________________________________________________________\n",
      " Layer (type)                Output Shape              Param #   \n",
      "=================================================================\n",
      " input_3 (InputLayer)        [(None, 1)]               0         \n",
      "                                                                 \n",
      " text_vectorization_1 (TextV  (None, 392)              0         \n",
      " ectorization)                                                   \n",
      "                                                                 \n",
      " token_embedding (Embedding)  (None, 392, 128)         5881856   \n",
      "                                                                 \n",
      " lstm (LSTM)                 (None, 392, 64)           49408     \n",
      "                                                                 \n",
      " lstm_1 (LSTM)               (None, 64)                33024     \n",
      "                                                                 \n",
      " dense_17 (Dense)            (None, 64)                4160      \n",
      "                                                                 \n",
      " dense_18 (Dense)            (None, 5)                 325       \n",
      "                                                                 \n",
      "=================================================================\n",
      "Total params: 5,968,773\n",
      "Trainable params: 5,968,773\n",
      "Non-trainable params: 0\n",
      "_________________________________________________________________\n"
     ]
    }
   ],
   "source": [
    "#Get a summary\n",
    "model_3.summary()"
   ]
  },
  {
   "cell_type": "code",
   "execution_count": 87,
   "id": "d6b393c9",
   "metadata": {},
   "outputs": [
    {
     "name": "stdout",
     "output_type": "stream",
     "text": [
      "Epoch 1/10\n",
      "93/93 [==============================] - 120s 1s/step - loss: 1.0631 - accuracy: 0.5645 - val_loss: 1.1547 - val_accuracy: 0.5641\n",
      "Epoch 2/10\n",
      "93/93 [==============================] - 93s 999ms/step - loss: 0.9565 - accuracy: 0.5914 - val_loss: 0.9808 - val_accuracy: 0.5836\n",
      "Epoch 3/10\n",
      "93/93 [==============================] - 94s 1s/step - loss: 0.9328 - accuracy: 0.5998 - val_loss: 0.9727 - val_accuracy: 0.5977\n",
      "Epoch 4/10\n",
      "93/93 [==============================] - 95s 1s/step - loss: 0.9008 - accuracy: 0.6122 - val_loss: 0.9491 - val_accuracy: 0.6039\n",
      "Epoch 5/10\n",
      "93/93 [==============================] - 96s 1s/step - loss: 0.9079 - accuracy: 0.6132 - val_loss: 1.0423 - val_accuracy: 0.6016\n",
      "Epoch 6/10\n",
      "93/93 [==============================] - 104s 1s/step - loss: 0.8858 - accuracy: 0.6226 - val_loss: 0.9368 - val_accuracy: 0.6070\n",
      "Epoch 7/10\n",
      "93/93 [==============================] - 105s 1s/step - loss: 0.8805 - accuracy: 0.6304 - val_loss: 0.9550 - val_accuracy: 0.6016\n",
      "Epoch 8/10\n",
      "93/93 [==============================] - 90s 970ms/step - loss: 0.8657 - accuracy: 0.6341 - val_loss: 0.9254 - val_accuracy: 0.6117\n",
      "Epoch 9/10\n",
      "93/93 [==============================] - 92s 988ms/step - loss: 0.8273 - accuracy: 0.6509 - val_loss: 1.0048 - val_accuracy: 0.6117\n",
      "Epoch 10/10\n",
      "93/93 [==============================] - 91s 978ms/step - loss: 0.9183 - accuracy: 0.5938 - val_loss: 0.9636 - val_accuracy: 0.5891\n"
     ]
    }
   ],
   "source": [
    "#Compile the model\n",
    "model_3.compile(loss='categorical_crossentropy',optimizer='adam',metrics='accuracy')\n",
    "\n",
    "#Fit model_3 to the data\n",
    "history_model_3=model_3.fit(train_dataset,\n",
    "                            epochs=10,\n",
    "                            steps_per_epoch=int(0.1*len(train_dataset)),\n",
    "                            validation_data=test_dataset,\n",
    "                            validation_steps=int(0.1*len(test_dataset)))"
   ]
  },
  {
   "cell_type": "code",
   "execution_count": 91,
   "id": "b438a818",
   "metadata": {},
   "outputs": [
    {
     "name": "stdout",
     "output_type": "stream",
     "text": [
      "400/400 [==============================] - 90s 217ms/step - loss: 0.9347 - accuracy: 0.5962\n"
     ]
    },
    {
     "data": {
      "text/plain": [
       "[0.9346691370010376, 0.5962334871292114]"
      ]
     },
     "execution_count": 91,
     "metadata": {},
     "output_type": "execute_result"
    }
   ],
   "source": [
    "#Evaluate on the whole test dataset\n",
    "model_3.evaluate(test_dataset)"
   ]
  },
  {
   "cell_type": "code",
   "execution_count": 92,
   "id": "5bca0d0b",
   "metadata": {},
   "outputs": [
    {
     "name": "stdout",
     "output_type": "stream",
     "text": [
      "400/400 [==============================] - 144s 334ms/step\n"
     ]
    }
   ],
   "source": [
    "#Make predictions (our model predicts prediction probability for each class)\n",
    "model_3_pred_probs=model_3.predict(test_dataset)"
   ]
  },
  {
   "cell_type": "code",
   "execution_count": 93,
   "id": "21131608",
   "metadata": {},
   "outputs": [
    {
     "data": {
      "text/plain": [
       "<tf.Tensor: shape=(12797,), dtype=int64, numpy=array([4, 3, 4, ..., 3, 4, 4], dtype=int64)>"
      ]
     },
     "execution_count": 93,
     "metadata": {},
     "output_type": "execute_result"
    }
   ],
   "source": [
    "#Convert pred probs to classes\n",
    "model_3_preds=tf.argmax(model_3_pred_probs,axis=1)\n",
    "model_3_preds"
   ]
  },
  {
   "cell_type": "code",
   "execution_count": 94,
   "id": "1b076129",
   "metadata": {},
   "outputs": [
    {
     "data": {
      "text/plain": [
       "{'accuracy': 0.596, 'precision': 0.541, 'recall': 0.596, 'f1': 0.566}"
      ]
     },
     "execution_count": 94,
     "metadata": {},
     "output_type": "execute_result"
    }
   ],
   "source": [
    "#Calculate model_3_results\n",
    "model_3_results=calculate_results(test_labels_encoded,\n",
    "                                  model_3_preds)\n",
    "model_3_results"
   ]
  },
  {
   "cell_type": "markdown",
   "id": "d742a22d",
   "metadata": {},
   "source": [
    "## Model 4 : GRU"
   ]
  },
  {
   "cell_type": "code",
   "execution_count": 95,
   "id": "1d79725e",
   "metadata": {},
   "outputs": [],
   "source": [
    "#Build an RNN using the GRU cell\n",
    "from tensorflow.keras import layers\n",
    "inputs=layers.Input(shape=(1,) , dtype=tf.string)\n",
    "x=text_vectorizer(inputs)\n",
    "x=token_embed(x)\n",
    "x=layers.GRU(128,return_sequences=True)(x)\n",
    "x=layers.GRU(64,return_sequences=True)(x)\n",
    "x=layers.Dense(32,activation='relu')(x)\n",
    "x=layers.GlobalAveragePooling1D()(x)\n",
    "outputs=layers.Dense(num_classes,activation='softmax')(x)\n",
    "model_4=tf.keras.Model(inputs,outputs,name='model_4_GRU')"
   ]
  },
  {
   "cell_type": "code",
   "execution_count": 96,
   "id": "1d323e81",
   "metadata": {},
   "outputs": [
    {
     "name": "stdout",
     "output_type": "stream",
     "text": [
      "Model: \"model_4_GRU\"\n",
      "_________________________________________________________________\n",
      " Layer (type)                Output Shape              Param #   \n",
      "=================================================================\n",
      " input_5 (InputLayer)        [(None, 1)]               0         \n",
      "                                                                 \n",
      " text_vectorization_1 (TextV  (None, 392)              0         \n",
      " ectorization)                                                   \n",
      "                                                                 \n",
      " token_embedding (Embedding)  (None, 392, 128)         5881856   \n",
      "                                                                 \n",
      " gru_2 (GRU)                 (None, 392, 128)          99072     \n",
      "                                                                 \n",
      " gru_3 (GRU)                 (None, 392, 64)           37248     \n",
      "                                                                 \n",
      " dense_21 (Dense)            (None, 392, 32)           2080      \n",
      "                                                                 \n",
      " global_average_pooling1d_3   (None, 32)               0         \n",
      " (GlobalAveragePooling1D)                                        \n",
      "                                                                 \n",
      " dense_22 (Dense)            (None, 5)                 165       \n",
      "                                                                 \n",
      "=================================================================\n",
      "Total params: 6,020,421\n",
      "Trainable params: 6,020,421\n",
      "Non-trainable params: 0\n",
      "_________________________________________________________________\n"
     ]
    }
   ],
   "source": [
    "model_4.summary()"
   ]
  },
  {
   "cell_type": "code",
   "execution_count": 97,
   "id": "151a4347",
   "metadata": {},
   "outputs": [
    {
     "name": "stdout",
     "output_type": "stream",
     "text": [
      "Epoch 1/10\n",
      "93/93 [==============================] - 129s 1s/step - loss: 1.0127 - accuracy: 0.5759 - val_loss: 1.0704 - val_accuracy: 0.5695\n",
      "Epoch 2/10\n",
      "93/93 [==============================] - 110s 1s/step - loss: 0.8739 - accuracy: 0.6169 - val_loss: 0.9440 - val_accuracy: 0.5883\n",
      "Epoch 3/10\n",
      "93/93 [==============================] - 101s 1s/step - loss: 0.8306 - accuracy: 0.6512 - val_loss: 0.9479 - val_accuracy: 0.5586\n",
      "Epoch 4/10\n",
      "93/93 [==============================] - 99s 1s/step - loss: 0.8029 - accuracy: 0.6515 - val_loss: 0.9290 - val_accuracy: 0.6141\n",
      "Epoch 5/10\n",
      "93/93 [==============================] - 101s 1s/step - loss: 0.8241 - accuracy: 0.6495 - val_loss: 0.9181 - val_accuracy: 0.6242\n",
      "Epoch 6/10\n",
      "93/93 [==============================] - 105s 1s/step - loss: 0.7844 - accuracy: 0.6640 - val_loss: 0.9438 - val_accuracy: 0.6219\n",
      "Epoch 7/10\n",
      "93/93 [==============================] - 105s 1s/step - loss: 0.7857 - accuracy: 0.6680 - val_loss: 0.9000 - val_accuracy: 0.6148\n",
      "Epoch 8/10\n",
      "93/93 [==============================] - 113s 1s/step - loss: 0.7793 - accuracy: 0.6657 - val_loss: 0.9298 - val_accuracy: 0.6078\n",
      "Epoch 9/10\n",
      "93/93 [==============================] - 102s 1s/step - loss: 0.7478 - accuracy: 0.6835 - val_loss: 0.9227 - val_accuracy: 0.6227\n",
      "Epoch 10/10\n",
      "93/93 [==============================] - 105s 1s/step - loss: 0.7825 - accuracy: 0.6589 - val_loss: 0.9535 - val_accuracy: 0.5992\n"
     ]
    }
   ],
   "source": [
    "#Compile the model\n",
    "model_4.compile(loss='categorical_crossentropy',optimizer='adam',metrics='accuracy')\n",
    "\n",
    "#Fit model_4 to the data\n",
    "history_model_4=model_4.fit(train_dataset,\n",
    "                            epochs=10,\n",
    "                            steps_per_epoch=int(0.1*len(train_dataset)),\n",
    "                            validation_data=test_dataset,\n",
    "                            validation_steps=int(0.1*len(test_dataset)))"
   ]
  },
  {
   "cell_type": "code",
   "execution_count": 98,
   "id": "0d044558",
   "metadata": {},
   "outputs": [
    {
     "name": "stdout",
     "output_type": "stream",
     "text": [
      "400/400 [==============================] - 112s 273ms/step - loss: 0.9219 - accuracy: 0.6051\n"
     ]
    },
    {
     "data": {
      "text/plain": [
       "[0.9218870401382446, 0.6050636768341064]"
      ]
     },
     "execution_count": 98,
     "metadata": {},
     "output_type": "execute_result"
    }
   ],
   "source": [
    "#Evaluate on the whole test dataset\n",
    "model_4.evaluate(test_dataset)"
   ]
  },
  {
   "cell_type": "code",
   "execution_count": 99,
   "id": "13cf9bf5",
   "metadata": {},
   "outputs": [
    {
     "name": "stdout",
     "output_type": "stream",
     "text": [
      "400/400 [==============================] - 107s 241ms/step\n"
     ]
    }
   ],
   "source": [
    "#Make predictions (our model predicts prediction probability for each class)\n",
    "model_4_pred_probs=model_4.predict(test_dataset)"
   ]
  },
  {
   "cell_type": "code",
   "execution_count": 100,
   "id": "c0eb478a",
   "metadata": {},
   "outputs": [
    {
     "data": {
      "text/plain": [
       "<tf.Tensor: shape=(12797,), dtype=int64, numpy=array([4, 2, 4, ..., 3, 4, 4], dtype=int64)>"
      ]
     },
     "execution_count": 100,
     "metadata": {},
     "output_type": "execute_result"
    }
   ],
   "source": [
    "#Convert pred probs to classes\n",
    "model_4_preds=tf.argmax(model_4_pred_probs,axis=1)\n",
    "model_4_preds"
   ]
  },
  {
   "cell_type": "code",
   "execution_count": 101,
   "id": "af992ce6",
   "metadata": {},
   "outputs": [
    {
     "data": {
      "text/plain": [
       "{'accuracy': 0.605, 'precision': 0.603, 'recall': 0.605, 'f1': 0.596}"
      ]
     },
     "execution_count": 101,
     "metadata": {},
     "output_type": "execute_result"
    }
   ],
   "source": [
    "#Calculate model_4_results\n",
    "model_4_results=calculate_results(test_labels_encoded,\n",
    "                                  model_4_preds)\n",
    "model_4_results"
   ]
  },
  {
   "cell_type": "markdown",
   "id": "126778c5",
   "metadata": {},
   "source": [
    "## Model 5 : Bidirectional RNN"
   ]
  },
  {
   "cell_type": "code",
   "execution_count": 102,
   "id": "0fcc6b18",
   "metadata": {},
   "outputs": [],
   "source": [
    "#Build a bidirectional RNN in TensorFlow\n",
    "from tensorflow.keras import layers\n",
    "inputs=layers.Input(shape=(1,),dtype='string')\n",
    "x=text_vectorizer(inputs)\n",
    "x=token_embed(x)\n",
    "x=layers.Bidirectional(layers.LSTM(64,return_sequences=True))(x)\n",
    "x=layers.Bidirectional(layers.GRU(64))(x)\n",
    "outputs=layers.Dense(num_classes,activation='softmax')(x)\n",
    "model_5=tf.keras.Model(inputs,outputs,name='model_5_bidirectional')"
   ]
  },
  {
   "cell_type": "code",
   "execution_count": 103,
   "id": "aefd0ba0",
   "metadata": {},
   "outputs": [
    {
     "name": "stdout",
     "output_type": "stream",
     "text": [
      "Model: \"model_5_bidirectional\"\n",
      "_________________________________________________________________\n",
      " Layer (type)                Output Shape              Param #   \n",
      "=================================================================\n",
      " input_6 (InputLayer)        [(None, 1)]               0         \n",
      "                                                                 \n",
      " text_vectorization_1 (TextV  (None, 392)              0         \n",
      " ectorization)                                                   \n",
      "                                                                 \n",
      " token_embedding (Embedding)  (None, 392, 128)         5881856   \n",
      "                                                                 \n",
      " bidirectional (Bidirectiona  (None, 392, 128)         98816     \n",
      " l)                                                              \n",
      "                                                                 \n",
      " bidirectional_1 (Bidirectio  (None, 128)              74496     \n",
      " nal)                                                            \n",
      "                                                                 \n",
      " dense_23 (Dense)            (None, 5)                 645       \n",
      "                                                                 \n",
      "=================================================================\n",
      "Total params: 6,055,813\n",
      "Trainable params: 6,055,813\n",
      "Non-trainable params: 0\n",
      "_________________________________________________________________\n"
     ]
    }
   ],
   "source": [
    "model_5.summary()"
   ]
  },
  {
   "cell_type": "code",
   "execution_count": 104,
   "id": "9ac320dd",
   "metadata": {},
   "outputs": [
    {
     "name": "stdout",
     "output_type": "stream",
     "text": [
      "Epoch 1/10\n",
      "93/93 [==============================] - 208s 2s/step - loss: 0.9411 - accuracy: 0.5998 - val_loss: 1.0176 - val_accuracy: 0.6109\n",
      "Epoch 2/10\n",
      "93/93 [==============================] - 153s 2s/step - loss: 0.8224 - accuracy: 0.6519 - val_loss: 0.9043 - val_accuracy: 0.5930\n",
      "Epoch 3/10\n",
      "93/93 [==============================] - 154s 2s/step - loss: 0.7793 - accuracy: 0.6741 - val_loss: 0.9733 - val_accuracy: 0.5648\n",
      "Epoch 4/10\n",
      "93/93 [==============================] - 153s 2s/step - loss: 0.7501 - accuracy: 0.6801 - val_loss: 1.0129 - val_accuracy: 0.5664\n",
      "Epoch 5/10\n",
      "93/93 [==============================] - 155s 2s/step - loss: 0.7781 - accuracy: 0.6727 - val_loss: 1.0011 - val_accuracy: 0.6047\n",
      "Epoch 6/10\n",
      "93/93 [==============================] - 162s 2s/step - loss: 0.7102 - accuracy: 0.7110 - val_loss: 1.0230 - val_accuracy: 0.5945\n",
      "Epoch 7/10\n",
      "93/93 [==============================] - 165s 2s/step - loss: 0.7381 - accuracy: 0.6915 - val_loss: 0.9554 - val_accuracy: 0.6133\n",
      "Epoch 8/10\n",
      "93/93 [==============================] - 164s 2s/step - loss: 0.7016 - accuracy: 0.7198 - val_loss: 0.9749 - val_accuracy: 0.6117\n",
      "Epoch 9/10\n",
      "93/93 [==============================] - 168s 2s/step - loss: 0.6713 - accuracy: 0.7164 - val_loss: 1.0790 - val_accuracy: 0.6195\n",
      "Epoch 10/10\n",
      "93/93 [==============================] - 166s 2s/step - loss: 0.7210 - accuracy: 0.6986 - val_loss: 0.9489 - val_accuracy: 0.6141\n"
     ]
    }
   ],
   "source": [
    "#Compile the model\n",
    "model_5.compile(loss='categorical_crossentropy',optimizer='adam',metrics='accuracy')\n",
    "\n",
    "#Fit model_5 to the data\n",
    "history_model_5=model_5.fit(train_dataset,\n",
    "                            epochs=10,\n",
    "                            steps_per_epoch=int(0.1*len(train_dataset)),\n",
    "                            validation_data=test_dataset,\n",
    "                            validation_steps=int(0.1*len(test_dataset)))"
   ]
  },
  {
   "cell_type": "code",
   "execution_count": 105,
   "id": "a737b453",
   "metadata": {},
   "outputs": [
    {
     "name": "stdout",
     "output_type": "stream",
     "text": [
      "400/400 [==============================] - 178s 437ms/step - loss: 0.9111 - accuracy: 0.6118\n"
     ]
    },
    {
     "data": {
      "text/plain": [
       "[0.9110777378082275, 0.611784040927887]"
      ]
     },
     "execution_count": 105,
     "metadata": {},
     "output_type": "execute_result"
    }
   ],
   "source": [
    "#Evaluate on the whole test dataset\n",
    "model_5.evaluate(test_dataset)"
   ]
  },
  {
   "cell_type": "code",
   "execution_count": 106,
   "id": "37f67121",
   "metadata": {},
   "outputs": [
    {
     "name": "stdout",
     "output_type": "stream",
     "text": [
      "400/400 [==============================] - 190s 433ms/step\n"
     ]
    }
   ],
   "source": [
    "#Make predictions (our model predicts prediction probability for each class)\n",
    "model_5_pred_probs=model_5.predict(test_dataset)"
   ]
  },
  {
   "cell_type": "code",
   "execution_count": 108,
   "id": "37822479",
   "metadata": {},
   "outputs": [
    {
     "data": {
      "text/plain": [
       "<tf.Tensor: shape=(12797,), dtype=int64, numpy=array([4, 2, 4, ..., 3, 4, 4], dtype=int64)>"
      ]
     },
     "execution_count": 108,
     "metadata": {},
     "output_type": "execute_result"
    }
   ],
   "source": [
    "#Convert pred probs to classes\n",
    "model_5_preds=tf.argmax(model_5_pred_probs,axis=1)\n",
    "model_5_preds"
   ]
  },
  {
   "cell_type": "code",
   "execution_count": 109,
   "id": "0d5205ac",
   "metadata": {},
   "outputs": [
    {
     "data": {
      "text/plain": [
       "{'accuracy': 0.612, 'precision': 0.596, 'recall': 0.612, 'f1': 0.6}"
      ]
     },
     "execution_count": 109,
     "metadata": {},
     "output_type": "execute_result"
    }
   ],
   "source": [
    "#Calculate model_5_results\n",
    "model_5_results=calculate_results(test_labels_encoded,\n",
    "                                  model_5_preds)\n",
    "model_5_results"
   ]
  },
  {
   "cell_type": "markdown",
   "id": "8db11c98",
   "metadata": {},
   "source": [
    "## Model 6 : Feature Extraction with pretrained token embeddings"
   ]
  },
  {
   "cell_type": "code",
   "execution_count": 110,
   "id": "af9a2d76",
   "metadata": {},
   "outputs": [],
   "source": [
    "#Download pretrained TensorFlow Hub USE\n",
    "import tensorflow_hub as hub\n",
    "tf_hub_embedding_layer=hub.KerasLayer(\"https://tfhub.dev/google/universal-sentence-encoder/4\",\n",
    "                                      trainable=False,\n",
    "                                      name='universal_sentence_encoder')"
   ]
  },
  {
   "cell_type": "code",
   "execution_count": 111,
   "id": "ba9c6963",
   "metadata": {},
   "outputs": [
    {
     "name": "stdout",
     "output_type": "stream",
     "text": [
      "Random sentence:\n",
      " overcrowded and maybe you get to ride on two or three things whilst queuing for hours get there really early and try and beat the crowds however it won't be for longthey let far to many people in its a real jokespend the money and go to the original in orange county usamuch much better\n",
      "Sentence after embedding:\n",
      " [-7.93035794e-03 -9.15635601e-02  3.83432880e-02  1.97584331e-02\n",
      " -2.08316166e-02 -2.56006159e-02 -3.97531241e-02 -4.34964374e-02\n",
      "  3.70607823e-02 -8.93665627e-02  2.56142183e-03 -1.93793066e-02\n",
      "  8.59527215e-02  4.66641970e-02 -3.68602350e-02  2.00735908e-02\n",
      " -4.02645618e-02 -3.15539986e-02  1.74239986e-02 -3.44208675e-04\n",
      " -1.69240215e-04 -1.05158973e-03 -3.20249125e-02  5.11063449e-02\n",
      "  9.63022187e-03  4.79825735e-02 -3.11378241e-02 -4.44474537e-03\n",
      " -1.03261983e-02 -1.62284356e-02  2.81267874e-02 -7.18465671e-02\n",
      "  7.00646415e-02  6.27232566e-02  7.34508932e-02 -4.17794148e-03\n",
      "  5.83949387e-02  1.11865904e-02 -4.00741808e-02 -2.41098534e-02\n",
      " -2.57010944e-02  9.53142252e-03 -3.78471911e-02  1.24705704e-02\n",
      " -5.74899279e-02  3.01748067e-02 -6.14529476e-02 -2.16194754e-03\n",
      " -4.32054251e-02 -4.14858125e-02  2.34380290e-02 -7.56868422e-02\n",
      "  5.40719181e-02  2.27033924e-02 -2.67113205e-02  2.12485832e-03\n",
      " -3.11669875e-02 -2.83036809e-02 -4.72023571e-03  3.57589219e-03\n",
      " -3.06882039e-02  1.82702467e-02  5.61175356e-03 -5.24815544e-02\n",
      " -4.36068401e-02  5.12047522e-02 -2.84414515e-02 -2.19112840e-02\n",
      " -4.46923561e-02  1.24353375e-02 -1.38883591e-02 -2.85511613e-02\n",
      " -2.23220848e-02  9.08834264e-02 -3.61614116e-02 -6.92656788e-04\n",
      " -4.26048704e-04  6.09499961e-02  4.51013595e-02 -6.37153015e-02\n",
      " -1.67373773e-02  7.90512562e-03  5.95584363e-02 -2.41011102e-02\n",
      " -1.32603394e-02 -4.29354273e-02 -3.86825530e-03  2.43943967e-02\n",
      " -5.90032116e-02 -2.85134818e-02  5.30225709e-02 -1.52874589e-02\n",
      " -1.68719534e-02  2.23227148e-03  1.93072408e-02 -3.85444611e-02\n",
      "  3.46209202e-03  7.05558583e-02 -3.50962169e-02  1.28714629e-02\n",
      " -2.74297576e-02 -4.90242802e-02 -8.63324478e-03 -2.94956639e-02\n",
      " -3.70154157e-02  5.77672049e-02  1.22845685e-02 -5.83984591e-02\n",
      " -7.38906339e-02  2.74742506e-02 -2.67118216e-02 -4.40239273e-02\n",
      " -4.07296531e-02  3.93233411e-02  1.96145698e-02  5.13634412e-03\n",
      "  2.01463178e-02 -2.32488383e-02  2.15767808e-02  4.49312590e-02\n",
      "  5.39119355e-02  3.33315209e-02 -1.44192427e-02  2.93660071e-02\n",
      " -2.75984295e-02 -1.58571862e-02  6.22228272e-02 -4.86628190e-02\n",
      " -3.11240517e-02  2.29649432e-02  4.12971303e-02 -4.83280309e-02\n",
      "  2.54882146e-02 -4.28539701e-02 -3.27081643e-02 -4.22578156e-02\n",
      " -4.15747017e-02 -2.92940810e-02  3.83474045e-02 -6.57018423e-02\n",
      " -2.66418625e-02  8.38707685e-02 -1.09168449e-02  3.17635834e-02\n",
      " -5.48294559e-02 -2.20334399e-02  1.16581703e-03  6.36961386e-02\n",
      " -6.76192492e-02 -2.95510739e-02  1.36504406e-02  3.01337913e-02\n",
      " -1.16489166e-02  3.60026769e-02  1.56665239e-02 -4.40860279e-02\n",
      " -6.04814216e-02  5.85190095e-02 -2.06415039e-02  3.11830305e-02\n",
      "  2.19144262e-02  3.56913880e-02 -5.59526170e-03  2.82467641e-02\n",
      "  3.17845456e-02  7.60449097e-02  1.10149965e-01 -4.59895134e-02\n",
      "  3.36877741e-02  2.02134512e-02 -1.78280082e-02 -5.26313558e-02\n",
      " -1.71368606e-02  8.33047405e-02 -2.33998075e-02 -5.59916673e-03\n",
      " -6.92515001e-02  6.72342852e-02 -4.51293625e-02 -4.24859971e-02\n",
      "  1.85584761e-02  9.08027496e-03  6.58909827e-02  2.11395025e-02\n",
      "  6.88187480e-02 -1.59553289e-02  4.61548418e-02 -6.32889941e-02\n",
      "  2.63602510e-02 -1.46748405e-02  3.07053421e-02 -4.38407101e-02\n",
      " -7.00548571e-03 -3.82253677e-02 -5.40398099e-02  3.05767655e-02\n",
      " -2.01221909e-02 -4.08413000e-02  3.29777151e-02  5.81405982e-02\n",
      " -1.72814913e-02 -2.08355417e-03  5.55574782e-02 -5.41076325e-02\n",
      "  4.09700908e-02  1.81344822e-02 -3.11650783e-02  1.45007642e-02\n",
      " -3.79007906e-02  4.22358960e-02 -4.57384624e-02  2.91595440e-02\n",
      "  7.17924386e-02  1.38585083e-02 -3.31134796e-02  2.72240080e-02\n",
      " -5.46895862e-02 -1.59165710e-02  2.45364439e-02 -3.99005562e-02\n",
      "  1.71739049e-02 -1.76843943e-03  8.55263881e-03 -6.27771094e-02\n",
      " -2.80786343e-02  2.36645415e-02  2.58463826e-02 -2.26833727e-02\n",
      "  1.14321643e-02  1.23094684e-02  7.31725097e-02 -6.56938106e-02\n",
      " -5.68948835e-02 -1.08279541e-01 -2.50457246e-02  4.85056266e-03\n",
      " -2.52027493e-02 -6.46815598e-02 -5.52331917e-02  6.26141801e-02\n",
      " -6.48777634e-02 -3.78689691e-02 -9.30915773e-02 -5.85551001e-03\n",
      "  4.73588845e-03 -5.09875193e-02  7.15790391e-02  5.17265014e-02\n",
      " -1.52640371e-02  2.35693082e-02  4.72158492e-02  1.92481093e-02\n",
      "  1.13038812e-02 -3.22995707e-02  2.10169367e-02  4.97393273e-02\n",
      "  6.56427443e-02  1.10507078e-01  6.18937835e-02  1.65571850e-02\n",
      "  8.63835774e-03  3.85782607e-02  3.57235619e-03 -2.56196726e-02\n",
      " -8.29862729e-02 -1.00383535e-02 -2.55401377e-02  8.40056092e-02\n",
      "  6.99390918e-02  6.96042611e-04  4.49264981e-03 -4.49226908e-02\n",
      " -1.12903472e-02  1.54105446e-03  3.10662878e-03  8.30324367e-02\n",
      " -6.61610290e-02 -3.47451828e-02 -1.82154458e-02  3.49284485e-02\n",
      "  1.74658839e-02 -3.37469429e-02 -1.15734553e-02 -6.80653155e-02\n",
      "  6.26245588e-02 -7.61274621e-02  2.38655843e-02  5.73240146e-02\n",
      "  2.24647410e-02  3.07318680e-02  2.94936672e-02  7.88619816e-02\n",
      "  4.39135134e-02  1.46523037e-03  9.96711627e-02  2.42186580e-02\n",
      " -2.57020518e-02  5.09611517e-02  4.00300734e-02  3.60259041e-02\n",
      "  5.15670963e-02 -5.29376380e-02 -3.05473004e-02  3.92190367e-02\n",
      "  7.24817254e-03  1.04941837e-02  5.39462194e-02 -1.74525678e-02\n",
      " -3.17229517e-02 -2.31387094e-02  2.26628385e-03  4.11439426e-02\n",
      "  5.78038879e-02 -6.12784885e-02 -3.55988704e-02  5.91564514e-02\n",
      "  6.85757026e-02  8.42794105e-02  8.96662995e-02 -1.58918295e-02\n",
      "  6.69532791e-02  6.26690835e-02 -9.75817256e-03  2.74203923e-02\n",
      " -8.96052793e-02 -3.42438854e-02 -6.71247020e-03  4.50321175e-02\n",
      " -7.07572997e-02 -1.41183380e-02  3.21876109e-02 -3.52352262e-02\n",
      " -1.94535274e-02  5.95651194e-02  3.80254537e-02  2.09529996e-02\n",
      " -9.24925059e-02 -7.54242986e-02 -6.22675195e-02  6.88668340e-02\n",
      "  8.30500573e-03 -8.83019436e-03 -8.52340739e-03 -2.92612263e-03\n",
      "  4.69600111e-02 -4.08902206e-02 -3.84613015e-02 -2.60059014e-02\n",
      "  6.18602782e-02  9.11626592e-03 -8.95569939e-03  2.46614590e-02\n",
      "  4.97426651e-02 -4.17730026e-02 -6.22586198e-02  7.10392138e-03\n",
      " -1.03123903e-01 -2.40897201e-02  5.20163402e-02  1.27256606e-02\n",
      " -4.32743542e-02 -1.61680430e-02  1.05673186e-01  4.11429442e-03\n",
      " -1.02809146e-02 -7.22364634e-02  9.14317220e-02 -1.60698220e-02\n",
      "  2.96073370e-02 -1.44313162e-05 -1.70356277e-02  2.03776453e-03\n",
      " -2.51962822e-02  6.90039024e-02  2.53443904e-02  9.49523896e-02\n",
      " -3.19322310e-02 -7.48489499e-02 -5.71635226e-03  3.60401645e-02\n",
      "  8.62128139e-02 -6.35013580e-02  3.15909460e-02 -5.88823818e-02\n",
      "  4.96150041e-03 -5.91183603e-02  3.48461196e-02 -2.56944913e-02\n",
      " -6.07888438e-02 -5.78930862e-02 -1.80663373e-02 -2.09317338e-02\n",
      "  5.97361214e-02  3.74262929e-02 -1.76107581e-03  3.27567942e-02\n",
      "  5.53775989e-02 -4.00835089e-02  4.58977781e-02  2.52040774e-02\n",
      "  1.41015435e-02  3.46669834e-03 -4.91249971e-02 -7.44263828e-02\n",
      " -1.99202821e-02  1.57262534e-02 -2.68841777e-02 -3.62164006e-02\n",
      " -3.15863006e-02 -8.69037732e-02  1.17760838e-03  5.44259064e-02\n",
      "  3.35178412e-02  4.16393988e-02 -8.12329650e-02  2.62980349e-02\n",
      " -5.77005111e-02  6.83464184e-02 -4.47661243e-02 -4.36464027e-02\n",
      "  4.87541221e-02 -8.02637916e-03 -2.41663237e-03 -8.25539604e-02\n",
      " -2.72045890e-03  7.71974623e-02 -5.28367981e-02  8.71952921e-02\n",
      "  4.05205674e-02  2.02004649e-02 -1.47754913e-02  4.05731052e-02\n",
      "  3.80441770e-02  1.07481360e-01 -2.30592843e-02 -1.58104971e-02\n",
      "  7.78870806e-02  5.31474885e-04 -1.72502603e-02 -6.77959174e-02\n",
      " -6.35323599e-02  6.84407353e-02  2.18494143e-02  6.27358328e-04\n",
      "  1.67822354e-02 -2.19474435e-02  1.66123919e-02  3.44286188e-02\n",
      " -5.57372943e-02 -4.11709324e-02 -1.56968348e-02  3.27540450e-02\n",
      "  8.91007632e-02  1.77522488e-02 -6.07913099e-02  6.48764819e-02\n",
      " -2.43290011e-02 -7.55661679e-03  4.96587567e-02 -3.67324688e-02\n",
      " -6.93093473e-03 -8.43638703e-02  1.65375415e-02 -8.90866220e-02\n",
      "  3.52834947e-02  3.61404791e-02 -2.81657968e-02 -2.16954127e-02\n",
      " -4.15329039e-02 -5.35059832e-02  4.50524762e-02  1.05985897e-02\n",
      "  2.37657279e-02  2.49202847e-02 -3.30427438e-02 -2.22772844e-02\n",
      "  2.26007961e-02  1.27218649e-04  1.09704815e-01 -4.82664369e-02\n",
      " -3.35558988e-02 -8.11254699e-03  6.74554482e-02 -6.01648353e-02\n",
      "  3.06602251e-02 -7.92564750e-02  2.96819583e-03 -3.85586396e-02\n",
      " -1.84534732e-02  2.96004582e-02  1.53439296e-02  5.13967276e-02\n",
      " -4.55896594e-02 -2.55735312e-02  1.75982714e-02  2.16814484e-02\n",
      " -2.54006237e-02 -2.45473683e-02 -6.00154698e-03  5.91167621e-02\n",
      "  2.15262901e-02 -9.29011405e-03 -4.42315005e-02 -8.16428959e-02\n",
      "  1.52946059e-02  3.89786586e-02  5.20488508e-02  1.39929075e-02\n",
      " -7.70610245e-03 -4.26581688e-02 -3.56325731e-02  3.26642618e-02]\n",
      "Length of sentence embedding: 512\n"
     ]
    }
   ],
   "source": [
    "#Test out the pretrained embedding on a random sentence\n",
    "random_train_sentence=random.choice(X_train[['Review_Text']].values.ravel())\n",
    "print(f\"Random sentence:\\n {random_train_sentence}\")\n",
    "use_embedded_sentence=tf_hub_embedding_layer([random_train_sentence])\n",
    "print(f\"Sentence after embedding:\\n {use_embedded_sentence[0]}\")\n",
    "print(f\"Length of sentence embedding: {len(use_embedded_sentence[0])}\")"
   ]
  },
  {
   "cell_type": "markdown",
   "id": "550e9a0d",
   "metadata": {},
   "source": [
    "### Building and fitting an NLP feature extraction model using pretrained embeddings from TensorFlow Hub"
   ]
  },
  {
   "cell_type": "code",
   "execution_count": 112,
   "id": "3d63fb6d",
   "metadata": {},
   "outputs": [],
   "source": [
    "#Define feature extraction model using TF Hub Layer\n",
    "inputs=layers.Input(shape=[],dtype=tf.string)\n",
    "pretrained_embedding=tf_hub_embedding_layer(inputs) #tokenize text and create embedding of each sequence (512 long vector)\n",
    "x=layers.Dense(128,activation=\"relu\")(pretrained_embedding)\n",
    "#Note: you could add more layers here if you wanted to\n",
    "outputs=layers.Dense(num_classes,activation='softmax')(x) #create the output layer\n",
    "model_6=tf.keras.Model(inputs=inputs,\n",
    "                       outputs=outputs,\n",
    "                       name='model_2_USE_feature_extractor')\n",
    "\n",
    "#Compile the model\n",
    "model_6.compile(loss='categorical_crossentropy',\n",
    "                optimizer=tf.keras.optimizers.Adam(),\n",
    "                metrics=['accuracy'])"
   ]
  },
  {
   "cell_type": "code",
   "execution_count": 113,
   "id": "4c2e5d5a",
   "metadata": {},
   "outputs": [
    {
     "name": "stdout",
     "output_type": "stream",
     "text": [
      "Model: \"model_2_USE_feature_extractor\"\n",
      "_________________________________________________________________\n",
      " Layer (type)                Output Shape              Param #   \n",
      "=================================================================\n",
      " input_7 (InputLayer)        [(None,)]                 0         \n",
      "                                                                 \n",
      " universal_sentence_encoder   (None, 512)              256797824 \n",
      " (KerasLayer)                                                    \n",
      "                                                                 \n",
      " dense_24 (Dense)            (None, 128)               65664     \n",
      "                                                                 \n",
      " dense_25 (Dense)            (None, 5)                 645       \n",
      "                                                                 \n",
      "=================================================================\n",
      "Total params: 256,864,133\n",
      "Trainable params: 66,309\n",
      "Non-trainable params: 256,797,824\n",
      "_________________________________________________________________\n"
     ]
    }
   ],
   "source": [
    "model_6.summary()"
   ]
  },
  {
   "cell_type": "code",
   "execution_count": 114,
   "id": "9de7cd64",
   "metadata": {},
   "outputs": [
    {
     "name": "stdout",
     "output_type": "stream",
     "text": [
      "Epoch 1/10\n",
      "93/93 [==============================] - 21s 117ms/step - loss: 1.1942 - accuracy: 0.5417 - val_loss: 1.0715 - val_accuracy: 0.5359\n",
      "Epoch 2/10\n",
      "93/93 [==============================] - 10s 106ms/step - loss: 1.0188 - accuracy: 0.5709 - val_loss: 0.9770 - val_accuracy: 0.5906\n",
      "Epoch 3/10\n",
      "93/93 [==============================] - 7s 76ms/step - loss: 0.9740 - accuracy: 0.5679 - val_loss: 0.9351 - val_accuracy: 0.5992\n",
      "Epoch 4/10\n",
      "93/93 [==============================] - 7s 71ms/step - loss: 0.9310 - accuracy: 0.5917 - val_loss: 0.9165 - val_accuracy: 0.6078\n",
      "Epoch 5/10\n",
      "93/93 [==============================] - 6s 70ms/step - loss: 0.9334 - accuracy: 0.5843 - val_loss: 0.9064 - val_accuracy: 0.6117\n",
      "Epoch 6/10\n",
      "93/93 [==============================] - 7s 73ms/step - loss: 0.9196 - accuracy: 0.6015 - val_loss: 0.8961 - val_accuracy: 0.6023\n",
      "Epoch 7/10\n",
      "93/93 [==============================] - 7s 72ms/step - loss: 0.8897 - accuracy: 0.6099 - val_loss: 0.8918 - val_accuracy: 0.6070\n",
      "Epoch 8/10\n",
      "93/93 [==============================] - 6s 68ms/step - loss: 0.8943 - accuracy: 0.6122 - val_loss: 0.8830 - val_accuracy: 0.6211\n",
      "Epoch 9/10\n",
      "93/93 [==============================] - 7s 76ms/step - loss: 0.8646 - accuracy: 0.6112 - val_loss: 0.8825 - val_accuracy: 0.6156\n",
      "Epoch 10/10\n",
      "93/93 [==============================] - 6s 70ms/step - loss: 0.8925 - accuracy: 0.6058 - val_loss: 0.8862 - val_accuracy: 0.6102\n"
     ]
    }
   ],
   "source": [
    "#Fit model_6 to the data\n",
    "history_model_6=model_6.fit(train_dataset,\n",
    "                            epochs=10,\n",
    "                            steps_per_epoch=int(0.1*len(train_dataset)),\n",
    "                            validation_data=test_dataset,\n",
    "                            validation_steps=int(0.1*len(test_dataset)))"
   ]
  },
  {
   "cell_type": "code",
   "execution_count": 115,
   "id": "2f003304",
   "metadata": {},
   "outputs": [
    {
     "name": "stdout",
     "output_type": "stream",
     "text": [
      "400/400 [==============================] - 20s 51ms/step - loss: 0.8886 - accuracy: 0.6061\n"
     ]
    },
    {
     "data": {
      "text/plain": [
       "[0.8886184692382812, 0.6060795783996582]"
      ]
     },
     "execution_count": 115,
     "metadata": {},
     "output_type": "execute_result"
    }
   ],
   "source": [
    "#Evaluate on the whole test dataset\n",
    "model_6.evaluate(test_dataset)"
   ]
  },
  {
   "cell_type": "code",
   "execution_count": 116,
   "id": "909707cc",
   "metadata": {},
   "outputs": [
    {
     "name": "stdout",
     "output_type": "stream",
     "text": [
      "400/400 [==============================] - 25s 50ms/step\n"
     ]
    }
   ],
   "source": [
    "#Make predictions (our model predicts prediction probability for each class)\n",
    "model_6_pred_probs=model_6.predict(test_dataset)"
   ]
  },
  {
   "cell_type": "code",
   "execution_count": 117,
   "id": "46b5a8f4",
   "metadata": {},
   "outputs": [
    {
     "data": {
      "text/plain": [
       "<tf.Tensor: shape=(12797,), dtype=int64, numpy=array([4, 2, 4, ..., 3, 4, 4], dtype=int64)>"
      ]
     },
     "execution_count": 117,
     "metadata": {},
     "output_type": "execute_result"
    }
   ],
   "source": [
    "#Convert pred probs to classes\n",
    "model_6_preds=tf.argmax(model_6_pred_probs,axis=1)\n",
    "model_6_preds"
   ]
  },
  {
   "cell_type": "code",
   "execution_count": 118,
   "id": "bd39fa61",
   "metadata": {},
   "outputs": [
    {
     "data": {
      "text/plain": [
       "{'accuracy': 0.606, 'precision': 0.583, 'recall': 0.606, 'f1': 0.587}"
      ]
     },
     "execution_count": 118,
     "metadata": {},
     "output_type": "execute_result"
    }
   ],
   "source": [
    "#Calculate model_6_results\n",
    "\n",
    "model_6_results=calculate_results(test_labels_encoded,\n",
    "                                  model_6_preds)\n",
    "model_6_results"
   ]
  },
  {
   "cell_type": "markdown",
   "id": "5abf125d",
   "metadata": {},
   "source": [
    "## Model 7: Combining pretrained token embeddings + characters embeddings (hybrid embedding layer)"
   ]
  },
  {
   "cell_type": "markdown",
   "id": "44cb0cfb",
   "metadata": {},
   "source": [
    "### Creating a character-level tokenizer"
   ]
  },
  {
   "cell_type": "code",
   "execution_count": 119,
   "id": "48e67dd5",
   "metadata": {},
   "outputs": [
    {
     "data": {
      "text/plain": [
       "array(['lots of fun attractions, short ride waits, easy mtr acess, food and drink is very expensive. a good day for young and old.'],\n",
       "      dtype=object)"
      ]
     },
     "execution_count": 119,
     "metadata": {},
     "output_type": "execute_result"
    }
   ],
   "source": [
    "X_train[['Review_Text']].values.ravel()[:1]"
   ]
  },
  {
   "cell_type": "code",
   "execution_count": 120,
   "id": "abaf237b",
   "metadata": {},
   "outputs": [],
   "source": [
    "#Making a function to split sentences into characters\n",
    "def split_chars(text):\n",
    "  return \" \".join(list(text))"
   ]
  },
  {
   "cell_type": "code",
   "execution_count": 121,
   "id": "d9b04164",
   "metadata": {},
   "outputs": [
    {
     "data": {
      "text/plain": [
       "'q u e u e s   w e r e   h o r r e n d o u s ,   q u i t e   a   f e w   r i d e s   w e r e   c l o s e d ,   f o o d   w a s   h o r r e n d o u s   a n d   v   e x p e n s i v e .   a l l   i n   a l l ,   n o t   a   g o o d   d a y !'"
      ]
     },
     "execution_count": 121,
     "metadata": {},
     "output_type": "execute_result"
    }
   ],
   "source": [
    "#Text splitting non-character-level sequence into characters\n",
    "random_train_sentence=random.choice(X_train[['Review_Text']].values.ravel())\n",
    "split_chars(random_train_sentence)"
   ]
  },
  {
   "cell_type": "code",
   "execution_count": 122,
   "id": "09298946",
   "metadata": {},
   "outputs": [
    {
     "name": "stdout",
     "output_type": "stream",
     "text": [
      "['l o t s   o f   f u n   a t t r a c t i o n s ,   s h o r t   r i d e   w a i t s ,   e a s y   m t r   a c e s s ,   f o o d   a n d   d r i n k   i s   v e r y   e x p e n s i v e .   a   g o o d   d a y   f o r   y o u n g   a n d   o l d .', 'i   w a s   v e r y   s u r p r i s e d   t h a t   e u r o   d i s n e y   d i d   n o t   h a v e   t h a t     h a p p i e s t   p l a c e   o n   e a r t h     f e e l !   t h e   d i s n e y   s t a f f   w e r e   n o t   f r i e n d l y   ( l i k e   i   a m   u s e d   t o   i n   u s ) ,   i t   w a s   n o t   c l e a n   l i k e   t h e   u s   p a r k s   ( g a r b a g e   a n d   c i g a r e t t e   b u t t s   a l l   o v e r ) ,   a n d   w e   o n l y   s a w   t h r e e   c h a r a c t e r s   d u r i n g   o u r   3   d a y s   t h e r e .   i t   i s   w o r t h   v i s i t i n g   j u s t   t o   e x p e r i e n c e   a n d   t o   s e e   h o w   a m a z i n g   o u r   p a r k s   a r e   i n   t h e   u s ;   i t   g a v e   m e   m o r e   a p p r e c i a t i o n   f o r   o u r s !']\n"
     ]
    }
   ],
   "source": [
    "#Split sequence-level data splits into character-level data splits\n",
    "train_chars=[split_chars(sentence) for sentence in X_train[['Review_Text']].values.ravel()]\n",
    "test_chars=[split_chars(sentence) for sentence in X_test[['Review_Text']].values.ravel()]\n",
    "print(train_chars[:2])"
   ]
  },
  {
   "cell_type": "code",
   "execution_count": 123,
   "id": "1265e5a8",
   "metadata": {},
   "outputs": [
    {
     "data": {
      "text/plain": [
       "695.4394989785325"
      ]
     },
     "execution_count": 123,
     "metadata": {},
     "output_type": "execute_result"
    }
   ],
   "source": [
    "#What´s the average character length?\n",
    "chars_lens=[len(sentence) for sentence in X_train[['Review_Text']].values.ravel()]\n",
    "mean_char_len=np.mean(chars_lens)\n",
    "mean_char_len"
   ]
  },
  {
   "cell_type": "code",
   "execution_count": 124,
   "id": "15f6a3e2",
   "metadata": {},
   "outputs": [
    {
     "data": {
      "image/png": "[encoded data removed]",
      "text/plain": [
       "<Figure size 640x480 with 1 Axes>"
      ]
     },
     "metadata": {},
     "output_type": "display_data"
    }
   ],
   "source": [
    "#Check the distribution of our sequences at a character-level\n",
    "import matplotlib.pyplot as plt\n",
    "plt.hist(chars_lens,bins=7);"
   ]
  },
  {
   "cell_type": "code",
   "execution_count": 125,
   "id": "65b414e5",
   "metadata": {},
   "outputs": [
    {
     "data": {
      "text/plain": [
       "2102"
      ]
     },
     "execution_count": 125,
     "metadata": {},
     "output_type": "execute_result"
    }
   ],
   "source": [
    "#Find wha character length covers 95% of sequences\n",
    "output_seq_char_len=int(np.percentile(chars_lens,95))\n",
    "output_seq_char_len"
   ]
  },
  {
   "cell_type": "code",
   "execution_count": 126,
   "id": "1adcf1a3",
   "metadata": {},
   "outputs": [
    {
     "data": {
      "text/plain": [
       "'abcdefghijklmnopqrstuvwxyz0123456789!\"#$%&\\'()*+,-./:;<=>?@[\\\\]^_`{|}~'"
      ]
     },
     "execution_count": 126,
     "metadata": {},
     "output_type": "execute_result"
    }
   ],
   "source": [
    "#Get all keyboard characters\n",
    "import string\n",
    "alphabet=string.ascii_lowercase+string.digits+string.punctuation\n",
    "alphabet"
   ]
  },
  {
   "cell_type": "code",
   "execution_count": 127,
   "id": "92cdd818",
   "metadata": {},
   "outputs": [],
   "source": [
    "#Create char-level vectorizer instance\n",
    "num_char_tokens=len(alphabet)+2 #add 2 for space and OOV token (OOV=out of vocab,'[UNK]')\n",
    "char_vectorizer=TextVectorization(max_tokens=num_char_tokens,\n",
    "                                  # standardize=None, #set standarization to \"None\" if you want to leave punctuation in\n",
    "                                  output_sequence_length=output_seq_char_len,\n",
    "                                  name='char_vectorizer')"
   ]
  },
  {
   "cell_type": "code",
   "execution_count": 128,
   "id": "d3cdc8f7",
   "metadata": {},
   "outputs": [],
   "source": [
    "#Adapt character vectorizer to training character\n",
    "char_vectorizer.adapt(train_chars)"
   ]
  },
  {
   "cell_type": "code",
   "execution_count": 129,
   "id": "dd3d8cc4",
   "metadata": {},
   "outputs": [
    {
     "name": "stdout",
     "output_type": "stream",
     "text": [
      "Number of different characters in character vocab: 38\n",
      "5 most common characters:['', '[UNK]', 'e', 't', 'a']\n",
      "5 least common characters:['4', '6', '9', '8', '7']\n"
     ]
    }
   ],
   "source": [
    "#Check character vocab stats\n",
    "char_vocab=char_vectorizer.get_vocabulary()\n",
    "print(f\"Number of different characters in character vocab: {len(char_vocab)}\") \n",
    "print(f\"5 most common characters:{char_vocab[:5]}\")\n",
    "print(f\"5 least common characters:{char_vocab[-5:]}\")"
   ]
  },
  {
   "cell_type": "code",
   "execution_count": 130,
   "id": "7341a7df",
   "metadata": {},
   "outputs": [
    {
     "name": "stdout",
     "output_type": "stream",
     "text": [
      "Charified text:\n",
      " m y   f a m i l y   j u s t   c o m p l e t e d   o u r   t h i r d   t r i p   t o   d i s n e y l a n d   a n d   c a l i f o r n i a   a d v e n t u r e   p a r k .   t h e r e   i s   s o m e t h i n g   m a g i c a l   a b o u t   c h r i s t m a s   i n   t h e   p a r k s .   f r o m   t h e   h u g e   t r e e   o n   m a i n   s t r e e t   u s a   t o   s l e e p i n g   b e a u t y   c a s t l e   b a t h e d   i n   a   g l i t t e r i n g   s e a   o f   l i g h t s ,   i t   i s   b r e a t h t a k i n g . i n   a d d i t i o n   t o   t h e   u s u a l   r i d e s   t h i s   y e a r ,   w e   h a d   a   c h a n c e   t o   v i s i t   t h e   m a j o r   u p g r a d e s   i n   t h e   c a l i f o r n i a   a d v e n t u r e   p a r k .   t h e s e   i n c l u d e d   b u e n a   v i s t a   s t r e e t ,   w h i c h   i s   a   t h r o w b a c k   t o   t h e   t i m e   w h e n   w a l t   d i s n e y   a r r i v e d   i n   c a l i f o r n i a   w i t h   a   s u i t c a s e ,   $ 4 0 ,   a n d   s k e t c h e s   o f   m i c k e y   m o u s e .   l o t s   o f   s t r e e t   e n t e r t a i n m e n t   t o   s e e   w i t h   l i v e   m u s i c   a n d   d a n c e   n u m b e r s ,   h a n d   b e l l   c h o i r ,   a n d   t h e   n i g h t l y   t r e e   l i g h t i n g   c e r e m o n y .   d o n ' t   m i s s   t h e   n e w s b o y s   a n d   m i c k e y   o n   t h e   r e d   t r o l l e y   i n   t h e   f o u n t a i n   a r e a   ( c a t h a y   c i r c l e ) .   c a r s l a n d       d i s n e y   h a s   l i t e r a l l y   t u r n e d   t h i s   a r e a   i n t o   i t s   o w n   l i t t l e   r o u t e   6 6   t o w n   ( r a d i a t o r   s p r i n g s ) .   t h e   r a d i a t o r   s p r i n g s   r a c e r s   a r e   a   m u s t ,   b u t   b e   p r e p a r e d   f o r   t h e   l o n g e s t   w a i t   t i m e   i n   b o t h   p a r k s .   i   r e c o m m e n d   v i s i t i n g   i t   a t   n i g h t   w h i l e   a l l   o f   t h e   g l o w i n g   n e o n   i s   l i t .   w o r l d   o f   c o l o r       a   w i n t e r   t h e m e d   w o r l d   o f   c o l o r   f e a t u r i n g   o l a f   t h e   s n o w m a n   a s   e m c e e   w a s   a b s o l u t e l y   a s t o n i s h i n g . f a n t a s m i c       i f   y o u   h a v e   n e v e r   s e e n   t h i s   c o m b i n a t i o n   o f   l i v e   a c t i o n ,   l i g h t s ,   f o u n t a i n s ,   a n d   f a n t a s y   t h e n   p l e a s e   t a k e   t h e   o p p o r t u n i t y   t o   s e e   f o r   y o u r s e l f   w h y   i t   i s   a   p a r k   f a v o r i t e . o u r   t i c k e t s   i n c l u d e d   a   3   d a y   p a s s   w i t h   p a r k   h o p p e r   o p t i o n .   f o r   t h e   f i r s t   t i m e   w e   b r a v e d   t h e   r a i n   o n e   d a y   a n d   w e r e   p l e a s a n t l y   s u r p r i s e d   w i t h   v e r y   s h o r t   w a i t   t i m e s .   o u r   f a m i l y   r o d e   s p a c e   m o u n t a i n   5   t i m e s   t h a t   d a y   w i t h   o n l y   a   1 0   m i n u t e   w a i t !   s o m e   a t t r a c t i o n s   w e r e   c l o s e d ,   a n d   s o m e   w e r e   s o a k i n g   w e t   ( j u n g l e   c r u i s e ) .   b y   t h e   e n d   o f   t h e   d a y   w e   w e r e   t i r e d   a n d   w e t ,   b u t   h a d   r i d d e n   m u l t i p l e   t i m e s   o n   t h e   m a j o r i t y   o f   t h e   r i d e s   w e   s p e n d   h o u r s   i n   l i n e   f o r .   w e   d r i v e   t o   d i s n e y l a n d   f r o m   k e n t u c k y   b e c a u s e   i t   i s   w o r t h   t h e   t r i p .   a f t e r   3   t i m e s ,   i   c a n   h o n e s t l y   s a y   t h a t   d i s n e y l a n d   n e v e r   d i s a p p o i n t s !\n",
      "\n",
      "Length of random_train_chars:1566\n",
      "\n",
      "Vectorized chars:\n",
      " [[17 15 18 ...  0  0  0]]\n",
      "\n",
      "Length of vectorized chars:2102\n"
     ]
    }
   ],
   "source": [
    "#Test out our character vectorizer\n",
    "random_train_chars=random.choice(train_chars)\n",
    "print(f\"Charified text:\\n {random_train_chars}\")\n",
    "print(f\"\\nLength of random_train_chars:{len(random_train_chars.split())}\")\n",
    "vectorized_chars=char_vectorizer([random_train_chars])\n",
    "print(f\"\\nVectorized chars:\\n {vectorized_chars}\")\n",
    "print(f\"\\nLength of vectorized chars:{len(vectorized_chars[0])}\")"
   ]
  },
  {
   "cell_type": "markdown",
   "id": "c2fc2579",
   "metadata": {},
   "source": [
    "### Creating a character-level embedding"
   ]
  },
  {
   "cell_type": "code",
   "execution_count": 131,
   "id": "1983cfe1",
   "metadata": {},
   "outputs": [],
   "source": [
    "#Create char embedding layer\n",
    "char_embed=layers.Embedding(input_dim=len(char_vocab), #number of different characters\n",
    "                            output_dim=30, \n",
    "                            mask_zero=True,\n",
    "                            name='char_embed')"
   ]
  },
  {
   "cell_type": "code",
   "execution_count": 132,
   "id": "09a13d53",
   "metadata": {},
   "outputs": [
    {
     "name": "stdout",
     "output_type": "stream",
     "text": [
      "Charified text:\n",
      " m y   f a m i l y   j u s t   c o m p l e t e d   o u r   t h i r d   t r i p   t o   d i s n e y l a n d   a n d   c a l i f o r n i a   a d v e n t u r e   p a r k .   t h e r e   i s   s o m e t h i n g   m a g i c a l   a b o u t   c h r i s t m a s   i n   t h e   p a r k s .   f r o m   t h e   h u g e   t r e e   o n   m a i n   s t r e e t   u s a   t o   s l e e p i n g   b e a u t y   c a s t l e   b a t h e d   i n   a   g l i t t e r i n g   s e a   o f   l i g h t s ,   i t   i s   b r e a t h t a k i n g . i n   a d d i t i o n   t o   t h e   u s u a l   r i d e s   t h i s   y e a r ,   w e   h a d   a   c h a n c e   t o   v i s i t   t h e   m a j o r   u p g r a d e s   i n   t h e   c a l i f o r n i a   a d v e n t u r e   p a r k .   t h e s e   i n c l u d e d   b u e n a   v i s t a   s t r e e t ,   w h i c h   i s   a   t h r o w b a c k   t o   t h e   t i m e   w h e n   w a l t   d i s n e y   a r r i v e d   i n   c a l i f o r n i a   w i t h   a   s u i t c a s e ,   $ 4 0 ,   a n d   s k e t c h e s   o f   m i c k e y   m o u s e .   l o t s   o f   s t r e e t   e n t e r t a i n m e n t   t o   s e e   w i t h   l i v e   m u s i c   a n d   d a n c e   n u m b e r s ,   h a n d   b e l l   c h o i r ,   a n d   t h e   n i g h t l y   t r e e   l i g h t i n g   c e r e m o n y .   d o n ' t   m i s s   t h e   n e w s b o y s   a n d   m i c k e y   o n   t h e   r e d   t r o l l e y   i n   t h e   f o u n t a i n   a r e a   ( c a t h a y   c i r c l e ) .   c a r s l a n d       d i s n e y   h a s   l i t e r a l l y   t u r n e d   t h i s   a r e a   i n t o   i t s   o w n   l i t t l e   r o u t e   6 6   t o w n   ( r a d i a t o r   s p r i n g s ) .   t h e   r a d i a t o r   s p r i n g s   r a c e r s   a r e   a   m u s t ,   b u t   b e   p r e p a r e d   f o r   t h e   l o n g e s t   w a i t   t i m e   i n   b o t h   p a r k s .   i   r e c o m m e n d   v i s i t i n g   i t   a t   n i g h t   w h i l e   a l l   o f   t h e   g l o w i n g   n e o n   i s   l i t .   w o r l d   o f   c o l o r       a   w i n t e r   t h e m e d   w o r l d   o f   c o l o r   f e a t u r i n g   o l a f   t h e   s n o w m a n   a s   e m c e e   w a s   a b s o l u t e l y   a s t o n i s h i n g . f a n t a s m i c       i f   y o u   h a v e   n e v e r   s e e n   t h i s   c o m b i n a t i o n   o f   l i v e   a c t i o n ,   l i g h t s ,   f o u n t a i n s ,   a n d   f a n t a s y   t h e n   p l e a s e   t a k e   t h e   o p p o r t u n i t y   t o   s e e   f o r   y o u r s e l f   w h y   i t   i s   a   p a r k   f a v o r i t e . o u r   t i c k e t s   i n c l u d e d   a   3   d a y   p a s s   w i t h   p a r k   h o p p e r   o p t i o n .   f o r   t h e   f i r s t   t i m e   w e   b r a v e d   t h e   r a i n   o n e   d a y   a n d   w e r e   p l e a s a n t l y   s u r p r i s e d   w i t h   v e r y   s h o r t   w a i t   t i m e s .   o u r   f a m i l y   r o d e   s p a c e   m o u n t a i n   5   t i m e s   t h a t   d a y   w i t h   o n l y   a   1 0   m i n u t e   w a i t !   s o m e   a t t r a c t i o n s   w e r e   c l o s e d ,   a n d   s o m e   w e r e   s o a k i n g   w e t   ( j u n g l e   c r u i s e ) .   b y   t h e   e n d   o f   t h e   d a y   w e   w e r e   t i r e d   a n d   w e t ,   b u t   h a d   r i d d e n   m u l t i p l e   t i m e s   o n   t h e   m a j o r i t y   o f   t h e   r i d e s   w e   s p e n d   h o u r s   i n   l i n e   f o r .   w e   d r i v e   t o   d i s n e y l a n d   f r o m   k e n t u c k y   b e c a u s e   i t   i s   w o r t h   t h e   t r i p .   a f t e r   3   t i m e s ,   i   c a n   h o n e s t l y   s a y   t h a t   d i s n e y l a n d   n e v e r   d i s a p p o i n t s !\n",
      "\n",
      "Embedded chars (after vectorization and embedding):\n",
      " [[[ 0.04974811 -0.03556272  0.01937959 ...  0.01460851 -0.01206557\n",
      "   -0.04799613]\n",
      "  [ 0.03224419  0.04939384  0.01549492 ...  0.0144651  -0.02092924\n",
      "   -0.0100775 ]\n",
      "  [-0.01253595 -0.0308707   0.01129396 ...  0.00918654 -0.00273863\n",
      "    0.02360152]\n",
      "  ...\n",
      "  [-0.02437035  0.02306552 -0.03937598 ...  0.01040203  0.02947338\n",
      "   -0.01754978]\n",
      "  [-0.02437035  0.02306552 -0.03937598 ...  0.01040203  0.02947338\n",
      "   -0.01754978]\n",
      "  [-0.02437035  0.02306552 -0.03937598 ...  0.01040203  0.02947338\n",
      "   -0.01754978]]]\n",
      "\n",
      "Character embedding shape:(1, 2102, 30)\n"
     ]
    }
   ],
   "source": [
    "#Test our character embedding layer\n",
    "print(f\"Charified text:\\n {random_train_chars}\\n\")\n",
    "char_embed_example=char_embed(char_vectorizer([random_train_chars]))\n",
    "print(f\"Embedded chars (after vectorization and embedding):\\n {char_embed_example}\\n\")\n",
    "print(f\"Character embedding shape:{char_embed_example.shape}\")"
   ]
  },
  {
   "cell_type": "code",
   "execution_count": 133,
   "id": "fa4084e1",
   "metadata": {},
   "outputs": [],
   "source": [
    "#1. Set-up token inputs/model\n",
    "token_inputs=layers.Input(shape=[],dtype=tf.string , name='token_input')\n",
    "token_embeddings=tf_hub_embedding_layer(token_inputs)\n",
    "token_outputs=layers.Dense(128,activation='relu')(token_embeddings)\n",
    "token_model=tf.keras.Model(inputs=token_inputs,\n",
    "                           outputs=token_outputs)\n",
    "\n",
    "#2. Set-up char inputs/model\n",
    "char_inputs=layers.Input(shape=(1,),dtype=tf.string,name='char_input')\n",
    "char_vectors=char_vectorizer(char_inputs)\n",
    "char_embeddings=char_embed(char_vectors)\n",
    "char_bi_lstm=layers.Bidirectional(layers.LSTM(24))(char_embeddings)\n",
    "char_model=tf.keras.Model(inputs=char_inputs,\n",
    "                          outputs=char_bi_lstm)\n",
    "\n",
    "#3. Concatenate token and char inputs (create hybrid token embedding)\n",
    "token_char_concat=layers.Concatenate(name='token_char_hybrid')([token_model.output,\n",
    "                                                                char_model.output])\n",
    "\n",
    "#4. Create output layers - adding a Dropout layer\n",
    "combined_dropout=layers.Dropout(0.1) (token_char_concat)\n",
    "combined_dense=layers.Dense(128,activation='relu')(combined_dropout)\n",
    "output_layer=layers.Dense(num_classes,activation='softmax')(combined_dense)\n",
    "\n",
    "#5. Construct model with char and token inputs\n",
    "model_7=tf.keras.Model(inputs=[token_model.input,char_model.input],\n",
    "                       outputs=output_layer,\n",
    "                       name='model_7_token_and_char_embeddings')"
   ]
  },
  {
   "cell_type": "code",
   "execution_count": 134,
   "id": "06a95968",
   "metadata": {},
   "outputs": [
    {
     "name": "stdout",
     "output_type": "stream",
     "text": [
      "Model: \"model_7_token_and_char_embeddings\"\n",
      "__________________________________________________________________________________________________\n",
      " Layer (type)                   Output Shape         Param #     Connected to                     \n",
      "==================================================================================================\n",
      " char_input (InputLayer)        [(None, 1)]          0           []                               \n",
      "                                                                                                  \n",
      " token_input (InputLayer)       [(None,)]            0           []                               \n",
      "                                                                                                  \n",
      " char_vectorizer (TextVectoriza  (None, 2102)        0           ['char_input[0][0]']             \n",
      " tion)                                                                                            \n",
      "                                                                                                  \n",
      " universal_sentence_encoder (Ke  (None, 512)         256797824   ['token_input[0][0]']            \n",
      " rasLayer)                                                                                        \n",
      "                                                                                                  \n",
      " char_embed (Embedding)         (None, 2102, 30)     1140        ['char_vectorizer[0][0]']        \n",
      "                                                                                                  \n",
      " dense_26 (Dense)               (None, 128)          65664       ['universal_sentence_encoder[1][0\n",
      "                                                                 ]']                              \n",
      "                                                                                                  \n",
      " bidirectional_2 (Bidirectional  (None, 48)          10560       ['char_embed[0][0]']             \n",
      " )                                                                                                \n",
      "                                                                                                  \n",
      " token_char_hybrid (Concatenate  (None, 176)         0           ['dense_26[0][0]',               \n",
      " )                                                                'bidirectional_2[0][0]']        \n",
      "                                                                                                  \n",
      " dropout (Dropout)              (None, 176)          0           ['token_char_hybrid[0][0]']      \n",
      "                                                                                                  \n",
      " dense_27 (Dense)               (None, 128)          22656       ['dropout[0][0]']                \n",
      "                                                                                                  \n",
      " dense_28 (Dense)               (None, 5)            645         ['dense_27[0][0]']               \n",
      "                                                                                                  \n",
      "==================================================================================================\n",
      "Total params: 256,898,489\n",
      "Trainable params: 100,665\n",
      "Non-trainable params: 256,797,824\n",
      "__________________________________________________________________________________________________\n"
     ]
    }
   ],
   "source": [
    "#Get a summary of our model\n",
    "model_7.summary()"
   ]
  },
  {
   "cell_type": "code",
   "execution_count": 135,
   "id": "059179bd",
   "metadata": {},
   "outputs": [
    {
     "data": {
      "image/png": "[encoded data removed]",
      "text/plain": [
       "<IPython.core.display.Image object>"
      ]
     },
     "execution_count": 135,
     "metadata": {},
     "output_type": "execute_result"
    }
   ],
   "source": [
    "#Plot hybrid token and character model\n",
    "from keras.utils import plot_model\n",
    "plot_model(model_7,show_shapes=True)"
   ]
  },
  {
   "cell_type": "code",
   "execution_count": 136,
   "id": "e8ec056b",
   "metadata": {},
   "outputs": [],
   "source": [
    "#Compile token char model\n",
    "model_7.compile(loss='categorical_crossentropy',\n",
    "                optimizer=tf.keras.optimizers.Adam(),\n",
    "                metrics=['accuracy'])"
   ]
  },
  {
   "cell_type": "markdown",
   "id": "d57ef27a",
   "metadata": {},
   "source": [
    "### Combining token and character data into a tf.data.Dataset"
   ]
  },
  {
   "cell_type": "code",
   "execution_count": 138,
   "id": "a2424d7c",
   "metadata": {},
   "outputs": [],
   "source": [
    "# Combine chars and tokens into a dataset\n",
    "train_char_token_data=tf.data.Dataset.from_tensor_slices((X_train[['Review_Text']].values.ravel(),train_chars)) #make data\n",
    "train_char_token_labels=tf.data.Dataset.from_tensor_slices(train_labels_one_hot) #make the labels\n",
    "train_char_token_dataset=tf.data.Dataset.zip((train_char_token_data,train_char_token_labels))\n",
    "\n",
    "#Prefetch and batch train data\n",
    "train_char_token_dataset=train_char_token_dataset.batch(32).prefetch(tf.data.AUTOTUNE)"
   ]
  },
  {
   "cell_type": "code",
   "execution_count": 140,
   "id": "f0b5ec92",
   "metadata": {},
   "outputs": [],
   "source": [
    "#Repeat the steps above in the for test data\n",
    "test_char_token_data=tf.data.Dataset.from_tensor_slices((X_test[['Review_Text']].values.ravel(),test_chars)) #make data\n",
    "test_char_token_labels=tf.data.Dataset.from_tensor_slices(test_labels_one_hot) #make the labels\n",
    "test_char_token_dataset=tf.data.Dataset.zip((test_char_token_data,test_char_token_labels))\n",
    "test_char_token_dataset=test_char_token_dataset.batch(32).prefetch(tf.data.AUTOTUNE)"
   ]
  },
  {
   "cell_type": "code",
   "execution_count": 141,
   "id": "b432d14f",
   "metadata": {},
   "outputs": [
    {
     "data": {
      "text/plain": [
       "(<PrefetchDataset element_spec=((TensorSpec(shape=(None,), dtype=tf.string, name=None), TensorSpec(shape=(None,), dtype=tf.string, name=None)), TensorSpec(shape=(None, 5), dtype=tf.float64, name=None))>,\n",
       " <PrefetchDataset element_spec=((TensorSpec(shape=(None,), dtype=tf.string, name=None), TensorSpec(shape=(None,), dtype=tf.string, name=None)), TensorSpec(shape=(None, 5), dtype=tf.float64, name=None))>)"
      ]
     },
     "execution_count": 141,
     "metadata": {},
     "output_type": "execute_result"
    }
   ],
   "source": [
    "#Check out our training and token embedding dataset\n",
    "train_char_token_dataset,test_char_token_dataset"
   ]
  },
  {
   "cell_type": "code",
   "execution_count": 142,
   "id": "76b4df7d",
   "metadata": {},
   "outputs": [
    {
     "name": "stdout",
     "output_type": "stream",
     "text": [
      "Epoch 1/10\n",
      "93/93 [==============================] - 263s 3s/step - loss: 1.1561 - accuracy: 0.5430 - val_loss: 1.0110 - val_accuracy: 0.5500\n",
      "Epoch 2/10\n",
      "93/93 [==============================] - 232s 3s/step - loss: 0.9666 - accuracy: 0.5783 - val_loss: 0.9177 - val_accuracy: 0.5906\n",
      "Epoch 3/10\n",
      "93/93 [==============================] - 232s 2s/step - loss: 0.9315 - accuracy: 0.5894 - val_loss: 0.9001 - val_accuracy: 0.5961\n",
      "Epoch 4/10\n",
      "93/93 [==============================] - 231s 2s/step - loss: 0.9129 - accuracy: 0.5911 - val_loss: 0.8936 - val_accuracy: 0.6117\n",
      "Epoch 5/10\n",
      "93/93 [==============================] - 180s 2s/step - loss: 0.9133 - accuracy: 0.6095 - val_loss: 0.8820 - val_accuracy: 0.6117\n",
      "Epoch 6/10\n",
      "93/93 [==============================] - 233s 3s/step - loss: 0.9111 - accuracy: 0.6005 - val_loss: 0.8790 - val_accuracy: 0.6242\n",
      "Epoch 7/10\n",
      "93/93 [==============================] - 233s 3s/step - loss: 0.8815 - accuracy: 0.6106 - val_loss: 0.8987 - val_accuracy: 0.6211\n",
      "Epoch 8/10\n",
      "93/93 [==============================] - 232s 2s/step - loss: 0.8894 - accuracy: 0.6146 - val_loss: 0.8784 - val_accuracy: 0.6180\n",
      "Epoch 9/10\n",
      "93/93 [==============================] - 233s 3s/step - loss: 0.8599 - accuracy: 0.6247 - val_loss: 0.8773 - val_accuracy: 0.6187\n",
      "Epoch 10/10\n",
      "93/93 [==============================] - 233s 3s/step - loss: 0.8843 - accuracy: 0.6089 - val_loss: 0.8961 - val_accuracy: 0.6047\n"
     ]
    }
   ],
   "source": [
    "#Fit the model on tokens and chars\n",
    "model_7_history=model_7.fit(train_char_token_dataset,\n",
    "                            steps_per_epoch=int(0.1*len(train_char_token_dataset)),\n",
    "                            epochs=10,\n",
    "                            validation_data=test_char_token_dataset,\n",
    "                            validation_steps=int(0.1*len(test_char_token_dataset)))"
   ]
  },
  {
   "cell_type": "code",
   "execution_count": 143,
   "id": "09a63a3a",
   "metadata": {},
   "outputs": [
    {
     "name": "stdout",
     "output_type": "stream",
     "text": [
      "400/400 [==============================] - 165s 403ms/step - loss: 0.8942 - accuracy: 0.6001\n"
     ]
    },
    {
     "data": {
      "text/plain": [
       "[0.8941875696182251, 0.6000624895095825]"
      ]
     },
     "execution_count": 143,
     "metadata": {},
     "output_type": "execute_result"
    }
   ],
   "source": [
    "#Evaluate on the whole validation dataset\n",
    "model_7.evaluate(test_char_token_dataset)"
   ]
  },
  {
   "cell_type": "code",
   "execution_count": 144,
   "id": "3f46efd4",
   "metadata": {},
   "outputs": [
    {
     "name": "stdout",
     "output_type": "stream",
     "text": [
      "400/400 [==============================] - 172s 402ms/step\n"
     ]
    },
    {
     "data": {
      "text/plain": [
       "array([[2.5636915e-04, 1.7028858e-03, 3.1578984e-02, 2.8333762e-01,\n",
       "        6.8312418e-01],\n",
       "       [2.0204963e-01, 2.4748676e-01, 3.2172620e-01, 1.8195884e-01,\n",
       "        4.6778630e-02],\n",
       "       [6.1256285e-03, 1.8470185e-02, 1.0912740e-01, 3.3412096e-01,\n",
       "        5.3215587e-01],\n",
       "       ...,\n",
       "       [5.2400869e-03, 2.5451720e-02, 2.2229794e-01, 5.2437413e-01,\n",
       "        2.2263616e-01],\n",
       "       [6.7870191e-05, 4.2676082e-04, 1.4710832e-02, 2.6476669e-01,\n",
       "        7.2002786e-01],\n",
       "       [1.6814636e-05, 7.8682344e-05, 3.2242320e-03, 1.1103802e-01,\n",
       "        8.8564217e-01]], dtype=float32)"
      ]
     },
     "execution_count": 144,
     "metadata": {},
     "output_type": "execute_result"
    }
   ],
   "source": [
    "#Make predictions with character model only\n",
    "model_7_pred_probs=model_7.predict(test_char_token_dataset)\n",
    "model_7_pred_probs"
   ]
  },
  {
   "cell_type": "code",
   "execution_count": 145,
   "id": "a26c1909",
   "metadata": {},
   "outputs": [
    {
     "data": {
      "text/plain": [
       "<tf.Tensor: shape=(12797,), dtype=int64, numpy=array([4, 2, 4, ..., 3, 4, 4], dtype=int64)>"
      ]
     },
     "execution_count": 145,
     "metadata": {},
     "output_type": "execute_result"
    }
   ],
   "source": [
    "#Convert predictions probabilities to class labels\n",
    "model_7_preds=tf.argmax(model_7_pred_probs,axis=1)\n",
    "model_7_preds"
   ]
  },
  {
   "cell_type": "code",
   "execution_count": 146,
   "id": "26588d89",
   "metadata": {},
   "outputs": [
    {
     "data": {
      "text/plain": [
       "{'accuracy': 0.6, 'precision': 0.601, 'recall': 0.6, 'f1': 0.596}"
      ]
     },
     "execution_count": 146,
     "metadata": {},
     "output_type": "execute_result"
    }
   ],
   "source": [
    "#Calculate the results of token-char-hybrid model\n",
    "model_7_results=calculate_results(y_true=test_labels_encoded,\n",
    "                                  y_pred=model_7_preds)\n",
    "\n",
    "model_7_results"
   ]
  },
  {
   "cell_type": "markdown",
   "id": "772f0c8f",
   "metadata": {},
   "source": [
    "# Modelling experiments with \"Review_Text\" and \"Branch\" as inputs"
   ]
  },
  {
   "cell_type": "code",
   "execution_count": 150,
   "id": "666c028a",
   "metadata": {},
   "outputs": [
    {
     "data": {
      "text/html": [
       "<div>\n",
       "<style scoped>\n",
       "    .dataframe tbody tr th:only-of-type {\n",
       "        vertical-align: middle;\n",
       "    }\n",
       "\n",
       "    .dataframe tbody tr th {\n",
       "        vertical-align: top;\n",
       "    }\n",
       "\n",
       "    .dataframe thead th {\n",
       "        text-align: right;\n",
       "    }\n",
       "</style>\n",
       "<table border=\"1\" class=\"dataframe\">\n",
       "  <thead>\n",
       "    <tr style=\"text-align: right;\">\n",
       "      <th></th>\n",
       "      <th>Rating</th>\n",
       "      <th>Review_Text</th>\n",
       "      <th>Branch</th>\n",
       "    </tr>\n",
       "  </thead>\n",
       "  <tbody>\n",
       "    <tr>\n",
       "      <th>0</th>\n",
       "      <td>3</td>\n",
       "      <td>if you've ever been to disneyland anywhere you...</td>\n",
       "      <td>Disneyland_HongKong</td>\n",
       "    </tr>\n",
       "    <tr>\n",
       "      <th>1</th>\n",
       "      <td>3</td>\n",
       "      <td>its been a while since d last time we visit hk...</td>\n",
       "      <td>Disneyland_HongKong</td>\n",
       "    </tr>\n",
       "    <tr>\n",
       "      <th>2</th>\n",
       "      <td>3</td>\n",
       "      <td>thanks god it wasn   t too hot or too humid wh...</td>\n",
       "      <td>Disneyland_HongKong</td>\n",
       "    </tr>\n",
       "    <tr>\n",
       "      <th>3</th>\n",
       "      <td>3</td>\n",
       "      <td>hk disneyland is a great compact park. unfortu...</td>\n",
       "      <td>Disneyland_HongKong</td>\n",
       "    </tr>\n",
       "    <tr>\n",
       "      <th>4</th>\n",
       "      <td>3</td>\n",
       "      <td>the location is not in the city, took around 1...</td>\n",
       "      <td>Disneyland_HongKong</td>\n",
       "    </tr>\n",
       "  </tbody>\n",
       "</table>\n",
       "</div>"
      ],
      "text/plain": [
       "   Rating                                        Review_Text  \\\n",
       "0       3  if you've ever been to disneyland anywhere you...   \n",
       "1       3  its been a while since d last time we visit hk...   \n",
       "2       3  thanks god it wasn   t too hot or too humid wh...   \n",
       "3       3  hk disneyland is a great compact park. unfortu...   \n",
       "4       3  the location is not in the city, took around 1...   \n",
       "\n",
       "                Branch  \n",
       "0  Disneyland_HongKong  \n",
       "1  Disneyland_HongKong  \n",
       "2  Disneyland_HongKong  \n",
       "3  Disneyland_HongKong  \n",
       "4  Disneyland_HongKong  "
      ]
     },
     "execution_count": 150,
     "metadata": {},
     "output_type": "execute_result"
    }
   ],
   "source": [
    "df.head()"
   ]
  },
  {
   "cell_type": "markdown",
   "id": "3725aac9",
   "metadata": {},
   "source": [
    "### Create position embeddings"
   ]
  },
  {
   "cell_type": "code",
   "execution_count": 151,
   "id": "488393b4",
   "metadata": {},
   "outputs": [
    {
     "data": {
      "text/plain": [
       "Disneyland_California    19406\n",
       "Disneyland_Paris         13630\n",
       "Disneyland_HongKong       9620\n",
       "Name: Branch, dtype: int64"
      ]
     },
     "execution_count": 151,
     "metadata": {},
     "output_type": "execute_result"
    }
   ],
   "source": [
    "#How many brances do we have?\n",
    "df[\"Branch\"].value_counts()"
   ]
  },
  {
   "cell_type": "code",
   "execution_count": 152,
   "id": "1a8b2650",
   "metadata": {},
   "outputs": [
    {
     "data": {
      "image/png": "[encoded data removed]",
      "text/plain": [
       "<Figure size 640x480 with 1 Axes>"
      ]
     },
     "metadata": {},
     "output_type": "display_data"
    }
   ],
   "source": [
    "#Plotting the distributions of the Branches\n",
    "import seaborn as sns\n",
    "sns.countplot(data=df,x='Branch');"
   ]
  },
  {
   "cell_type": "code",
   "execution_count": 172,
   "id": "0fda7bf7",
   "metadata": {},
   "outputs": [
    {
     "data": {
      "text/html": [
       "<div>\n",
       "<style scoped>\n",
       "    .dataframe tbody tr th:only-of-type {\n",
       "        vertical-align: middle;\n",
       "    }\n",
       "\n",
       "    .dataframe tbody tr th {\n",
       "        vertical-align: top;\n",
       "    }\n",
       "\n",
       "    .dataframe thead th {\n",
       "        text-align: right;\n",
       "    }\n",
       "</style>\n",
       "<table border=\"1\" class=\"dataframe\">\n",
       "  <thead>\n",
       "    <tr style=\"text-align: right;\">\n",
       "      <th></th>\n",
       "      <th>Branches</th>\n",
       "    </tr>\n",
       "  </thead>\n",
       "  <tbody>\n",
       "    <tr>\n",
       "      <th>0</th>\n",
       "      <td>1</td>\n",
       "    </tr>\n",
       "    <tr>\n",
       "      <th>1</th>\n",
       "      <td>2</td>\n",
       "    </tr>\n",
       "    <tr>\n",
       "      <th>2</th>\n",
       "      <td>1</td>\n",
       "    </tr>\n",
       "    <tr>\n",
       "      <th>3</th>\n",
       "      <td>1</td>\n",
       "    </tr>\n",
       "    <tr>\n",
       "      <th>4</th>\n",
       "      <td>0</td>\n",
       "    </tr>\n",
       "  </tbody>\n",
       "</table>\n",
       "</div>"
      ],
      "text/plain": [
       "   Branches\n",
       "0         1\n",
       "1         2\n",
       "2         1\n",
       "3         1\n",
       "4         0"
      ]
     },
     "execution_count": 172,
     "metadata": {},
     "output_type": "execute_result"
    }
   ],
   "source": [
    "#Converting the \"Branch\" column to numbers before creating one_hot_tensors\n",
    "from sklearn.preprocessing import LabelEncoder\n",
    "import pandas as pd\n",
    "label_encoder=LabelEncoder()\n",
    "train_branch_encoded=pd.DataFrame(label_encoder.fit_transform(X_train['Branch']),columns=[\"Branches\"])\n",
    "test_branch_encoded=pd.DataFrame(label_encoder.transform(X_test['Branch']),columns=[\"Branches\"])\n",
    "\n",
    "#Check what training labels look like\n",
    "train_branch_encoded.head()"
   ]
  },
  {
   "cell_type": "code",
   "execution_count": 221,
   "id": "ee0bdac3",
   "metadata": {},
   "outputs": [
    {
     "data": {
      "text/plain": [
       "(<tf.Tensor: shape=(2, 3), dtype=float32, numpy=\n",
       " array([[0., 1., 0.],\n",
       "        [0., 0., 1.]], dtype=float32)>,\n",
       " TensorShape([29859, 3]))"
      ]
     },
     "execution_count": 221,
     "metadata": {},
     "output_type": "execute_result"
    }
   ],
   "source": [
    "#Use TensorFlow to create one-hot-encoded tensors of our \"Branch\" column\n",
    "train_branch_numbers_one_hot=tf.squeeze(tf.one_hot(train_branch_encoded, depth=3))\n",
    "test_branch_numbers_one_hot=tf.squeeze(tf.one_hot(test_branch_encoded, depth=3))\n",
    "train_branch_numbers_one_hot[:2], train_branch_numbers_one_hot.shape"
   ]
  },
  {
   "cell_type": "code",
   "execution_count": 159,
   "id": "82b539a9",
   "metadata": {},
   "outputs": [
    {
     "data": {
      "text/plain": [
       "array(['Disneyland_HongKong', 'Disneyland_Paris', 'Disneyland_HongKong',\n",
       "       ..., 'Disneyland_California', 'Disneyland_HongKong',\n",
       "       'Disneyland_HongKong'], dtype=object)"
      ]
     },
     "execution_count": 159,
     "metadata": {},
     "output_type": "execute_result"
    }
   ],
   "source": [
    "X_train['Branch'].to_numpy()"
   ]
  },
  {
   "cell_type": "markdown",
   "id": "e480488f",
   "metadata": {},
   "source": [
    "## Model 8: Combining pretrained token embeddings + the \"Branch\" one hot data"
   ]
  },
  {
   "cell_type": "code",
   "execution_count": 253,
   "id": "e853dbb3",
   "metadata": {},
   "outputs": [],
   "source": [
    "#1. Token inputs\n",
    "token_inputs=layers.Input(shape=[] ,dtype='string' ,name='token_inputs')\n",
    "token_embeddings=tf_hub_embedding_layer(token_inputs)\n",
    "token_outputs=layers.Dense(128,activation='relu')(token_embeddings)\n",
    "token_model=tf.keras.Model(inputs=token_inputs,\n",
    "                           outputs=token_outputs)\n",
    "\n",
    "# 2. Branch numbers model\n",
    "branch_numbers_inputs=layers.Input(shape=(3,) ,dtype=tf.float32 ,name='branch_number_input')\n",
    "x=layers.Dense(32,activation='relu')(branch_numbers_inputs)\n",
    "branch_number_model=tf.keras.Model(inputs=branch_numbers_inputs,\n",
    "                                 outputs=x)\n",
    "\n",
    "# 3. Combine token and char embedding to a hybrid embeddding\n",
    "combined_embeddings=layers.Concatenate(name='char_token_hybrid_embeddings')([token_model.output,branch_number_model.output])\n",
    "\n",
    "\n",
    "output_layer=layers.Dense(num_classes,activation='softmax',name='output_layer')(combined_embeddings)\n",
    "\n",
    "\n",
    "# 4. Put together model with all kind of inputs\n",
    "model_8=tf.keras.Model(inputs=[token_model.input,\n",
    "                               branch_number_model.input],\n",
    "                       outputs=output_layer,\n",
    "                       name='model_8_token_embedding_branch_model')"
   ]
  },
  {
   "cell_type": "code",
   "execution_count": 254,
   "id": "695ac98a",
   "metadata": {},
   "outputs": [
    {
     "name": "stdout",
     "output_type": "stream",
     "text": [
      "Model: \"model_8_token_embedding_branch_model\"\n",
      "__________________________________________________________________________________________________\n",
      " Layer (type)                   Output Shape         Param #     Connected to                     \n",
      "==================================================================================================\n",
      " token_inputs (InputLayer)      [(None,)]            0           []                               \n",
      "                                                                                                  \n",
      " universal_sentence_encoder (Ke  (None, 512)         256797824   ['token_inputs[0][0]']           \n",
      " rasLayer)                                                                                        \n",
      "                                                                                                  \n",
      " branch_number_input (InputLaye  [(None, 3)]         0           []                               \n",
      " r)                                                                                               \n",
      "                                                                                                  \n",
      " dense_47 (Dense)               (None, 128)          65664       ['universal_sentence_encoder[10][\n",
      "                                                                 0]']                             \n",
      "                                                                                                  \n",
      " dense_48 (Dense)               (None, 32)           128         ['branch_number_input[0][0]']    \n",
      "                                                                                                  \n",
      " char_token_hybrid_embeddings (  (None, 160)         0           ['dense_47[0][0]',               \n",
      " Concatenate)                                                     'dense_48[0][0]']               \n",
      "                                                                                                  \n",
      " output_layer (Dense)           (None, 5)            805         ['char_token_hybrid_embeddings[0]\n",
      "                                                                 [0]']                            \n",
      "                                                                                                  \n",
      "==================================================================================================\n",
      "Total params: 256,864,421\n",
      "Trainable params: 66,597\n",
      "Non-trainable params: 256,797,824\n",
      "__________________________________________________________________________________________________\n"
     ]
    }
   ],
   "source": [
    "#Get a summary of our tribid embedding model\n",
    "model_8.summary()"
   ]
  },
  {
   "cell_type": "code",
   "execution_count": 255,
   "id": "15e11a97",
   "metadata": {},
   "outputs": [
    {
     "data": {
      "image/png": "[encoded data removed]",
      "text/plain": [
       "<IPython.core.display.Image object>"
      ]
     },
     "execution_count": 255,
     "metadata": {},
     "output_type": "execute_result"
    }
   ],
   "source": [
    "#Plot model_8 to explore it visually...\n",
    "from tensorflow.keras.utils import plot_model\n",
    "plot_model(model_8,show_shapes=True)"
   ]
  },
  {
   "cell_type": "code",
   "execution_count": 225,
   "id": "fb1d4423",
   "metadata": {},
   "outputs": [],
   "source": [
    "# Compile token,char and positional embedding model\n",
    "model_8.compile(loss=tf.keras.losses.CategoricalCrossentropy(label_smoothing=0.2), #helps to prevent overfitting\n",
    "                optimizer=tf.keras.optimizers.Adam(),\n",
    "                metrics=['accuracy'])"
   ]
  },
  {
   "cell_type": "markdown",
   "id": "932058e5",
   "metadata": {},
   "source": [
    "### Create hybrid embedding datasets using tf.data"
   ]
  },
  {
   "cell_type": "code",
   "execution_count": 227,
   "id": "902ef81a",
   "metadata": {},
   "outputs": [],
   "source": [
    "#Create training and validation datasets(with all four kind of input data)\n",
    "\n",
    "train_char_token_pos_data=tf.data.Dataset.from_tensor_slices((X_train[['Review_Text']].values.ravel(),\n",
    "                                                             train_branch_numbers_one_hot))\n",
    "\n",
    "train_char_token_pos_labels=tf.data.Dataset.from_tensor_slices(train_labels_one_hot)\n",
    "\n",
    "\n",
    "train_char_token_pos_dataset=tf.data.Dataset.zip((train_char_token_pos_data,train_char_token_pos_labels))\n",
    "\n",
    "train_char_token_pos_dataset=train_char_token_pos_dataset.batch(32).prefetch(tf.data.AUTOTUNE)\n",
    "\n",
    "#The same for test data\n",
    "\n",
    "test_char_token_pos_data=tf.data.Dataset.from_tensor_slices((X_test[['Review_Text']].values.ravel(),\n",
    "                                                             test_branch_numbers_one_hot))\n",
    "\n",
    "test_char_token_pos_labels=tf.data.Dataset.from_tensor_slices(test_labels_one_hot)\n",
    "\n",
    "\n",
    "test_char_token_pos_dataset=tf.data.Dataset.zip((test_char_token_pos_data,test_char_token_pos_labels))\n",
    "\n",
    "test_char_token_pos_dataset=test_char_token_pos_dataset.batch(32).prefetch(tf.data.AUTOTUNE)\n"
   ]
  },
  {
   "cell_type": "code",
   "execution_count": 228,
   "id": "1ed019e3",
   "metadata": {},
   "outputs": [
    {
     "data": {
      "text/plain": [
       "(<PrefetchDataset element_spec=((TensorSpec(shape=(None,), dtype=tf.string, name=None), TensorSpec(shape=(None, 3), dtype=tf.float32, name=None)), TensorSpec(shape=(None, 5), dtype=tf.float64, name=None))>,\n",
       " <PrefetchDataset element_spec=((TensorSpec(shape=(None,), dtype=tf.string, name=None), TensorSpec(shape=(None, 3), dtype=tf.float32, name=None)), TensorSpec(shape=(None, 5), dtype=tf.float64, name=None))>)"
      ]
     },
     "execution_count": 228,
     "metadata": {},
     "output_type": "execute_result"
    }
   ],
   "source": [
    "#Check input shapes\n",
    "test_char_token_pos_dataset,test_char_token_pos_dataset"
   ]
  },
  {
   "cell_type": "markdown",
   "id": "84806642",
   "metadata": {},
   "source": [
    "### Fitting, evaluating and making predictions with our hybrid model"
   ]
  },
  {
   "cell_type": "code",
   "execution_count": 230,
   "id": "62de6f3b",
   "metadata": {},
   "outputs": [
    {
     "name": "stdout",
     "output_type": "stream",
     "text": [
      "Epoch 1/10\n",
      "93/93 [==============================] - 10s 70ms/step - loss: 1.2097 - accuracy: 0.5998 - val_loss: 1.2157 - val_accuracy: 0.5859\n",
      "Epoch 2/10\n",
      "93/93 [==============================] - 6s 69ms/step - loss: 1.2046 - accuracy: 0.6035 - val_loss: 1.2024 - val_accuracy: 0.5969\n",
      "Epoch 3/10\n",
      "93/93 [==============================] - 7s 73ms/step - loss: 1.2135 - accuracy: 0.5786 - val_loss: 1.2000 - val_accuracy: 0.6031\n",
      "Epoch 4/10\n",
      "93/93 [==============================] - 7s 71ms/step - loss: 1.2005 - accuracy: 0.5964 - val_loss: 1.1954 - val_accuracy: 0.6055\n",
      "Epoch 5/10\n",
      "93/93 [==============================] - 7s 70ms/step - loss: 1.2045 - accuracy: 0.5944 - val_loss: 1.1928 - val_accuracy: 0.6078\n",
      "Epoch 6/10\n",
      "93/93 [==============================] - 7s 72ms/step - loss: 1.1994 - accuracy: 0.6045 - val_loss: 1.1877 - val_accuracy: 0.6016\n",
      "Epoch 7/10\n",
      "93/93 [==============================] - 7s 71ms/step - loss: 1.1850 - accuracy: 0.6038 - val_loss: 1.1888 - val_accuracy: 0.6109\n",
      "Epoch 8/10\n",
      "93/93 [==============================] - 6s 67ms/step - loss: 1.1866 - accuracy: 0.6169 - val_loss: 1.1852 - val_accuracy: 0.6180\n",
      "Epoch 9/10\n",
      "93/93 [==============================] - 7s 75ms/step - loss: 1.1737 - accuracy: 0.6186 - val_loss: 1.1843 - val_accuracy: 0.6109\n",
      "Epoch 10/10\n",
      "93/93 [==============================] - 6s 69ms/step - loss: 1.1879 - accuracy: 0.6136 - val_loss: 1.1870 - val_accuracy: 0.6141\n"
     ]
    }
   ],
   "source": [
    "#Fit our tribrid embedding modeel\n",
    "history_model_8=model_8.fit(train_char_token_pos_dataset,\n",
    "                            steps_per_epoch=int(0.1*len(train_char_token_pos_dataset)),\n",
    "                            epochs=10,\n",
    "                            validation_data=test_char_token_pos_dataset,\n",
    "                            validation_steps=int(0.1*len(test_char_token_pos_dataset)))"
   ]
  },
  {
   "cell_type": "code",
   "execution_count": 234,
   "id": "9fa80a87",
   "metadata": {},
   "outputs": [
    {
     "data": {
      "text/plain": [
       "array([[0.03736332, 0.04499893, 0.08368365, 0.2780705 , 0.5558835 ],\n",
       "       [0.19356428, 0.17273429, 0.27339238, 0.23707186, 0.12323735],\n",
       "       [0.08352367, 0.06412967, 0.12619415, 0.2608469 , 0.4653055 ],\n",
       "       ...,\n",
       "       [0.04812292, 0.0629103 , 0.19023946, 0.48010683, 0.21862046],\n",
       "       [0.02994322, 0.02702261, 0.06208876, 0.26799974, 0.6129456 ],\n",
       "       [0.03592416, 0.02569253, 0.03177976, 0.14141141, 0.7651921 ]],\n",
       "      dtype=float32)"
      ]
     },
     "execution_count": 234,
     "metadata": {},
     "output_type": "execute_result"
    }
   ],
   "source": [
    "#Make predictions with the char token model\n",
    "model_8_preds_probs=model_8.predict(test_char_token_pos_dataset,verbose=0)\n",
    "model_8_preds_probs"
   ]
  },
  {
   "cell_type": "code",
   "execution_count": 235,
   "id": "feee30ae",
   "metadata": {},
   "outputs": [
    {
     "data": {
      "text/plain": [
       "<tf.Tensor: shape=(12797,), dtype=int64, numpy=array([4, 2, 4, ..., 3, 4, 4], dtype=int64)>"
      ]
     },
     "execution_count": 235,
     "metadata": {},
     "output_type": "execute_result"
    }
   ],
   "source": [
    "#Convert pred probs to pred labels\n",
    "model_8_preds=tf.argmax(model_8_preds_probs,axis=1)\n",
    "model_8_preds"
   ]
  },
  {
   "cell_type": "code",
   "execution_count": 236,
   "id": "350b20df",
   "metadata": {},
   "outputs": [
    {
     "data": {
      "text/plain": [
       "{'accuracy': 0.613, 'precision': 0.596, 'recall': 0.613, 'f1': 0.59}"
      ]
     },
     "execution_count": 236,
     "metadata": {},
     "output_type": "execute_result"
    }
   ],
   "source": [
    "#Calculate results of char token pos model\n",
    "model_8_results=calculate_results(test_labels_encoded,\n",
    "                                  model_8_preds)\n",
    "\n",
    "model_8_results"
   ]
  },
  {
   "cell_type": "markdown",
   "id": "24fcd5ba",
   "metadata": {},
   "source": [
    "## Model 9: Combining character embeddings + the \"Branch\" one hot data"
   ]
  },
  {
   "cell_type": "code",
   "execution_count": 256,
   "id": "200d5f40",
   "metadata": {},
   "outputs": [],
   "source": [
    "# 1. Char inputs\n",
    "char_inputs=layers.Input(shape=(1,) ,dtype='string',name='char_inputs')\n",
    "char_vectors=char_vectorizer(char_inputs)\n",
    "char_embeddings=char_embed(char_vectors)\n",
    "char_bi_lstm=layers.Bidirectional(layers.LSTM(24))(char_embeddings)\n",
    "char_model=tf.keras.Model(inputs=char_inputs,\n",
    "                          outputs=char_bi_lstm)\n",
    "\n",
    "# 2. Branch numbers model\n",
    "branch_numbers_inputs=layers.Input(shape=(3,) ,dtype=tf.float32 ,name='branch_number_input')\n",
    "x=layers.Dense(32,activation='relu')(branch_numbers_inputs)\n",
    "branch_number_model=tf.keras.Model(inputs=branch_numbers_inputs,\n",
    "                                 outputs=x)\n",
    "\n",
    "# 3. Combine token and char embedding to a hybrid embeddding\n",
    "combined_embeddings=layers.Concatenate(name='char_token_hybrid_embeddings')([char_model.output,branch_number_model.output])\n",
    "\n",
    "\n",
    "output_layer=layers.Dense(num_classes,activation='softmax',name='output_layer')(combined_embeddings)\n",
    "\n",
    "\n",
    "# 4. Put together model with all kind of inputs\n",
    "model_9=tf.keras.Model(inputs=[char_model.input,\n",
    "                               branch_number_model.input],\n",
    "                       outputs=output_layer,\n",
    "                       name='model_9_char_embedding_branch_model')"
   ]
  },
  {
   "cell_type": "code",
   "execution_count": 257,
   "id": "71c01357",
   "metadata": {},
   "outputs": [
    {
     "name": "stdout",
     "output_type": "stream",
     "text": [
      "Model: \"model_9_char_embedding_branch_model\"\n",
      "__________________________________________________________________________________________________\n",
      " Layer (type)                   Output Shape         Param #     Connected to                     \n",
      "==================================================================================================\n",
      " char_inputs (InputLayer)       [(None, 1)]          0           []                               \n",
      "                                                                                                  \n",
      " char_vectorizer (TextVectoriza  (None, 2102)        0           ['char_inputs[0][0]']            \n",
      " tion)                                                                                            \n",
      "                                                                                                  \n",
      " char_embed (Embedding)         (None, 2102, 30)     1140        ['char_vectorizer[3][0]']        \n",
      "                                                                                                  \n",
      " branch_number_input (InputLaye  [(None, 3)]         0           []                               \n",
      " r)                                                                                               \n",
      "                                                                                                  \n",
      " bidirectional_5 (Bidirectional  (None, 48)          10560       ['char_embed[3][0]']             \n",
      " )                                                                                                \n",
      "                                                                                                  \n",
      " dense_49 (Dense)               (None, 32)           128         ['branch_number_input[0][0]']    \n",
      "                                                                                                  \n",
      " char_token_hybrid_embeddings (  (None, 80)          0           ['bidirectional_5[0][0]',        \n",
      " Concatenate)                                                     'dense_49[0][0]']               \n",
      "                                                                                                  \n",
      " output_layer (Dense)           (None, 5)            405         ['char_token_hybrid_embeddings[0]\n",
      "                                                                 [0]']                            \n",
      "                                                                                                  \n",
      "==================================================================================================\n",
      "Total params: 12,233\n",
      "Trainable params: 12,233\n",
      "Non-trainable params: 0\n",
      "__________________________________________________________________________________________________\n"
     ]
    }
   ],
   "source": [
    "#Get a summary of our hybrid embedding model\n",
    "model_9.summary()"
   ]
  },
  {
   "cell_type": "markdown",
   "id": "88ad0c55",
   "metadata": {},
   "source": [
    "### Create hybrid embedding datasets using tf.data"
   ]
  },
  {
   "cell_type": "code",
   "execution_count": 258,
   "id": "1391962b",
   "metadata": {},
   "outputs": [
    {
     "data": {
      "image/png": "[encoded data removed]",
      "text/plain": [
       "<IPython.core.display.Image object>"
      ]
     },
     "execution_count": 258,
     "metadata": {},
     "output_type": "execute_result"
    }
   ],
   "source": [
    "#Plot model_9 to explore it visually...\n",
    "from tensorflow.keras.utils import plot_model\n",
    "plot_model(model_9,show_shapes=True)"
   ]
  },
  {
   "cell_type": "code",
   "execution_count": 242,
   "id": "04f4d68a",
   "metadata": {},
   "outputs": [],
   "source": [
    "# Compile token,char and positional embedding model\n",
    "model_9.compile(loss=tf.keras.losses.CategoricalCrossentropy(label_smoothing=0.2), #helps to prevent overfitting\n",
    "                optimizer=tf.keras.optimizers.Adam(),\n",
    "                metrics=['accuracy'])"
   ]
  },
  {
   "cell_type": "markdown",
   "id": "4fccff67",
   "metadata": {},
   "source": [
    "### Create hybrid embedding datasets using tf.data"
   ]
  },
  {
   "cell_type": "code",
   "execution_count": 243,
   "id": "badef68c",
   "metadata": {},
   "outputs": [],
   "source": [
    "#Create training and validation datasets(with all four kind of input data)\n",
    "\n",
    "train_char_token_pos_data=tf.data.Dataset.from_tensor_slices((train_chars,\n",
    "                                                             train_branch_numbers_one_hot))\n",
    "\n",
    "train_char_token_pos_labels=tf.data.Dataset.from_tensor_slices(train_labels_one_hot)\n",
    "\n",
    "\n",
    "train_char_token_pos_dataset=tf.data.Dataset.zip((train_char_token_pos_data,train_char_token_pos_labels))\n",
    "\n",
    "train_char_token_pos_dataset=train_char_token_pos_dataset.batch(32).prefetch(tf.data.AUTOTUNE)\n",
    "\n",
    "#The same for test data\n",
    "\n",
    "test_char_token_pos_data=tf.data.Dataset.from_tensor_slices((test_chars,\n",
    "                                                             test_branch_numbers_one_hot))\n",
    "\n",
    "test_char_token_pos_labels=tf.data.Dataset.from_tensor_slices(test_labels_one_hot)\n",
    "\n",
    "\n",
    "test_char_token_pos_dataset=tf.data.Dataset.zip((test_char_token_pos_data,test_char_token_pos_labels))\n",
    "\n",
    "test_char_token_pos_dataset=test_char_token_pos_dataset.batch(32).prefetch(tf.data.AUTOTUNE)"
   ]
  },
  {
   "cell_type": "markdown",
   "id": "ce02638d",
   "metadata": {},
   "source": [
    "### Fitting, evaluating and making predictions with our hybrid model"
   ]
  },
  {
   "cell_type": "code",
   "execution_count": 244,
   "id": "44c7c62d",
   "metadata": {},
   "outputs": [
    {
     "name": "stdout",
     "output_type": "stream",
     "text": [
      "Epoch 1/10\n",
      "93/93 [==============================] - 261s 3s/step - loss: 1.3770 - accuracy: 0.5329 - val_loss: 1.3495 - val_accuracy: 0.5336\n",
      "Epoch 2/10\n",
      "93/93 [==============================] - 228s 2s/step - loss: 1.3424 - accuracy: 0.5417 - val_loss: 1.3409 - val_accuracy: 0.5336\n",
      "Epoch 3/10\n",
      "93/93 [==============================] - 229s 2s/step - loss: 1.3471 - accuracy: 0.5302 - val_loss: 1.3393 - val_accuracy: 0.5336\n",
      "Epoch 4/10\n",
      "93/93 [==============================] - 229s 2s/step - loss: 1.3371 - accuracy: 0.5407 - val_loss: 1.3376 - val_accuracy: 0.5336\n",
      "Epoch 5/10\n",
      "93/93 [==============================] - 229s 2s/step - loss: 1.3459 - accuracy: 0.5309 - val_loss: 1.3371 - val_accuracy: 0.5359\n",
      "Epoch 6/10\n",
      "93/93 [==============================] - 230s 2s/step - loss: 1.3280 - accuracy: 0.5517 - val_loss: 1.3327 - val_accuracy: 0.5352\n",
      "Epoch 7/10\n",
      "93/93 [==============================] - 231s 2s/step - loss: 1.3294 - accuracy: 0.5437 - val_loss: 1.3327 - val_accuracy: 0.5352\n",
      "Epoch 8/10\n",
      "93/93 [==============================] - 230s 2s/step - loss: 1.3267 - accuracy: 0.5460 - val_loss: 1.3306 - val_accuracy: 0.5352\n",
      "Epoch 9/10\n",
      "93/93 [==============================] - 231s 2s/step - loss: 1.3258 - accuracy: 0.5571 - val_loss: 1.3313 - val_accuracy: 0.5344\n",
      "Epoch 10/10\n",
      "93/93 [==============================] - 231s 2s/step - loss: 1.3365 - accuracy: 0.5309 - val_loss: 1.3398 - val_accuracy: 0.5320\n"
     ]
    }
   ],
   "source": [
    "#Fit our tribrid embedding modeel\n",
    "history_model_9=model_9.fit(train_char_token_pos_dataset,\n",
    "                            steps_per_epoch=int(0.1*len(train_char_token_pos_dataset)),\n",
    "                            epochs=10,\n",
    "                            validation_data=test_char_token_pos_dataset,\n",
    "                            validation_steps=int(0.1*len(test_char_token_pos_dataset)))"
   ]
  },
  {
   "cell_type": "code",
   "execution_count": 250,
   "id": "0466ceb9",
   "metadata": {},
   "outputs": [
    {
     "data": {
      "text/plain": [
       "array([[0.06856881, 0.08622574, 0.17672044, 0.3122604 , 0.3562246 ],\n",
       "       [0.11253387, 0.12280151, 0.19431141, 0.2621074 , 0.30824584],\n",
       "       [0.09111325, 0.09467664, 0.15824907, 0.26314878, 0.3928123 ],\n",
       "       ...,\n",
       "       [0.06564739, 0.08092139, 0.16783024, 0.33794442, 0.34765658],\n",
       "       [0.09518085, 0.1087338 , 0.17713214, 0.27550322, 0.34344992],\n",
       "       [0.11385115, 0.12045821, 0.19331771, 0.25531647, 0.31705648]],\n",
       "      dtype=float32)"
      ]
     },
     "execution_count": 250,
     "metadata": {},
     "output_type": "execute_result"
    }
   ],
   "source": [
    "#Make predictions with the char token model\n",
    "model_9_preds_probs=model_9.predict(test_char_token_pos_dataset,verbose=0)\n",
    "model_9_preds_probs"
   ]
  },
  {
   "cell_type": "code",
   "execution_count": 251,
   "id": "16b520b5",
   "metadata": {},
   "outputs": [
    {
     "data": {
      "text/plain": [
       "<tf.Tensor: shape=(12797,), dtype=int64, numpy=array([4, 4, 4, ..., 4, 4, 4], dtype=int64)>"
      ]
     },
     "execution_count": 251,
     "metadata": {},
     "output_type": "execute_result"
    }
   ],
   "source": [
    "#Convert pred probs to pred labels\n",
    "model_9_preds=tf.argmax(model_9_preds_probs,axis=1)\n",
    "model_9_preds"
   ]
  },
  {
   "cell_type": "code",
   "execution_count": 252,
   "id": "de8f2694",
   "metadata": {},
   "outputs": [
    {
     "data": {
      "text/plain": [
       "{'accuracy': 0.536, 'precision': 0.392, 'recall': 0.536, 'f1': 0.436}"
      ]
     },
     "execution_count": 252,
     "metadata": {},
     "output_type": "execute_result"
    }
   ],
   "source": [
    "#Calculate results of char token pos model\n",
    "model_9_results=calculate_results(test_labels_encoded,\n",
    "                                  model_9_preds)\n",
    "\n",
    "model_9_results"
   ]
  },
  {
   "cell_type": "code",
   "execution_count": 261,
   "id": "8b27f6df",
   "metadata": {},
   "outputs": [
    {
     "data": {
      "text/plain": [
       "<keras.layers.core.embedding.Embedding at 0x24b555a2fd0>"
      ]
     },
     "execution_count": 261,
     "metadata": {},
     "output_type": "execute_result"
    }
   ],
   "source": [
    "char_embed"
   ]
  },
  {
   "cell_type": "markdown",
   "id": "3e2c8ed1",
   "metadata": {},
   "source": [
    "## Model 10: Combining pretrained token embeddings + character embeddings + the \"Branch\" one hot data"
   ]
  },
  {
   "cell_type": "code",
   "execution_count": 263,
   "id": "b23c2983",
   "metadata": {},
   "outputs": [],
   "source": [
    "#1. Token inputs\n",
    "token_inputs=layers.Input(shape=[] ,dtype='string' ,name='token_inputs')\n",
    "token_embeddings=tf_hub_embedding_layer(token_inputs)\n",
    "token_outputs=layers.Dense(128,activation='relu')(token_embeddings)\n",
    "token_model=tf.keras.Model(inputs=token_inputs,\n",
    "                           outputs=token_outputs)\n",
    "\n",
    "# 2. Char inputs\n",
    "char_inputs=layers.Input(shape=(1,) ,dtype='string',name='char_inputs')\n",
    "char_vectors=char_vectorizer(char_inputs)\n",
    "char_embeddings=char_embed(char_vectors)\n",
    "char_bi_lstm=layers.Bidirectional(layers.LSTM(24))(char_embeddings)\n",
    "char_model=tf.keras.Model(inputs=char_inputs,\n",
    "                          outputs=char_bi_lstm)\n",
    "\n",
    "# 3. Branch numbers model\n",
    "branch_numbers_inputs=layers.Input(shape=(3,) ,dtype=tf.float32 ,name='branch_number_input')\n",
    "x=layers.Dense(32,activation='relu')(branch_numbers_inputs)\n",
    "branch_number_model=tf.keras.Model(inputs=branch_numbers_inputs,\n",
    "                                 outputs=x)\n",
    "\n",
    "\n",
    "# 4. Combine token and char embedding to a hybrid embeddding\n",
    "tribried_embeddings=layers.Concatenate(name='char_token_hybrid_embeddings')([token_model.output,char_model.output,branch_number_model.output])\n",
    "\n",
    "\n",
    "output_layer=layers.Dense(num_classes,activation='softmax',name='output_layer')(tribried_embeddings)\n",
    "\n",
    "\n",
    "# 4. Put together model with all kind of inputs\n",
    "model_10=tf.keras.Model(inputs=[token_model.input,char_model.input,\n",
    "                               branch_number_model.input],\n",
    "                       outputs=output_layer,\n",
    "                       name='model_10_token_char_embedding_branch_model')"
   ]
  },
  {
   "cell_type": "code",
   "execution_count": 264,
   "id": "d1e77d65",
   "metadata": {},
   "outputs": [
    {
     "name": "stdout",
     "output_type": "stream",
     "text": [
      "Model: \"model_10_token_char_embedding_branch_model\"\n",
      "__________________________________________________________________________________________________\n",
      " Layer (type)                   Output Shape         Param #     Connected to                     \n",
      "==================================================================================================\n",
      " char_inputs (InputLayer)       [(None, 1)]          0           []                               \n",
      "                                                                                                  \n",
      " token_inputs (InputLayer)      [(None,)]            0           []                               \n",
      "                                                                                                  \n",
      " char_vectorizer (TextVectoriza  (None, 2102)        0           ['char_inputs[0][0]']            \n",
      " tion)                                                                                            \n",
      "                                                                                                  \n",
      " universal_sentence_encoder (Ke  (None, 512)         256797824   ['token_inputs[0][0]']           \n",
      " rasLayer)                                                                                        \n",
      "                                                                                                  \n",
      " char_embed (Embedding)         (None, 2102, 30)     1140        ['char_vectorizer[6][0]']        \n",
      "                                                                                                  \n",
      " branch_number_input (InputLaye  [(None, 3)]         0           []                               \n",
      " r)                                                                                               \n",
      "                                                                                                  \n",
      " dense_54 (Dense)               (None, 128)          65664       ['universal_sentence_encoder[13][\n",
      "                                                                 0]']                             \n",
      "                                                                                                  \n",
      " bidirectional_8 (Bidirectional  (None, 48)          10560       ['char_embed[6][0]']             \n",
      " )                                                                                                \n",
      "                                                                                                  \n",
      " dense_55 (Dense)               (None, 32)           128         ['branch_number_input[0][0]']    \n",
      "                                                                                                  \n",
      " char_token_hybrid_embeddings (  (None, 208)         0           ['dense_54[0][0]',               \n",
      " Concatenate)                                                     'bidirectional_8[0][0]',        \n",
      "                                                                  'dense_55[0][0]']               \n",
      "                                                                                                  \n",
      " output_layer (Dense)           (None, 5)            1045        ['char_token_hybrid_embeddings[0]\n",
      "                                                                 [0]']                            \n",
      "                                                                                                  \n",
      "==================================================================================================\n",
      "Total params: 256,876,361\n",
      "Trainable params: 78,537\n",
      "Non-trainable params: 256,797,824\n",
      "__________________________________________________________________________________________________\n"
     ]
    }
   ],
   "source": [
    "#Get a summary of our tribid embedding model\n",
    "model_10.summary()"
   ]
  },
  {
   "cell_type": "code",
   "execution_count": 265,
   "id": "e7d98c6f",
   "metadata": {},
   "outputs": [
    {
     "data": {
      "image/png": "[encoded data removed]",
      "text/plain": [
       "<IPython.core.display.Image object>"
      ]
     },
     "execution_count": 265,
     "metadata": {},
     "output_type": "execute_result"
    }
   ],
   "source": [
    "#Plot model_10 to explore it visually...\n",
    "from tensorflow.keras.utils import plot_model\n",
    "plot_model(model_10,show_shapes=True)"
   ]
  },
  {
   "cell_type": "code",
   "execution_count": 266,
   "id": "4c4882e1",
   "metadata": {},
   "outputs": [],
   "source": [
    "# Compile token,char and positional embedding model\n",
    "model_10.compile(loss=tf.keras.losses.CategoricalCrossentropy(label_smoothing=0.2), #helps to prevent overfitting\n",
    "                optimizer=tf.keras.optimizers.Adam(),\n",
    "                metrics=['accuracy'])"
   ]
  },
  {
   "cell_type": "markdown",
   "id": "5b4e4c1d",
   "metadata": {},
   "source": [
    "### Create tribrid embedding datasets using tf.data"
   ]
  },
  {
   "cell_type": "code",
   "execution_count": 267,
   "id": "2205c1f5",
   "metadata": {},
   "outputs": [],
   "source": [
    "#Create training and validation datasets(with all four kind of input data)\n",
    "\n",
    "train_char_token_pos_data=tf.data.Dataset.from_tensor_slices((X_train[['Review_Text']].values.ravel(),train_chars,\n",
    "                                                             train_branch_numbers_one_hot))\n",
    "\n",
    "train_char_token_pos_labels=tf.data.Dataset.from_tensor_slices(train_labels_one_hot)\n",
    "\n",
    "\n",
    "train_char_token_pos_dataset=tf.data.Dataset.zip((train_char_token_pos_data,train_char_token_pos_labels))\n",
    "\n",
    "train_char_token_pos_dataset=train_char_token_pos_dataset.batch(32).prefetch(tf.data.AUTOTUNE)\n",
    "\n",
    "#The same for test data\n",
    "\n",
    "test_char_token_pos_data=tf.data.Dataset.from_tensor_slices((X_test[['Review_Text']].values.ravel(),test_chars,\n",
    "                                                             test_branch_numbers_one_hot))\n",
    "\n",
    "test_char_token_pos_labels=tf.data.Dataset.from_tensor_slices(test_labels_one_hot)\n",
    "\n",
    "\n",
    "test_char_token_pos_dataset=tf.data.Dataset.zip((test_char_token_pos_data,test_char_token_pos_labels))\n",
    "\n",
    "test_char_token_pos_dataset=test_char_token_pos_dataset.batch(32).prefetch(tf.data.AUTOTUNE)"
   ]
  },
  {
   "cell_type": "markdown",
   "id": "2f1c8a68",
   "metadata": {},
   "source": [
    "### Fitting, evaluating and making predictions with our tribrid model"
   ]
  },
  {
   "cell_type": "code",
   "execution_count": 268,
   "id": "7bbe2231",
   "metadata": {},
   "outputs": [
    {
     "name": "stdout",
     "output_type": "stream",
     "text": [
      "Epoch 1/5\n",
      "93/93 [==============================] - 276s 3s/step - loss: 1.3250 - accuracy: 0.5450 - val_loss: 1.2632 - val_accuracy: 0.5461\n",
      "Epoch 2/5\n",
      "93/93 [==============================] - 236s 3s/step - loss: 1.2398 - accuracy: 0.5783 - val_loss: 1.2233 - val_accuracy: 0.5867\n",
      "Epoch 3/5\n",
      "93/93 [==============================] - 238s 3s/step - loss: 1.2301 - accuracy: 0.5662 - val_loss: 1.2152 - val_accuracy: 0.5977\n",
      "Epoch 4/5\n",
      "93/93 [==============================] - 235s 3s/step - loss: 1.2119 - accuracy: 0.5974 - val_loss: 1.2058 - val_accuracy: 0.6008\n",
      "Epoch 5/5\n",
      "93/93 [==============================] - 232s 2s/step - loss: 1.2159 - accuracy: 0.5894 - val_loss: 1.2018 - val_accuracy: 0.6023\n"
     ]
    }
   ],
   "source": [
    "#Fit our tribrid embedding modeel\n",
    "history_model_10=model_10.fit(train_char_token_pos_dataset,\n",
    "                            steps_per_epoch=int(0.1*len(train_char_token_pos_dataset)),\n",
    "                            epochs=5,\n",
    "                            validation_data=test_char_token_pos_dataset,\n",
    "                            validation_steps=int(0.1*len(test_char_token_pos_dataset)))"
   ]
  },
  {
   "cell_type": "code",
   "execution_count": 269,
   "id": "dfe42943",
   "metadata": {},
   "outputs": [
    {
     "data": {
      "text/plain": [
       "array([[0.02956819, 0.04274859, 0.1004485 , 0.24126187, 0.5859728 ],\n",
       "       [0.15021297, 0.200841  , 0.26127547, 0.20693755, 0.18073303],\n",
       "       [0.08269668, 0.09659122, 0.16305734, 0.20730746, 0.45034721],\n",
       "       ...,\n",
       "       [0.05549091, 0.08109991, 0.19897072, 0.36275274, 0.30168566],\n",
       "       [0.02892916, 0.03893516, 0.07540084, 0.192651  , 0.66408384],\n",
       "       [0.0160662 , 0.01836907, 0.03124019, 0.11846574, 0.8158588 ]],\n",
       "      dtype=float32)"
      ]
     },
     "execution_count": 269,
     "metadata": {},
     "output_type": "execute_result"
    }
   ],
   "source": [
    "#Make predictions with the char token model\n",
    "model_10_preds_probs=model_10.predict(test_char_token_pos_dataset,verbose=0)\n",
    "model_10_preds_probs"
   ]
  },
  {
   "cell_type": "code",
   "execution_count": 270,
   "id": "c7a735aa",
   "metadata": {},
   "outputs": [
    {
     "data": {
      "text/plain": [
       "<tf.Tensor: shape=(12797,), dtype=int64, numpy=array([4, 2, 4, ..., 3, 4, 4], dtype=int64)>"
      ]
     },
     "execution_count": 270,
     "metadata": {},
     "output_type": "execute_result"
    }
   ],
   "source": [
    "#Convert pred probs to pred labels\n",
    "model_10_preds=tf.argmax(model_10_preds_probs,axis=1)\n",
    "model_10_preds"
   ]
  },
  {
   "cell_type": "code",
   "execution_count": 271,
   "id": "99e7b1b4",
   "metadata": {},
   "outputs": [
    {
     "data": {
      "text/plain": [
       "{'accuracy': 0.603, 'precision': 0.553, 'recall': 0.603, 'f1': 0.535}"
      ]
     },
     "execution_count": 271,
     "metadata": {},
     "output_type": "execute_result"
    }
   ],
   "source": [
    "#Calculate results of char token pos model\n",
    "model_10_results=calculate_results(test_labels_encoded,\n",
    "                                  model_10_preds)\n",
    "\n",
    "model_10_results"
   ]
  },
  {
   "cell_type": "markdown",
   "id": "70be2dd3",
   "metadata": {},
   "source": [
    "## Comparing the performance of each of our models"
   ]
  },
  {
   "cell_type": "code",
   "execution_count": 272,
   "id": "083986f0",
   "metadata": {},
   "outputs": [
    {
     "data": {
      "text/html": [
       "<div>\n",
       "<style scoped>\n",
       "    .dataframe tbody tr th:only-of-type {\n",
       "        vertical-align: middle;\n",
       "    }\n",
       "\n",
       "    .dataframe tbody tr th {\n",
       "        vertical-align: top;\n",
       "    }\n",
       "\n",
       "    .dataframe thead th {\n",
       "        text-align: right;\n",
       "    }\n",
       "</style>\n",
       "<table border=\"1\" class=\"dataframe\">\n",
       "  <thead>\n",
       "    <tr style=\"text-align: right;\">\n",
       "      <th></th>\n",
       "      <th>accuracy</th>\n",
       "      <th>precision</th>\n",
       "      <th>recall</th>\n",
       "      <th>f1</th>\n",
       "    </tr>\n",
       "  </thead>\n",
       "  <tbody>\n",
       "    <tr>\n",
       "      <th>Model 0: Best Basic ML Model</th>\n",
       "      <td>0.629</td>\n",
       "      <td>0.594</td>\n",
       "      <td>0.629</td>\n",
       "      <td>0.601</td>\n",
       "    </tr>\n",
       "    <tr>\n",
       "      <th>Model 1: Dense model using Sequential API + TF-IDF</th>\n",
       "      <td>0.543</td>\n",
       "      <td>0.294</td>\n",
       "      <td>0.543</td>\n",
       "      <td>0.382</td>\n",
       "    </tr>\n",
       "    <tr>\n",
       "      <th>Model 2: Conv1D with token embeddings</th>\n",
       "      <td>0.616</td>\n",
       "      <td>0.562</td>\n",
       "      <td>0.616</td>\n",
       "      <td>0.584</td>\n",
       "    </tr>\n",
       "    <tr>\n",
       "      <th>Model 3: LSTM</th>\n",
       "      <td>0.596</td>\n",
       "      <td>0.541</td>\n",
       "      <td>0.596</td>\n",
       "      <td>0.566</td>\n",
       "    </tr>\n",
       "    <tr>\n",
       "      <th>Model 4: GRU</th>\n",
       "      <td>0.605</td>\n",
       "      <td>0.603</td>\n",
       "      <td>0.605</td>\n",
       "      <td>0.596</td>\n",
       "    </tr>\n",
       "    <tr>\n",
       "      <th>Model 5: Bidirectional RNN</th>\n",
       "      <td>0.612</td>\n",
       "      <td>0.596</td>\n",
       "      <td>0.612</td>\n",
       "      <td>0.600</td>\n",
       "    </tr>\n",
       "    <tr>\n",
       "      <th>Model 6: Feature Extraction with pretrained token embeddings</th>\n",
       "      <td>0.606</td>\n",
       "      <td>0.583</td>\n",
       "      <td>0.606</td>\n",
       "      <td>0.587</td>\n",
       "    </tr>\n",
       "    <tr>\n",
       "      <th>Model 7: Pretrained token embeddings + characters embeddings</th>\n",
       "      <td>0.600</td>\n",
       "      <td>0.601</td>\n",
       "      <td>0.600</td>\n",
       "      <td>0.596</td>\n",
       "    </tr>\n",
       "    <tr>\n",
       "      <th>Model 8: Pretrained token embeddings + the Branch One Hot Data</th>\n",
       "      <td>0.613</td>\n",
       "      <td>0.596</td>\n",
       "      <td>0.613</td>\n",
       "      <td>0.590</td>\n",
       "    </tr>\n",
       "    <tr>\n",
       "      <th>Model 9: Character embeddings + the Branch One Hot Data</th>\n",
       "      <td>0.536</td>\n",
       "      <td>0.392</td>\n",
       "      <td>0.536</td>\n",
       "      <td>0.436</td>\n",
       "    </tr>\n",
       "    <tr>\n",
       "      <th>Model 10: Pretrained token embeddings +  Character embeddings + the Branch One Hot Data</th>\n",
       "      <td>0.603</td>\n",
       "      <td>0.553</td>\n",
       "      <td>0.603</td>\n",
       "      <td>0.535</td>\n",
       "    </tr>\n",
       "  </tbody>\n",
       "</table>\n",
       "</div>"
      ],
      "text/plain": [
       "                                                    accuracy  precision  \\\n",
       "Model 0: Best Basic ML Model                           0.629      0.594   \n",
       "Model 1: Dense model using Sequential API + TF-...     0.543      0.294   \n",
       "Model 2: Conv1D with token embeddings                  0.616      0.562   \n",
       "Model 3: LSTM                                          0.596      0.541   \n",
       "Model 4: GRU                                           0.605      0.603   \n",
       "Model 5: Bidirectional RNN                             0.612      0.596   \n",
       "Model 6: Feature Extraction with pretrained tok...     0.606      0.583   \n",
       "Model 7: Pretrained token embeddings + characte...     0.600      0.601   \n",
       "Model 8: Pretrained token embeddings + the Bran...     0.613      0.596   \n",
       "Model 9: Character embeddings + the Branch One ...     0.536      0.392   \n",
       "Model 10: Pretrained token embeddings +  Charac...     0.603      0.553   \n",
       "\n",
       "                                                    recall    f1  \n",
       "Model 0: Best Basic ML Model                         0.629 0.601  \n",
       "Model 1: Dense model using Sequential API + TF-...   0.543 0.382  \n",
       "Model 2: Conv1D with token embeddings                0.616 0.584  \n",
       "Model 3: LSTM                                        0.596 0.566  \n",
       "Model 4: GRU                                         0.605 0.596  \n",
       "Model 5: Bidirectional RNN                           0.612 0.600  \n",
       "Model 6: Feature Extraction with pretrained tok...   0.606 0.587  \n",
       "Model 7: Pretrained token embeddings + characte...   0.600 0.596  \n",
       "Model 8: Pretrained token embeddings + the Bran...   0.613 0.590  \n",
       "Model 9: Character embeddings + the Branch One ...   0.536 0.436  \n",
       "Model 10: Pretrained token embeddings +  Charac...   0.603 0.535  "
      ]
     },
     "execution_count": 272,
     "metadata": {},
     "output_type": "execute_result"
    }
   ],
   "source": [
    "#Combining model results into a DataFrame\n",
    "all_model_results=pd.DataFrame({'Model 0: Best Basic ML Model':baseline_results,\n",
    "                                \"Model 1: Dense model using Sequential API + TF-IDF \":model_1_results,\n",
    "                                \"Model 2: Conv1D with token embeddings\":model_2_results,\n",
    "                                \"Model 3: LSTM\":model_3_results,\n",
    "                                \"Model 4: GRU\":model_4_results,\n",
    "                                \"Model 5: Bidirectional RNN\":model_5_results,\n",
    "                                \"Model 6: Feature Extraction with pretrained token embeddings\":model_6_results,\n",
    "                                \"Model 7: Pretrained token embeddings + characters embeddings\":model_7_results,\n",
    "                                \"Model 8: Pretrained token embeddings + the Branch One Hot Data\": model_8_results,\n",
    "                                \"Model 9: Character embeddings + the Branch One Hot Data\":model_9_results,\n",
    "                                \"Model 10: Pretrained token embeddings +  Character embeddings + the Branch One Hot Data\":model_10_results})\n",
    " \n",
    "all_model_results=all_model_results.T\n",
    "\n",
    "all_model_results"
   ]
  },
  {
   "cell_type": "code",
   "execution_count": 273,
   "id": "d95bf116",
   "metadata": {},
   "outputs": [
    {
     "data": {
      "image/png": "[encoded data removed]",
      "text/plain": [
       "<Figure size 700x300 with 1 Axes>"
      ]
     },
     "metadata": {},
     "output_type": "display_data"
    }
   ],
   "source": [
    "#Plot and compare all of the model results\n",
    "all_model_results.plot(kind='bar',figsize=(7,3)).legend(bbox_to_anchor=(1,1));"
   ]
  },
  {
   "cell_type": "code",
   "execution_count": 274,
   "id": "9345f47d",
   "metadata": {},
   "outputs": [
    {
     "data": {
      "image/png": "[encoded data removed]",
      "text/plain": [
       "<Figure size 700x300 with 1 Axes>"
      ]
     },
     "metadata": {},
     "output_type": "display_data"
    }
   ],
   "source": [
    "#Sort model results by f1-score\n",
    "all_model_results.sort_values(\"f1\",ascending=False)[\"f1\"].plot(kind='bar',figsize=(7,3));"
   ]
  },
  {
   "cell_type": "markdown",
   "id": "7578b27a",
   "metadata": {},
   "source": [
    "## Finding the most wrong examples"
   ]
  },
  {
   "cell_type": "code",
   "execution_count": 284,
   "id": "c3d1150a",
   "metadata": {},
   "outputs": [
    {
     "name": "stdout",
     "output_type": "stream",
     "text": [
      "400/400 [==============================] - 152s 372ms/step\n"
     ]
    },
    {
     "data": {
      "text/plain": [
       "array([4, 2, 4, ..., 3, 4, 4], dtype=int64)"
      ]
     },
     "execution_count": 284,
     "metadata": {},
     "output_type": "execute_result"
    }
   ],
   "source": [
    "#Making predictions with one of the best models (Model_5)\n",
    "model_5_pred_probs=model_5.predict(test_dataset)\n",
    "model_5_preds=np.argmax(model_5_pred_probs,axis=1)\n",
    "model_5_preds"
   ]
  },
  {
   "cell_type": "code",
   "execution_count": 285,
   "id": "208598fd",
   "metadata": {},
   "outputs": [
    {
     "data": {
      "text/html": [
       "<div>\n",
       "<style scoped>\n",
       "    .dataframe tbody tr th:only-of-type {\n",
       "        vertical-align: middle;\n",
       "    }\n",
       "\n",
       "    .dataframe tbody tr th {\n",
       "        vertical-align: top;\n",
       "    }\n",
       "\n",
       "    .dataframe thead th {\n",
       "        text-align: right;\n",
       "    }\n",
       "</style>\n",
       "<table border=\"1\" class=\"dataframe\">\n",
       "  <thead>\n",
       "    <tr style=\"text-align: right;\">\n",
       "      <th></th>\n",
       "      <th>text</th>\n",
       "      <th>target</th>\n",
       "      <th>pred</th>\n",
       "      <th>pred_prob</th>\n",
       "    </tr>\n",
       "  </thead>\n",
       "  <tbody>\n",
       "    <tr>\n",
       "      <th>0</th>\n",
       "      <td>the happiest place on earth. disneyland hong k...</td>\n",
       "      <td>3</td>\n",
       "      <td>4</td>\n",
       "      <td>0.992</td>\n",
       "    </tr>\n",
       "    <tr>\n",
       "      <th>1</th>\n",
       "      <td>we visited disneyland paris from march 20th   ...</td>\n",
       "      <td>3</td>\n",
       "      <td>2</td>\n",
       "      <td>0.992</td>\n",
       "    </tr>\n",
       "    <tr>\n",
       "      <th>2</th>\n",
       "      <td>i have been a guest, but also an employee at d...</td>\n",
       "      <td>4</td>\n",
       "      <td>4</td>\n",
       "      <td>0.992</td>\n",
       "    </tr>\n",
       "    <tr>\n",
       "      <th>3</th>\n",
       "      <td>first thing first, you need to have the flyers...</td>\n",
       "      <td>4</td>\n",
       "      <td>4</td>\n",
       "      <td>0.992</td>\n",
       "    </tr>\n",
       "    <tr>\n",
       "      <th>4</th>\n",
       "      <td>for my surprise tickets were 80 per person per...</td>\n",
       "      <td>4</td>\n",
       "      <td>0</td>\n",
       "      <td>0.992</td>\n",
       "    </tr>\n",
       "  </tbody>\n",
       "</table>\n",
       "</div>"
      ],
      "text/plain": [
       "                                                text  target  pred  pred_prob\n",
       "0  the happiest place on earth. disneyland hong k...       3     4      0.992\n",
       "1  we visited disneyland paris from march 20th   ...       3     2      0.992\n",
       "2  i have been a guest, but also an employee at d...       4     4      0.992\n",
       "3  first thing first, you need to have the flyers...       4     4      0.992\n",
       "4  for my surprise tickets were 80 per person per...       4     0      0.992"
      ]
     },
     "execution_count": 285,
     "metadata": {},
     "output_type": "execute_result"
    }
   ],
   "source": [
    "#Create a DataFrame with test sentences, validation labels and best performing model prediction labels + probabilities\n",
    "test_df=pd.DataFrame({\"text\":X_test[[\"Review_Text\"]].values.ravel(),\n",
    "                     \"target\":test_labels_encoded,\n",
    "                     \"pred\":model_5_preds,\n",
    "                     \"pred_prob\":np.max(model_5_pred_probs)\n",
    "\n",
    "\n",
    "})\n",
    "\n",
    "test_df.head()\n"
   ]
  },
  {
   "cell_type": "code",
   "execution_count": 286,
   "id": "e0b6b4d6",
   "metadata": {},
   "outputs": [
    {
     "data": {
      "text/html": [
       "<div>\n",
       "<style scoped>\n",
       "    .dataframe tbody tr th:only-of-type {\n",
       "        vertical-align: middle;\n",
       "    }\n",
       "\n",
       "    .dataframe tbody tr th {\n",
       "        vertical-align: top;\n",
       "    }\n",
       "\n",
       "    .dataframe thead th {\n",
       "        text-align: right;\n",
       "    }\n",
       "</style>\n",
       "<table border=\"1\" class=\"dataframe\">\n",
       "  <thead>\n",
       "    <tr style=\"text-align: right;\">\n",
       "      <th></th>\n",
       "      <th>text</th>\n",
       "      <th>target</th>\n",
       "      <th>pred</th>\n",
       "      <th>pred_prob</th>\n",
       "    </tr>\n",
       "  </thead>\n",
       "  <tbody>\n",
       "    <tr>\n",
       "      <th>0</th>\n",
       "      <td>the happiest place on earth. disneyland hong k...</td>\n",
       "      <td>3</td>\n",
       "      <td>4</td>\n",
       "      <td>0.992</td>\n",
       "    </tr>\n",
       "    <tr>\n",
       "      <th>8474</th>\n",
       "      <td>i grew up on disneyland. it seems to take your...</td>\n",
       "      <td>3</td>\n",
       "      <td>4</td>\n",
       "      <td>0.992</td>\n",
       "    </tr>\n",
       "    <tr>\n",
       "      <th>8488</th>\n",
       "      <td>i suggest instead of giving it just a day,rath...</td>\n",
       "      <td>4</td>\n",
       "      <td>3</td>\n",
       "      <td>0.992</td>\n",
       "    </tr>\n",
       "    <tr>\n",
       "      <th>8484</th>\n",
       "      <td>if you exclude the people and the high cost, i...</td>\n",
       "      <td>1</td>\n",
       "      <td>3</td>\n",
       "      <td>0.992</td>\n",
       "    </tr>\n",
       "    <tr>\n",
       "      <th>8480</th>\n",
       "      <td>visited disneyland paris for 4 days in septemb...</td>\n",
       "      <td>4</td>\n",
       "      <td>3</td>\n",
       "      <td>0.992</td>\n",
       "    </tr>\n",
       "    <tr>\n",
       "      <th>8479</th>\n",
       "      <td>the name of this place should be changed to di...</td>\n",
       "      <td>1</td>\n",
       "      <td>3</td>\n",
       "      <td>0.992</td>\n",
       "    </tr>\n",
       "    <tr>\n",
       "      <th>8478</th>\n",
       "      <td>loved coming here while staying for 3 days in ...</td>\n",
       "      <td>4</td>\n",
       "      <td>3</td>\n",
       "      <td>0.992</td>\n",
       "    </tr>\n",
       "    <tr>\n",
       "      <th>8476</th>\n",
       "      <td>we visited disneyland for 4 days 3 nights last...</td>\n",
       "      <td>3</td>\n",
       "      <td>4</td>\n",
       "      <td>0.992</td>\n",
       "    </tr>\n",
       "    <tr>\n",
       "      <th>8475</th>\n",
       "      <td>we booked our 2days pass tickets in uk via the...</td>\n",
       "      <td>1</td>\n",
       "      <td>3</td>\n",
       "      <td>0.992</td>\n",
       "    </tr>\n",
       "    <tr>\n",
       "      <th>8468</th>\n",
       "      <td>the disneyland resort is currently go through ...</td>\n",
       "      <td>3</td>\n",
       "      <td>4</td>\n",
       "      <td>0.992</td>\n",
       "    </tr>\n",
       "  </tbody>\n",
       "</table>\n",
       "</div>"
      ],
      "text/plain": [
       "                                                   text  target  pred  \\\n",
       "0     the happiest place on earth. disneyland hong k...       3     4   \n",
       "8474  i grew up on disneyland. it seems to take your...       3     4   \n",
       "8488  i suggest instead of giving it just a day,rath...       4     3   \n",
       "8484  if you exclude the people and the high cost, i...       1     3   \n",
       "8480  visited disneyland paris for 4 days in septemb...       4     3   \n",
       "8479  the name of this place should be changed to di...       1     3   \n",
       "8478  loved coming here while staying for 3 days in ...       4     3   \n",
       "8476  we visited disneyland for 4 days 3 nights last...       3     4   \n",
       "8475  we booked our 2days pass tickets in uk via the...       1     3   \n",
       "8468  the disneyland resort is currently go through ...       3     4   \n",
       "\n",
       "      pred_prob  \n",
       "0         0.992  \n",
       "8474      0.992  \n",
       "8488      0.992  \n",
       "8484      0.992  \n",
       "8480      0.992  \n",
       "8479      0.992  \n",
       "8478      0.992  \n",
       "8476      0.992  \n",
       "8475      0.992  \n",
       "8468      0.992  "
      ]
     },
     "execution_count": 286,
     "metadata": {},
     "output_type": "execute_result"
    }
   ],
   "source": [
    "#Find the wrong predictions and sort by prediction probabilities\n",
    "most_wrong=test_df[test_df[\"target\"]!=test_df[\"pred\"]].sort_values(\"pred_prob\",ascending=False)\n",
    "most_wrong[:10]"
   ]
  },
  {
   "cell_type": "code",
   "execution_count": 287,
   "id": "ec868c79",
   "metadata": {},
   "outputs": [
    {
     "name": "stdout",
     "output_type": "stream",
     "text": [
      "Target:3, Pred:4, Prob:0.9918487071990967\n",
      "Text:\n",
      "the happiest place on earth. disneyland hong kong does not disappoint.re creating many of the exact features of the original one in california but on a much smaller scale, the theme park contains the usual four disney themed lands along with classic rides and attractions, as well as high caliber performances, shows and parades. don't miss the space mountain ride and feel like a real space rider. and before the day ends witness the night sky come alive with this dazzling pyrotechnic pageant   disney in the stars!the park is small enough that all attractions should be accessible in one day. the tickets may be slightly expensive, but they're worth it. all in all, disneyland is a wonderful place, and i recommend giving it a chance!\n",
      "\n",
      "----\n",
      "\n",
      "Target:3, Pred:4, Prob:0.9918487071990967\n",
      "Text:\n",
      "i grew up on disneyland. it seems to take your cares away for a day. but nowadays,it's a struggle to walk through the park, or even plan a meal. if you spend 8 hours there, it probably means one meal and 7 rides max.i prefer to go walk around for the decorations, enjoy the sentimental feelings brought back from childhood & accept it is... what it is. hard to get to, costly, too crowded, always.basically, a walk down memory lane.\n",
      "\n",
      "----\n",
      "\n",
      "Target:4, Pred:3, Prob:0.9918487071990967\n",
      "Text:\n",
      "i suggest instead of giving it just a day,rather one should stay there for atleast 2 days to enjoy the disney magic to the fullest.loved the courtesy of the staff over there.food is available for purchase but will cost a good deal on your pocket.no problems to be faced at all by differently abled.\n",
      "\n",
      "----\n",
      "\n",
      "Target:1, Pred:3, Prob:0.9918487071990967\n",
      "Text:\n",
      "if you exclude the people and the high cost, it'd be great!?! haha. but i knew what i was in for when i agreed to take the family here. we did 4 things on this trip: disneyland, knotts berry farm, griffith observatory & cirque du soleil iris. best things in order were: cirque, griffith, knotts, with disney last.\n",
      "\n",
      "----\n",
      "\n",
      "Target:4, Pred:3, Prob:0.9918487071990967\n",
      "Text:\n",
      "visited disneyland paris for 4 days in september 2011. i absolutely loved it, there was so much to see and do. rides were great and we were lucky that we visited i guess off peak as there wasnt bad queues and if there was a half hour queue we simply used a fastpass. the park is clean, constantly seeing people sweep up. there are rides and attractions for all ages and all type of riders. the whole place is completely overpriced, charging    4 for a bottle of coke. we learnt after the 1st day to bring our own drinks in! they say they do not allow picnics in the parks and all bags do get searched upon entry but i saw plenty of people still taking snacks in to keep the cost down. we wanted to buy a couple of souvenier photos from the rides which we did, just be prepared to pay around    15 for one.......\n",
      "\n",
      "----\n",
      "\n",
      "Target:1, Pred:3, Prob:0.9918487071990967\n",
      "Text:\n",
      "the name of this place should be changed to disneyline park. we went here for 3 days with 2 kids age 6 and 7. there are so many people there and most of them walk so slow that it takes forever to get somewhere and when you do, the wait times are so long that you can't do some of the rides. even using fastpass every 2 hours made it difficult to do everything. some of the rides like cars didn't have fastpass available. we used the park hopper and were glad we did. the california adventure was much better than disneyland. you were able to get on the roller coaster fairly easy and they also had fastpass and single rider that helped my son be able to ride the coaster a couple of times. one of the must do things there is the twilight zone tower of terror. even though we had fastpass and we waited for 40 minutes, the ride was worth it. the 3d shows that we saw were also really good. you should make sure you see the one at bugs. our kids loved that one. one thing that bothered me was that they took our picture when we first came in the park but then kept checking our id every time we went from one park to the next. i think that when you pay the money that you have to wait in long lines and eat overpriced food, they could at least not harass you every time you come in the park. despite all this, i think the kids had more fun than not so we would  consider  doing it again if on the west coast.\n",
      "\n",
      "----\n",
      "\n",
      "Target:4, Pred:3, Prob:0.9918487071990967\n",
      "Text:\n",
      "loved coming here while staying for 3 days in 2008. loved the disney's once upon a dream parade with a range of disney characters. loved its a small world ride with all the puppets. you can meet a range of disney characters here at certain times. the shops are good but mostly has same stuff in every shop. overrall this is a good place to come to and would recommend it to anyone :)\n",
      "\n",
      "----\n",
      "\n",
      "Target:3, Pred:4, Prob:0.9918487071990967\n",
      "Text:\n",
      "we visited disneyland for 4 days 3 nights last week with our 7 year old daughter and toddler son and had the most amazing time. i was very nervous about the trip after reading the mixed reviews but we loved it. the parades were fantastic, the fireworks show was out of this world and we didn't find any of the rides to be closed as some other reviewers have. would definitely recommend it.\n",
      "\n",
      "----\n",
      "\n",
      "Target:1, Pred:3, Prob:0.9918487071990967\n",
      "Text:\n",
      "we booked our 2days pass tickets in uk via the web site before our holiday in hk. it's really for our 3year old daughter as i've been to the one in paris and florida and thought it would be nice to spend some family time in a magical place.good job we got a 2days pass as the following attractions rides were out of order: lion king show, run away mine train and slinky ride at toy story land. hopefully lion king show will be available on our 2nd visit.didn't realise you have to obtain some form of token to be able to join the queue to take photos with the frozen characters so when we arrive at the area at 2pm we were told all token pass for the day have been all given out and we will have to come back another day.fingers cross we can get a token on our 2nd visit tomorrow. overall the disney experience isn't one of my best in hk, and the park isn't big enough to spend a whole day with the family.\n",
      "\n",
      "----\n",
      "\n",
      "Target:3, Pred:4, Prob:0.9918487071990967\n",
      "Text:\n",
      "the disneyland resort is currently go through many changes as the original theme park is getting some great touch ups. new look and feel to the matterhorn, 1 4 of main street getting a fresh look and new dining experiences, and other new refurbishments around the park. across the walkway at disney california adventure is a whole new look for the 10 year old theme park. it began about 2 yrs. ago or so, and is just about to be completed with the opening of  cars land  (based on the cars movies), whole new front end of the park and many other new attractions and eating locations around dca. sounds like it going to be a great summer & fall for the  new look  park!\n",
      "\n",
      "----\n",
      "\n"
     ]
    }
   ],
   "source": [
    "for row in most_wrong[:10].itertuples():\n",
    "  _,text,target,pred,pred_prob=row\n",
    "  print(f\"Target:{target}, Pred:{pred}, Prob:{pred_prob}\")\n",
    "  print(f\"Text:\\n{text}\\n\")\n",
    "  print(\"----\\n\")"
   ]
  }
 ],
 "metadata": {
  "kernelspec": {
   "display_name": "Python 3 (ipykernel)",
   "language": "python",
   "name": "python3"
  },
  "language_info": {
   "codemirror_mode": {
    "name": "ipython",
    "version": 3
   },
   "file_extension": ".py",
   "mimetype": "text/x-python",
   "name": "python",
   "nbconvert_exporter": "python",
   "pygments_lexer": "ipython3",
   "version": "3.9.13"
  }
 },
 "nbformat": 4,
 "nbformat_minor": 5
}
